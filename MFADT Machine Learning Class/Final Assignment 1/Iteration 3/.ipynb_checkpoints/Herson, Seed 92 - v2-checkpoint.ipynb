{
 "cells": [
  {
   "cell_type": "markdown",
   "metadata": {},
   "source": [
    "# Movie reviews\n",
    "\n",
    "This notebook takes you though a complete iteration of Machine Learning Assignment 1 - Movie reviews. The assignment details (including links to download the data) can be found [here](https://docs.google.com/document/d/1WGYw99e5q6j5V0Zrf2HveagU6URt_kVvdR8B9HYQ99E/edit?usp=sharing). "
   ]
  },
  {
   "cell_type": "code",
   "execution_count": 1,
   "metadata": {},
   "outputs": [],
   "source": [
    "# all imports and magic commands\n",
    "import numpy as np\n",
    "import pandas as pd\n",
    "import matplotlib.pyplot as plt\n",
    "from my_measures import BinaryClassificationPerformance\n",
    "from sklearn.feature_extraction.text import HashingVectorizer\n",
    "from sklearn.feature_extraction.text import CountVectorizer\n",
    "from sklearn.feature_extraction.text import TfidfTransformer\n",
    "from scipy.sparse import csr_matrix, hstack\n",
    "from sklearn.preprocessing import StandardScaler\n",
    "from sklearn.model_selection import train_test_split\n",
    "from tabulate import tabulate\n",
    "%matplotlib inline"
   ]
  },
  {
   "cell_type": "code",
   "execution_count": 2,
   "metadata": {},
   "outputs": [],
   "source": [
    "def apply_term_frequency_weight_to_feature(feature_to_weight, test=False):\n",
    "    # http://scikit-learn.org/stable/modules/generated/sklearn.feature_extraction.text.TfidfTransformer.html\n",
    "    if (not test):\n",
    "        transformer = TfidfTransformer()\n",
    "        X_tfidf = transformer.fit_transform(feature_to_weight)\n",
    "        fitted_transformations.append(transformer)\n",
    "    else:\n",
    "        X_tfidf = fitted_transformations[1].transform(feature_to_weight)\n",
    "    return X_tfidf"
   ]
  },
  {
   "cell_type": "code",
   "execution_count": 3,
   "metadata": {},
   "outputs": [],
   "source": [
    "def clean_corpus_of_reviews(corpus_of_reviews):\n",
    "    import re\n",
    "    import nltk\n",
    "    from nltk.corpus import stopwords\n",
    "    from nltk.stem.porter import PorterStemmer\n",
    "    from nltk.probability import FreqDist\n",
    "    from tqdm import tqdm\n",
    "    import pandas as pd\n",
    "\n",
    "    nltk.download('stopwords')\n",
    "    nltk.download('punkt')  # If not already downloaded, for tokenizing\n",
    "\n",
    "    # Tokenize all reviews to calculate word frequencies\n",
    "    all_words = []\n",
    "    for review in corpus_of_reviews:\n",
    "        review = re.sub('!+', '!', review)\n",
    "        review = re.sub('[^a-zA-Z!]', ' ', review)\n",
    "        tokens = nltk.word_tokenize(review.lower())  # Lowercasing here for frequency analysis\n",
    "        all_words.extend(tokens)\n",
    "\n",
    "    # Calculate frequency distribution\n",
    "    freq_dist = FreqDist(all_words)\n",
    "    # Define frequency thresholds, e.g., words appearing in more than 5% and less than 0.1% of reviews\n",
    "    upper_threshold = len(corpus_of_reviews) * 0.2\n",
    "    lower_threshold = len(corpus_of_reviews) * 0.001\n",
    "    # Filter words by frequency\n",
    "    unique_words = {word for word, freq in freq_dist.items() if lower_threshold < freq < upper_threshold}\n",
    "\n",
    "    # Cleaning process\n",
    "    corpus = []\n",
    "    ps = PorterStemmer()\n",
    "    stop_words = set(stopwords.words('english'))\n",
    "\n",
    "    for review in tqdm(corpus_of_reviews, desc=\"Cleaning reviews: \"):\n",
    "        review = re.sub('!+', '!', review)\n",
    "        review = re.sub('[^a-zA-Z!]', ' ', review)\n",
    "        review_words = review.split()\n",
    "        cleaned_review = [ps.stem(word) for word in review_words if word not in stop_words and word in unique_words]\n",
    "        cleaned_review = ' '.join(cleaned_review)\n",
    "        corpus.append(cleaned_review)\n",
    "\n",
    "    return pd.Series(corpus)"
   ]
  },
  {
   "cell_type": "code",
   "execution_count": 4,
   "metadata": {},
   "outputs": [],
   "source": [
    "def create_additional_features():\n",
    "    # create additional quantitative features\n",
    "    new_quant_features = []\n",
    "    new_quant_features.append(corpus_of_reviews.str.split(' ').str.len())\n",
    "    new_quant_features.append(corpus_of_reviews.str.count(\"!\"))\n",
    "    new_quant_features = np.array(new_quant_features).T\n",
    "    new_quant_features_sparse = csr_matrix(new_quant_features)\n",
    "    return(new_quant_features_sparse)"
   ]
  },
  {
   "cell_type": "code",
   "execution_count": 5,
   "metadata": {},
   "outputs": [],
   "source": [
    "# function that takes raw data and completes all preprocessing required before model fits\n",
    "def create_training_and_test_sets(my_random_seed, test=False):\n",
    "    # Create Training and Test Sets\n",
    "    # enter an integer for the random_state parameter; any integer will work\n",
    "    if (test):\n",
    "        X_submission_test = X\n",
    "        print(\"Shape of X_test for submission:\")\n",
    "        print(X_submission_test.shape)\n",
    "        print('SUCCESS!')\n",
    "        return(movie_data, X_submission_test)\n",
    "    else: \n",
    "        X_train, X_test, y_train, y_test, X_raw_train, X_raw_test = train_test_split(X, y, movie_data, test_size=0.2, random_state=my_random_seed)\n",
    "        return(X_train, X_test, y_train, y_test, X_raw_train, X_raw_test)"
   ]
  },
  {
   "cell_type": "code",
   "execution_count": 12,
   "metadata": {},
   "outputs": [],
   "source": [
    "def print_report():\n",
    "    print(\"\\033[94m\" + \"movie_data is:\\n\" + \"\\033[0m\", type(movie_data))\n",
    "    print(\"\\n\" + \"-\"*40 + \"\\n\")\n",
    "    print(\"\\033[94m\" + \"movie_data has:\\n\" + \"\\033[0m\")\n",
    "    shape_table = [(\"Rows\", movie_data.shape[0]), (\"Columns\", movie_data.shape[1])]\n",
    "    print(tabulate(shape_table, headers=[\"Dimension\", \"Size\"]))\n",
    "    print(\"\\n\" + \"-\"*40 + \"\\n\")\n",
    "    print(\"\\033[94m\" + \"the data types for each of the columns in movie_data:\\n\" + \"\\033[0m\")\n",
    "    print(movie_data.dtypes, \"\\n\")\n",
    "    print(\"\\n\" + \"-\"*40 + \"\\n\")\n",
    "    print(\"\\033[94m\" + \"Sample Review:\\n\" + \"\\033[0m\")\n",
    "    print(corpus_of_reviews[0])\n",
    "    print(\"\\n\" + \"-\"*40 + \"\\n\")\n",
    "    print(\"\\033[94m\" + \"the first 10 rows in movie_data:\\n\" + \"\\033[0m\")\n",
    "    print(movie_data.head(5))\n",
    "    print(\"\\n\" + \"-\"*40 + \"\\n\")\n",
    "    print(\"\\033[94m\" + \"The rate of 'good' movie reviews in the dataset:\\n\" + \"\\033[0m\")\n",
    "    print(movie_data['sentiment'].mean())\n",
    "    print(\"\\n\" + \"-\"*40 + \"\\n\")\n",
    "    print(\"\\033[94m\" + \"Shape of CountVectorizer X:\\n\" + \"\\033[0m\")\n",
    "    shape_table = [(\"Reviews\", X_hv.shape[0]), (\"Terms\", X_hv.shape[1])]\n",
    "    print(tabulate(shape_table, headers=[\"Dimension\", \"Size\"]))\n",
    "    print(\"\\n\" + \"-\"*40 + \"\\n\")\n",
    "    print(\"\\033[94m\" + \"Look at a few rows of the new quantitative features:\\n\" + \"\\033[0m\")\n",
    "    print(tabulate(new_quant_features_sparse[:10], headers=[\"Word Count\", \"Punctuation Count\"]))\n",
    "    print(\"\\n\" + \"-\"*40 + \"\\n\")\n",
    "    print(\"\\033[94m\" + \"Size of combined bag of words and new quantitative variables matrix:\\n\" + \"\\033[0m\")\n",
    "    shape_table = [(\"Reviews\", X_stacked_matrix_of_features.shape[0]), (\"Terms\", X_stacked_matrix_of_features.shape[1])]\n",
    "    print(tabulate(shape_table, headers=[\"Dimension\", \"Size\"]))\n",
    "    print(\"\\n\" + \"-\"*40 + \"\\n\")\n",
    "    print(\"\\033[94m\" + \"Shape of X_train and X_test:\\n\" + \"\\033[0m\")\n",
    "    shape_table = [(\"Reviews\", X_train.shape[0]), (\"Terms\", X_train.shape[1])]\n",
    "    print(tabulate(shape_table, headers=[\"Dimension\", \"Size\"]))\n",
    "    print(\"\\n\")\n",
    "    shape_table = [(\"Reviews\", X_test.shape[0]), (\"Terms\", X_test.shape[1])]\n",
    "    print(tabulate(shape_table, headers=[\"Dimension\", \"Size\"]))\n",
    "    print(\"\\n\" + \"-\"*40 + \"\\n\")\n",
    "    print(\"\\033[94m\" + \"Shape of y_train and y_test:\\n\" + \"\\033[0m\")\n",
    "    shape_table = [(\"Reviews\", y_train.shape[0])]\n",
    "    print(tabulate(shape_table, headers=[\"Size\"]))\n",
    "    print(\"\\n\")\n",
    "    shape_table = [(\"Reviews\", y_test.shape[0])]\n",
    "    print(tabulate(shape_table, headers=[\"Size\"]))\n",
    "    print(\"\\n\" + \"-\"*40 + \"\\n\")\n",
    "    print(\"\\033[94m\" + \"Shape of X_raw_train and X_raw_test:\\n\" + \"\\033[0m\")\n",
    "    shape_table = [(\"Reviews\", X_raw_train.shape[0]), (\"Terms\", X_raw_train.shape[1])]\n",
    "    print(tabulate(shape_table, headers=[\"Dimension\", \"Size\"]))\n",
    "    print(\"\\n\")\n",
    "    shape_table = [(\"Reviews\", X_raw_test.shape[0]), (\"Terms\", X_raw_test.shape[1])]\n",
    "    print(tabulate(shape_table, headers=[\"Dimension\", \"Size\"]))\n",
    "    print(\"\\n\" + \"-\"*40 + \"\\n\")\n",
    "    print(\"\\033[94m\" + \"Number of fits stored in `fitted_transformations` list:\\n\" + \"\\033[0m\")\n",
    "    print(len(fitted_transformations))\n",
    "    print(\"\\n\" + \"-\"*40 + \"\\n\")\n",
    "    print(\"\\n\" + \"-\"*40 + \"\\n\")\n",
    "    print(\"\\033[94m\" + 'SUCCESS!' + \"\\033[0m\")"
   ]
  },
  {
   "cell_type": "code",
   "execution_count": 7,
   "metadata": {},
   "outputs": [],
   "source": [
    "def scale_matrix_of_features(features, test=False):\n",
    "    # Create `X`, scaled matrix of features\n",
    "    # feature scaling\n",
    "    if (not test):\n",
    "        sc = StandardScaler(with_mean=False)\n",
    "        X = sc.fit_transform(features)\n",
    "        fitted_transformations.append(sc)\n",
    "    else:\n",
    "        X = fitted_transformations[2].transform(features)\n",
    "        print(X.shape)\n",
    "    return(X)"
   ]
  },
  {
   "cell_type": "code",
   "execution_count": 10,
   "metadata": {},
   "outputs": [],
   "source": [
    "def vectorize_feature(feature, test=False):\n",
    "    # vectorize Bag of Words from review text; as sparse matrix\n",
    "    if (not test): # fit_transform()\n",
    "        cv = CountVectorizer(ngram_range=(1, 2))\n",
    "        X_cv = cv.fit_transform(feature)\n",
    "        fitted_transformations.append(cv)\n",
    "    else: # transform() \n",
    "        X_cv = fitted_transformations[0].transform(feature)\n",
    "        print(\"Shape of CountVectorizer X:\")\n",
    "        print(X_cv.shape)\n",
    "    return(X_cv)"
   ]
  },
  {
   "cell_type": "markdown",
   "metadata": {},
   "source": [
    "# Creating training and test sets"
   ]
  },
  {
   "cell_type": "code",
   "execution_count": 13,
   "metadata": {},
   "outputs": [
    {
     "name": "stderr",
     "output_type": "stream",
     "text": [
      "[nltk_data] Downloading package stopwords to /Users/main/nltk_data...\n",
      "[nltk_data]   Package stopwords is already up-to-date!\n",
      "[nltk_data] Downloading package punkt to /Users/main/nltk_data...\n",
      "[nltk_data]   Package punkt is already up-to-date!\n",
      "Cleaning reviews: 100%|██████████████████| 25000/25000 [00:29<00:00, 856.86it/s]\n"
     ]
    },
    {
     "name": "stdout",
     "output_type": "stream",
     "text": [
      "\u001b[94mmovie_data is:\n",
      "\u001b[0m <class 'pandas.core.frame.DataFrame'>\n",
      "\n",
      "----------------------------------------\n",
      "\n",
      "\u001b[94mmovie_data has:\n",
      "\u001b[0m\n",
      "Dimension      Size\n",
      "-----------  ------\n",
      "Rows          25000\n",
      "Columns           3\n",
      "\n",
      "----------------------------------------\n",
      "\n",
      "\u001b[94mthe data types for each of the columns in movie_data:\n",
      "\u001b[0m\n",
      "id           object\n",
      "sentiment     int64\n",
      "review       object\n",
      "dtype: object \n",
      "\n",
      "\n",
      "----------------------------------------\n",
      "\n",
      "\u001b[94mSample Review:\n",
      "\u001b[0m\n",
      "stuff go moment start listen music watch odd documentari watch watch want certain insight guy thought cool eighti mayb mind whether guilti innoc part biographi part featur rememb go cinema origin releas subtl messag feel toward press obviou messag drug kay impress cours unless remot anyway go hate find bore may call make fan fan true nice actual featur bit final start minut sequenc convinc power drug lord want dead beyond plan want drug etc mayb hate music cool thing turn car robot whole sequenc director must patienc saint came film sequenc usual director hate work kid let alon whole bunch perform complex danc line level anoth stay away tri give wholesom messag iron buddi truli talent grace planet guilti attent gave subject hmmm differ behind close door fact either extrem nice stupid guy hope latter\n",
      "\n",
      "----------------------------------------\n",
      "\n",
      "\u001b[94mthe first 10 rows in movie_data:\n",
      "\u001b[0m\n",
      "       id  sentiment                                             review\n",
      "0  5814_8          1  With all this stuff going down at the moment w...\n",
      "1  2381_9          1  \\The Classic War of the Worlds\\\" by Timothy Hi...\n",
      "2  7759_3          0  The film starts with a manager (Nicholas Bell)...\n",
      "3  3630_4          0  It must be assumed that those who praised this...\n",
      "4  9495_8          1  Superbly trashy and wondrously unpretentious 8...\n",
      "\n",
      "----------------------------------------\n",
      "\n",
      "\u001b[94mThe rate of 'good' movie reviews in the dataset:\n",
      "\u001b[0m\n",
      "0.5\n",
      "\n",
      "----------------------------------------\n",
      "\n",
      "\u001b[94mShape of CountVectorizer X:\n",
      "\u001b[0m\n",
      "Dimension       Size\n",
      "-----------  -------\n",
      "Reviews        25000\n",
      "Terms        1011634\n",
      "\n",
      "----------------------------------------\n",
      "\n",
      "\u001b[94mLook at a few rows of the new quantitative features:\n",
      "\u001b[0m\n",
      "Word Count\n",
      "------------\n",
      "(0, 0)\t136\n",
      "(0, 0)\t50\n",
      "(0, 0)\t144\n",
      "(0, 0)\t109\n",
      "(0, 0)\t147\n",
      "(0, 0)\t17\n",
      "(0, 0)\t27\n",
      "(0, 0)\t53\n",
      "(0, 0)\t64\n",
      "(0, 0)\t11\n",
      "\n",
      "----------------------------------------\n",
      "\n",
      "\u001b[94mSize of combined bag of words and new quantitative variables matrix:\n",
      "\u001b[0m\n",
      "Dimension       Size\n",
      "-----------  -------\n",
      "Reviews        25000\n",
      "Terms        1011636\n",
      "\n",
      "----------------------------------------\n",
      "\n",
      "\u001b[94mShape of X_train and X_test:\n",
      "\u001b[0m\n",
      "Dimension       Size\n",
      "-----------  -------\n",
      "Reviews        20000\n",
      "Terms        1011636\n",
      "\n",
      "\n",
      "Dimension       Size\n",
      "-----------  -------\n",
      "Reviews         5000\n",
      "Terms        1011636\n",
      "\n",
      "----------------------------------------\n",
      "\n",
      "\u001b[94mShape of y_train and y_test:\n",
      "\u001b[0m\n",
      "           Size\n",
      "-------  ------\n",
      "Reviews   20000\n",
      "\n",
      "\n",
      "           Size\n",
      "-------  ------\n",
      "Reviews    5000\n",
      "\n",
      "----------------------------------------\n",
      "\n",
      "\u001b[94mShape of X_raw_train and X_raw_test:\n",
      "\u001b[0m\n",
      "Dimension      Size\n",
      "-----------  ------\n",
      "Reviews       20000\n",
      "Terms             3\n",
      "\n",
      "\n",
      "Dimension      Size\n",
      "-----------  ------\n",
      "Reviews        5000\n",
      "Terms             3\n",
      "\n",
      "----------------------------------------\n",
      "\n",
      "\u001b[94mNumber of fits stored in `fitted_transformations` list:\n",
      "\u001b[0m\n",
      "3\n",
      "\n",
      "----------------------------------------\n",
      "\n",
      "\n",
      "----------------------------------------\n",
      "\n",
      "\u001b[94mSUCCESS!\u001b[0m\n"
     ]
    }
   ],
   "source": [
    "# create an empty list to store any use of fit_transform() to transform() later\n",
    "# it is a global list to store model and feature extraction fits\n",
    "fitted_transformations = []\n",
    "\n",
    "movie_data = pd.read_csv('moviereviews_train.tsv', sep='\\t')\n",
    "corpus_of_reviews = movie_data['review']\n",
    "\n",
    "corpus_of_reviews = clean_corpus_of_reviews(corpus_of_reviews)\n",
    "\n",
    "X_hv = vectorize_feature(corpus_of_reviews)\n",
    "X_tfidf_sparse = apply_term_frequency_weight_to_feature(X_hv)\n",
    "\n",
    "new_quant_features_sparse = create_additional_features()\n",
    "\n",
    "X_stacked_matrix_of_features = hstack([X_tfidf_sparse, new_quant_features_sparse])\n",
    "X = scale_matrix_of_features(X_stacked_matrix_of_features)\n",
    "\n",
    "y = movie_data['sentiment']\n",
    "    \n",
    "# CHANGE FILE PATH and my_random_seed number (any integer other than 74 will do): \n",
    "X_train, X_test, y_train, y_test, X_raw_train, X_raw_test = create_training_and_test_sets(my_random_seed=92)\n",
    "\n",
    "print_report()"
   ]
  },
  {
   "cell_type": "markdown",
   "metadata": {},
   "source": [
    "# Fit (and tune) Various Models"
   ]
  },
  {
   "cell_type": "markdown",
   "metadata": {},
   "source": [
    "### MODEL: ordinary least squares"
   ]
  },
  {
   "cell_type": "code",
   "execution_count": 14,
   "metadata": {},
   "outputs": [
    {
     "name": "stdout",
     "output_type": "stream",
     "text": [
      "{'Pos': 10019, 'Neg': 9981, 'TP': 4178, 'TN': 5712, 'FP': 4269, 'FN': 5841, 'Accuracy': 0.4945, 'Precision': 0.49461347223866464, 'Recall': 0.4170076853977443, 'desc': 'ols_train'}\n"
     ]
    }
   ],
   "source": [
    "from sklearn import linear_model\n",
    "ols = linear_model.SGDClassifier(loss=\"squared_error\")\n",
    "ols.fit(X_train, y_train)\n",
    "\n",
    "ols_performance_train = BinaryClassificationPerformance(ols.predict(X_train), y_train, 'ols_train')\n",
    "ols_performance_train.compute_measures()\n",
    "print(ols_performance_train.performance_measures)"
   ]
  },
  {
   "cell_type": "markdown",
   "metadata": {},
   "source": [
    "### MODEL: SVM, linear"
   ]
  },
  {
   "cell_type": "code",
   "execution_count": 15,
   "metadata": {},
   "outputs": [
    {
     "name": "stdout",
     "output_type": "stream",
     "text": [
      "{'Pos': 10019, 'Neg': 9981, 'TP': 10012, 'TN': 9981, 'FP': 0, 'FN': 7, 'Accuracy': 0.99965, 'Precision': 1.0, 'Recall': 0.9993013274777922, 'desc': 'svm_train'}\n"
     ]
    }
   ],
   "source": [
    "from sklearn import linear_model\n",
    "svm_1 = linear_model.SGDClassifier(C=1.0)\n",
    "svm_1.fit(X_train, y_train)\n",
    "\n",
    "svm_1_performance_train = BinaryClassificationPerformance(svm_1.predict(X_train), y_train, 'svm_1_train')\n",
    "svm_1_performance_train.compute_measures()\n",
    "print(svm_1_performance_train.performance_measures)"
   ]
  },
  {
   "cell_type": "markdown",
   "metadata": {},
   "source": [
    "### MODEL: logistic regression"
   ]
  },
  {
   "cell_type": "code",
   "execution_count": 16,
   "metadata": {},
   "outputs": [
    {
     "name": "stdout",
     "output_type": "stream",
     "text": [
      "{'Pos': 10019, 'Neg': 9981, 'TP': 10018, 'TN': 9980, 'FP': 1, 'FN': 1, 'Accuracy': 0.9999, 'Precision': 0.9999001896396846, 'Recall': 0.9999001896396846, 'desc': 'lgs_train'}\n"
     ]
    }
   ],
   "source": [
    "from sklearn import linear_model\n",
    "lgs = linear_model.SGDClassifier(loss='log_loss')\n",
    "lgs.fit(X_train, y_train)\n",
    "\n",
    "lgs_performance_train = BinaryClassificationPerformance(lgs.predict(X_train), y_train, 'lgs_train')\n",
    "lgs_performance_train.compute_measures()\n",
    "print(lgs_performance_train.performance_measures)"
   ]
  },
  {
   "cell_type": "markdown",
   "metadata": {},
   "source": [
    "### MODEL: Naive Bayes"
   ]
  },
  {
   "cell_type": "code",
   "execution_count": 17,
   "metadata": {},
   "outputs": [
    {
     "name": "stdout",
     "output_type": "stream",
     "text": [
      "{'Pos': 10019, 'Neg': 9981, 'TP': 10019, 'TN': 9979, 'FP': 2, 'FN': 0, 'Accuracy': 0.9999, 'Precision': 0.9998004191198483, 'Recall': 1.0, 'desc': 'nbs_train'}\n"
     ]
    }
   ],
   "source": [
    "from sklearn.naive_bayes import MultinomialNB\n",
    "nbs = MultinomialNB()\n",
    "nbs.fit(X_train, y_train)\n",
    "\n",
    "nbs_performance_train = BinaryClassificationPerformance(nbs.predict(X_train), y_train, 'nbs_train')\n",
    "nbs_performance_train.compute_measures()\n",
    "print(nbs_performance_train.performance_measures)"
   ]
  },
  {
   "cell_type": "markdown",
   "metadata": {},
   "source": [
    "### MODEL: Perceptron"
   ]
  },
  {
   "cell_type": "code",
   "execution_count": 18,
   "metadata": {},
   "outputs": [
    {
     "name": "stdout",
     "output_type": "stream",
     "text": [
      "{'Pos': 10019, 'Neg': 9981, 'TP': 10013, 'TN': 9980, 'FP': 1, 'FN': 6, 'Accuracy': 0.99965, 'Precision': 0.9999001398042741, 'Recall': 0.9994011378381076, 'desc': 'prc_train'}\n"
     ]
    }
   ],
   "source": [
    "from sklearn import linear_model\n",
    "prc = linear_model.SGDClassifier(loss='perceptron')\n",
    "prc.fit(X_train, y_train)\n",
    "\n",
    "prc_performance_train = BinaryClassificationPerformance(prc.predict(X_train), y_train, 'prc_train')\n",
    "prc_performance_train.compute_measures()\n",
    "print(prc_performance_train.performance_measures)"
   ]
  },
  {
   "cell_type": "markdown",
   "metadata": {},
   "source": [
    "### MODEL: Ridge Regression Classifier"
   ]
  },
  {
   "cell_type": "code",
   "execution_count": 19,
   "metadata": {},
   "outputs": [
    {
     "name": "stdout",
     "output_type": "stream",
     "text": [
      "{'Pos': 10019, 'Neg': 9981, 'TP': 10019, 'TN': 9979, 'FP': 2, 'FN': 0, 'Accuracy': 0.9999, 'Precision': 0.9998004191198483, 'Recall': 1.0, 'desc': 'rdg_train'}\n"
     ]
    }
   ],
   "source": [
    "from sklearn import linear_model\n",
    "rdg = linear_model.RidgeClassifier()\n",
    "rdg.fit(X_train, y_train)\n",
    "\n",
    "rdg_performance_train = BinaryClassificationPerformance(rdg.predict(X_train), y_train, 'rdg_train')\n",
    "rdg_performance_train.compute_measures()\n",
    "print(rdg_performance_train.performance_measures)"
   ]
  },
  {
   "cell_type": "markdown",
   "metadata": {},
   "source": [
    "### MODEL: Random Forest Classifier"
   ]
  },
  {
   "cell_type": "code",
   "execution_count": 20,
   "metadata": {},
   "outputs": [
    {
     "name": "stdout",
     "output_type": "stream",
     "text": [
      "{'Pos': 10019, 'Neg': 9981, 'TP': 7946, 'TN': 6195, 'FP': 3786, 'FN': 2073, 'Accuracy': 0.70705, 'Precision': 0.6772928741902489, 'Recall': 0.7930931230661743, 'desc': 'rdf_train'}\n"
     ]
    }
   ],
   "source": [
    "from sklearn.ensemble import RandomForestClassifier\n",
    "rdf = RandomForestClassifier(max_depth=2, random_state=0)\n",
    "rdf.fit(X_train, y_train)\n",
    "\n",
    "rdf_performance_train = BinaryClassificationPerformance(rdf.predict(X_train), y_train, 'rdf_train')\n",
    "rdf_performance_train.compute_measures()\n",
    "print(rdf_performance_train.performance_measures)"
   ]
  },
  {
   "cell_type": "markdown",
   "metadata": {},
   "source": [
    "### ROC plot to compare performance of various models and fits"
   ]
  },
  {
   "cell_type": "code",
   "execution_count": 21,
   "metadata": {
    "scrolled": false
   },
   "outputs": [
    {
     "data": {
      "image/png": "[encoded data removed]",
      "text/plain": [
       "<Figure size 640x480 with 1 Axes>"
      ]
     },
     "metadata": {},
     "output_type": "display_data"
    }
   ],
   "source": [
    "fits = [ols_performance_train, svm_performance_train, lgs_performance_train, nbs_performance_train, prc_performance_train, rdg_performance_train, rdf_performance_train]\n",
    "\n",
    "for fit in fits:\n",
    "    plt.plot(fit.performance_measures['FP'] / fit.performance_measures['Neg'], \n",
    "             fit.performance_measures['TP'] / fit.performance_measures['Pos'], 'bo')\n",
    "    plt.text(fit.performance_measures['FP'] / fit.performance_measures['Neg'], \n",
    "             fit.performance_measures['TP'] / fit.performance_measures['Pos'], fit.desc)\n",
    "plt.axis([0, 1, 0, 1])\n",
    "plt.title('ROC plot: training set')\n",
    "plt.xlabel('False positive rate')\n",
    "plt.ylabel('True positive rate')\n",
    "plt.show()"
   ]
  },
  {
   "cell_type": "markdown",
   "metadata": {},
   "source": [
    "### looking at reviews based on their classification\n",
    "\n",
    "Let's say we decide that Ordinary Least Squares (OLS) Regression is the best model for generalization. Let's take a look at some of the reviews and try to make a (subjective) determination of whether it's generalizing well. "
   ]
  },
  {
   "cell_type": "code",
   "execution_count": 22,
   "metadata": {},
   "outputs": [],
   "source": [
    "ols_predictions = ols.predict(X_train)"
   ]
  },
  {
   "cell_type": "markdown",
   "metadata": {},
   "source": [
    "### let's look at some false positives:"
   ]
  },
  {
   "cell_type": "code",
   "execution_count": 23,
   "metadata": {},
   "outputs": [
    {
     "name": "stdout",
     "output_type": "stream",
     "text": [
      "Examples of false positives:\n",
      "5\n",
      "EPSILON, a.k.a. ALIEN VISITOR, is not what I expected. This is a no-budget Australian film with no special effects other than speeded-up film and quick scene cuts. The female alien (who comes over immediately able to speak perfectly accented Australian) can \\blip\\\" from place to place or time to time and alter her perception of the flow of time to match the \\\"faster\\\" humans.<br /><br />An elderly grandmother tells her two granddaughters about a story a wandering man told her 40 years before, when an unnamed \\\"She\\\" came to the planet naked and completely disoriented, unable to recognize which star in the sky she came from...She meets a man alone camping in the Australian Outback, apparently bewildering him. She is here by \\\"mistake\\\", and gets angry when she is told she is on Earth. The Earthlings are known as consummate despoilers of the environment and a metaphor for the most insulting thing imaginable to the rest of the universe: those who \\\"breathe the foul air\\\" but do nothing about it, sticking their heads under the sand like an ostrich. In another amusing metaphor, Earthlings are \\\"frogs\\\".<br /><br />From there, it is entirely a film about dialogue, as the perplexed man tries to understand She's peculiar psychology and viewpoints, even as She calls him unintelligent and \\\"quaint\\\". The man begins to realize maybe it's humans who are irrational and not thinking straight. Yet, while waiting to be \\\"beamed up\\\" back home, She sees that this human is not entirely faulty in his thinking and even falls in love with him.<br /><br />The dialogue about perspectives is in spots interesting, but it is all layered with a heavy-handed environmental message and a low-budget feel (there are only two main actors, who blip around various deserted scenes, and the evil despoiling humans on the planet are never seen at all). The environmental message offers no solutions, but paints one or two dire metaphors about what will happen to nature and man if something isn't done. The logic also doesn't hang together: the rest of the universe has \\\"given up\\\" on Earth, yet one space woman caught on Earth by mistake manages to effect some positive change by the conclusion of the movie. What would a battalion of aliens deliberately sent here manage to achieve against pollution and waste?\"\n",
      "* * * * * * * * * \n",
      "78\n",
      "Terrible!!! I don't want to be too negative but this film has an IQ of stupid monkey.What a disaster.I just couldn't believe how bad this movie is.The dialogs are just very strange and off topic,the camera work at times just horrible,the music at times like a soundtrack for Lawrence of Arabia,I just watched this film to see how much worse it can get.Some of the side kick \\actors\\\" are total disaster.Sorry but all my thumbs and toes and anything that can hang downwards on my body is falling to the ground. Harvey Keitle is a great actor but who knows maybe he is in financial crunch to take a part in such a fiasco film. . . . . this movie should have been presented to all the students in all the film schools just to teach them a lesson of how not to make a film\"\n",
      "* * * * * * * * * \n",
      "290\n",
      "Turkish Cinema has a big problem. Directors aren't interested in global cinema. They are local and folkloric, but want to be international. This brings kitsch results such this movie.<br /><br />Film has jokes translated to Spanish from Turkish and they don't have any meaning for non-Turkish audiences. Even for Turkish audiences after 10 years.<br /><br />Players, even Ferhan SENSOY have a worse acting than average. They act like puppets.<br /><br />Movie was shot in Cuba, but nothing includes about Cuba. So Cuba is thought like a banana republic.<br /><br />Waste of money, waste of time.\n",
      "* * * * * * * * * \n",
      "313\n",
      "This movie is extremely boring, it tells a story of a female gas station owner and her life. Nothing exciting ever happens. The director has really \\kept it real\\\" and it feels just like a camera following a woman around as she lives her life. I had to watch other films by this director for a class, the others were not as boring. This film was also watched for an assignment...it better be worth the boringness with a good grade!! Overall, unless it's required, don't watch the film. But don't discount other films by this director, because they're not as bad...and don't discount other films about Africa, they're usually good, especially when done by a western director.\"\n",
      "* * * * * * * * * \n",
      "406\n",
      "Why was this film made? Even keeping in mind the generous tax concessions that Australian film investors were given, there can be no reasonable explanation for this film being given the go-ahead. For goodness sakes, the actors cast in this film are Aussie b-grade celebs (not actors, people like John Michael 'Hollywood' Howson, the original drummer from the band in Hey Hey Its Saturday, and the voice-over guy in Countdown. But in saying that, this is still very watchable as long as you give it the brain attention it deserves : none. The script is bad (even for a self-confessed b-grade horror) and the acting and film quality is worse. It often looks as though it is a home movie, but even a home movie has 'realism'. Anyone interested in Australian cinema, please, for the love of God, pretend this film was NEVER made.\n",
      "* * * * * * * * * \n",
      "546\n",
      "As many agree, Origin is a beautiful anime artistically. The music, graphics, and the world created are gorgeous and it really stands above most other modern animated works. However, if you are looking for more than this, than I suggest looking else where. The beauty stops short of its appearance, and when it really comes down to plot and characters, there's nothing special. Action is slow and minimal and the people are flat, corny at times, and do not act realistically. Not to mention the plot hole here and the plot hole there... So, in summary, oh my goodness, I've never seen an anime as beautiful as this one; and oh my goodness, it's like... -poke- people don't act like that. It took a GIANT step forward in graphics and music in anime, but it also took a few step backs to times of bad characterization, and unfortunately, there's not even that much action to make up for that...\n",
      "* * * * * * * * * \n",
      "679\n",
      "This movie is bad. I don't just mean 'bad' as in; \\Oh the script was bad\\\", or; \\\"The acting in that scene was bad\\\".....I mean bad as in someone should be held criminally accountable for foisting this unmitigated pile of steaming crud onto an unsuspecting public. I won't even dignify it with an explanation of the (Plot??) if I can refer to it as that.I can think of only one other occasion in some 40-odd years of movie watching that I have found need to vent my spleen on a movie. I mean, after all, no one goes out to intentionally make a bad movie, do they? Well, yes. Apparently they do...and the guilty man is writer/director Ulli Lommel. But the worst of it is that Blockbusters is actually renting this to their customers! Be advised. Leave this crap where it belongs. Stuck on the shelf, gathering dust.\"\n",
      "* * * * * * * * * \n",
      "860\n",
      "i can't figure out who greenlighted this thing! it has no redeeming qualities, none, nada, zip, zilch.<br /><br />the acting was bad. the directing was bad. the writing was bad. the plot was bad. the music was bad. the editing was bad. ....well, at least the filmmakers were consistent.\n",
      "* * * * * * * * * \n",
      "938\n",
      "Having endured this inaccurate movie I will admit that it is a more modern telling of the story than previous versions. Yet, it is so inaccurate and has has been made so politically correct that it made me mad after watching it. Davy Crockett was very poorly represented by Billy Bob, who I thought would have probably been better cast as Sam Houston given both men's love of oratory. I think self-absorbed Dennis Quaid(an actual Texan) would have been a perfect Crockett and it would have definitely fed into his starved sense of self-worship. As a Texan and a true believer in the Texas mindset I feel Davy Crockett was the quintessential Texan even though not born here. Our unofficial motto is \\It ain't braggin' if it is a fact\\\" was made for Crockett. And that last scene at the Alamo where Crockett is the last survivor has to be the biggest insult to Davy Crockett ever made. To even suggest that this giant of a man and seasoned fighter would allow himself to be taken alive is ridiculous. Three different eye witness accounts place him dead amid the bodies of a dozen or more dead Mexican soldiers after undoubtedly fierce hand to hand combat. Finally, that lame ending to the movie supposedly depicting the battle of San Jacinto as a mutual battle of 600 Texicans vs 700 Mexican Soldiers when there was actually closer to 1,500 well trained Mexican regulars. Every Texas school kid who pays attention in their first Texas history class knows the battle took the Mexican Army by surprise during siesta time and the Mexican army was so confused they could not form ranks and fled as they were not trained to fight frontier style hand to hand.\"\n",
      "* * * * * * * * * \n",
      "1017\n",
      "Its hard to make heads or tails of this film. Unless you're well oiled and in the mood to mock, don't view Santa Claus. It mixes Santa, Satan, Merlin, and moralizing in a most unappetizing way. It certainly is not for fretful children.\n",
      "* * * * * * * * * \n",
      "1165\n",
      "There is NOTHING cool, hip, or clever about this film-- liking it just reveals an ignorance of true art cinema. How can you so easily forget that the central fact of this entire film is that these mean & ugly people are . . . SERIAL KILLERS! If they have to dismember total strangers in order to \\be a family again,\\\" then we don't WANT them to \\\"be a family.\\\" What part of that did you have trouble grasping? Why applaud this filth?<br /><br />THIS silly filth is what you do if you can't do art! One's head & life must be deeply empty to mistake this shallow viciousness as \\\"interesting.\\\" This is a camera without a brain. What really makes an artwork cool is profundity, questioning the status quo from a perspective informed by a knowledge of history (or, in this case, a knowledge of ANYTHING would be preferable!). Instead, this is just randomly piling up the ugliest images available in a world in meltdown, thanks to just the sort of empty meanness glorified as \\\"cool cause it's so far OUT, man!\\\"). These same violent events actually HAPPEN, every day. They are NOT \\\"just in the film.\\\" They refer to actual soul-less people who would do those same things to YOU. Do you WANT those things done to you? A child could have thought this up, it required zero imagination, it is NOT surrealism. This lazy crap has no content, is saying nothing--it's just the worst of the evening news, & it is saying nothing new, nothing we don't already know. It's \\\"the emperor's new clothes,\\\" the director hoping there are enough uneducated children, proud of their streak of inhumanity, for this sloppy filth to fly. I can see director Miike's demented fans now: chain-smoking teens-and- twenties drunks covered in tattoos, with metal hanging from holes punched in their faces, their knowledge-base inversely proportional to their intelligence estimate of themselves .<br /><br />There is NO PLOT to this--it is just sheer exploitation of shock-value violence. There is no \\\"hidden meaning\\\" anywhere in this poorly made film. It is fine to explore a film to see if you can find cinematic devices that are ingeniously artistic, BUT you cannot uncover a hidden meaning if one is not THERE! To DO that you need to view & review a REAL piece of cinema. There are PLENTY out there, directed by Fellini, Bergman, Fassbinder, Herzog, Altman, Bunuel, Kurosawa, Lynch, Tarkovsky, Peter Greenaway, Tarantino, Guillermo del Toro, Richard Linklater, Eisenstein, Aronofsky, Gus van Sant, Soderbergh, Shyamalan, Ordet. Why don't you view a REAL art film by the likes of these giants? This wannabe director, Miike, will NEVER make a film equal to one of the geniuses I just listed because he just doesn't have the talent! Anyone could slap together some chaotic crap like \\\"Visitor Q.\\\" Teenagers could throw that together in one afternoon! There's no message, no meaning, no plot, nothing to it at all. There are long lists of ART Films to learn from--but THIS \\\"Visitor Q\\\" is NOT an art film in any respect. It has no content to it. It's just one banal horror piled onto another, and the point to remember about those hideous crimes is that those things HAPPEN, every single day, somewhere in the world. They are NOT okay because they are \\\"just in the film.\\\" They refer to actual soul-less people who would do those same things to YOU. Do you WANT those things done to you? To others? Why? Because this world is already ugly enough, thanks to people who enjoy thinking about horrific events like this. <br /><br />There are sooooo many art films out there to use your mind to deconstruct, but you are wasting your talents with this piece of crap. There IS no deeper meaning. There is nothing to analyze; why keep trying? I've spent nearly 40 years watching practically every film ever made, and keeping up with all the new ones, but I've never seen anything as disgustingly pointless as this. It's not imaginative or even shocking, because these types of events happen daily all over the world. To make this film, or even to favorably review it, has caused over 50 young airheads who don't know any better to think it's \\\"cool.\\\" They may grow up thinking that, convincing others, some of whom may end up DOING these things--convicted killers often reveal how they started out just this way, by being desensitized to the horror of this gruesome inhumanity. Trust me on this,--I know cool, and cool this piece of crap AIN'T. Visitor Q has the FEEL of a genuine SNUFF film, and I'm still not sure it isn't, actually. <br /><br />Your actions have consequences, son. The world is awful enough already. Some violence like this COULD happen to YOU, or to the socially irresponsible director who cranked out this FAKE Art film. Believe me, you won't be thinking it's \\\"Cool\\\" when someone is sawing YOUR skull in half!\"\n",
      "* * * * * * * * * \n",
      "1519\n",
      "The film began with Wheeler sneaking into the apartment of his girlfriend. Her aunt (Edna May Oliver--a person too talented for this film) didn't like Wheeler--a sentiment I can easily relate to. The aunt decided to take this bland young lady abroad to get her away from Wheeler. They left and Wheeler invested in a revolution in a small mythical kingdom because they promised to make him their king. At about the same time, Woolsey was in the same small mythical kingdom and he was made king. So when Wheeler arrived, it was up to the boys to fight it out, but they refused because they are already friends--which greatly disappointed the people, as killing and replacing kings is a national pastime.<br /><br />I am a huge fan of comedy from the Golden Age of Hollywood--the silent era through the 1940s. I have seen and reviewed hundreds, if not thousands of these films and yet despite my love and appreciation for these films I have never been able to understand the appeal of Wheeler and Woolsey--the only comedy team that might be as bad as the Ritz Brothers! Despite being very successful in their short careers in Hollywood (cut short due to the early death of Robert Woolsey), I can't help but notice that practically every other successful team did the same basic ideas but much better. For example, there were many elements of this film reminiscent of the Marx Brother's film, DUCK SOUP, yet CRACKED NUTS never made me laugh and DUCK SOUP was a silly and highly enjoyable romp. At times, Woolsey talked a bit like Groucho, but his jokes never have punchlines that even remotely are funny! In fact, he just seemed to prattle pointlessly. His only funny quality was that he looked goofy--surely not enough reason to put him on film. Additionally, Wheeler had the comedic appeal of a piece of cheese--a piece of cheese that sang very poorly! A missed opportunity was the old Vaudeville routine later popularized by Abbott and Costello as \\who's on first\\\" which was done in this film but it lacked any spark of wit or timing. In fact, soon after they started their spiel, they just ended the routine--so prematurely that you are left frustrated. I knew that \\\"who's on first\\\" had been around for many years and used by many teams, but I really wanted to see Wheeler and Woolsey give it a fair shot and give it their own twist.<br /><br />Once again, I have found yet another sub-par film by this duo. While I must admit that I liked a few of their films mildly (such as SILLY BILLIES and THE RAINMAKERS--which I actually gave 6's to on IMDb), this one was a major endurance test to complete--something that I find happens all too often when I view the films of Wheeler and Woolsey. Where was all the humor?!\"\n",
      "* * * * * * * * * \n",
      "1547\n",
      "This is one of those movies where I wish I had just stayed in the bar.<br /><br />The film is quite frankly boring. What story there is is very flimsy and you pretty much have to guess at it. The film indulges itself with pretentious camera techniques that seem intent on causing migraines and makes it look like a student film. Did I say it was boring already? If all the characters had suddenly died at the end of the movie I would not have cared less as I had no emotional attachment to any of them.<br /><br />There are about 4 good minutes in this movie, but that was about it. This is the first time I have ever considered walking out of a cinema during a performance, but I held on believing that it had to get better. I was wrong.<br /><br />The sort of film you could threaten naughty children with.\n",
      "* * * * * * * * * \n",
      "1659\n",
      "When i got this movie free from my job, along with three other similar movies.. I watched then with very low expectations. Now this movie isn't bad per se. You get what you pay for. It is a tale of love, betrayal, lies, sex, scandal, everything you want in a movie. Definitely not a Hollywood blockbuster, but for cheap thrills it is not that bad. I would probably never watch this movie again. In a nutshell this is the kind of movie that you would see either very late at night on a local television station that is just wanting to take up some time, or you would see it on a Sunday afternoon on a local television station that is trying to take up some time. Despite the bad acting, cliché lines, and sub par camera work. I didn't have the desire to turn off the movie and pretend like it never popped into my DVD player. The story has been done many times in many movies. This one is no different, no better, no worse. <br /><br />Just your average movie.\n",
      "* * * * * * * * * \n",
      "1731\n",
      "When Carol (Vanessa Hidalgo) starts looking into her brother's death, she begins to suspect something more sinister than \\natural causes\\\". The closer she gets to the truth, the more of a threat she becomes to her sister-in-law, Fiona (Helga Line), and the rest of the local Satanists. They'll do whatever is necessary to put a stop her nosy ways.<br /><br />If you're into sleazy, Satanic-themed movies, Black Candles has a lot to offer. The movie is filled with plenty of nudity and ritualistic soft-core sex. One scene in particular involving a young woman and a goat must be seen to be believed. Unfortunately, all the sleaze in the world can't save Black Candles. Most of the movie is a total bore. Other than the one scene I've already mentioned, the numerous sex scenes aren't shocking and certainly aren't sexy. The acting is spotty at best. Even genre favorite Helga Line gives a disappointing performance. The plot really doesn't matter. Its main function seems to be to hold the string of dull sex scenes together. I'm only familiar with one other movie directed by Jose Ramon Larraz. Compared with his Daughters of Darkness that masterfully mixes eroticism and horror, Black Candles comes off as amateurish. 3/10 is about the best I can do.\"\n",
      "* * * * * * * * * \n",
      "1799\n",
      "This movie is traditional bollywood fare as far as the star power, sentimentality and love triangle of emotions. What really bothered me about this movie was the makers' absurd notion of surrogate mother. A whore who conceives a child with someone after have sex with the man (of the family desiring a child) is not a surrogate mother. Neither is she a good candidate for a surrogate mother. I have seen Indian movies and television shows that made 10 to 15 years ago that dealt with this issue more intelligently. The whole concept of the movie is ridiculous and absolutely implausible. I realize that most bollywood movies aren't meant to be plausible, but they don't pretend to be either. This movie wants us to emote along with the characters, but this can't done with such a ridiculous, contrived conflict. I would have expected better from Abbas and Mustan.\n",
      "* * * * * * * * * \n",
      "1883\n",
      "This film concerns a very young girl, Cassie, (Melissa Sagemiller) who leaves her family and heads off to become a college freshman. One night Cassie and her friends decide to go to a wild party with plenty of drinking and dancing and Cassie is riding with her boyfriend who she likes but never told him she loved him. As Cassie was driving, a car was stopped in the middle of the road and she was unable to avoid an accident and as a result there is a bloody loss of lives along with her boyfriend. Cassie becomes very emotionally upset and has nightmares which cause her to have hallucinations about her boyfriend coming back to life and encounters men trying to murder her and she is struggling to find out who her real friends are, who wants her dead and will she survive this entire horror ordeal. Cassie dreams she is being made love to by her boyfriend after he died and finds another guy in her bed and is told she was asking him to make love. This is a way out film, and not very good at all.\n",
      "* * * * * * * * * \n",
      "1921\n",
      "Being a slasher film aficionado, I typically will settle in to watch every slash movie that passes over my retinas, which sometimes does more harm than good to my brain, I will say. While channel surfing the other night, Sleepaway Camp II happened to cross paths with me. Of course, I wanted to check it out, as I had heard of the Sleepaway Camp franchise, but have never actually seen any of them (for shame, I know). I will note that since I have not seen the original, my criticism should probably not be taken too seriously, because perhaps what I think is wrong with it is totally intentional by the franchise's own design.<br /><br />Now I'm assuming that the franchise of Sleepaway Camp is, in itself, a joke on itself. Hell, even the name comes off as an intentional joke. Sleep away camp? It's good fun. I can appreciate the film for wanting to just put together something for pure camp horror value, but that's about as far as I can go. The acting in this movie made the cast of the original Friday the 13th look like thespians doing a rendition of Macbeth. Campy requires bad acting, but come on. Pamela Springsteen as the evil out-of-touch-with-reality killer did a better job of killing off my interest than she did killing off the entire cast. As far as comedy goes, there were a few times where I chuckled, but it was few and far between.<br /><br />Ultimately, SAC II is pretty boring, and I really did want to sleep away the camp. The deaths are so obviously staged and fake that you can barely appreciate them. If you're looking for a slasher film comedy with good camp, I recommend Club Dread. If your channel surfing takes you across this one, check and see what else is on.\n",
      "* * * * * * * * * \n",
      "1942\n",
      "\\Hak Hap\\\", or \\\"Black Mask\\\" (in english) was a disappointment. I was told that it was a sort of \\\"Japanese version of the Matrix\\\". Imagine my disappointment. The film was either badly dubbed or the soundtrack didn't time well with the film. Another thing is that the dialogue was pretty much bad. There was very little thought put into the English version of this film and it appeals only to the \\\"senseless action\\\" genre. Not a film I would want to see again.\"\n",
      "* * * * * * * * * \n",
      "1974\n",
      "Cool idea... botched writing, botched directing, botched editing, botched acting. Sorta makes me wish I could play God and strike everyone involved in making this film with several bolts of lightning.\n",
      "* * * * * * * * * \n",
      "2074\n",
      "I don't know why, but when I am asked about bad movies I have seen, I often think of \\The Air Up There\\\". I know that technically, lots of movies are horrible compared to it, and I have seen worse acting. it's just that it's so bland, so predictable. In a word: mediocre.\"\n",
      "* * * * * * * * * \n",
      "2281\n",
      "I'm a horror/gore movie freak and this flick was so bad, I felt embarrassed for not only the \\actors\\\", but also the director and the poor sap of a producer who actually put his money up for this schlock.<br /><br />From the title, you'd expect some great carnage, somewhat of a storyline and at LEAST some direction or dialog. Instead, you get what looks like a slightly more violent and sexual Three Stooges episode. At least I laugh at the Three Stooges. While watching this crap, I turned another TV on and started watching Howard Stern until something interesting happened.<br /><br />Needless to say, I kept watching Stern.<br /><br />Watching this \\\"film\\\" I realize that I could produce a film with three monkeys, 2 DV cameras, $50 dollars in loose change and a broken PC. This film is my inspiration to get into no-budget film making. Watch this movie if you dare, but be warned...there is a lot of nothing in here but a whole lot of talking and very little action. This makes \\\"KaZaam\\\" look like a Meryl Streep film.<br /><br />I'm sure Germany didn't ban it due to sex or violence. Other countries need to take heed.\"\n",
      "* * * * * * * * * \n",
      "2471\n",
      "Ah yes, the VS series, MVC2 being the pinnacle. It's been said before, this is what you get when half of the crew fell asleep on the job, unfortunately the gameplay half did. Don't get me wrong, this is fun, but you get tired of mashing buttons. As for the plot summary, AHAHAHAHAHAAAAA... There is no plot. Beat that guy at the end and win! Eh, who plays this by their self anyway?\n",
      "* * * * * * * * * \n",
      "2488\n",
      "I just finished watching guinea pig - Devils experiment. I have to say that this movie, although having very good FX, better then I expected, was NOT a good movie. I honestly cant say that I enjoyed this movie at all. Of course It is effective in its way of being a shocking, realistic, twisted 43 minutes of torture, but I found it to be very boring (and not as gory as i hoped). And also I found that the torturers were very annoying, when they talked and loughed trying to sound tough all the time, that ruined it even more (and Im sure there's some people out there who will agree with me on that one). I have now seen guinea pig 1,2,3,5 and the best one out of those in my opinion is guinea pig 2 - Flowers of the flesh and blood. I wont say much more about Devils experiment, other than Great fx, descent acting from the girl, annoying fu**ing torturers, overall I give it 4 stars on account of the FX cos they are awesome.\n",
      "* * * * * * * * * \n",
      "2511\n",
      "This warning against anti-semitism is well-meant and may have had its purpose at the time, but it is made without the slightest notion of how to make a film. The director has no idea about mise-en-scene; the cast varies from bad till even worse.<br /><br />The great Austrian comic Hans Moser is wasted. In his part he ends in an asylum for the crazy, that is designed as a set from Das Kabinett des Dr. Caligari; one wonders whether the makers had all their mental capabilities.<br /><br />The restored copy I saw (Dutch Filmmuseum) gives the impression that some scenes were not put into the right place, but may be the original editing was bad as well.\n",
      "* * * * * * * * * \n",
      "2542\n",
      "A film starring Salma Hayek and Colin Farrell, two respected and talented actors, sounds like a great idea. An independent film sounds even better. The studios will control less of the content allowing the actors and writers and director more creativity.<br /><br />But then why is this movie so bland? Ask the dust.<br /><br />This film assumes right off the bat that we are deeply invested in the characters. No one is given a proper back story, so we don't ever know why the characters act the way they do.<br /><br />Explanations for physical and emotional scars are left to our imagination, if you still have one left at the end of this movie.<br /><br />I told a friend that I went to see this film, and that I thought it was awful.<br /><br />Her question: \\Not even Colin Farrell could save it?\\\" My response: \\\"Not even Colin Farrell's ass could save it.\\\"\"\n",
      "* * * * * * * * * \n",
      "2634\n",
      "good lord! (and that coming from an atheist), this \\movie\\\" is bad !<br /><br />much has already been said by the reviewers before (the ones who rated this piece 3 and below) to which I fully agree, I just like to add a few things: <br /><br />among the three guys who had to eat their own digestive end products, got chopped up by an Axe, raped by a broomstick, had their balls blown away - the ex-boyfriend suffers the worst torture while having to listen to the girl's endless and pointless babble at the kitchen table (as do we, but at least we have the mercy of the mute button).<br /><br />had the director cut out the point- and endless graveyard and inverted scenes, our suffering would have been over after 30 minutes.<br /><br />the only things that made this flick at least somewhat bearable are Emily Haack's tits (one point).<br /><br />forget it. don't buy it. don't waste your time. and your sanity. my brain is so fried after watching this I feel the urgent need to watch (and suffer?) \\\"Scrapbook\\\" right now.\"\n",
      "* * * * * * * * * \n",
      "2730\n",
      "This time the hero from the first film has become human and this time uses fist and foot combos against super universal soldiers and a computer which has gone awry and is prepared to take over the world. I'm pretty sure it was Double Team, which convinced everyone that Jean-Claude Van Damme was no longer credible in providing watchable action flicks. However it was this that tarnished his credibility forever. While Universal Soldier:The Return isn't as dull as Double Team or The Quest,it's still pretty awful indeed, with none of the style and flair of the original and no star pairing. This sequel is made simply for kids who enjoy professional wrestling. As I look back, not even the action sequences were all that exciting and therefore this movie is a worthless dud. In other words another clunker in Van Damme's assembly line.<br /><br />* out of 4(Bad)\n",
      "* * * * * * * * * \n",
      "2736\n",
      "I don't know what you guys are inhaling, but please stop. This movie was complete trash.<br /><br />Macaulay Culkin as Kevin McCallister was lovable, cute, sweet, loving, and extremely fun to watch. He had that innocence but at the same time, he was strong as well.<br /><br />This new kid, Alex? Annoying as all hell! Just a blatant ripoff at trying to match Culkin's charm and grace, failing miserably at that.<br /><br />The villains, complete crap. Harry and Marv, they were such an entertaining on screen team. They were comedic, they were humorous, and just made you really want to root for Culkin even more, which is what a good villain is suppose to do. These guys Joe Pesci and Daniel Stern, absolutely PERFECT for those roles. On the other hand, in 3, we have 4 new idiots that just bicker and again, try to capitalize on the charisma and duo charm of the first villains. Not saying they were horrible, but they were not memorable or even really that entertaining. More on the corny side actually.<br /><br />Then we got the actual movies. Part 1 and 2, classics. Memorable. Perfect to watch around Christmas and brings a wonderful Christmas feeling and brings out so many emotions. It makes you fall in love with the story, and care about the characters. Simply, memorable and close to being masterpieces. Part 3? Masterpiece of crap. Enough said.<br /><br />All and all, I don't know why people like this. I think people really don't know what a good movie is anymore. Its a crappy sequel rip-off with more unrealistic traps and a stupid new main character kid that I wish the robbers would of at least beat the crap out of.<br /><br />Run, run away from this garbage. And lets not even start with Part 4!\n",
      "* * * * * * * * * \n",
      "2755\n",
      "What to say about this movie. Well it is about a bunch of good students who have some bad drugs and turn into delinquent students that sell more of the bad drugs to people. Two of those people have adverse effects as one turns into a toxic avenger type and his girlfriend throws up some creature that grows in the school's basement. That is about all there is to it and they stretch it out for 84 minutes. This movie is pretty bad and should be locked away forever. Though that is not fair, some people like Troma's movies and they can watch it if they want. Troma movies for me though, are the worst movies there are out there. I just watched this one out of morbid curiosity.\n",
      "* * * * * * * * * \n",
      "2780\n",
      "I have to be completely honest in saying first that I fell asleep somewhere in the middle, so I cannot give a full opinion about the film until I see it in full. Basically, a group of thieves, including Sid Carter (Sid James) and Ernie Bragg (Bernard Bresslaw), plan to make a fortune stealing a shipment of contraceptive pills from Finisham maternity hospital. This is where title character Matron (Hattie Jacques) works, along with staff members Sir Bernard Cutting (Kenneth Williams), Dr. Francis Goode (Charles Hawtrey), Dr. Prodd (Terry Scott) and Nurse Susan Ball (Barbara Windsor). Patients and their visitors are around too, including pregnant Mrs. Tidey (Joan Sims) and her nervous dad-to-be husband Mr. Tidey (Kenneth Connor). Also starring Bill Maynard as Freddy and EastEnders' Wendy Richard as Miss Willing. This plan by the way is not working out by the way, because all the staff are getting in the way. That's pretty much all can say about the film until I see it again in full. Okay!\n",
      "* * * * * * * * * \n",
      "2906\n",
      "I attempted to watch this film without being able to really sit through it, for while it is suppose to have a \\good\\\" message; the problem is that it is obviously produced according to one particular interpretation of scripture. An interpretation, in my opinion, will mislead a lot of people. In addition, I am a movie maniac and the acting in this film was completely unacceptable. Never before had I wished for a negative score to rate a movie. So, if you wish to be preached to incessantly by those without authority, then by all means, get this film. This comment is also a warning to people who like or love scifi, because the title will deceive a lot of people as well. This was an unfortunate film, because the basic idea had possibilities and those possibilities were squandered. The film's only redeemable quality is that it did make me realize that the character in the \\\"Time Machine\\\" probably should have shown a little more moral outrage at the odd behavior by those in his future.\"\n",
      "* * * * * * * * * \n",
      "3045\n",
      "Sam (Thomas Cavanagh) and Gray (Heather Graham) are devoted siblings who share an apartment and a love of many things -- ballroom dancing, 1940s movie musicals and, much to their surprise, an attractive woman named Charlie (Bridget Moynahan). Historically heterosexual, Gray is confused by her new feelings.<br /><br />Gray Matters proves to be one of the blandest films I have ever seen. It's dull, predictable, unfunny, poorly acted and poorly written. Nothing about it felt real and everything was very cheesy. Also, this isn't really a romantic comedy with a special twist but more of a \\coming out\\\" movie. Sue Kramer tried to make the first half cute with the romantic stuff and the second half serious with the actual acceptance and coming out part. Unfortunately, she failed miserably. The first half was largely unfunny and only Heather Graham was able to hold it up a little. Then, the film took an awkward tone and got all serious. The serious scenes were handled poorly and all of the emotions just felt phony.<br /><br />I guess I would have enjoyed the film a little more if the relationships between the characters felt more authentic. The brother and sister relationship was very weak and they didn't really appear to be that close. Their relationship just didn't feel very natural. Also, the relationship between Tom and Bridget felt very unnatural. If two people are going to get married after only knowing each other for less than a week, then you would expect to see a little more excitement but the characters talked about getting married in Vegas in the same manner of asking a waiter what the specials are. There was a lack of excitement in the film and it was hard to get involved with the movie with such unmotivated characters.<br /><br />The acting was mostly weak which was a bit surprising given the decent cast. Heather Graham gave the only good performance in the movie. She was funny and had a few charming scenes but it's too bad that all of her co-stars were complete duds. Bridget Moynahan was very weak and her performance ringed false on every level. Also, it seemed like she was reading her lines. Thomas Cavanagh was pretty wooden and he showed nearly no emotion. The chemistry between Thomas and Heather was non existent and that damaged the film because their relationship felt phony. I can usually rely on Molly Shannon to be funny in a supporting role but here she was just annoying. Sissy Spacek had about two scenes and she was annoying in both of them. Finally, Alan Cumming just had an embarrassing character and his performance wasn't very good. Overall, Gray Matters is a lame film and it isn't worth watching. Rating 3/10\"\n",
      "* * * * * * * * * \n",
      "3163\n",
      "I don't know where to begin. Tara Reid needs to be stopped before she's put in another movie. Stephen Dorff looks like he got his character's motivation from Val Kilmer in \\Top Gun\\\". Slater sleepwalks through this dreck. The direction, editing, sound (do we really need a heavy-metal video in the middle of a gunfight?), costumes (bulletproof vests with muscles on them), and hey, there's no discernible plot either. It amazes me that no one attached to the project stopped and said, \\\"hey guys, this just doesn't make any sense, let's start over\\\". Hopefully Slater's career can rebound from this disaster.<br /><br />Hands down the worst film I've ever seen.\"\n",
      "* * * * * * * * * \n",
      "3171\n",
      "A singularly unfunny musical comedy that artificially tries to marry the then-cutting edge rock 'n' roll explosion with the middle-class sensibilities of a suburban sitcom. The result is a jarringly dated mish-mash that will satisfy none of the audience that went for the music, but will at least keep their parents sated.<br /><br />A quick glance at the promo write-up on the back of the video release should give some idea of the content. Tom Ewell is a drunken agent, overplayed with so little comic ability you almost expect him to bellow \\hi honey, I'm home!\\\" The blurb sites him as \\\"So funny in 'The 7 Year Itch'\\\". It sounds almost like an excuse. What other film would sell itself on the fact that a leading player was good in something else? It reads like \\\"So funny in 'The 7 Year Itch' ... but he's rubbish in this\\\".<br /><br />Mansfield, a beautiful girl with rumoured 50-inch assets, is, unfortunately, a bargain basement Monroe with all the acting ability and comic timing of a rotting haddock. Her wooden delivery combined with Ewell's OTT double-takes make this a comedy partnership from Hell. For her part, the sell gives us: \\\"[Jayne Mansfield] whose more obvious talents are the cause of many of the film's biggest laughs!\\\" As you can see, a movie sold on the idea that it's lead has a big chest is not the most sophisticated of things. Most of this \\\"humour\\\" is men literally falling over themselves, their glasses cracking upon site of Mansfield, etc. Only the Freudian nightmare of a milk bottle overflowing casts doubt upon its \\\"U\\\" certificate.<br /><br />For the musical side, the most adenine of players are chosen. Would you really care to see Eddie Fontaine offer: \\\"I love your eyes, I love your lips, they taste even better than potato chips\\\" in a song called \\\"Cool It, Baby\\\"? Only the incendiary Little Richard breaks out of the MOR, though is forced to sing some of his more dad-friendly songs in a four-minute sequence. And how come all the acts sing without a single microphone? Attempted satires on the industry are broad and childlike in their conception.<br /><br />Technically, the picture was quite advanced, with special effects (including a ghost-like Julie London) and deluxe color (Which now looks flat and artificial. In fact, with its reds that bleed and fake-looking flesh tones, it resembles a colorised movie). Direction, though, isn't outstanding, and the sound quality is also quite poor.<br /><br />Perhaps it comes down to it being so old. A time when men still smoked on screen, sickeningly cute child actors made adult remarks and black servants only got to cook and dance. (All of which happen here). Yet Some Like It Hot, The African Queen, Ben Hur and many, many more stand as examples of films from the period that can still be enjoyed today, so the \\\"good at the time\\\" argument doesn't really stand up. At its heart The Girl Can't Help It is a cynical and patronising venture that doesn't bear close inspection. 4/10.<br /><br />\"\n",
      "* * * * * * * * * \n",
      "3356\n",
      "This movie had the potential to be a decent horror movie. The main character was decently done and I felt sorry for him and there was a decent amount of backstory. HOWEVER, everything else sucks. The director, Emmanuel, is quite incompetent at film-making. He uses some of the most idiotic shots ever.<br /><br />- a couple of random sequences of random images dispersed throughout the film. I don't know if he tried to be deep and intelligent and poetic but he wasn't. It was stupid. Random shots of the trailer the main character lived in, random buildings, random pan shots of buildings, random cat which walks away. WTF? And clouds. Lots of gloomy dark clouds.<br /><br />- he really liked this technique of having a scene cut up into different shots rather than being just one continuous shot. EX: Guy is trying to light his weed and the camera circles around him. Instead of just one shot, he edits it into like 10 different shots so its really EDGY! and HIP! and SMART! stupid.<br /><br />The acting is horrible but it's what makes the movie so funny. And the scarecrow is a gymnast cause he flips and spins and twirls all the time. And some of the deaths could have been better. You expect the main bully to have a long well built up death but nope. A simple corncob in the ear . The love interest was hot. Voluptuous. Which is why this movie gets a 2.\n",
      "* * * * * * * * * \n",
      "3707\n",
      "A strange mix of traditional-80s, smartassy, Chevy Chase-type, \\every-ten-lines-you-get-a-funny-one\\\" farce and sickie black comedy. Mildly amusing in spots, but utterly tasteless. There is a skiing sequence that includes the fakest-looking back-projections since \\\"On Her Majesty's Secret Service\\\". (**)\"\n",
      "* * * * * * * * * \n",
      "3739\n",
      "I am from the Dallas/Fort Worth area and lived in Arlington for a few years. This movie was way off as far as making it look like Arlington. I saw mountains in the background of one scene! Texas doesn't have mountains. I guess that happens when a movie that is supposed to be in Texas is filmed in Canada. The accents are also really bad. They should have gotten actors from Texas to play the parts. There a lot of aspiring actors from Texas out in Hollywood. The movie is really sad though, because it is a true story. I pray that the killer is found and convicted. The one good thing is that bc of her death, we now have the Amber Alert to help find missing children quickly after they are abducted.\n",
      "* * * * * * * * * \n",
      "3895\n",
      "Though I never like to be the sort of person who negates another's personal taste; if you like something, that's fine. But, this movie was horrible and there is no way around it. I don't like Ani Difranco too much, but she's a great guitarist and songwriter, that I can admit. But I can't admit to there being any redeeming qualities to this film. Many people way that it is an accurate portrayal of issues that high school students face. Maybe, but everything is portrayed too far-fetched. There seems to be an attempt at a \\Naked Gun\\\" - esque kind of comedy, but the timing is off; there is too much space between each actors line, as if they're holding for laughter (there wasn't any). Whoever wrote the script was all over the place. They tried to cram as many controversial issues together in one film, almost never fully developing any of them (especially the girl getting impregnated by a teacher). I did not laugh once throughout this entire movie. I was too insulted by this attempt at humor and satire to do anything but roll my eyes at the screen.\"\n",
      "* * * * * * * * * \n",
      "3934\n",
      "If i could have rated this movie by 0 i would have ! I see some ppl at IMDb says that this is the funniest movie of the year , etc etc excuse me ? are you ppl snorting LSD or ........? There is absolutely NOTHING funny about this movie N O T H I N G ! I actually want my 27 minutes back of my life that i spent watching this piece of crap. <br /><br />I read someone sitting on an airplane watching this movie stopped watching after 30 minutes , i totally understand that , i actually would have watched snakes on a plane for 2 times over instead of watching this movie once ! <br /><br />DO NOT watch this movie , do something else useful with your life do the dishes , walk the dog , hell... anything is better than spending time in front of the TV watching hot rod.\n",
      "* * * * * * * * * \n",
      "3998\n",
      "I can see the guys doing the budget preparation for this flick. \\Well lets see now, we spend 50% getting Dirk Benidict, cause Battle Star Galactic and the A-Team were cool. The we spend 40% making a Demon Costume, never mind that the Demon is supposed to be incorporeal in the script. And we spend the rest making the movie.\\\" This was pretty bad and VERY cliche.... Have a loved one present when watching (or bring a good book)\"\n",
      "* * * * * * * * * \n",
      "4321\n",
      "No one goes to a movie like The Hills Have Eyes 2 and expects the second coming of Citizen Kane. The same is true for the majority of low-rent horror flicks, especially those Roger Ebert has dubbed \\Dead Teenager Movies.\\\" The Hills Have Eyes 2 definitely qualifies as a Dead Teenager Movie, only here, the teenagers have been given the superficial appearance of military trainees.<br /><br />Some will argue the line \\\"it's only a movie\\\" when questionable facts are raised in a movie review, but I've always been a firm believer that all good fantasy must be rooted in reality in order to be effective. In the Hills Have Eyes 2, we're to believe the main characters are military people on a training exercise, but they look and talk like high school kids camping in the desert. The dialog is awful and frequently vulgar to excess. Though the films aren't nearly comparable, I kept imagining these \\\"soldiers\\\" being in Platoon, and shuddering with dread.<br /><br />Very little about the characters evokes a soldier other than rifles and fatigues: radio transmissions are carried out like teenage phone conversations; a Colonel is addresses as \\\"hey, asshole\\\" by a Private. And nobody seems to have the slightest idea what to do, or any sense of command structure, when things begin to go wrong. I think of the soldiers in James Cameron's Aliens, a film of pure fantasy, and how even those futuristic Marines behaved like real soldiers despite their fantastic situations. Fantasy rooted in reality.<br /><br />I try to begin watching a movie as a 5 on a scale of 10, and judge it's strengths and weaknesses from there. You have to allow concessions for the material; there's no way Star Wars is as good of a movie as The Godfather, on equal terms. But both are excellent examples of their type.<br /><br />In that respect, while the Hills Have Eyes 2 is a pretty dreadful exercise in amateur and immature writing, it's only modestly worse in that regard than the typical Dead Teenager Movie. On a technical side, the movie appears to have decent production values and is pretty well made from that perspective. Scenes that are intended to shock, or which are intended to evoke urgency or suspense generally work. So, while watching The Hills Have Eyes 2 may indeed be a fate worse than death, there are certainly far worse horror flicks in circulation.<br /><br />It's worth a watch for those who enjoy this type of stuff without the usual fanboy baggage, or those who don't tend towards thinking every movie they see is either the Best Ever or the Worst Ever of all time. If you don't \\\"get\\\" horror, especially the Dead Teenager variety, you're not likely to have a good time with this one.<br /><br />4/10\"\n",
      "* * * * * * * * * \n",
      "4411\n",
      "waste of my life, .... the director should be embarrassed. why people feel they need to make worthless movies will never make sense to me. when she died at the end, it made me laugh. i had to change the channel many times throughout the film because i was getting embarrassed watching such poor acting. hopefully the guy who played Heath never gets work again. On top of that i hope the director never gets to make another film, and has his paycheck taken back for this crap. { .02 out of 10 }\n",
      "* * * * * * * * * \n",
      "4414\n",
      "This is a typical 70's soft core sex romp in the Russ Meyer genre, though perhaps less outlandish than some of Meyer's work. This film has higher 'production values' than many of it's contemporaries, suggesting a larger budget. It's plot, writing and acting are straight out the B zone, though. Of late, this film has become a mainstay of B movie channels (such as \\Drive In Classics\\\") in the 500 channel universe. If soft core is what you are in the mood for, this is as \\\"good\\\" as anything else in the B range. Don't expect Polanski though, Sarno is just Sarno. Nothing more, nothing less. Jennifer Welles performance as the \\\"mother\\\" is perhaps the best of the cast. None of the actors in the film went on to greater fame, unsurprisingly. Confessions of a Young American Housewife is far from the worst example of it's kind. It is watchable, if this is your type of film. 30 years ago, this would have been an avant garde and riske film. You can see more or less the same kind of thing on Showtime/HBO series these days, and in prime time.\"\n",
      "* * * * * * * * * \n",
      "4470\n",
      "OK when I saw the previews for this movie I thought it looked really scary and was quite excited to see it as were the group I was with. Now living in America especially during this election I see some very deceiving things but I have to say these previews were towards the top of list. I don't see how so many people could be scared by this movie. I only really noticed two real jump scenes and only jumped at one. The whole movie was extremely predictable and perhaps that messed up some of the jump scenes for me. As for the sound effects so many to be so frightened of I thought they were comical at best. Oh and the uhh catboy where did that come from and why? The worst noise in the whole movie had to be the weird groaning. How does that scare someone? I can make that noise easily. Now don't get me wrong I have always loved all those really bad scary movies that your just laughing the whole way through but I didn't even think this one had that going for it it was just plain out bad.\n",
      "* * * * * * * * * \n",
      "4561\n",
      "This is not a horror film, but a boring sex movie. A very bad movie, to be avoided by any serious horror fan. No plot, awful acting and annoying music. If you only watch the trailer you will know enough... It's a shame that such thing is available on VHS or video while there are so many good movies unavailable. If you like vampires try the Hammer Productions or the Italian Gothic from Mario Bava and Antonio Margheriti instead. Those are masterpieces if you compare this with this trash. Rating = even \\1\\\" is too much! And believe me, I am not the only one with this opinion.\"\n",
      "* * * * * * * * * \n",
      "4597\n",
      "Herbie, the Volkswagen that thinks like a man, is back, now being driven by Maggie Peyton (Lindsay Lohan), a young woman who hopes to become a NASCAR champion. The only thing standing in her way is the current champion, Trip Murphy (Matt Dillon), who will do anything to stop them.<br /><br />The original love bug wasn't that good. Even as a kid, I remember not liking it very much. I had some hope for the sequel though. I mean the cast is pretty good and the trailer makes it seem like a pretty fun movie. Unfortunately, Herbie is no better now than he was before. The film is defiantly weak for people over the age of 12. It will probably entertain the kids but that's all.<br /><br />I realize it's a kids film and all but they could have made the film a little more interesting. There were very few laughs and it got boring near the end. Most of the actors seemed dead in their roles too. Lindsay Lohan was alright as Maggie Peyton. She usually gives better performances like in Freaky Friday and Mean Girls. Matt Dillon gave the best performance out of everyone. He was very good as the bad guy even though he didn't have a lot to work with. Justin Long, Breckin Meyer and Michael Keaton are really just there and they don't do anything special.<br /><br />Angela Robinson directs and she does an okay job. She tries to keep the film interesting but she's working with a weak script. Thomas Lennon and Ben Garant wrote the screenplay and would it be any surprise to you that they were also responsible for Taxi and The Pacifier? These two make light films yet they fail to really make the stories interesting or enjoyable. It's not completely their fault but hopefully next time they will try harder. In the end, Herbie is a safe, predictable family film that's worth watching if you're a kid. Everyone else is better off skipping it. Rating 4/10\n",
      "* * * * * * * * * \n",
      "4646\n",
      "If there is a hell, it contains a screening room in which GRAND CANYON is playing over and over again on an eternal loop. One would hope that the presence of so many marvelous actors - Danny Glover, Alfre Woodard, Kevin Kline, Mary Louise Parker - would help make up for the presences of Mary McDonnell (whose penance is to watch her own films for all eternity)... But, no. Apparently they injected those other actors with a serum made from McDonnell. The entire affair is pretentious, overblown, insulting (if you are deaf or know anyone who is, be prepared for your blood to boil at the ludicrous TDD scene). GRAND CANYON is filled with obnoxious, self-involved people, but never gives us a reason to like/understand/sympathize with or even tolerate them. With rare exception, they are insufferable losers that the gene pool would be better off without. There's no plot to speak of, no character development (these people won't EVER develop), no break-out performance and the most arch writing you'll ever encounter in a film. The best thing about GRAND CANYON? Its title. This is one large HOLE of a movie.\n",
      "* * * * * * * * * \n",
      "4812\n",
      "Has to be one of the worst wastes of 35mm movie film ever unleashed on the public, the sequel to the at least entertaining pseudo-documentary original film \\The Legend of Boggy Creek\\\". Bad script, worse acting, etc., etc., Dawn Wells had to be hoping that Gilligan would come rescue her and take her back to the island just to escape from this piece of clap-trap.\"\n",
      "* * * * * * * * * \n",
      "4820\n",
      "This film was a disaster from start to finish. Interspersed with performances from \\the next generation of beautiful losers\\\" are interviews with Bono and The Edge as well as the performers themselves. This leaves little time for the clips of Leonard Cohen himself, who towers over everyone else in the film with his commanding yet gentle presence, wisdom and humor. The rest are too busy trying to canonize him as St. Leonard or as some Old Testament prophet. Many of the performances are forgettable over-interpretations (especially Rufus & Martha Wainright's) or bland under-achievements. Only Beth Orton and Anthony got within striking distance of Leonard's own versions by using a little restraint. Annoying little pseudo-avant-garde gestures are sprinkled throughout the film- like out of focus superimpositions of red spheres over many of the concert and interview shots, shaky blurred camera work, use of digital delay on some of Leonard Cohen's comments (making it harder to hear what's being said) and a spooky, pretentious low drone under a lot of the interview segments (an attempt at added gravitas?). For the real thing, see the Songs From The Life Of documentary produced by the BBC in 1988.\"\n",
      "* * * * * * * * * \n",
      "4890\n",
      "Somebody owes Ang Lee an apology. Actually, a lot of people do. And I'll start. I was never interested in the Ang Lee film Hulk, because of the near unanimous bad reviews. Even the premium cable channels seemed to rarely show it. I finally decided to watch it yesterday on USA network and, wow....<br /><br />SPOILERS FOR ANG LEE'S HULK AND THE INCREDIBLE HULK <br /><br />Was it boring! I almost didn't make it through Ang Lee's Hulk. Eric Bana was expressionless, Nick Nolte was horrible, Sam Elliott was unlikeable (and that's no fun, he's usually a cool character). In fact, I honestly think they chose Eric Bana because his non-descript face was the easiest to mimic with computer graphics - and it was clear that the Ang Lee Hulk was meant to facially resemble Bruce Banner in his non-angry state. When Hulk fought a mutant poodle I was ready to concede Hulk as the worst superhero movie ever.<br /><br />But then something happened. About 3/4 of the way through this tedious movie, there was a genuinely exciting and - dare I say it - reasonably convincing - extended action scene that starts with Hulk breaking out of a containment chamber in a military base, fighting M1 tanks and Comanche helicopters in the desert, then riding an F22 Raptor into the stratosphere, only to be captured on the streets of San Francisco. This was one of the best action sequences ever made for a superhero movie. And I have to say, the CGI was quite good. That's not to say that the Hulk was totally convincing. But it didn't require much more suspension of disbelief than is required in a lot of non-superhero action movies. And that's quite a feat.<br /><br />Of course, the ending got really stupid with Bruce Banner's father turning into some sort of shape-shifting villain but the earlier long action sequence put any of Iron Man's brief heroics to shame. And overall, apart from the animated mutant dogs, it really did seem like the CGI in Hulk tried hard to convince you that he was real and really interacting with his environment. It was certainly better than I expected.<br /><br />OK, but what about The Incredible Hulk? Guess what... It's boring too! It has just a few appearances by the Hulk and here's the thing - the CGI in this movie is horrible. Maybe the Hulk in Ang Lee's version looked fake at times and cartoonish at others - but it had its convincing moments also. The Incredible Hulk looked positively ridiculous. It had skin tone and muscle tone that didn't even look like a living creature, just some sort of computer-generated texture. It was really preposterous. The lighting, environment and facial effects didn't look 5 years newer than Ang Lee's, they looked 10 years older. And there really is no excuse for that. We truly are living in an era where computer programmers can ruin a movie just as thoroughly as any director, actor or cinematographer ever could.<br /><br />Worse, the writer and director of this movie seemed to learn almost nothing from Ang Lee's \\failure\\\". All the same mistakes are made. Bruce Banner is practically emotionless. The general is so relentlessly, implausibly one-dimensional that he seems faker than the Hulk. The love interest is unconvincing (I have to give Liv Tyler credit for being more emotional than Jennifer Connelly, though both are quite easy on the eyes). Tim Blake Nelson overacts almost as much as Nick Nolte, even though he's only in the movie for a few minutes. The Hulk really doesn't do much in this movie, certainly not any more than in Ang Lee's version. The Incredible Hulk was slightly more fast-paced, but since nothing really happened anyway that's not worth much. Oh yeah, the villain is every bit as phony looking as the Hulk. He's actually much more interesting as a human than as a monster. <br /><br />This is how I can definitively say Ang Lee's version was better: if I ever have the chance to see Ang Lee's version again, I might be able to sit through it to see the good action sequences, or else to try to appreciate the dialogue a little more (more likely I'd just fast forward to the good parts). But there is absolutely not a single scene in The Incredible Hulk that is worth seeing once, let alone twice. It is truly at the bottom of the heap of superhero movies. The cartoonish CGI is an insult to the audience - at least in Ang Lee's version it seems like they were trying to make it realistic (except for the giant poodle, of course).<br /><br />It is absolutely mind-boggling how the filmmakers intended to erase the bad feelings associated with Ang Lee's Hulk by making almost exactly the same movie. <br /><br />It is to Edward Norton's credit that he seems to be distancing himself from this film.\"\n",
      "* * * * * * * * * \n",
      "4899\n",
      "This is the only movie that my wife and I have ever walked out on. Totally sucked. We saw it in Omaha even. Not funny at all, looks like a 14 year old kid wrote the humor. I can't believe these real politicians were actually in the movie. awful.\n",
      "* * * * * * * * * \n",
      "4908\n",
      "I ordered this extremely rare and highly overrated movie on ebay with very high expectations. I think I paid about 50$ for this movie. As an eternal fan of horror, from cheesy 80s American slashers to European zombie films, I told myself this was going to be great! I can't tell you how wrong I was. First of all, I thought it was gonna be pretty much gorier than it actually is. After all I've had heard about this film, I was almost scared to watch it. The murders are boring. The acting... forget it, there's no acting! The story, even if we don't care, is incredibly bad. It seems they tried to get your attention with some weird sexual scenes and naked girls, but unfortunately in this case it doesn't help the movie. Why? There's no atmosphere, and this is the worst thing about this flick. It's just bad film-making from point A to B. Though it's extremely funny and amusing to watch with your friends and a lot of beers, don't make any effort to get your hands on it. There are so many movies in this world, don't waste your time watching Necro Files!\n",
      "* * * * * * * * * \n",
      "4951\n",
      "The movie itself is so pathetic. It portrayed deaf people as cynical toward hearing people. True, some deaf people are wary of dating hearing people, but they are not necessarily angry like of Marlee Matlin's character was throughout the story. Deaf people do not go to the bar and dance the way Matlin did. All in all, the movie itself is more boring than pathetic. It is so boring that I'd like to believe that it is an insomnia-cured movie. If I have a problem sleeping, I can simply pop in Children of a Lesser God and watch. It will put me to sleep.<br /><br />Keep in mind, this is a deaf guy talking.\n",
      "* * * * * * * * * \n",
      "5035\n",
      "I watched this movie when I was a young lad full of raging hormones and it was about as sexy a movie as I had ever seen-or ever was to see. It may not have been a great movie. My guess is it wasn't. I don't really remember much about it, to tell you the truth. I only remember the sexual chemistry between Crosby and Biehn. No woman in ANY movie has ever done it for me as the unbelievably sexy Cathy did in this movie. I haven't seen it since that first time I caught it on TV in the 70s and I don't think I'd want to see it again since I'm sure it would be a disappointment-my hormones aren't as raging and I've become more jaded over the years. Still, when I think back on the shower scene I can still remember how great it felt way back when.<br /><br />Added later: After watching the movie again, I discovered that it's dangerous to go home again. What was once erotic is now pretty tame. The older woman-younger man thing still works for me, just not as much as it once did, probably because I'm no longer a 12-year-old. That older woman is now younger than I am. Also, the amateurishness of the whole thing wasn't perceived by my twelve-year-old mind. <br /><br />Moral: Sometimes it's better not to revisit the past.\n",
      "* * * * * * * * * \n",
      "5162\n",
      "{rant start} I didn't want to believe them at first, but I guess this is what people are talking about when they say South Korean cinema has peaked and may even be going downhill. After the surprisingly fun and moving monster movie \\Gwoemul\\\" (aka \\\"The Host\\\") of 2006-- which actually succeeded in making a sharp satire out of a B-movie genre-- successive Korean blockbusters have become more and more generic, even though their budgets (mainly spent on special effects) have become more and more fantastic. Do South Korean movie-makers really want to squander all the audience and investor goodwill, which their industry has built up since the 1999 break-out film \\\"Shiri/Swiri\\\", by making a whole series of big budget mediocre movies like mainland China did? {rant end}<br /><br />The only \\\"reason\\\" I can fathom for making this movie is to dupe the investors into financing the most detailed and fluid digital animation of a Korean/ East Asian-styled dragon I have seen to date, for the final scenes. Now if they had introduced that dragon at the beginning and given it more personality and purpose like in the 1996 \\\"Dragonheart\\\", the movie might have had a few more redeeming qualities other than having lots of digitally animated dragons. Remember \\\"Dungeons & Dragons\\\" in 2000? Hasn't anyone learnt that the trick is not how MUCH special effects you use, but how WELL you use it? I hope there are more (and better) Korean legends they can use, because they have just killed a lot of international interest in Korean dragon legends with the way they filmed this one.<br /><br />In short, I agree with all the negative reviews gone before and wonder how Koreans felt about having their folk anthem \\\"Arirang\\\" being played at the very end. As a creature feature, I would have given it at least 5 stars out of 10 if the special effects or action sequences had been worth it, but I've seen many video games with better camera work and scripting (just less dragons).\"\n",
      "* * * * * * * * * \n",
      "5203\n",
      "You'd think that with Ingrid Bergman and Warner Baxter that this film would have been a lot better. Sadly, the film suffers from difficult to believe characters as well as a major plot problem that makes some of the characters seem brain-addled.<br /><br />The film begins with Ingrid Bergman coming to work for the Stoddard family. Everything is so very peachy and swell--the family adores Bergman and things couldn't be more perfect. Well, that is until the mother (Fay Wray) dies, the stock market crashes in 1907 (wiping out the family's fortune) and Bergman is forced to go back home to France. This portion of the film is a bit sticky sweet, but not bad.<br /><br />Later, after the family's fortunes have improved, Bergman returns. The four boys are now all grown and there isn't really a conceivable reason why they'd hire her once again as a governess. But, briefly, everything is swell once again. But, when WWI occurs, the four all go to war--gosh! In the midst of this, one of the sons (David) brings home his new wife (Susan Hayward). Miss Hayward's character is as black and white as the others, though while they are all good and swell, she's obviously a horny she-devil. To make things worse, she comes to live in the family home while David is at war.<br /><br />Now here is where the movie gets really, really dumb--brain-achingly dumb. Hayward begins an affair with one of David's brothers but when the father sees a silhouette of the lovers, Bergman enters the room from another entrance and pretends that it was her, not Hayward with Jack! WHY?! Why would any sane person do this to save the butt of an obviously evil and conniving woman? This was exactly the sort of excuse Bergman needed to get rid of the gutter-snipe once and for all! This is just a case of lousy writing and made me mad...and most likely did the same to the audiences back in 1941.<br /><br />The rest of the movie consists of failed opportunity after failed opportunity for Hayward's evilness to be exposed. This just flies against common sense and made the film a silly melodramatic mess. As expected, however, the truth eventually comes out and everyone is swell once again---happy to be one big loving wonderful family minus the slut, Hayward.<br /><br />The film suffers because of poor writing. Hayward's affair made no sense--at least in how it was handled. And, having characters who are so gosh-darn good or evil (with nothing in between) sinks this movie to the level of a second-rate soap. The only thing that saves it at all is the acting---they tried as best they could with a turgid script. Suffice to say that the Columbia Pictures writers who did this film should have been slapped with a dead chicken!\n",
      "* * * * * * * * * \n",
      "5406\n",
      "I like movies about UFOs, which is why I recently decided to rewatch EYES BEHIND THE STARS after seeing it when I was a kid back in the late 1970s. And now I'm compelled to write a review about it because I'm afraid I'll start forgetting everything about it FAST. You see, even though EBTS ain't bad, it's VERY dull and nondescript. The story is sorta interesting but flat. The actors are good but their roles are boring and a little confusing. The FX are terribly amateurish but I can overlook something like that if the movie is compelling, which, unfortunately, this one ain't.<br /><br />Also, there's very little violence and there's no nudity whatsoever, which makes this 1970s Italian sci-fi opus a TRUE oddity, because if there's one thing that distinguishes Italian genre movies made in the 1970s from genre movies of other countries made in the same decade, it's the astonishing amount of violence and sex to be found in them. Oddly enough, because of the almost complete lack of exploitive elements, EBTS stands out from the rest of the pact. I don't know if this can be seen as a compliment though. Personally, I can enjoy a movie without sex and violence but I think EBTS NEEDED more violence and some sex here and there to spice it up because it is so deadly dull and dry. And the special effects aren't that special.<br /><br />The story itself is actually interesting. It's a combo of THE X-FILES and Antonioni's BLOWUP: a photographer accidentally captures aliens on film during a fashion shoot in the country. The aliens know they were captured on film and they proceed to kidnap the photographer and a model, subsequently destroying any evidence of their presence on earth. The problem starts when the model meets a man at the recently abducted photographer's apartment (this taking place just before she's to be abducted herself). The man takes some of the negatives and leaves, with the aliens having no knowledge of the missing negatives. The whole story is about this man wanting to know more about the aliens and a secret spy group who want to get a hold of the negatives. The majority of the movie centers around boring political intrigue, in the spy vs spy variety. The UFO element of the story is almost unimportant and could have easily been replaced by any cold war McGuffin. But as dull as EYES BEHIND THE STARS is, it does resemble THE X-FILES a LOT! I wonder if Chris Carter saw this movie. Anyway, the best thing in EBTS are the POV shots, which are creepy and effective. But the rest is almost completely forgettable, including the goofy looking aliens.<br /><br />Even though I've been mostly negative about this film, I sorta cherish it nonetheless. I still remember the effective ad campaign which scared me when I saw it as a kid. And I own the video. The film could have been so much more if it had been done properly. Oh well...\n",
      "* * * * * * * * * \n",
      "5454\n",
      "Cheap and mind-blisteringly dull story and acting. Not a single good line, not even a line bad enough to be good, and no memorable delivery. Even the blooper reel included with the DVD showed how inept the actors were and how little fun any of them were having. The esoteric and occult basis was apathetically inauthentic, and the antagonists failed to be creepy or believable. The 'homoerotic' overtones were pointlessly tame and dissatisfying, and were limited to young boys caressing their chests while flaccid in their boxers. I'm not gay enough to appreciate it, but a little action might have at least kept me and my girlfriend awake.\n",
      "* * * * * * * * * \n",
      "5481\n",
      "Did the movie-makers even preview this before they released it? The script jumps from place to place without giving much explanation. The beginning doesn't clarify if its a prequel or not. It starts with Superman's beginnings on Earth and then jumps to a point after the last movie - but doesn't really alert the viewer of this. VERY confusing! Superman himself is weak and in need of Prozac. He is portrayed as a potential home-wrecker, a stalker, and someone who is clearly depressed and confused. This type of character rarely makes for an interesting hero. The ending is absolutely ridiculous. Superman ending up in a hospital just made me want to kill him off myself. I'm seriously waiting for a SNL skit where Superman appears on Maury Povich and Maury says, \\The results are in - in the case of the child, Superman, you ARE the father.\\\" To sum up - OK acting by this Superman and Kevin Spacey, but HORRIBLE script. The movie is basically unwatchable.\"\n",
      "* * * * * * * * * \n",
      "5485\n",
      "How can a movie have Ozzy Osbourne and still suck? I just don't get it. Trick or Treat managed to do it. This sucks and likes it.<br /><br />Trick or Treat is one of those movies I have to warn people about. It is a vomit-inducing vile atrocity just begging to be viewed so you can feel that much worse about yourself. Trick or Treat has no redeeming factors.<br /><br />For a movie about heavy metal, it sure doesn't seem to grasp what heavy metal is or what it represents. This movie manages to make heavy metal look lame and this was in 1986, probably one of heavy metal's strongest hours. That is quite a feat, however negative.<br /><br />Trick or Treat = so bad you will be angry at yourself for having watched it. That simple equation will hopefully keep you away from this brainless and gutless film.\n",
      "* * * * * * * * * \n",
      "5615\n",
      "I actually had quite high hopes going into this movie, so I took what was given with a grain of salt and hoped for the best. About 1/3 of the way through the film I simply had to give up, quite simply the movie is a mish-mash of stuff happening for no apparent reason and it's all disconnected. I love movies that make you think, but this movie was just a bunch of ideas thrown together and never really connected.<br /><br />Don't think it's David Lynch-esquire as some would have you believe, it is nowhere near that realm other than some trippy visuals. Saying it's artsy to disguise the fact there's no apparent plot or story is just a manner or justifying why you wasted the 1.5 hours in the film. The acting was good, but that cannot save lack of story. I do agree with the one comment posted previously... \\it's like being in some other person's head... while they're on drugs,\\\" in other words nothing makes sense.\"\n",
      "* * * * * * * * * \n",
      "5631\n",
      "being a NI supporter, it's hard to objectively review a movie glorifying ulster nationalists. characters who are hard to root for, typical heavy-handed anti-violence messages, and a predictable 'poetic justice' ending makes this an awkward watch...\n",
      "* * * * * * * * * \n",
      "5755\n",
      "If Bob Ludlum was to see this mini series, he would have cried. This was complete waste of time and money. I have read the book and even though movies are not exactly what the book may be, CBS wasted time and money on this and it is embarrassing to claim that this was Ludlum's work.<br /><br />May be the creator should check out the Bourne Identity with Richard Chamberlain and see how good that TV series was.<br /><br />Poor Mira, Blair, Anjelica and Colm, why did they sign to stoop this low?<br /><br />Horrible!!\n",
      "* * * * * * * * * \n",
      "5781\n",
      "This may be one of the worst movies to ever make it to production, ever.<br /><br />1. The most exciting part is the beginning, where the guy is walking... and walking... and walking (spoiler). There is about 15 minutes of just walking. How? <br /><br />2. Not to mention there's a lot of issues with the lighting, and it's almost like they even shot the night scenes during the day. <br /><br />3. The acting was TERRIBLE. It looks like they found a community theater (in Mexico)... and then took the people who were turned away.<br /><br />Please, for the love of everything holy, don't rent this movie. If you know someone who owns it, apologize to them. The director should be subject to punishment through the war crimes tribunal for foisting this on the public.\n",
      "* * * * * * * * * \n",
      "5806\n",
      "I am not saying that Night of the Twisters was horrible, but it was far from great. Mediocre at absolute best. I seems though that every time one type of movie is released, a second must be around the same time. (Think about Armageddon and Deep Impact, Volcano and Dante's Peak) Night of the Twisters is really just Twister except worse and with mundane special effects.<br /><br />I have nothing against the actors who starred in it, even if they weren't great, it was the movie itself, the directing, the special effects, the whole storyline was just too strange to interpret. A series of tornadoes strike a town and basically the movie is about people trying to find family and friends and deal with the damage.<br /><br />I really don't know why it seems as though duplicates of disaster movies are released almost in sync with each other, but this one would have been better with Bill Paxton and Helen Hunt.\n",
      "* * * * * * * * * \n",
      "5937\n",
      "The \\math\\\" aspect to this is merely a gimmick to try to set this TV show apart from the millions of other cop shows. The only redeeming aspect to this show is Rob Morrow, although his career must have been (undeservedly) waning after Northern Exposure if he signed up for this schlock.<br /><br />The lame-ness of the \\\"math\\\" aspect to the show is encapsulated in one episode co-starring Lou Diamond Phillips (which just confirms that this show is the last refuge of the damned.) In order to catch a fugitive, the \\\"mathematician\\\" uses some theory about \\\"bubbles\\\". So, he gives this long explanation that, if we have seen the suspect in places A, B and C, then we can use \\\"bubble theory\\\" to calculate where he might be. He does this all on a chalkboard, or maybe with a stick in the dirt (I cant remember).<br /><br />Anyway, when you look at the finished product, he basically took three spots, and picked a point right in the middle and said \\\"Ok, mathematically, here's where we are most likely to find the fugitive.\\\" At which point, one other character points out \\\"Oh, that point also happens to be the cabin where the guy used to live.\\\" Is that math? Its not even connect-the-f**k**g-dots!!! This show reminds me of the math major I used to work with in banking who had a mathematical analysis he could do to \\\"support\\\" points that every one else had already agreed on through either less-complex analysis or basic common sense.<br /><br />It just goes to show -- When you're a hammer, everything looks like a nail. I can't wait til they stick the NUMB3RS team on OSAMA... They'll use calculus, call an airstrike in the middle of the mountains, and hit Osama and not even scratch the five children he uses as human shields... cuz hey... its all about the numbers.<br /><br />Totally ludicrous TV show.\"\n",
      "* * * * * * * * * \n",
      "6059\n",
      "Note to all mad scientists everywhere: if you're going to turn your son into a genetically mutated monster, you need to give him a scarier name than \\Paul.\\\" I don't care if he's a frightening hammerhead shark with a mouthful of dagger-sharp teeth and the ability to ambush people in the water as well as on dry land. Give the kid a more worthy name like, \\\"Thor,\\\" \\\"Rock,\\\" or \\\"Tiburon.\\\" Because even if he eats me up I will probably just sit there laughing, \\\"Ha! Get a load of this!!! Paul the Monster is ripping me to shreds!!!!!\\\" That's the worst part about this movie is, this shark-thing is referred to as \\\"Paul\\\" throughout the entire flick. It makes what could have been a decent, scary horror movie just seem silly. Not that there aren't other campy and contrived parts of \\\"Hammerhead: Shark Frenzy.\\\" The scientists spend the entire movie wandering along this island, and all of a sudden one of the girls starts itching madly from walking in the lush forest, and just HAS to pour water on her feet to relive the itching, which of course allows \\\"Paul\\\" to come out of the water and kill her. The one thing SciFI Channel did right in this movie was let the hottie live. But that's a small silver lining in an otherwise disappointing movie.\"\n",
      "* * * * * * * * * \n",
      "6060\n",
      "At the end of this episode Holmes asks Watson not to record the case for posterity.For a good reason! The super sleuth left his little grey cells(sorry Agatha)at home for this tale. There is no deductive reasoning,no acute analysis of signs at crime scenes. Holmes bumbles along fifty yards behind the plot. The dastardly CAM is finally dealt to by an old frail-in a manner that would have made Charles Bronson's heart swell with pride-six bullets in the breadbasket.In an ensuing chase a pursuer gets hold of one of Watson's shoes.Mercifully the writer didn't decide to tack on the story of Cinderella to lengthen the film.The murderess,Holmes and Watson,escape scot free. Oh well,it is a bit of a change of pace in late Victorian London.A bit of sixgun law:-)\n",
      "* * * * * * * * * \n",
      "6278\n",
      "I rented this on DVD yesterday and did not realize it was a \\character study\\\" type of movie, so I struggled to watch about an hour of it before hitting the Stop button.<br /><br />Even with a character study theme, I just could not get into this film at all. Perhaps it was my mood in wanting to watch something else, or maybe I had other expectations, but setting that aside, I tried my best to move on to finish watching, but gave up. The actors played their roles well, but the global combination did not come together to keep my interest. About the only interesting thing was the sergeant's gun being stolen and he hurried to buy another one, and spray painted it black to appear as police issue. I think this movie should have been entitled, \\\"Who Stole the Sergeant's Gun?\\\" Scenes were well done but putting them together I once again felt robbed for anything cohesive to keep me viewing.<br /><br />Since I didn't finish watching it I'd say there is some merit to renting this film ... maybe. To me, it was a waste of good viewing effort and time. I'll leave it up to you to try it, but it's not one I'd strongly recommend.\"\n",
      "* * * * * * * * * \n",
      "6287\n",
      "Over the past year, Uwe Boll has shown marginal improvement as a filmmaker, cranking out the competent \\In the Name of the King\\\" (a \\\"Lord of the Rings\\\" clone) and the proudly vulgar, post-9/11 satire \\\"Postal.\\\" But then came \\\"Seed,\\\" and the counter was reset to Zero, keeping his bid for legitimacy and respect that much further out of reach. And I'm a fan of the guyhis films exhibit a uniquely screwball vision, and are never dull.<br /><br />Spawned from his frustration over the savage notices his early films received, \\\"Seed\\\" is a colossally misguided attempt at social commentary, and an even worse jab at creating an iconic slasher mythology (Boll often seems to be taking a page from Rob Zombie's successful reboot of \\\"Halloween\\\"). The antagonist is Maxwell Seed (Will Sanderson), a mute, hulking brute who's slain 666 people and sits on death row, awaiting execution; after unsuccessfully frying the beast, he rises from the grave to seek revenge on those who put him there...and so begins a string of wholly gratuitous mayhem.<br /><br />Trying to create a new-millennium slasher in the vein of Michael Myers or Jason Voorhees, Max Seed is too nondescript and boring to leave an impression, ultimately resembling a washed-up pro wrestler doing \\\"The Toolbox Murders\\\" on a succession of equally boring victims. Furthermore, Seed's character and Boll's \\\"message\\\" run contrary to one another: the death penalty is wrong, sure, but are we really expected to sympathize with a soulless killer who's left a couple hundred corpses in his wake? I think not.<br /><br />Meanwhile, Michael Pare acts like a listless, long-lost brother to James Remar's character on \\\"Dexter\\\": a cop who sits at his desk a lot, thumbing through newspaper clippings, and watching pointless stop-motion scenes of decomposing animals and people trapped in Seed's lair. By the time he and a bunch of cardboard cops storm Seed's hideout, the sequence is so drawn-out, ill-conceived (the lighting is almost non-existent), and unexciting (despite a healthy dose of gore) that it almost put me to sleep.<br /><br />The shoddy film-making isn't limited to just that sequence: \\\"Seed\\\" appears to have been shot by a drunken cinematographer, since the camera bobs and weaves endlessly, a technique that's more stomach-turning than the gore itself; these protracted takes of very little happening only draw attention to the meandering, almost non-existent narrative. At 90 minutes, the film is distended enough to be considered a form of torture, which might have been Boll's intent all along.<br /><br />Pure genius...I guess the joke's on me.\"\n",
      "* * * * * * * * * \n",
      "6339\n",
      "Although this is generally a cheesy jungle-adventure movie, it does have some highlights - the settings are quite beautiful, and the pacing of the adventure is good. You won't be bored watching it.<br /><br />Keith is as breezy as possible playing the eponymous lead, an unabashedly drunk jungle guide shanghai'd into escorting rich boy Van Hoffman and his gorgeous wife Shower on a hunting expedition in cannibal country. He never takes things seriously . Shower is there as decoration and Keith makes extensive use of her - she doesn't really have to act much. She's not the only female to show off her body and the prurient aspects of the film make it about halfway to a T/A picture.<br /><br />There's nothing in this film that would draw specific attention to it, or away from it. Produced to be shlock, it succeeds without too much fuss. A good 2 AM cable programmer.\n",
      "* * * * * * * * * \n",
      "6410\n",
      "Exceedingly complicated and drab. I'm a bright guy, but this was just too much for a tired brain. It would really benefit from a few early clues as to who these people are and what they are doing. Probably better for the US market. GC himself hinted that this alone did not supply his Oscar and you can see why.<br /><br />Still the sand dunes are pretty. The nail pulling is nasty. The attorneys drunk dad is a mystery. The cricket is good to see.<br /><br />Very difficult to write the required ten lines on this, despite it being over 2 hours long. Thank heavens they shortened it. Admittedly we don't get to the pictures much, but the last film we saw, Walk the Line, was 10 times better and I don't really like Johnny Cash. My wife says George still looks good with the beard and a few extra pounds so there's that.....am I nearly there yet ?<br /><br />How about now\n",
      "* * * * * * * * * \n",
      "6423\n",
      "Quite possibly the worst movie that I have ever seen. When has Hollywood ever made a successful movie that attacked Republicans? Why don't they learn. The Dixie chicks haven't. These Lefties live in their own elite bubble interacting among themselves; oblivious to the fact that most of America is much further right than they are.<br /><br />The best Hollywood productions are not partisan and are rarely political at all.<br /><br />Dan Akroyd's imitation of Cheney was bad.<br /><br />I would have thought Cussack could have landed better movies.<br /><br />It wasn't funny.\n",
      "* * * * * * * * * \n",
      "6941\n",
      "\\John Hughes' son wrote a high school drama! Wow!\\\" I thought as I checked the flick's info here on IMDb, late on a Saturday night, having found myself watching the opening credits on BBC2.<br /><br />I've just finished watching it, and sadly it was downhill from there on. Arguably you can't spoil a film this poor, but I'll leave the spoilers out of this review... <br /><br />There's an awful lot of style over very little substance: unfortunately the style hasn't dated too well in the eight years since its release. As for the substance, the film tries to pose an interesting look at the nature of control in society through the microcosm of school-life; but beneath the shiny veneer, a remotely meaningful or relevant argument fails to materialise. Characters are painted in childishly broad strokes, falling into the kind of generic stereotypes the writer's father sought to question in Breakfast Club. <br /><br />Director Kyle Cooper does a decent job keeping the pace up (perhaps relying a little too much on montages of information, which soon becomes a tiresome device, but at least pushes the story along), but his efforts don't sufficiently detract from the poor script and bizarre casting (how anyone is supposed to side with 'Maddox', when Blake Shields gurns and glowers his way through the part, I just can't understand), not to mention the numerous gaping plot holes (I'm all for creative license, but when the \\\"bad guys\\\" know the identities of the \\\"good guys\\\" making their lives a misery, but fail to act in any way to stop them, you really have to wonder why this script didn't undergo another few re-drafts before production - did Daddy even read it?).<br /><br />I'm sure a younger audience might get some enjoyment from this film (and all power to them), but they're really better off sticking with Hughes Sr.'s high school output, and if the idea of school-time rebellion is what really appeals, the 1968 classic \\\"If...\\\" is a much more satisfying examination of the subject.\"\n",
      "* * * * * * * * * \n",
      "6951\n",
      "For getting so many positive reviews, this movie really disappointed me! It is slow moving and long. At times the story is not clear, particularly in the evolving relationships among characters. My advice? Read the book, it's a fabulous story which loses it's impact on screen.\n",
      "* * * * * * * * * \n",
      "7151\n",
      "\\ASTONISHING\\\" Screams the LA Times from the front of the DVD box. They must have been referring to the fact that such a sorry piece of crap was ever released. The film revolves around a bunch of girls who have a disease which forces them to become cannibals, and murder innocent people just to stay alive. Their skin peels off throughout the film, we also see severed legs, heads etc that are about as convincing as a Halloween Fuzzy Felt set. There is an awful lot of talking b*ll**ks, a bit of human cuisine and some weird zombie hunter chap who imprisons the sufferers of said skin illness in his closet strapped to a chair, before stabbing them in the head, chopping them into bits...<br /><br />You get the picture. Considering there is no acting talent on display at all, and the gore is laughably unrealistic, what is the point of this whole farrago? Again looking at the video box, the guy responsible for it is an \\\"underground cult director\\\". Would that be like those weird religious cults where they brainwash you into thinking one way when clearly the opposite is true? Because that's the only possible reason I can think of for anyone to derive pleasure by watching this tax write-off. Then, on the same paragraph he compares himself to Mike Leigh, Ken Loach and George Romero. HAHAHAHAHA oh stop it. Now you're just being silly.<br /><br />Do you enjoy this film? Are you offended by the above opinion? If so, you must be a member of said cult. Do they pocket your wages? Do they let you see other family members? Do they force you to watch Andrew Parkinson films till you think he's the best director since A.Hitchcock? Do tell... this sounds like a Panorama special brewing to me. And say hello to the critic of the LA times when you return to your colony, will you? 0/10\"\n",
      "* * * * * * * * * \n",
      "7271\n",
      "This movie had potential, but what makes it really bad is Lindsay Crouse's acting. I've never seen her before in anything else and maybe there are some Crouse fans out there that like her in something else, but her performance in this movie is bad.<br /><br />Her delivery is robotic. When she delivered her lines it appeared that she was trying to make sure she had the lines right and was simply reading off the list in her head. So, her voice has very little inflection. I can't believe someone that bad at acting was given a lead role in a movie. She has to know somebody in the biz.<br /><br />Now I hate to be this mean about her, but the comment has to be \\this\\\" long and her performance is what sticks out more than anything else.<br /><br />However, I liked where the story was going so I continued to watch it. The first part of the script has the makings of a good movie. But the end was disappointing as well. Maybe if her acting had been better, I would have liked it.\"\n",
      "* * * * * * * * * \n",
      "7355\n",
      "Have previously enjoyed Wesley Snipes in several action flicks and I had expected a lot more, even from a score of 5.8 IMDb, the movie fails to entertain and even though the story is thin and unoriginal, the acting is most unfortunately thinner and goes to mimic a \\worst case scenario\\\" of playing \\\"strong\\\" feelings accompanied by some bad acting... Don't waist your time this movie ísnt entertaining, if you wanna cry it might suffice though, even though your tears will be wept due to seeing Wesley Snipes in the tragic action film wannabe comedy...<br /><br />I give this 2/10 it really was awful, if you wanna see a decent movie go see shooter or rent it, its all the good things this movie isn't.\"\n",
      "* * * * * * * * * \n",
      "7395\n",
      "Student Seduction finds Saved By The Bell Alumni Elizabeth Berkley on the other side of the desk and attracting the attention of young and hunky Corey Sevier. Speaking for myself I can truthfully say that no teachers save one ever did anything for me hormonally back when I was a student. That was a Ms. Diaz who was a music teacher in Junior High School. Even as a young gay kid, I could see what she was doing to the rest of the class. She was the only teacher I had who in any way could have been played by Elizabeth Berkley.<br /><br />Corey being the hotty he is, is also used to having his own way with women whether they agree or not. The fact that he comes from rich parents reinforces that belief. He's flunking chemistry which is what Berkley teaches and to keep his GPA up she agrees to tutor, but believe no more. <br /><br />So when he attempts a rape and gets no for an answer it's damaging to his ego. When Berkley goes out of channels and reports the crime to the police, the cops who are keeping in mind the cases of Pamela Smart and Mary Kay LeTourneau just don't believe here. Sevier's parents have the wherewithal to get a good publicity spin on this for their boy.<br /><br />Student Seduction which is a misnomer of a title if there ever was one is trash all the way. After the beating that Berkley took for Showgirls this TV film was not an upward career move.\n",
      "* * * * * * * * * \n",
      "7479\n",
      "boring stuff we got here. His 5 minute shorts are better than this. know why? because there only 5 minutes and not 91 minutes or how ever long this is. <br /><br />The plot is kinda... eh.. the last half hour is alright the rest is boring and not funny =( I had my hopes up, the trailer made it look funny but the pace of this movie is pretty slow and sadly not funny. Just plain boring klaymen running into each other and trying to make us laugh.. not working.<br /><br />Maybe next time knox.<br /><br />Maybe re-cutting this movie and adding better scenes would do a lot of healing but for now its just not good.\n",
      "* * * * * * * * * \n",
      "7512\n",
      "God, I was bored out of my head as I watched this pilot. I had been expecting a lot from it, as I'm a huge fan of James Cameron (and not just since \\Titanic\\\", I might add), and his name in the credits I thought would be a guarantee of quality (Then again, he also wrote the leaden Strange Days..). But the thing failed miserably at grabbing my attention at any point of its almost two hours of duration. In all that time, it barely went beyond its two line synopsis, and I would be very hard pressed to try to figure out any kind of coherent plot out of all the mess of strands that went nowhere. On top of that, I don't think the acrobatics outdid even those of any regular \\\"A-Team\\\" episode. As for Alba, yes, she is gorgeous, of course, but the fact that she only displays one single facial expression the entire movie (pouty and surly), makes me also get bored of her \\\"gal wit an attitude\\\" schtick pretty soon. You can count me out of this one, Mr. Cameron!\"\n",
      "* * * * * * * * * \n",
      "7614\n",
      "\\Sleeping With the Enemy\\\" is a predictable, 'been there before' thriller that never seems to find any inspiration no matter how desperately cast and crew try. I can't believe a bunch of my friends talked me into seeing this at the movies some sixteen years ago.<br /><br />The complete lack of originality from the Ronald Bass screenplay (based upon the Nancy Price novel) does not help, nor does the stale direction of Joseph Ruben or the very average performance from Julia Roberts. The supporting cast including Patrick Bergin and Kevin Anderson do little to help.<br /><br />There really isn't a lot to say. Just give it a miss.<br /><br />Sunday, April 14, 1991 - Hoyts Cinema Centre Melbourne\"\n",
      "* * * * * * * * * \n",
      "7646\n",
      "An MTV-style film crew consisting of American T.V. programme producer Zack Zardine (Matt Borlenghi) his camerawoman, the Australian Cecily (Kate Fisher) and two surfer 'dudes' named Bog Hall (Dax Miller) and Jeremy (Joel West) arrive on some nice looking island somewhere, it's not actually revealed where. The crew plan to shoot an expose on 'bloodsurfing' which is apparently the latest craze in extreme sports. Surfers throw bait into the sea and cut themselves to attract sharks, just to see if they can out-surf them without being eaten. Once there they are greeted by Sonny Lofranco (Cris Vertido) and his wife Melba (Susan Africa). Their search for the perfect location leads them to the shark infested waters of Lilo-Cay. Sonny, Melba and their daughter Lemmya (Maureen Larrazabal) take them in their boat. Soon after arriving and having already shot some 'bloodsurfing' footage Sonny, Melba and Lemmya are all killed by a 30 foot saltwater crocodile that some say 'owns' the island. The boat is sunk. Zack, Cecily, Bog and Jeremy appear stuck on the island until such time a rescue party arrives. However, after a run in with some, erm well I don't really know what they are. Pirates? Drug smugglers? Revolutionairies? Fat ugly people who just don't like being with other people? Who knows? And more importantly who cares? Not me that's for sure. Anyway, after escaping from these guys who look like pirates, they are picked up just off the coast of the island by Captain John Dirks (Duncan Regehr) and his girl Arty (Taryn Reif as Tara Reif). The film crew believe they have been saved. Little do they know that the crocodile and Captain Dirks go way back and he has a score to settle and four members of a film crew aren't going to stop him. Captain Dirks heads back to Lilo-Cay for a final showdown with the giant man-eating crocodile.<br /><br />Directed by James D.R. Hickox this is one awful film, but it's still not as bad as Tobe Hoopers Crocodile (2000). Everything about this film sucks. The script by Sam Bernard and Robert L.Levy is terrible, extremely slow as the crocodile isn't even seen or mentioned before the 30 minute mark and by that time I was seriously bored and annoyed with the hideously unlikeable characters thought up by Bernard and Levy. The whole film is also frustratingly predictable as well, within the first 10 minutes anyone familiar with horror film stereotypes and stock characters will be able to guess who dies and who will survive. The crocodile effects are awful and seem to be repeated over and over, there is a small puppet head that obviously has someones arm stuck inside it controlling it's movements as the water splashes become huge! The CGI shots of the crocodile are just plain embarrassing to watch. There is no gore apart from when a character is bitten in half which is achieved using CGI to digitally remove the actors legs, again it looks terrible. There is also a brief scene when someone is impaled on wooden spikes when they set a trap off. There is a reasonable amount of nudity and sex, plus the female actresses are nice and easy on the eye. There are basic continuity and logical errors in the film too, in one sequence Cecily is filming Bog and Jeremy 'bloodsurfing' but from the angle and distance she is at it would be physically impossible to obtain footage of both the sharks and surfers at the same time, and surely that is the whole point of her shot? When Dirks manages to harpoon the crocodile the angle of the wire changes dramatically between shots, in one shot the angle of the line looks like it's coming from the sky, in the shot straight after the angle is completely different and it seems as if the line is coming from below the surface of the water when in actual fact the harpoon is attached to the back of the boat and the line should be almost level with the surface. I could carry on, like why does the crocodile jump off the edge of a cliff if it's so smart as this film tries to make out? But I would probably exceed the 1000 word limit if I listed everything that was wrong with this film, so I won't. I hated this film, but rather scarily it's still not as bad as Tobe Hoopers effort at a giant crocodile film. Definitely one to avoid.\n",
      "* * * * * * * * * \n",
      "7662\n",
      "oh my god, i give this film three stars out of ten for the following reasons. the final sequence is once again quite effectively handled and it was absolutely hilarious. that is what it gets those three points for. other than that, it was atrocious. it wasnt meant to be this funny, that much is obvious, but the dubbing, the acting of the dubbed voices, the dialogue they said, where often hilarious. the actions performed, and/or not performed also lead to much hilarity and/or throwing things at the screen. such as when the whole town is being slaughtered and one small group of people stand on a balcony looking on as if they were watching a cooking glass, or the \\attempted\\\" escapes from the church in which they hole up.<br /><br />evil mayor: i think something is going on outside so you should go upstairs and look out the window.<br /><br />hero: ok.<br /><br />evil mayor: now is my chance to make some idiot go outside and flail around with fire being totally ineffective and getting hacked up.<br /><br />insert sequence in which this occurs.<br /><br />evil mayor: damn, wait, i will get this small child and she will walk outside and cry pappa seemingly obvlious to the fact that those rotten corpses are not just spooky strangers but are actually zombies with no flesh or skin or anything and she will lead them away and i will flee! insert sequence in which this occurs.<br /><br />hero (upstairs): he is trying to escape again, fool, and he has left the door open, he is silly, this is a nice view.<br /><br />woman: where is my daughter?<br /><br />hero (downstairs now): i dont know, i cannot see her anyway and she was not outside because i could not see her despite her being out there and me having a view of the entire neighbourhood and she is standing right outside, where on earth could she be?<br /><br />needless to say, anybody would be throwing things at the screen after 10 minutes of this. so, watch the first film with a couple of friends, having a few drinks, and make sure by the time you get to watching this one, you are absolutely blindly drunk and can just giggle at the stupidity of it all. and there wasnt even any decent gore, such a shame.\"\n",
      "* * * * * * * * * \n",
      "7771\n",
      "After stopping by the movie store to find something to watch, we stumbled on this. It looked appealing from the summary, at least, so we gave it a try. And here's the kicker: the first 20 minutes are interesting! It's actually enjoyable! Oh, wait, spoke too soon.<br /><br />Somewhere in there, the movie took a disgusting turn into fundamental, right-wing Christian brain-washing. Not entirely sure what happens, but I think the screenplay writer found God somewhere in there, finished writing this script, and had no time to edit it because he had a KKK meeting to get to with his friends from the Westboro Church and his hood wasn't clean.<br /><br />Can they put warnings on this? I refuse to support this religious idiocy. Much like video games have rating systems, movies need some sort of symbol: maybe a small cross in the bottom corner to show us that a movie is going to take a turn for the worse.<br /><br />Unless you share sentiments with whatever moron came up with this story, and will have your Bible open in your lap while you watch this and plan on how you'll convert your neighbors, don't waste your time. It's some of the worst junk that's come out in a very long time, and the radical religious nuts don't need anymore funding.\n",
      "* * * * * * * * * \n",
      "7803\n",
      "A group of extremely unlikable A-holes are tormented by lame puppets that some elderly douche bag night-watchman has kept locked away in a film vault for twenty years for no reason whatsoever.<br /><br />Many people know this film merely from MST3K's spot-on ribbing of the flick. But I've seen the actual movie and can safely say that yes it's bad, really, REALLY bad. From the one of the most awful 'fight' scenes I've ever witnessed to the stuffed toy 'aliens' that suffer from a lack of motion (I had a My Pet Monster that was scarier) right up to the atrocious acting (I had a My Pet Monster that was more charismatic) However, that being said Rick Sloan's \\Vice Academy\\\" films are somehow, and trust me I have no earthly idea how, much worse. That's not to suggest that this film is anything but crap, because it isn't. Just throwing it out there.<br /><br />Eye Candy: no nudity in the movie proper, but there's 2 pairs of tits in the DVD Introduction to the film <br /><br />My Grade: D- <br /><br />Retromedia DVD Extras: Introduction by Jim Wynorski; Stills gallery; and Trailer for this film\"\n",
      "* * * * * * * * * \n",
      "7968\n",
      "Unfortunately, the realism is boring. This movie, I thought it would never end, would have been better if all the characters would have been nuked in the first five minutes. Where's Blade when you need him? While as dismal as COMBAT SHOCK, REQUIEM FOR A DREAM and as nightmarish as BOISE MOI, DEAD CREATURES isn't nearly as entertaining as any of the aforementioned bleak movies. While the gratuitous cannibalism might make the wannabe Jeffery Dalmers hearts race a little faster, it wasn't nearly as interesting as RAVENOUS. Really, I found it about as interesting as late-night infomercials, and as exciting as a trip to the dentist. If you have strong masochistic qualities, you might be able to endure this, otherwise, for no one. I was really surprised that this one wasn't made by the people at Brain Damage as that was the quality of Dead Creatures.\n",
      "* * * * * * * * * \n",
      "8058\n",
      "This film ends with a speech in which the narrator tells us the fates of two of the lead characters and that the names of people and places have been changed...before telling us that relation to actual people and events are purely coincidental. This ending line actually sums up everything that has gone before it; as Rino Di Silvestro's messy film completely lacks vision, and if there is any point to the plot; it wasn't put there on purpose. Werewolf Woman is often seen as a guilty pleasure or a 'so bad it's good' film, but I completely disagree. Normally, I enjoy films like this; but Werewolf Woman is indeed a bad film, and despite all the sex and savagery on display; it doesn't even make for a fun watch, and that really is unforgivable. The film really doesn't have much plot, but the thin sliver we are given involves a young woman, who also happens to dream that she is a werewolf. She dreams of going out and finding men, having sex with them and eventually killing them. Back in the real world, she falls in love, but her lover is killed and she goes out for revenge...<br /><br />The film is made up of scenes of sex and gore, which are padded out with extremely dull talking sequences in which various characters mull over the recent events. These scenes are probably there to forward the plot and build characters; but they really don't do that, and succeed only in turning what could have been a passable exploitation romp into an extremely underwhelming film. It would seem that the director was more interested in style and atmosphere than the plot, and this is shown by the fact that the film looks and sounds nice. The sex scenes are often overlong and not very erotic, but the gore works well. The premise is ripe for giving way to a very sexy slice of exploitation, as there's plenty of naked women, and the fact that the central character has a werewolf origin means that there could be plenty of erotica; but this isn't capitalised on, and while I can stomach huge doses of bad acting and poorly done plot lines, I really can't stand watching films and being bored. Overall, I wouldn't even recommend this film to big exploitation fans. There's plenty of better stuff than this out there, and while the title may sound intriguing - the film isn't.\n",
      "* * * * * * * * * \n",
      "8125\n",
      "I'm still trying to decide if this is indeed, the worst film I have ever seen - A very disturbing problem with this film is that real scientists are interviewed, but their footage is edited to make it look as though they support the ideas of the many BSers who populate this film. The BS to signal ratio of the interviews is about ten thousand to one - at the end, the interviewees seem to be saying, \\We want you to _think_ !!\\\", but they themselves are too lazy to do simple research about things they assert as fact.<br /><br />If you feel that you are open-minded, and wish to expand your consciousness, please be open-minded enough to read some actual books about quantum theory: \\\"Einstein's Universe\\\", Nigel Calder (a slim volume, not a challenge), \\\"The Cosmic Code\\\", by Heinz Pagels. If you can't bring yourself to read a book, please don't complain to reviewers about being \\\"open-minded\\\".<br /><br />To recap, this film is just unbelievably bad.<br /><br />You know what's a really good film which questions the nature of reality? \\\"Thirteenth Floor\\\", directed by Roland Emmerich, with Craig Bierko, Gretchen Mol, Vincent D'onofrio. Smart, sexy, thought-provoking.\"\n",
      "* * * * * * * * * \n",
      "8139\n",
      "Very outdated film with awful, cliché-ridden and mawkish dialog and a very poor construction. In addition, Cassavetes and Falk overact constantly. A pseudo \\good movie\\\". It takes no time to discover how catastrophic this intellectual turkey is. The first scene is a total bore, filled with histrionics and hysteric exchanges. The sound is horrible. Camera movements are without imagination as is the building of characters. No poetry, no subtle psychology, no interesting shots. The actors smoke constantly and we see ads for beer beverages. Very cheap, indeed. (one exception : Ned Beattie\\\"s nice and simple way of playing the hit man).\"\n",
      "* * * * * * * * * \n",
      "8166\n",
      "As a former submariner, this was one of the worst submarine movies I have ever seen. First of all, a mutiny aboard any US Naval vessel, particularly a Nuclear Powered Trident submarine in unthinkable. These men are the best of the best and are dedicated to their mission. The responsibility they carry is awesome and they take it very seriously all the way from the Captain to the most junior crew member. I could never see a crew of any ship split their alliance between the Captain and the Executive Officer. An Executive Officer who acted as the Character played by Denzel Washington did would be relieved of his duties and Court Martialed, then drummed from the Navy. It is no surprise the Navy refused to send a technical adviser to help in making this film. Lastly, if any member of a submarine crew made the amount of noise made underway on this vessel they would be severely reprimanded. Submariners learn early in their career to be as quiet as possible to avoid detection. They don't slam doors and even speak quietly and wear soft soled shoes when underway. I was amazed at how loud they portrayed the crew while underway. Loud music would never be tolerated. I know portraying submarine life in reality would not sell movie tickets, but this is over the top to the point of being ridiculous. I would not recommend this movie to anyone.\n",
      "* * * * * * * * * \n",
      "8236\n",
      "You, know, I can take the blood and the sex, but that thong bikini shot pretty much did me in. Someone get that girl some pasta before it's too late!<br /><br />And you know, it's just not a good idea for a schlock movie to start off by mentioning the much better movie it's ripping off.<br /><br />I gave this one a 2, just because it's marginally better than Tobe Hooper's CROCODILE.\n",
      "* * * * * * * * * \n",
      "8276\n",
      "In Cold Blood was one of several 60s films that created a new vision of violence in the Hollywood film industry. Capote coined the phrase \\nonfiction novel\\\" to describe the book on which this film is based, and the spirit of that form was carried over into the film script, which he co-wrote. Despite the fact that we were well into the era of color film, Richard Brooks elected to present this film in black and white to underscore both the starkness of the landscape and the bleakness of the story. This is the first problem with the TV remake --color changes the tone of the story. In addition, the confinement of shooting a film for TV makes reduces the options of how the shots are framed and focused. As a result, we lose the dramatic clash which makes the second part of the original film (police interviews, trial, imprisonment, and execution) so claustrophobic. On the small screen, it's just another version of Law and Order spin-offs. <br /><br />Hollywood's search for scripts continuously takes it back to movies that were successful in another age. Usually, that's a mistake, and this is no exception.<br /><br />All of the actors are competent. The script is OK. The directing doesn't get in the way. It's just that the movie doesn't work as well as the original precision instrument. It doesn't hook the viewer into the ambivalence toward Smith and Hickock that the original film provokes. At the end of the TV version, we are left with the feeling: \\\"Ho hum, who cares?\\\"<br /><br />See the original first, on as large a screen as you can, then watch the TV version simply to understand why the first one was such an important film in 1967.<br /><br />Wouldn't hurt to also go on line and read a bit about Capote and the original book. It will help you to understand the extraordinary effort he put into the material, and also some of the controversy surrounding both the book and the movie.<br /><br />I actually only gave this a 4 because I save the bottom 3 rankings for true bombs--the kind that enrage you about having been sucked into spending an\"\n",
      "* * * * * * * * * \n",
      "8419\n",
      "This film concerns the story of Eddy as mentioned in the title and his homecoming to old friends in a seaside community. The plot involves the group of friends as it comes to light that Eddy left as a means to deal with death of a friend in which he feels in some way responsible. But this is inconsequential, as the choices made in the production are extremely poor and not fully realized. Screenplays not always need be 'chatty', but they should at least assist the development of the story. Here one line attempts such as \\he just took off\\\" or \\\"I know you don't have love in heart\\\" just do fully evoke something worth the audience's time. Also whenever the writer feels at a loss to where to go to next he cuts to a music montage of the protagonist walking through fields to some indie mood music. Talk about trying to hard. If you are interested in a good film, the type that gives quality and substance over just style then this is not the film for you.\"\n",
      "* * * * * * * * * \n",
      "8438\n",
      "I'm 47 years old and I've spent as much of my life as I can remember, a fan of horror and sci-fi films. Be they silent, black and white, no budget or big budget, there are very few of them that I can't find something to like about. That said, I'll give this movie credit for good gore and creature effects but that's all. This is a case of effects over story. Truth is we live in a time where there is very little left that hasn't been seen in a horror film. Therefor for a film of any kind to really entertain it must have a good, original story. A good story can overcome poor effects and bad acting but a bad story with good acting and good effects is still a bad movie. This movie doesn't even have good acting, only good effects. So unless you can only about the gore, pass this one up.\n",
      "* * * * * * * * * \n",
      "8571\n",
      "I didn't know this was a silent movie with narration. I don't care for silent movies - the corny humor, flickering lighting and film, etc. I'm sure that attributes to the low score I assigned it. It was about chapter 8 before I found any interest in this story and had I had popcorn I may have thrown it at the screen. Maybe this appeals to the sci-fi crowd? The only thing missing was a zombie scene and a brain transplant. I went with two other people on a Friday night and there were a total of 6 people in the entire theater. Isabella Rosselinni narrated this movie - the one enjoyable aspect of the movie. No one left commenting how much they enjoyed this nor appreciated the unusual approach to telling this story. I cannot recommend this movie.\n",
      "* * * * * * * * * \n",
      "8620\n",
      "To be honest i had heard this was pretty bad before i decided to watch it, but i'm never one to let others influence my viewings, in fact i'm more likely to watch something out of defiance!. Bullwhip had one thing going for me before the viewing anyway, the fact that Rhonda Fleming and those gorgeous eyes was in it had me interested right away. The picture isn't very good, and is in fact very morally dubious, all the characters are corrupt and shifty in one way shape or form, all motivated by greed or egocentric victories, this is all well and good if the surrounding film can do justice to a bunch of despicable people and create a taut climax shuddering picture. Sadly it doesn't, and as the finale fills your eyes with sugar you can't help shouting out that you have been cheated into watching a pretty bad film, nobody in the cast come out with any credit, with lead man Guy Madison painfully wooden in the extreme.<br /><br />Not even the lovely Rhonda can make me recommend this to anyone, 3/10\n",
      "* * * * * * * * * \n",
      "8731\n",
      "I am SURE there is some sort of IMDB cult that likes movies that MST3K made fun of. After seeing both this and \\Werewolf\\\" and reading dozens of comments about how underated they are, I became convinced that there is some conpiricy going on here. Alot of people are saying that people who hate it \\\"are only scared by gore\\\", \\\"Don't know good horror\\\" or stuff like that. Well, I don't really care for gore, but I do want SOMETHING to happen in a movie! Most of it is just the wife sitting and looking around! Or walking around the house/garden! A movie requires something to give it atmosphoere, you don't get it by just have pointless scenes were someone walks around and stares. Oh, and \\\"Makes you think\\\"? Yeah, I was thinking \\\"MOVE! YOU @#$0&%!!\\\" One of the worst horror movie I have ever scene! <br /><br />P.s. For the record, I am a big fan of the old style of horror, Dracula, Frankenstein, That kind of stuff.\"\n",
      "* * * * * * * * * \n",
      "8957\n",
      "Yay!... I think. It's hard to say. It's hard to have an emotion about a movie that has no emotion. This movie is as sterile as a surgeon's scalpel. For a setting, it has a few stone pillars, some stone seats, a couple stone crosses and some stone actors. They have no emotion! The only thing that saves this movie is the fact that it is Hamlet, and Hamlet is a terrificly written piece of literature. The dubbing really wasn't all that bad though. The voices stuck true to the dull, gloomy, dreary, life-sucking atmosphere the movie gave forth. I have seen this version of Hamlet on the fabulous Mystery Science Theater 3000 three times, and each of the three times, I was on the brink of turning off the TV, despite it being MST 3K.<br /><br />Not an uplifting production of a drama that deserves so much better.\n",
      "* * * * * * * * * \n",
      "9075\n",
      "I think this is almost all I need to say. I feel obliged to explain my actions though. I've basically never seen such an armateur production, and I mean that in all senses of the word. Although the physical camera work, boom MIC operation and other technical aspects of this film are laughable, unfortunately its not the only areas.<br /><br />Unlike some classic independent films that have been saved by their scripts great characterization and plot, this unfortunately has an awful script, awful acting and worst of all, awful annoying characters.<br /><br />It's a crime that for the every independent film that gets, distribution like Haiku Tunnel, there's a 101 other indie films that died silent deaths. I don't know who the Kornbluth brothers know at Sony, but that can be my only explanation as to how this amateur family production ever got distribution. I'm quite bemused as to why they picked this up.<br /><br />The ONLY part of this film that holds out any intrigue is its title. However, the reason for that is even a let down. I hope this review will save a few people that may be intrigued by this films title from going to watch it. I've seen a lot of films in my time, and I'm very forgiving when in the cinema, but this was too much. I'll never forget 'tunnel', for marking an important point in my life experience of cinema. Shame it's such a low point.<br /><br />\n",
      "* * * * * * * * * \n",
      "9078\n",
      "so... it's really sexist, and classist, and i thought that it might not be in the beginning stages of the movie, like when stella tells steven that she would really like to change herself and begin speaking in the right way and he tells her not to change. well, he certainly changed his tune, and it seems that the other reviewers followed suit. what at the beginning appears to be a love story is really about social placement and women as sacrificial mothers. the end of the movie does not make her a hero, it makes the whole thing sad. and its sad that people think it makes her a hero. perhaps that is the comment of the movie that people should take away. positive reception reflects continual patriarchal currents in the social conscience. yuck.\n",
      "* * * * * * * * * \n",
      "9183\n",
      "Although Bette Davis did a WONDERFUL job as Mildred, I felt that the film wasn't the best I had seen. At the end of the movie I was left feeling like there was something missing in it.<br /><br />Bette Davis did a perfect job, though, and she made me hate her and pity her all the while. Leslie Howard did very good as the lovelorn Philip Carey, and I so pitied him throughout the movie for being in love with such a horrible dame. It's such a sad thing when one finds him/herself in love with a bad seed. And especially if it's someone like Philp Carey, who is a sensitive person, though pathetic.<br /><br />In the end, the acting was what came through and not the plot. The ending scene was particularly good, but I am not one to give it away. Although others may find this movie good, I was one who found it so-so. I should recommend this movie to those who like a bad seed so they can see what may happen to them if they find themselves in love with that horrible person.\n",
      "* * * * * * * * * \n",
      "9304\n",
      "AKA: Mondays In The Sun<br /><br />I have no idea what I just watched. Three men wander aimlessly and drink, grousing about everything and at everyone in their path. This is supposed to be a drama, but what it is, is a total waste of film, without a single redeeming quality.<br /><br />I have read reviews touting the performances herein as \\wonderful,\\\" \\\"beautiful,\\\" and \\\"heroic.\\\" I'm afraid I cannot agree, unless these men were supposed to come off as the dumbest most ignorant proto-humans who ever walked.<br /><br />All in all? This was not a movie. It wanders throughout and loses everyone but the audience. I've watched this three times, and cannot for the life of me see what anyone sees in this garbage. There is nothing profound here, whatsoever. It's crap.<br /><br />It rates a ZERO/10 from...<br /><br />the Fiend :.\"\n",
      "* * * * * * * * * \n",
      "9307\n",
      "It has a great name, but thats it and you wont get more than that for your money, in fact the first 30-40mins of the movie you might find it some kind of funny but after that the story goes from one side to another with no particular reason and you just cant understand whats happening until the action its gone.<br /><br />And yet the producers (Roberto Angel Salcedo) calls him an actor, but i don't think the way he does could be called nothing but overacting!!....period. The little kid who plays as his son has totally no sense of acting and i believe it was just a favor he did or something because he had no clue of what he was doing.<br /><br />For some reason while doing the casting they thought that by casting comedians they could made it, but they didn't!! and sometimes the tasteless cheap humor its so bad, i don't buy it.<br /><br />But hopefully this is as bad as it gets. To make people accept those DVD's to the good taste public they will have to offer some food with it, that might work out.<br /><br />Maka\n",
      "* * * * * * * * * \n",
      "9365\n",
      "If this documentary had not been made by the famous French director, Louis Malle, I probably would have turned it off after the first 15 minutes, as it was an incredibly dull look at a very ordinary Midwestern American town in 1979. This is not exactly my idea of a fun topic and the film footage closely resembled a collection of home movies. Considering I didn't know any of these people, it was even less interesting.<br /><br />Because it was a rather dull slice of life style documentary, I wondered while watching what was the message they were trying to convey? Perhaps it was that values aren't as conservative as you might think--this was an underlying message through many of the vignettes (such as the Republicans whose son was a draft resister as well as the man and lady who thought sex outside of marriage was just fine). Or, perhaps the meaning was that there was a lot of bigotry underlying the nice home town--as several ugly ideas such as blaming Jews for financial conspiracies, anti-Black bigotry and homophobia all were briefly explored.<br /><br />The small town of 1979 was explored in great depth and an idyllic sort of world was portrayed, but when the film makers returned six years later, the mood was depressed thanks to President Reagan. This seemed very disingenuous for several reasons. First, the 1979 portion was almost 90% of the film and the final 10% only consisted of a few interviews of people that blamed the president for just about everything but acne. What about the rest of the folks of this town? Did they all see Reagan as evil or that their lives had become more negative? With only a few updates, it seemed suspicious. Second, while it is true that the national debt doubled in the intervening years, so did the gross national product. And, while Malle shows 1979 as a very optimistic period, it was far from that, as the period from 1974-1980 featured many shortages (gas, sugar, etc.), strikes, high inflation and general malaise. While I am not a huge fan of Reagan because government growth did NOT slow during his administration, the country, in general, was far more optimistic than it had been in the Ford and Carter years. While many in the media demonized Reagan (a popular sport in the 80s), the economy improved significantly and the documentary seems very one-sided and agenda driven. Had the documentary given a more thorough coverage of 1985 and hadn't seemed too negative to be believed (after all, everyone didn't have their lives get worse--this defies common sense), then I might have thought otherwise.<br /><br />Overall, not the wonderful documentary some have proclaimed it to be--ranging from a dull film in 1979 to an extremely slanted look at 1985.<br /><br />By the way, is it just me, or does the film DROP DEAD GORGEOUS seem to have been inspired, at least in part, by this film? Both are set in similar communities, but the latter film was a hilarious mockumentary without all the serious undertones.\n",
      "* * * * * * * * * \n",
      "9516\n",
      "I was aware of Rohmer's admiration for the late works of the ones he considered like great cineasts, and that normal spectators generally considered as artistic failures (as Renoir's or Chaplin's very last movies ; yes, the \\politique des auteurs\\\" also has its dark side). But with \\\"Les amours d'Astrée et de Céladon\\\", it's as if Rohmer himself wanted, for what may be his last movie, to perpetuate this tradition of great directors, who made a last senile movie, by adapting Urfé's \\\"L'astrée\\\", with ridiculous aesthetic codes, witch just look like a parody of Rosselini's last movies (the ones he made for TV from Descartes or Marx's lives).<br /><br />In his version of \\\"Perceval\\\", Rohmer refused to film real landscapes in order to give a re-transcription of what may have been a middle age classical representation of things. The director apparently changed his mind when the XVII century is involved, and films actors, dressed like 1600's peasants reciting their antic text surrounded by contemporary trees and landscapes. But the all thing looks even more ridiculous than Luchini and its fake trees. It's not that the story itself is stupid, but the way Rohmer mixes naturalism with artifices seems so childish and amateurism that it rapidly becomes involuntarily funny (and I'm not even talking about the irritating pronunciation of the actors, the annoying and sad humorist tries by Rodolphe Pauly, the ridiculous soft-erotic tone, the poor musical tentatives, or the strange fascination for trasvestisment!).<br /><br />The radical aesthetic of the film ultimately makes it looks like a joke, which mixes a soft-erotic movie made for TV with theological scholastic discussions (sic !). At the beginning of the movie, Rohmer teaches us that the original french region of the story is now disfigured by modernity, and that's why he had to film \\\"L'Astrée\\\" in other parts of the country. However, I'm sure the movie would have look more modern and interesting, if Rohmer would have actually still filmed the same story in a modern area with same narrative codes and artistically decisions. This film may interest a few historians, but most of the cinephiles may laugh at this last and sad Rohmer's movie.\"\n",
      "* * * * * * * * * \n",
      "9531\n",
      "Horror movies can be a lot of fun with low budgets, bad acting, and a bit of panache. I think the film is just missing panache, because, one thuddingly dull scene after another, people make laughably harmless claw-handed grabs at the air. If it weren't so boring, it might be funny.<br /><br />A horror film can go a long way with a tired concept like \\college kids in a haunted house,\\\" in much the same way the Evil Dead movies had a lot of fun with a similar standard plotline. Hallow's End, unfortunately, doesn't go a long way. Actually, it doesn't go anywhere. It spends the better part of an hour setting up faceless and anonymous characters with what seem like endless interpersonal drama. I have nothing against character development, not even in a horror movie, but these are strictly one-dimensional characters (the alpha-male, the milquetoast, the... um... throwaway characters that exist mostly for sex scenes.) Spending forty-plus bloodless, droning minutes with them was more horrific than when the bloodshed started.<br /><br />Well, implied bloodshed anyway. When the college kids turn into whatever they dressed as for their haunted house (one's a vampire, one's wearing O.R. scrubs and some white pancake) they look pretty much the way they did in their amateur haunted house costumes; The Dead Hate The Living, using a similar theme, is a masterwork in comparison. There isn't really any gore to speak of, nor are there any real scares.<br /><br />I've thought about this one from almost every approach. If it was supposed to be a tight, suspenseful horror movie (which would explain why things moved so slowly), the pathetic sex scenes and cheap monsters would invalidate it. If it was supposed to be a genuine blood & guts horror movie (which would explain the schlock)... where's the blood and guts? And the anticlimax is one of the unexciting endings to a movie I've ever seen. It's the kind of movie that, though it doesn't have a narrator through the film, is bookended by voice-overs because all of the meaningless dialogue just wasn't enough.<br /><br />This was a hard one... coming out of it, I wonder if I've just sat through a christian horror film. Maybe the \\\"I know hell exists\\\" of the opening wasn't meant that way, but there are some hints (or misdirection-- I'm not sure which). For all the profanity in the film, a line like \\\"gosh-darnit\\\" comes off a little absurd, and so does most of the crucifix worshipping, god-fearing, and satan-dreading, especially after some lecherous T&A sex scenes (one heterosexual, one lesbian).<br /><br />If it a christian company (Highland Myst's logo even has a bit of a crucifix resemblance), then this film weighs in heavily for the atheist camp. An omnipotent being can't be this bad a filmmaker.<br /><br />\"\n",
      "* * * * * * * * * \n",
      "9550\n",
      "This was the WORST movie I have ever seen! Molly (molly hall) could not act AT ALL! she had no emotion it was all blah blah blah like she was reading out of a boring text book. The smart kid and the kid who loves food (there names weren't worth remembering) were so annoying it drove me crazy.When ever the talked it was about some scientific thing or food. Mollys Dad didn't show enough emotion about his daughter missing. The police officer and Mollys dad said the same thing like four times. it was just horrible. Everything was repeated way to much. Beatrice should have had something bad happen to her for being so mean. I just wasted a moment in my life by watching this movie!\n",
      "* * * * * * * * * \n",
      "9695\n",
      "Holy freaking God all-freaking-mighty. This movie was so bad, I thought I was on drugs. In a bad way... The character acting is the poorest thing I've seen in quite some time. This movie was more akin to Lord of the G-Strings, IMHO(it's a real movie). Most of the movie appeared to be done on a horrible green screen. My favorite part was when they are in the carriage, and you can tell there's no horse. They're fleeing from alien monsters, and going about the same speed as a swift jog. Then it switches to a far-shot with a ridiculous CG horse. And the CG in general seems to be sub-par to 1992's Beyond the Mind's Eye. I mean, Come on, really. It felt like a horrible episode of Hercules, only without Kevin Sorbo there to save the day. Worst. Movie. Ever.\n",
      "* * * * * * * * * \n",
      "9861\n",
      "Jack Black can usually make me snicker simply by breathing, but in this movie...<br /><br />Besides the direction, writing, lack of plot, constant mugging (aided and abetted by constant straight-on camera shots), and a .050 joke batting average, it was still an utter waste of time. The idea sounds promising, but what potential there was gets wasted with an utter lack of comedy and some of the worst direction I've seen this side of you-tube.<br /><br />I kept hearing that this film portrayed Mexicans very negatively. While that's no doubt true, I really don't think this movie is meant to be racist. I think that's it's more a result of a \\creative\\\" team desperately trying to find something funny in this mess. You can almost hear them crying out from behind the camera: \\\"Hey look, it's an ugly Mexican! Laugh, people! Please, for the love of all things tenacious, LAUGH!\\\"<br /><br />But put the racism charges aside. When you get down to it, it's anyone who plunked down good money and time to watch this pile of leftover refried beans that should be offended, IMO.\"\n",
      "* * * * * * * * * \n",
      "10098\n",
      "Repugnant Bronson thriller. Unfortunately, it's technically good and I gave it 4/10, but it's so utterly vile that it would be inconceivable to call it \\entertainment\\\". Far more disturbing than a typical slasher film.\"\n",
      "* * * * * * * * * \n",
      "10307\n",
      "Well, finally got to see the remake last night in London, unintentionally hilarious, sexless and devoid of any real humour. I don't really know where to start, whilst I was entertained by this strange homage, it didn't really move me. The acting is screamingly hammy, there is no original music, the costumes are far too 'Disney' there is a ridiculous 'six months later' insert after the burning of Nic Cage (which didn't come soon enough for my liking) The bit with Cage in the bear suit had the audience suppressing mirth as did the comedy punching out of various 'baddies' on the island. It's such a weird remake that I cant quite believe I saw it, it reminded me of something that The Comic Strip presents would have done in the eighties, a bit like their Hollywood interpretation of the Miner's Strike, very strange!\n",
      "* * * * * * * * * \n",
      "10357\n",
      "My title ought to be enough.<br /><br />It baffles me that a culture so rich in literary excellence (Dumas, Flaubert, Balzac, Maupassant) would churn out such tosh as the \\nouvelle vague\\\" cinematic movement. Until the 20th century, France had a great tradition of artistic lucidity and clever philosophy. But the minute you hand them a movie camera they start acting like WOOOHOOO LOOK HOW WEIRD I CAN BE! PLOT? THEME? PSHAW! LET'S FILM AN AMUSEMENT PARK RIDE GOING ROUND & ROUND! At least this is not as bad as Godard (who has an unhealthy fascination with the backs of peoples' heads. Oh-la-la, quel artiste.). No, Truffaut maintains a degree of visual clarity. But so does the security camera at a quickie-mart. The two are indistinguishable.<br /><br />Haha, just as an aside to all you dweeby film school nerds: I bet the vein is popping out the side of your neck right now. But don't leave without reading the last sentence of my review.<br /><br />Anyway, if you like French literature, you will HATE this. People who like this movie probably have never read any books other than the ramblings of Jack Kerouac or maybe \\\"Hitchhiker's Guide to the Galaxy\\\". Or maybe they have read the lyrics to The Doors songs, and they think that's profoundly moving. Whatever floats yer boat. I find it ironic that this film injects some (weak) allusions to Balzac, one of the finest and most meaningful writers who ever lived. Nice try, Truffles. But you're nowhere near the ballpark.<br /><br />Avoid this film like an aids-infected syringe.<br /><br />If you're the type of person who likes to think, then stick to Jean Cocteau (ORPHEE), Robert Bresson (PICKPOCKET) and the Japanese masters Kurosawa (IKURU), Kobayashi (KAIDAN) and Teshigahara (SUNA NO ONNA).<br /><br />If you're an idiot, enjoy your Truffaut, Godard, and Andy Worhol. And for pete's sake push that vein back in your neck. You look like a cabbage.\"\n",
      "* * * * * * * * * \n",
      "10573\n",
      "For the initial 20 minutes or so (I was watching it on a PS2 so I've really no idea how long it took) Alienator sets up an interesting premise. I don't think I've seen a slasher movie with an alien from another planet as the baddie before. However, interest soon turns into stunned disbelief as you realise the 'alien' is a huge body-builder woman in a steel bikini. Yes, Alienator is patently ridiculous.<br /><br />Don't think I hold that against it. In the world of shlock-horror, patently ridiculous can often be a good sign. However, the blatant stupidity of its premise is all the movie really has going for it. Alienator is funny as hell, but it is also a shambolic suckfest of the highest order. Actors heap on failed attempts at seriousness, potentially genius lines of pure cheese dialogue are stumbled over with unnerving incompetence and the direction fails to sum up even one or two decent set-pieces. By the time the movie's finished you can barely see the original concept through the haystack of total tripe the team piled on it.<br /><br />Add to this the fact that the 'Alien' just kills people by vaporising them, as opposed to doing any 'slashing' as such and you have a giant throbbing heap of good ideas being left to rot. You'll laugh at Alienator, but AT it, not with it. If that's your thing then go ahead and check it out.\n",
      "* * * * * * * * * \n",
      "10630\n",
      "The only good thing about \\People I Know\\\" is that it serves as a perfect example of movies that Al Pacino should avoid performing in. The first big turn-off I had was the way in which Pacino tried to portray a Georgia accent; at times it was weak and unattractive while in other segments it seemed too overdone. Dialogue and character interaction was terrible along with a weak plot. The supporting cast did an extremely perfunctory job in keeping the movie interesting, and within an hour I still saw no signs of a sturdy plot. The story overall is a real bore, and I had to slap myself in the face a few times to keep myself awake.<br /><br />This movie will surely bore you as well...avoid at all costs.\"\n",
      "* * * * * * * * * \n",
      "10695\n",
      "The premise of this movie was decent enough, but with sub par acting, it was just bland and dull.<br /><br />SPOILERS The film does not work because of the nature of the death, it was accidental, so although it was a murder it wasn't like the guy set out to do it. Also through some flashbacks there is a secret that is revealed that sort of makes the events like justice to a degree. There is no emotion in this film. The first 20 minutes or so is just this woman calling her sister, and hearing her message. It was dull and boring.<br /><br />With some polishing, and better acting it could have been pretty good.\n",
      "* * * * * * * * * \n",
      "10738\n",
      "I'm a big Porsche fan, and the car was the best star in this film.<br /><br />Haim, the now dried up drug abusing child star of the 80's is bland as per usual, and commenting on back up from minor characters/actors would be pointless; needless to say they were all very average. It's a cool movie as a trip down memory lane into the 80's - with some weird clothes, some good shots of the Colorado backdrop and a very harmless albeit mind numbing plot.<br /><br />All in all, please don't waste your time watching this unless you love 80's movies, Corey Haim, or like myself, love old school Porsches (this one in particular looks great) because life's too short to watch crappy movies.\n",
      "* * * * * * * * * \n",
      "10877\n",
      "I remember when this was in theaters, reviews said it was horrible. Well, I didn't think it was that bad. It was amusing and had a lot of tongue-in-cheek humor concerning families around holiday time.<br /><br />Ben Affleck is a rich guy who needs to find a family for Christmas to please his girlfriend. He goes to visit the house he grew up in and strikes a deal to rent the family there for Christmas. I really liked the lawyer scene where they sign a contract. That was funny.<br /><br />So, he makes silly requests of the family and even writes scripts for them to read. Of course, the family has a hot daughter for the love interest. And he learns that the holidays aren't so bad after all.<br /><br />Also, the whole doo-dah act was funny, especially when they replaced the first one with a black guy, and the girlfriends's parents didn't even say anything about it. And the parts where doo-dah is hitting on his \\supposed daughter.\\\" FINAL VERDICT: I thought it's worth checking out if you catch it on cable.\"\n",
      "* * * * * * * * * \n",
      "10904\n",
      "The movie starts little cute. There are a number of revolting scenes. People in toilets. GOOD actors wasted and the original television series has all but ruined here. This did not need to be crude.<br /><br />Forget it. Find the tv show. Disney at new low.\n",
      "* * * * * * * * * \n",
      "10931\n",
      "when you get to the scenes that involve Albert Brooks without his shirt... try not to gag on a fur ball.<br /><br />I like Albert Brooks. I've seen most, if not all of his movies but it was the first time seeing this one. Modern Romance is an interesting take on the subject of love. There are few movies that handle the desperation of love as well or as overtly as Modern Romance, although 1979's Chilly Scenes of Winter comes very close. They both essentially deal with obsessed men that are too psychologically attracted/obsessed to their respective women.<br /><br />Where-as Chilly Scenes of Winter borders on the subject stalking, this movie has a more grounded foundation with the subject of love because both people are already in a relationship.. and out of the relationship.. and back in it again.<br /><br />And because it's a movie that was released in 1981, it is of its time in terms of styles and such. That's the main reason I like this movie. My basic rule when it comes to movies is \\If it sucks at least it may have some historic relevance\\\", you know time capsule stuff.<br /><br />Which leads me to the horrific scenes of Albert Brooks sans shirt.<br /><br />The man is hair. Very hair. Like he's wearing a black curly fur sweater-hairy. And what's worse is he almost looks burn victim-hairy. It's not a pleasant sight and the scenes with him without a shirt go on and on. Back in the early 80's hairy men were seen as normal and nothing shocking. But in 2009 the sight of something like this is just plain revolting. Sorry, Albert! I wish at some point someone said \\\"hey let's try this scene but with you wearing a simple t-shirt, I mean you might scare people\\\". It's just really bad and I feel sorry for the poor pretty actress that had to deal with Albert Brooks naked body on top of hers. She was probably pulling out his hairs from her teeth for days after that.<br /><br />Anyway, it's an OK movie. It could have been better if I hadn't see Albert Brooks without his shirt for what seemed like 10 long continuous minutes because that will forever taint my viewing of this movie.\"\n",
      "* * * * * * * * * \n",
      "10947\n",
      "Holy freaking God all-freaking-mighty. This movie was so bad, I thought I was on drugs. In a bad way... The character acting is the poorest thing I've seen in quite some time. This movie was more akin to Lord of the G-Strings, IMHO(it's a real movie). Most of the movie appeared to be done on a horrible green screen. My favorite part was when they are in the carriage, and you can tell there's no horse. They're fleeing from alien monsters, and going about the same speed as a swift jog. Then it switches to a far-shot with a ridiculous CG horse. And the CG in general seems to be sub-par to 1992's Beyond the Mind's Eye. I mean, Come on, really. It felt like a horrible episode of Hercules, only without Kevin Sorbo there to save the day. Worst. Movie. Ever.\n",
      "* * * * * * * * * \n",
      "10979\n",
      "This is by far the worst movie I've ever seen. From the plot, though the shots, the \\special effects\\\", the acting, and did I mentioned the plot? Every single thing in it sucked ass!<br /><br />This is a good example of what \\\"over-doing\\\" means and I'll try to explain:<br /><br />I understand what the creator of this movie was trying to do; this was supposed to be one of those movies you can't really tell what the hell is going on up until the end. You sit mesmerized, not knowing who's dead and who's alive and who killed who and why and just when you think you got the timeline right you find out you're wrong and the movie ends - leaving you with an opened mouth for the next 5 minutes! Something like \\\"Unbreakable\\\" or \\\"The Job\\\" if you know what I mean.<br /><br />But Olga Levens, the writer of this junk, yes, Olga  The writer, Director, Producer, Screenplay author, Caster, Production designer, Art Director, Costume Designer and also a double for one of the characters is some scenes... this is basically a one woman movie and when it comes to Olga Levens from \\\"Levens Productions\\\" you can't go wrong :-)<br /><br />Well this might come as a shocker but \\\"this time\\\" Olga over did this big time, jumping from scene to scene, from dreams to reality... but wait! this was all a dream after all... or was it??? The picture fades and I realized none of this ever happened, the girl was all alone on the ship... actually there was no ship... no wait! There's the ship again, and the guys! They're alive! Thank god! No they're calling her to join the cruise... but then the ship disappears so maybe they're dead after all??? or maybe they never were alive to begin with???<br /><br />If you understood what I just said you might like this movie - otherwise it's a boring piece of work and the only reason I set through this entire crap is to find out how the hell can they finish this movie...<br /><br />Don't watch this if you value time, ever 90 minutes are a waste in this case...\"\n",
      "* * * * * * * * * \n",
      "11486\n",
      "Not one of the better pokemon movies.<br /><br />Two legendary pokemon come into the story. You do get to see how strong Celebi can be, though he turns evil first.<br /><br />Suicune also makes an appearance, he didn't seem that powerful.<br /><br />The Marauder didn't have many strong pokemon at all, except for that taranitar? Some fight scenes with his pokemon may have made it better.<br /><br />Ash and Pikachu meet the much younger Professor Oak, though they don't realise it. Misty I was thinking had it at the end but she didn't get close. I saw this in the credits.<br /><br />Don't expect much here, the worst of the series so far.\n",
      "* * * * * * * * * \n",
      "11513\n",
      "Yikes, it was definitely one of those sleepless nights where I surfed the channels and bumped into this stinker of a movie. For some of the names in the cast, I'd expect a much better movie. I'm almost embarrassed to see Oscar Winner F. Murray Abraham being reduced to such a horrible part. I hope the money was worth it. And the students, they talked about fencing like they were talking about survival in a war or through a horrible disaster. I mean, I've fenced, it's a fun sport, but I've never been that intense. The only reason I even watched this entire movie was because the remote fell under the sofa and I was too lazy to get it back.\n",
      "* * * * * * * * * \n",
      "11619\n",
      "Fans of creature feature films have to endure a lot of awful movies lately. Blood Surf shamelessly joins the list of stupid, redundant pulp-horror titles about ridiculously big animals that want to turn the food chain upside down. Crocodiles are particularly successful as we already had to struggle our way through the abysmal 'Crocodile' (directed by a disappointing Tobe Hooper) and 'Lake Placid'. Blood Surf is every bit as bad as these other films and  on top of that  it likes to exaggerate tremendously. The saltwater-crocodile supposedly is 90 years old, over 30 ft long (!) and it kills for fun! During the film, he amuses himself by devouring a bunch of utterly stupid surfer-dudes & dudettes who came to seek new thrills by surfing in a shark-congested area. The only beautiful aspect about this film is the tropical location. Even though it's a completely inappropriate setting for a film like this, the lagoons and nature looks marvelous. Every other aspect is simply disastrous. There's a quite a bit of gore but it all looks fake and laughable. The dialogues are downright painful to listen to! You won't believe some of the lines these actors have to say! I know surfers are supposed to be a mentally underdeveloped group but I hope for their own sake they're not that stupid! Early in the film, one of the characters refers to Jaws as being a 'mechanical toy' but the croc here looks at least 10 times less real than Spielberg's great white shark. The visual effects in 'Blood Surf' are amateurish and the massacres fail to impress. I won't say too much about the acting since it's secondary in flicks like this. The girls look sexy in wet shirts and their boobs joyfully bounce while running away from the beast. You guessed right: Blood Surf is a very bad film. So bad it becomes fun again. But 'funny' for a whole other reason than James Hickox intended.\n",
      "* * * * * * * * * \n",
      "11904\n",
      "My mother worked with Dennis L. Raider for eleven years, not to mention shared an office with him. When it was announced he was BTK, she was shocked. The whole day was just her telling stories about how she never would have seen him as the Wichita Killer. I've heard her re-tell them many times. I've inquired her about a lot of things, and gone to all the interviews that she was asked to go to. I've read the entire book written about Raider, Wichita is my hometown and I was surprised that such a thing could happen in Kansas.<br /><br />There was another BTK movie on TV not too long ago, and I thought this one would have been better at portraying Dennis' killings, maybe even have some intelligent touches to his motives.<br /><br />I'm going to be very blunt with the flaws in this movie. This is based on my mom's portrayal of him, all my readings on him, and the video tapes I've seen of him talking.<br /><br />First of all, the camera angles were horrible. It looked as though it had been shot on a home video camera. The acting was terrible and I couldn't even bear to watch it.<br /><br />Dennis Raider never had long hair. Dennis Raider was a \\very anal man\\\" and was a \\\"follow the rule book\\\" kind of guy. He wasn't as nice as the movie made him look, he was very polite and abrupt, business like. Same goes for his killings, as far as we all know. If you've seen his confession in court, you can already guess.<br /><br />And as for the obsession with the slaughter house? No. Never have I read or has Dennis Raider confessed to having a problem with animal cruelty or people squishing bugs. In fact, he practiced on cats and dogs for choking methods. Yet through-out the whole movie he was putting animals in his victim's faces and acting like he cared about the well-being of them.<br /><br />Dennis Raider never killed the people that he knew, he confessed this, but in the movie in his first killing he tells the lady he knows her also.<br /><br />I really don't even want to go in to this movie, and I'm already ranting. This is NOT what you want to watch if you are interested in the actual happenings of BTK. This is NOT what you want to watch if you want a good horror movie. If you want a badly shot half-porno with some slaughter scenes served the side, then this is your kind of movie.\"\n",
      "* * * * * * * * * \n",
      "11928\n",
      "TV pilots, don't you love them? Quinn Martin tried this one out after being successful in a bunch of other TV detective movies, but this one goes nowhere except in the realm of MST where it belongs. Roy Thinnes is Diamond Head who takes orders from Aunt Mary to find super spy Lovejoy, I mean Tree. Zulu and Tso-Tsing are there for ethnic comic relief and not much else. Tree sucks as a bad guy despite all his disguises that makes him look exactly the same as he normally does. There's more unnatural clothing fiber here than you can ever imagine (required in the 1970's)and the show itself is so anti-climatic. Why did it not go to series? You figure it out, it's quite blatant. Again it's fun for MST, but not a lot else!!\n",
      "* * * * * * * * * \n",
      "12054\n",
      "Watching this Movie? l thought to myself, what a lot of garbage. These girls must have rocks for brains for even agreeing to be part of it. Waste of time watching it, faint heavens l only hired it. The acting was below standard and story was unbearable. Anyone contemplating watching this film, please save your money. The film has no credit at all. l am a real film buff and this is worse than \\Attack of the Green Tomatoes\\\".<br /><br />l only hope that this piece of trash didn't cost too much to make. Money would have been better spent on the homeless people of the world. l only hope there isn't a sequel in the pipeline.\"\n",
      "* * * * * * * * * \n",
      "12118\n",
      "beyond the fact crazy people exist and there are religious nuts out there.<br /><br />The characters basically make no sense most of the time.<br /><br />The film has no real beginning, middle or ending, nor is anything ever explained much.<br /><br />The film opens with a young man, with the unlikely name of Hazel Motes, apparently returning from a stint in the army.<br /><br />He hitches a ride to a two story house that is in extreme disrepair, windows boarded over. He goes in the house, walks around and finally writes a note that he leaves there. This scene comes to nothing, and we learn nothing further about the house or its history.<br /><br />It is never explained exactly whose house this is, or where the people have gone, but we are given the impression Hazel has probably lived there at one time.<br /><br />Hazel decides to go to a city. Why - we don't know. Once he arrives in this city he writes down a name & address that he sees on a bathroom wall, and goes to visit this woman, who is a surprisingly fat hooker. He sees her for awhile and then he apparently isn't seeing her anymore. Like everything else in this movie, it comes to nothing and serves no purpose.<br /><br />A young man named Enoch, tries to befriend him, but Hazel really isn't interested, although they keep crossing paths.<br /><br />Enoch is about as crazy as you can get. One of his habits is to go to the zoo and stand in front of the cage where the chimps are and talk at them insultingly.<br /><br />We never really know why Enoch behaves as he does, or why Hazel behaves as he does, beyond the fact Hazel had an overdose of old time scary, fundamentalist religion via his grandfather.<br /><br />Enoch later becomes enthralled with a man who dresses in a gorilla suit, and manages to get the gorilla suit from him and then runs around in it.<br /><br />Hazel, who is wound rather tight and seems to be in a constant borderline rage does a bit of street preaching. I got the impression he was trying to free himself from the untruths of the religion that had been drilled into him.<br /><br />He has several encounters with a preacher and his daughter, although their interactions never really make any particular point, and there is no plot line.<br /><br />Eventually Hazel succumbs to complete religious fervor and begins self-harming.<br /><br />It is a very odd film. Interesting in it's oddness but other than that it has absolutely nothing going for it.<br /><br />The cast does an outstanding job,but this film completely fails to deliver either a point of view or a storyline.<br /><br />The film also has the characters tossing around the N word from time to time with no connection to the rest of the dialog.<br /><br />2 stars\n",
      "* * * * * * * * * \n",
      "12181\n",
      "\\Power Play\\\" starts off interesting but it goes down hill fast. The only good actor is Tobin Bell and he has a very small part. Beyond Bell, \\\"Power Play\\\" has no redeeming value or interest. \\\"Power Play\\\" has more earthquakes in a few days than California has in a year. The earthquake scene in the mall is so contrived and completely unbelievable. And all the action scenes look like a bunch of third graders putting on a play. It's awful, simply awful.<br /><br />Bottom line, if \\\"Power Play\\\" was made in the 60's or 70's it would be considered a poor \\\"B\\\" class movie. The fact that \\\"Power Play\\\" was made in 2001 is really sad. Is there such a thing as a \\\"D\\\" class movie? If so, \\\"Power Play\\\" casts the mold.\"\n",
      "* * * * * * * * * \n",
      "12193\n",
      "This is an hybrid creature born at Carl Macek mind. With Robotech the second generation (Robotech Masters) and Megazone 23 into one miserable movie, that have no logic! The story is very, very bad, and you cannot forgive the action of Megazone when have nothing to do with Robotech. If this movie have so high rank is for the TV series and not for itself!! I did said it, the name cannot save this!\n",
      "* * * * * * * * * \n",
      "12259\n",
      "How sad to see the beautiful and talented Tina Louise reduced to making this horrible excuse for a film. Tina still looked fit and attractive, but for some reason seems truly frightened. I can understand her fear; fearing that this 3rd rate stinker would somehow be released to the general public. Also, I'm a fan of the likable Adam West. Again, as with Tina, Adam looks good and in great shape for a man his age. His acting here is passable, but the script is so bad, that it's difficult to even listen to the dialog.<br /><br />The movie is a rip-off of the classic Brando biker flick, The Wild Ones; out-law biker gang is out-of-control in a small hick-town. The bikers here look like a motley group and I sure wouldn't want them to date my sister. The acting is stiff and wooden, and the story-plot is as old as sand. Hellriders is hell to watch!\n",
      "* * * * * * * * * \n",
      "12318\n",
      "It seems to me, as a recent film school graduate, that in these times of New Zealand film reaching new heights, the general public seems to think every New Zealand film made is great. Sione's Wedding proves this is dead wrong.<br /><br />It's completely overrated and not funny, and far from the 'hilarious' film other users of IMDb have commented. The only really funny thing I found in this film was Derek the wannabe black guy, but other than that the jokes were recycled crap that we'd all heard before.<br /><br />Being of half-Samoan decent, I wanted to see how the film was going to deal with Polynesian representation. It was a complete balls-up - I know it's a supposed comedy, but I didn't feel like the characters had anything new to say about Polynesian identity, even if it was in a tongue-in-cheek manner. I was most disappointed with the ending of the film and the resolution of the character's relationships - Mikaele was the player who only messed around with white women, comes to slightly turn his ways when the 'Dusky Maiden' comes to town, has an epiphany that maybe he should start looking for a stable relationship, then at the very last minute rejects it and accepts his position as a Polynesian Playboy for palagi women. I didn't understand why they did this.<br /><br />All in all, it was very disappointing. My whole family went to see it expecting to have a good laugh, but ended up being really bitter about paying to see it at the cinema. The jokes are lame at best, the acting, particularly of Sefa's girlfriend, APPALLING, and honestly I would've been happy if I had got my hands on one of those pirated copies of the film to save myself the $15 ticket price.<br /><br />I think the only good thing to come from the movie is that it's the second step (behind No. 2, of course, a far superior film to this one) in the birth of Polynesian cinema. I hope Pacific filmmakers in the future can learn from Sione's Wedding in how to NOT reflect Polynesia and have something more meaningful and sensible to say. Even if it is done in a comedic fashion.\n",
      "* * * * * * * * * \n",
      "12441\n",
      "I feel like I'm the only kid in town who was annoyed by Branagh's performance. He is a fine actor by most accounts, but he simply could not pull off the Southern accent. I mean, it was deplorable. It was as if he was trying too hard to be a Yank. One of the previous reviewers questioned why U.S. actors were not cast in this film. I second that notion. It's wonderful when actors/actresses wish to expand their horizons, but it's another thing to try too hard so that a performance becomes strained. Maybe it was Altman, but he's a such a great director...<br /><br />Well, I really don't want to bash Branagh for his absolutely hideous accent too much. Everybody deserves to screw up here and there. But it is hard to watch something so annoying that you'd rather choke on a chicken bone or eat a bucket full of crap than sit through The Gingerbread Man.\n",
      "* * * * * * * * * \n",
      "12487\n",
      "This is the kind of film that everyone involved with should be embarrassed over. Poor directing, over the top acting and a plot that rambles on with no point other than to show violence. I thought when I first saw it that it would be perhaps a satire of the media and how it shows violence but it's not. I'm not sure what makes the film worse. Oliver stone does his worst directing ever. From scenes where Woody Harrelson's face morphs for no reason or Robert Downey Jr's dreadful performance as Wayne Gale who is a reporter who seems totally bonkers, this movie is simply a mess.\n",
      "* * * * * * * * * \n",
      "12504\n",
      "I have to say as being a fan of the man who created Halloween/The Fog/Christine/The Thing - probably his best films.<br /><br />Then you got this POS. I can't logically think he put any effort at all into this like he did with Cigarette Burns. At least his son made a decent soundtrack.<br /><br />You have to look at this from the standpoint that it didn't seem like a movie. It looked as if someone else directed it for one thing. I won't believe Carpenter put any effort into this at all.<br /><br />I was just listening to his old school H2/H3/The Fog soundtrack and it was awesome, especially for the times.<br /><br />He was using a style that no one had and it worked so well for his films.\n",
      "* * * * * * * * * \n",
      "12521\n",
      "This film is really something of a curate's egg, good in parts. In contrast to other reviewers, I found that the main fault with it is its inability to draw in the viewer's interest in the characters and the plot. I sat through it because I'm interested in rock'n'roll and the dynamics of bands, but if I were to evaluate it purely on the basis of its merit as a movie, I would have to give it the thumbs down, with a few caveats: Jason Behr is good in the part of John Livien, and quite convincing as a rock singer; the narrative regarding his childhood trauma is unclear, although we are given hints in Livien's well-acted relationship to his parents, but his behaviour is ultimately bizarre to the viewer (which it shouldn't be). Nevertheless the idea of using a stage persona to solve inner conflicts is interesting, albeit not novel nor fully explored as a theme in this film. The allusions to John Lennon were irritating, but I confess I'm not a Beatles fan. At any rate, Livien and his band reminded me more of Oasis than the Beatles, in the sense that there was something derivative about them. Another frustrating thing about the movie was the way it opened up with some interesting - albeit middlebrow and high-school level - philosophical musings of the lead character, but left the threads of his thinking there, only to pick them up again in the middle of the film very briefly, when Livien says, \\before God, there was music\\\" (ever seen that ad for Tia Maria in the 1990s, \\\"Before time, there was Tia Maria\\\"? That's what sprung to mind anyway); it seems an idiotic conclusion, and the viewer has no idea how he reached it, but he's entitled to it. Fortunately his bassist and friend, played ably by Dominic Monaghan, seems to acknowledge the fallacy of this thinking when he responds \\\"You don't know that\\\".<br /><br />In all, the limited strengths of the direction and the plot could go either way on future projects, into pointless banality or into an interesting and more mature perspective.\"\n",
      "* * * * * * * * * \n",
      "12552\n",
      "It's not like I have overwhelmingly fond memories of Verhoeven's original pants-down shocker - it always struck me as a glossy, well-made airport-novel-of-a-movie. Thrilling, sexy trash, but trash nonetheless. It was also a film that tapped into a certain sexual zeitgeist. After a decade of anti-sex AIDS-induced hysteria, a film about a wildly-sexual hotbod who thrill-kills to heighten her sexual pleasure was pretty enticing stuff. Basic Instinct 2 was always going to struggle to provide the same social relevance and immediacy, so the fact that it's desperate attempts at raunchiness are so lame can sort-of be overlooked. All it really had to provide was that thin veneer of titillation and a mildly engaging story and all would have been watchable. That it resoundingly fails on so many levels, and in such a way to be a career nadir for everyone involved, is really quite extraordinary to watch. Let's state the obvious for starters - Sharon Stone is too old for the part of sexual magnet Catherine Trammell. What was so photogenic thru Verhoeven's lens looks like mutton dressed as lamb in the hands of gun-for-hire Michael Caton-Jones, who's flat, drab colours and static camera render her undeniable beauty totally moot. I like Sharon Stone a lot, but if the first film launched her career, BI2 could kill it. She has no chemistry with stuffed-shirt David Morrissey - their only sex scene is embarrassing too watch. His dough-faced mamma's boy of a character made me yearn for the swaggering, orange-skin machismo of Michael Douglas. Supporting turns by David Thewlis and Charlotte Rampling waste these fine actors on talky exposition scenes and cliché-heavy posturing. And what of the much-touted sexual shenanigans? Poorly-lit, fleetingly-glimpsed, as utterly mainstream as an episode of Desperate Housewives - the European sensibilities that Verhoeven brought to the sexual content of the first film are sorely missed. Don't watch this film for carnal thrills - there are none and what there is is tragic. The film is, as a whole, convoluted to the point of utter confusion, boring and laughable. The last 40 minutes in particular, where you come to the realisation that the film is, in fact, not going to go anywhere of interest at all, are particularly gruelling and hilarious in equal measure. As a failed sequel, Basic Instinct 2 will come to occupy similar cinematic ground as Exorcist 2 The Heretic, Beyond The Poseidon Adventure and XXX2. As a vanity project, it rivals Battlefield Earth in its misconception. As a multi-million dollar piece of Hollywood film-making, it's a travesty that will be hard to top as the years worst.\n",
      "* * * * * * * * * \n",
      "12637\n",
      "Eyes of the Werewolf (1999) is a really bad movie. The premise was real good but the overall execution was just terrible. I wished the filmmakers would have taken their time with this project instead of rushing it into production. Some blind dude gets some new eyes, bad thing is that they belong to a mean old werewolf. Nasty things begins to happen to the dude as he turns into a cheesy looking creature. Can he find a cure before his hot girlfriend finds out? Who is that weird little troll who helps him out and what's up with that female cop? If you really want to find out, check out Eyes of the Werewolf!<br /><br />Not a bad idea for a movie. I just wished the filmmakers would have spent a lot for time in pre-production before they decided to shoot the movie.\n",
      "* * * * * * * * * \n",
      "12742\n",
      "This film so NOT funny - such a waste of great stars, who seem to be caught up so in their own stardom that they forget. Only shining moments belong to John Cleese as the hotel manager who likes to dress up - you almost fall out of your chair with helpless laughter when he dances to Donna Summer's \\Bad Girls\\\" while wearing high heels, a mink coat and a dainty hat. The rest: FORGET IT!\"\n",
      "* * * * * * * * * \n",
      "12825\n",
      "Necessarily ridiculous film version the literary classic \\Moby Dick\\\". John Barrymore is Captain Ahab, who falls in love with the pastor's daughter, Joan Bennett. His brother Derek is a rival for Ms. Bennett's affections. When Mr. Barrymore loses his leg in a whaling accident, Bennett rejects him. He must slay the whale and win Bennett back...<br /><br />There are several scenes which may have thrilled 1930 theater audiences; particularly the scenes involving Barrymore losing his leg. The film hasn't aged well, however; there are much better films from the time, both 1920s silents and 1930s talkies. The two name attractions, John Barrymore and Joan Bennett aren't at their best. <br /><br />**** Moby Dick (8/14/30) Lloyd Bacon ~ John Barrymore, Joan Bennett, Lloyd Hughes\"\n",
      "* * * * * * * * * \n",
      "12977\n",
      "Forget Plan 9, this is the ultimate fiasco, a costume drama, ineptly directed, scripted, acted, etc. This film is based on Isabel Allende's not-so-much-better novel. I hate Meryl Streep and Antonio Banderas (in non-Spanish films), and the other actors, including Winona, my favourite actress and Jeremy Irons try hard to get over such a terrible script. Plenty of mistakes (like, for example, since when does it snow in Xmas in Chile?) and very cruel, with tons of that evil named \\magic realism\\\", this stands out as the worst movie of all time. It totally sucks!!!\"\n",
      "* * * * * * * * * \n",
      "13102\n",
      "A difficult film to categorize. I was never giving it 110% concentration & consequently as simple as the plot appeared I couldn't say for certain exactly who was doing what amongst the American FBI characters & what their roles were. Nor could I take the Irwins seriously as film characters when their lines & scenes were all in the style of one of his shows, not acted out.<br /><br />This is nothing more than a glorified episode of a Discovery TV show, with a largely insignificant sub plot going on, which just seemed to get in the way. However as any Irwin show is always worth a watch, this film is well worth a look too, but not on Christmas Day. Talking of which, I've better things to do too than be on here.<br /><br />A high 4/10\n",
      "* * * * * * * * * \n",
      "13154\n",
      "THE NIGHT EVELYN CAME OUT OF THE GRAVE (Emilio Miraglia - Italy 1971).<br /><br />I only watched this delirious piece of Euro-tosh in the way of Alpha Video's dreadful DVD-release (looks like an extremely bad video-transfer), but from what I saw, not nearly interesting enough to purchase No Shame's recent DVD-release. Considering their excellent track record, it will undoubtedly be a major improvement over all previous releases. And don't pay attention to the ridiculous cover shown here, it's not taken from this film (some girl holding the head of a Jim Carrey look-a-like).<br /><br />Spaghetti Western star Anthony Steffen sports a hip hairdo and assumes the role of Lord Alan Cunningham, a man haunted by the memory of his dead wife Evelyn. This leads to a nervous breakdown which has him being retained in a psychiatric clinic. Once released, Cunningham channels this trauma by taking redheaded prostitutes to his countryside castle, subjecting them to vicious acts of torture. His doctor and friend, Richard Timberlane (what do you mean, Italian horror names sound \\made up?\\\"), advises him to forget the past and remarry but Cunningham is obsessed with Evelyn and even organizes a séance at the castle. Eventually, after killing some more girls, he meets Gladys, another redhead, and marries her almost immediately, but the arrival of his new wife spawns a series of sinister events. Bloodthirsty creatures strike at Sir Alan's family, killing them off one by one. Becoming more distraught, Cunningham visits Evelyn's tomb and discovers it to be empty. Soon, a number of \\\"outsiders\\\" begin to suspect something fishy is going on in the castle and Lord Cunningham's treatment might not have been that successful after all.<br /><br />Director Emilio Miraglia tries to blend Gothic horror with Giallo conventions with limited success. As usual, not the slightest effort was made to convince audiences the film is set in England. The cars drive on the right side of the road, everyone looks very Mediterranean and the castle (and the rest of the architecture) is patently Italian. This is common practice in Italian horror, but sometimes they just take this a little too far. The bad print made this even slightly bearable, since it's so dark, you couldn't see much of the surroundings anyway. But, then again, this is the kind of film where anything can happen in the name of exploitation and depicting reality isn't really the issue. A large part consists of sado-masochistic torture scenes in the castle torture chamber, but most of the time, Anthony Steffen hams his way through this and shows some horrible over-acting. I guess it all depends on your state of mind and this can be a fun piece of nonsense if you're in the right mood. I just couldn't take it, at least not with the print I watched. A pleasant score though by Bruno Nicolai which combines easy-listening tunes with some psychedelic rock numbers.<br /><br />Camera Obscura --- 4/10\"\n",
      "* * * * * * * * * \n",
      "13245\n",
      "Odd slasher movie from Producer Charles Band. In the days of Full Moon's greatest success Band said that he would never make \\real killer films\\\" because he felt that little puppets and big monsters added a fantasy element that made the films better - people killing each other is thus real and less fun. A nice philosophy and a true shame that Band, having destroyed the Full Moon studio through possible shoddy business dealings became so desperate for home cinema profits that he started making exactly what the likes of Blockbuster wanted and therefore sacrificed creativity and originality. The team behind this one also worked on 'Delta Delta Die!' and 'Birth Rite' - both equally bland by Full Moon standards. Debbie Rochon is on usual top form here as a newbie to a gang of dudes and dudettes who decide to make up a story about a 'murder club'. She - as one would obviously - does all she can to join and then panic sets in because it was not a true story and silly Ms Rochon believed it and now everybody will have to run around getting covered in blood and maybe killing each other or maybe not. The choice is there's and with regard to this movie its yours...not recommended but not entirely bad either.\"\n",
      "* * * * * * * * * \n",
      "13256\n",
      "I saw this film awhile back (while working on a trailer for the film's production company) and it was TERRIBLE. Hewitt is mediocre at best, Hopkins phones his performance in (but still blows away Hewitt in their scenes together) and Alec looks bored. Trust me on this: you should avoid this film like the plague if it ever gets released. It seems to go on forever as the tired plot unfolds at a snail's pace. It is relentlessly unfunny, the cinematography is crappy and the direction is pedestrian. Alec Baldwin should go to film school if he plans to direct again. In terms of his acting, his character is totally unlikable, which makes it impossible to root for him. Dan Ackroyd is pretty funny and the surprising makeup of the jury near the film's end is cute, but this film is just plain awful.\n",
      "* * * * * * * * * \n",
      "13271\n",
      "Hobgoblins is a very cheap and badly done Gremlins rip-off. That's the best thing one can say about this stinkpile. Pretty much everyone in the cast was chosen for their looks and not their acting ability. It was very painful to watch.<br /><br />Avoid this one at all costs.\n",
      "* * * * * * * * * \n"
     ]
    },
    {
     "name": "stdout",
     "output_type": "stream",
     "text": [
      "13444\n",
      "From the Star of \\MITCHELL\\\", From the director of \\\"Joysticks\\\" and \\\"Angel's Revenge\\\"!!! These are taglines that would normally keep me from seeing this movie. And the worst part is that all the above mentioned statements are true!!! Ugghhh... Joe Don Baker eats every other five minutes in this film. It's like a bad remake of \\\"Coogan's Bluff\\\"\"\n",
      "* * * * * * * * * \n",
      "13848\n",
      "I thought that this movies was a letdown I expected it to be so much better than it was. I am so glad I didn't pay to see this movie and that I didn't sit in a movie theater for this one. Where to begin on this movie, the acting in this movie was average, the humor was terrible and just the overall storyline of this movie wasn't special. I thought that this movie was suppose to be great, but it wasn't more than a cheesy waste of time. I think that the acting in this movie was terrible no of the actors in this movie had chemistry, it just wasn't there. I think that if maybe we had a different actor play Kirk than Jay Baruchel it might have been better but the entire time I watched this movie he looked high and I didn't get the feeling that he wasn't acting in this movie. Now, Alice Eve did a great job as an actress but, there was no chemistry between her and Jay. All the actors in this movie were no names and had very little affect in this movie. The humor in this movie was not funny at all, there were a few one liners in this movie that were OK but nothing worth saying to your friends that they would understand. I think that Jim Field Smith had a hard time with this because he couldn't decide if he wanted a romance or a comedy. I honestly think he needs to stick with the Burger King commercials. I think that this movie could have been better if the writers would have gone to a different director. The storyline of this movie is just like every other hot girl just OK guy love story",
      "boring I think that it would have been better if it had more originality, but what a letdown nothing. I honesty would not recommend anyone go see this movie. I think that you would have more entertainment at the dentist than at this movie. So save yourself the agony and just don't see it.\n",
      "* * * * * * * * * \n",
      "13891\n",
      "F*ck Me! I've seen some incredibly horrific movies in my time but this takes the p*ss!<br /><br />Honestly I can't express in words how bad this film actually is. Besides the plot that isn't really there, the comically crap acting, the hilariously dreadful excuses for zombies; You know what, I could go on all day. Every little thing in this film is either stupid, pointless, crap or embarrassing. I express to anyone who wants to watch this movie... don't!<br /><br />I'm ashamed to say, I have this on my rack. It's hidden away right at the god damn bottom of the huge pile. I couldn't even give this horse-sh*t excuse for a film away. That's how bad it is.\n",
      "* * * * * * * * * \n",
      "14136\n",
      "Just as \\ITS A MAD, MAD, MAD, MAD WORLD\\\" is at the top of my list for all time greatest comedies ever made, this one is at the very bottom. (Of course, I could be wrong-not having seen \\\"SAVING SILVERMAN\\\") In other words, it's a lame, lame, lame, lame comedy.<br /><br />Rating: 1/2* out of *****\"\n",
      "* * * * * * * * * \n",
      "14317\n",
      "Oh boy, where do I go with this one? Herendous acting, weak plot, stupid deaths, pointless nudity...<br /><br />This isn't entertainment...this is hell.<br /><br />Hell.<br /><br />Don't waste your money, time, or life on this pit of evil.<br /><br />It's just...god damn is this movie awful! Tom Savini, WHY?! Why would you waste your life on this crap? This movie not worth it. I'd rather snort crack and smash my head up against a wall than watch THIS...this sinful act again!<br /><br />Please take my advice and stay the f#@k away from this elephant turd of a film. No, you know what? I shouldn't even have to call this thing a film! Just stay AWAY!\n",
      "* * * * * * * * * \n",
      "14320\n",
      "Despite some occasionally original touches, like the \\virtual sets\\\" that provide the background for the Victorian interiors featuring Ada Lovelace and her circle, this film falls short and ultimately disappoints. Newcomer Francesca Faridany seems talented, but is wasted as Emmy, a character who by mid-film is reduced to nothing more than staring at a monitor watching Lady Ada narrate an autobiography. 'Conceiving Ada' takes off briefly when Lady Ada (Tilda Swinton) appears; the camera lingers on her facial expressions, mannerisms, even making her appear to be translucent or momentarily invisible, apporting into scenes to dramatize Emmy's \\\"virtual\\\" rendering of her.<br /><br />A straightforward biopic of Ada Lovelace would have been worthwhile, but this film unfortunately makes a hash of both Lady Ada's life, and that of a modern-day computer scientist (and her broadly-drawn, doltish boyfriend).\"\n",
      "* * * * * * * * * \n",
      "14365\n",
      "I just came back from \\El Otro\\\" playing here in Buenos Aires and I have to say I was very disappointed. The film is very slow moving (don't get me wrong, I enjoy slow moving films!), slow to the point of driving you crazy. All you hear is Julio Chavez breathing heavily throughout the whole film. This is a poorly made film, but more importantly, it is a film without a lick of inspiration, I felt nothing for the story or its characters.<br /><br />\\\"El Otro\\\" was made only for the sake of making a film... making it forgetful. I would advise you to pass on this one, if you want to see good Argentinian films, look for films by Sorin.\"\n",
      "* * * * * * * * * \n",
      "14384\n",
      "The sun should set on this movie, forever.<br /><br />It goes on forever (which isn't usually a bad thing - The English Patient, Schindler's List) but is SO tedious. The aging of the actors is unbelievable and so is the drawn-out never-ending story line which really seems to go nowhere.<br /><br />In short, a waste of talent and film.\n",
      "* * * * * * * * * \n",
      "14386\n",
      "Hobgoblins....Hobgoblins....where do I begin?!?<br /><br />This film gives Manos - The Hands of Fate and Future War a run for their money as the worst film ever made. This one is fun to laugh at, where as Manos was just painful to watch. Hobgoblins will end up in a time capsule somewhere as the perfect movie to describe the term: \\80's cheeze\\\". The acting (and I am using this term loosely) is atrocious, the Hobgoblins are some of the worst puppets you will ever see, and the garden tool fight has to be seen to be believed. The movie was the perfect vehicle for MST3K, and that version is the only way to watch this mess. This movie gives Mike and the bots lots of ammunition to pull some of the funniest one-liners they have ever done. If you try to watch this without the help of Mike and the bots.....God help you!!\"\n",
      "* * * * * * * * * \n",
      "14565\n",
      "I was disgusted by this movie. No it wasn't because of the graphic sex scenes, it was because it ruined the image of Artemisia Gentileschi. This movie does not hold much truth about her and her art. It shows one piece of art work that she did (Judith Beheading Holofernese) but shows that being entered as testimony in the rape trial when she did not paint her first Judith for a year after the trial.<br /><br />I don't know if you understood this from the movie, probably not, Tassi was not a noble character. He RAPED Artemisia. It was not love, it was rape. He did not claim to accept false charges of rape to stop her from suffering while she was tortured. According to the rape transcripts he continued to claim that he never carnally knew Artemisia (aka had sex with) while she states over and over again \\It's true\\\".<br /><br />I encourage all of you people to go out and find about the real Artemisia and see what she is really about. Don't base all of your knowledge on this fictional movie. I encourage you to do some research, Artemisia really does have interesting story behind her and some amazing art work.<br /><br />Don't see the movie, but find out the true story of Artemisia.\"\n",
      "* * * * * * * * * \n",
      "14695\n",
      "Sixth escapade for Freddy Krueger in which he has finally managed to kill off virtually every youth in Springwood; now he wants to broaden his horizons and (**SPOILER**) needs a family member in order to do it.<br /><br />A failure as a horror movie because it simply ain't scary at all. Works better as a dark, macabre black comedy, to tell you the truth. Freddy Krueger has now been stripped of all of his ability to chill this viewer. (Too many wisecracks, that's for sure.) The actors aren't interesting (save Robert Englund, as always, and an obviously slumming Yaphet Kotto) and there are simply far too many visual effects. The finale is OK but doesn't provide as many sparks as I think one might hope.<br /><br />In adding a new twist to the familiar dream killer's story, it provides Englund the opportunity to do more non-makeup scenes than ever before.<br /><br />There are cameos worth noting: a joint cameo by then-couple Roseanne and Tom Arnold that is devoid of entertainment value, an appropriate appearance by veteran shock-rocker Alice Cooper, and a funny cameo by Johnny Depp that also sort of acknowledges the pop icon that he had become.<br /><br />Film debut of Breckin Meyer, who plays Spencer.<br /><br />One of the best things about it is the replaying of key scenes from earlier entries during the closing credits.<br /><br />4/10\n",
      "* * * * * * * * * \n",
      "14767\n",
      "This reboot is like a processed McDonald's meal compared to Ang Lee's very good but very underrated 2003 \\The Incredible Hulk\\\".<br /><br />Ang Lee's \\\"The Hulk\\\" is a comic book movie for the thinking person. The Hulk takes some time to appear (about 40 minutes), but when he does we see the conflict at our protagonist's core. He does his best to avoid losing control, but as he admits, when he does give in to his rage, he likes it.<br /><br />Now compare this to Edward Norton's turn, where there is no display of conflict in his personality, and he turns into the Hulk whenever he becomes excited and his pulse rate hits 200 beats per minute (not 183, not 197, but exactly 200). To this reviewer, this felt akin to the introduction of midi-chlorians in The Phantom Menace, which tell how strong the \\\"force\\\" is with one, as if mystical abilities can be gauged through a blood test. In the 2008 movie, all Ed Norton's Bruce Banner has to do is to keep his pulse rate under 200, as monitored by a device strapped onto his wrist. And for the record, it is extremely difficult to get one's pulse rate up to 200 even through a very exhilarating run, especially for a physically fit person.<br /><br />Emotions drive Eric Bana's Hulk. He has repressed memories of his mother's death and his father's role in his early life. On the surface he is calm, but there underneath there is significant anger, enough rage to fuel the Hulk when it is unleashed. But the Hulk never kills intentionally, even his attackers. Mostly, he just wants to get away or close to Betty Ross (Jennifer Connelly). He incapacitates his shooters and in one critical scene, saves a fighter jet pursuing him from a collision.<br /><br />In the 2003 movie, the visual effects are there, but as necessary. The action scenes (and there are plenty of them) are necessary to the plot, unlike the 2008 movie where action is inserted for the sake of action.<br /><br />In his quest to turn it into a \\\"fugitive\\\" story, Ed Norton loses focus on how Bruce Banner feels about the Hulk. To him, the Hulk is a dangerous side effect of an experiment went awry. And Louis Leterrier, the director picking up on Ed Norton's cue, fails to add any emotional dimension to the Banner-Hulk relationship. The story can be summed up as: Banner is pursued and Hulk kicks butt, Banner is pursed and Hulk kick butt. Repeat as necessary.<br /><br />The only thing that went against the 2003 movie is that it is perhaps not as true to the comic books as the 2008 version. However, even as I am a fan of the comics, I would prefer a movie that is not as true to the comics as a fanboy's dream but has heart over the comics-loyal but manufactured and soulless 2008 version any day.<br /><br />Perhaps Ang Lee should have read more comics. Iron Man, also released in 2008, is a perfect example of a movie that is true to its comic-book roots and has heart.\"\n",
      "* * * * * * * * * \n",
      "14878\n",
      "while watching this movie I got sick. I have been grewing up with Pippi and every time was a real pleasure. when my wife came to Sweden she was looking at the oldies and had a real good laugh. but this American version should be renamed and never be shown again. it is terrible from beginning to it's end. how can they manage to make it soo bad. well I guess someone blames the translation ha ha ha.. but they are never close to Pippi. may this movie never been seen again and never sent out on a broadcast. burn the movie and save the kids. if you want to look at Pippi then look at the original movie and have a good laugh. WE LOVE PIPPI INGER NILSSON, sorry Tami Erin you will never stand up to be Pippi.. Oh yes.. when read the \\spoilers\\\" explanation, \\\"'spoiling' a surprise and robbing the viewer of the suspense and enjoyment of the film.\\\" well I guess the director stands for this... you are looking at this movie at your own risk.. it is really a waste of time...\"\n",
      "* * * * * * * * * \n",
      "14913\n",
      "Claustrophobic camera angles that do not help the movie: Too long face only shots where you most of the time get the feeling that the lower half of the film is missing (that the screen is cut off), because there seems to be important actions going on, but you cannot see them. There is anyway already too much confusion in the movie, so these viewing angles make it worse and do not contribute to artful visuals. <br /><br />I like artfully made movies and unconventional camera work. I can handle deep and slow movies. But this one is trying too hard to be something artful and fails in my opinion painfully.<br /><br />Nothing to get attached to, to any of the characters, because they are not worked out well enough. To work out characters more is needed, than just minute long face shots, at least with this set of script+director+actors.<br /><br />I wonder whether some of the not so good acting is due to the script and director or due to the actors. <br /><br />I will stay away from films both written and directed by Le You for sure in the future. <br /><br />What an annoying film even for someone who would be interested in that part of history, and for someone who spent time in Shanghai.\n",
      "* * * * * * * * * \n",
      "14988\n",
      "Someone had a great idea: let's have Misty Mundae do her own, R-rated version of Lara Croft - firing two guns not only in skimpy outfits, but topless as well. It WAS indeed a great idea. The problem is that the people who had it couldn't come up with any sort of script or budget to support it. Therefore, we get a \\film\\\" that barely reaches medium length by replaying many of its parts (often in slow-motion), and was apparently shot entirely inside a garage. The appeal of Misty Mundae is still evident: she is unbelievably cute and has a natural girl-next-door beauty. However her two female co-stars here, with whom she shares a lengthy lesbian scene, are nowhere near her league. If \\\"Mummy Raider\\\" was presented as a Youtube video, I'd rate it higher, but as a \\\"film\\\" destined for DVD consumption it cannot get more than 1/2 a * out of 4.\"\n",
      "* * * * * * * * * \n",
      "15140\n",
      "This is just horrible, really horrible trash. Yes, we've got beautiful naked women dancing and having sex. But while this may work in the mechanism of a porn movie  may have even been a hit as a porn movie  this tries to mask itself as a \\film\\\" with actual things to say, with real emotion and struggle. It isn't. It's an excuse to get some girls naked and have a fun time. I'm sure all of these women (and men) in this particular movie could have faired decently in the porn movie business of the 1970s . . . but not in the actual movie business.<br /><br />The acting was hackneyed, so bad, I mean real terrible. The writing was even worse. I can't lay all blame on these actors  they had nothing to work with. The very broad structure or plot of the movie could possibly be done and done well with good writers and competent actors. The very broad structure or plot is that of a psychotic man who spends his time shooting people from afar, as a sniper. These shootings were motivated from men not respecting their women enough. If there was more writing - better writing, much better writing - and less gratuitous sexual imagery we might have something to work with.<br /><br />This movie should have been shot, made and marketed a hardcore porn movie all along; it would have made more money. It practically is a hardcore porn film already, and it remains the only non-porn movie I've seen that shows a male erect penis.\"\n",
      "* * * * * * * * * \n",
      "15168\n",
      "\\What the Bleep Do We Know!?\\\" was one of the worst times I have spent at the movies. It was less of a movie and more of an after school special, but at the same time nothing special at all. The attempt at a narrative in which they grounded their ideas was absolutely pathetic, which almost anyone will tell you. Marlee Matlin in her underwear just shouldn't happen. I won't dwell on it. What I will reveal is a criticism that many are unable to formulate. This movie, while tedious, also suffered a tremendous flaw in reasoning. It was horribly contradictory because it took such a manipulative, become a creator of your life, manifestation of abundance, shoeless piece of propaganda. Interconnectivity is explained as a large party of our existence. However, the movie encourages that we control our surroundings with our minds. It completely neglects that there are other people with minds that could be controlling us, which seems to be more the case. Or at least the structures in which we exist greatly limit us. In this way, the movie was inappropriately solipsistic. Solipsism and interconnectivity just don't mix unless you're God almighty. If you are, you will be impressed (?!?) by all the neat things this movie will reveal that You can do. If not, you will be sorely disappointed, a moron, or perhaps both. Also, the title is so ridiculous, I have trouble warning people not to see the movie because I feel retarded mentioning it by name. Shame on everyone involved.\"\n",
      "* * * * * * * * * \n",
      "15228\n",
      "The movie's storyline is pat and quaint. Two women travel through the middle east and discover themselves. Unfortunately, if you are looking for a movie about the middle east and central Asia this is absolutely terrible.<br /><br />The producers of the film either did no research or were unbelievably lazy when filming it. To begin with, and most glaringly incorrect, the Nuristanis, as they were known in the thirties, and indeed since the 1890s and their forceful conversion by Abdul-Rahman Shah of Aghnaistan, were not nomads. In fact they have not been nomads since the Aryan invasions of central Asia over three milenia ago.<br /><br />Second, the city that is filmed as Tehran is not Tehran, which is understandable, however the geography of the area around the city could not be more strikingly DIFFERENT than the city of Tehran, which is surrounded on all side by a large mountain range, which predominates all of the cities views.<br /><br />Third, Persian, despite the fact it is spoken in Iran and Afghanistan, is never heard in movie. When there are native speakers who do not speak in German they speak in Arabic. The 'Persian' guards at the border, in fact, say to each other 'Ma hadha rujal' (This is not a man) and not 'in mard nist' as it would be in Persian. Also, the love song between the Indian princess and one of the main characters is obviously in Spanish. While talking in the garden one of the main characters says that the Quran uses the words 'Ferdos' and 'jehaan' and makes some reference to drugs afterwords. These words certainly never appear in the Quran as they are Persian for Paradise (indeed, Ferdos and Paradise are very distant cognates between our languages) and 'World' respectively, though Jehaan is admittedly close to 'Jehennan' which is hell in Arabic. When they encounter the nomads in the desert the language spoken is also Arabic, this despite the fact that there are NO native speakers of Arabic in Iran and Afghanistan and its use is primarily religious, with some use in education at that time.<br /><br />When they are stopped in Iran before they reach the Afghan border the people they encounter are wholly unlike any Iranian group. Their tents are typically bedouin with carpets decorating the walls and a high profile. In Iran it is also extremely uncommon for people to wear Turbans unless they are a cleric. The language spoken is clearly Arabic from the initial greeting of 'Ahlan wa Sahlan.' When they do reach Kabul the desert they find themselves in is sandy, totally unlike the rock dirt that is found in the arid parts of the Hindu Kush mountain range. There is an absence of the light green scrub that covers the ground in the summer and spring. The area is also not wholly consumed by the extreme mountains of the mountain range that won its name, The Indian Killers, because of its difficult and limiting ground.<br /><br />In short, the story line is the only thing in this movie that holds any water and it is still weak and common place. It lacks any real draw to it, being merely the tale of two women trying to learning about themselves as they get to Nuristan, however, even that is still-born and no real development is felt, leaving the characters in the end just where they were in the beginning and nothing has changed except that world war two has broken loose. In short, this is a really bad movie that I would have rated at one star except for the good footage of Bedouin and the deserts of the Levant, even if they are misnamed.\n",
      "* * * * * * * * * \n",
      "15315\n",
      "This film should have been only 10 minutes. I mean there is really only 10 minute worth of watchable content in this thing (I even hesitate to call it a movie). The opening credits of the film was somehow promising. As the film begins by short comments of the man himself, you really rub your hands and stay tuned for more footage from Cohen's life. Well, Nick Cave does a reasonable job covering one of Cohen's famous songs. The length of Cave's performance makes you even more eager to see more of Cohen whose wit and well spoken words have already tickled your fancy. But as it turns out Cave's performance is only the start of lengthy super boring performances by literally a bunch of no ones who don't even have a minimal attraction to keep you on your seat. I mean what does the filmmaker really think? five-minute close-up shots of wanna be singers in a fake concert in Australia!!! What does the filmmaker really think to insult the audience by adding \\fake applause\\\" to these endless nasty performances. The film is a perfect torture that shows you very little of what you came to see. There is not a single footage of Cohen's past. In fact, except for a few photographs of his early days as a singer/poet there is absolutely nothing! If you add up all the minutes that Cohen talks it may not even reach 10 minutes. But these 10 minutes are tortuously presented bit by bit in between disastrous camera-work that captures some of the most unattractive people screaming Cohen's lyrics. If you ever decided to waste your money on this film, DON'T! just throw it in the garbage and at least save your time.\"\n",
      "* * * * * * * * * \n",
      "15381\n",
      "It's been said several times - not least by me - that watching an Eric Rohmer film is like watching paint dry; it seems that Monsieur Rohmer resents this (he doesn't deny it, but then how could he, he just resents it) so much so that his new movie, which may also be his last, Inch Allah, is set so far back in time that it's like watching woad dry. Those wonderful people who gave you the Nouvelle Vague, Cahiers du Cinema have already named it one of the best films of 2007 so that should give you some idea. Reality is not high on Rohmer's agenda so that in 5th Century France we have at one extreme a château that would not be out of place in the Loire valley whilst the only other dwelling we see is a rude wooden hut. The story involves nymphs and shepherds and as he often does Rohmer has cast it with unknowns who just happened to be passing so that the overall effect is that the annual class play at a school for Special Needs pupils was captured on film by accident. One is almost tempted to say 'Come back Godard, all is forgiven' but even this woeful production can't make me utter those words.\n",
      "* * * * * * * * * \n",
      "15452\n",
      "This film deserves another bad review. Consider one reviewer extolling the film's virtues that include 'no sex, violence or gore.' Uh, excuse me. The very set-up of the film has us watching as Cody's young comrade, with love of life and who has everything to live for is blown to bits leaving Cody holding his lifeless, bloody body. And, given the nature of war we know that Cody has seen horror on almost a daily basis. So much for those viewing this film with such rose glasses that the violence which defines Cody's persona is erased from viewer memory.<br /><br />Sans any family of his own Cody, like John Rambo, roams the country on his bike making the long trek to hometown USA in the guise of some place called Nevada City. No mention, no realization of the clear fact that Cody is damaged goods. We know this since his CO practically declares him so as he order Cody to 'get some rest' away from the death and destruction of war. This explains, as none seem to notice or care, Cody's obvious 'flat' effect. It is not bad acting. It is the flat effect of post traumatic stress disorder. Not guessing here, remember his CO ordered him off the battle field.<br /><br />How about that 'accidental' kiss as noted by another review. The fall was an accident, the kiss was not. How exactly was Cody 'respecting' Faith by hitting on her knowing full well she was spoken for? Now that was a non-family value moment. A moment which is then announced to the immediate universe as if posted on YouTube. Of course faith's lapse of fidelity as well as Cody's 'coming on' to a woman who plans to marry another is received in the spirit of the Xmas season, all CHEERING their cheaten' hearts and lips.<br /><br />We know little about Faith's fiancé except that she professes her love for him, she takes no longer than a nano second to accept his proposal (could have waited if any second thoughts), he is generous, he loves her to death, the family has nothing really against him, he believes marriage is based on compromises and the two have never discussed post marriage plans. No evil doers here.<br /><br />Asner is a fine actor given over the hill dialogue like 'we love you son....' 'You are part of our family' literally days after they have met a stranger named Cody. And the 'band of brothers' speech where the phrase was above all never intended to apply to virtual strangers off the battle field.<br /><br />Bottom line: This film is cotton candy Xmas fluff that betrays itself in major ways. Most grossly when it applauds Cody's disrespect for Faith by physically hitting on her knowing full well she is spoken for. By re-defining family as we know it to wit: accepting a virtual stranger as a full fledged loving member of the family because we all 'love you.' How many of you have done that or know anyone who has done that. NOT.\n",
      "* * * * * * * * * \n",
      "15587\n",
      "This is the best film the Derek couple has ever made and if you think this is a recommendation then you haven't seen any of the others. There are the usual ingredients: it is just as poorly acted as their other efforts, we can watch Bo disrobing or auditioning for wet T-shirt contests quite frequently, the story is just laughably idiotic, and the film takes itself much too seriously. And then: Orang Utans in Africa?<br /><br />But it has a few things going for it. Bo looks great, the production values (sets, costumes, etc.) are quite good, and this greatly enhances its camp value. In a strange way it is actually quite funny, simply because it tries to be serious and fails so badly.\n",
      "* * * * * * * * * \n",
      "15644\n",
      "I agree strongly with some of the other critics of this film. I found it incredibly silly (at best) and downright misleading, misinforming and harmful (at worst). Like others, I found this film to be an awful mix of \\real\\\" science and pseudoscientific, New Age propaganda. <br /><br />As a psychologist, I was especially offended by Candace Pert's contributions. True, I was not a fan of hers before this film, but her discourse on the \\\"consciousness\\\" of cells was one of the best examples of taking a term (\\\"consciousness\\\") that has a predictable meaning to most people and using it in such a distorted manner as to cause it to obscure rather than clarify. It is an old Orwellian mind-f**k that the master himself described so well in his superb essay \\\"Politics and the English Language.\\\" To refer to \\\"consciousness\\\" in this manner--indeed, to refer to this film as \\\"based in science\\\" in general (which is its clear intent)--is to use language in the same manner employed by Stalin when he labeled his slave-states \\\"democratic republics\\\" and Hitler when he called his party a \\\"socialist workers\\\" movement.<br /><br />I don't claim to really understand quantum physics. I know enough about it to know that to really understand it would take considerable study. Ah, but we Americans do love \\\"instant enlightenment,\\\" and that's what this mistake of a film tries to accomplish. If it ASKED questions, that would be one thing, but it clearly attempts to ask and ANSWER them, which no film could possibly do simply because we are far, far away from the answers (if they indeed exist).<br /><br />By the way, ethically this film needed a disclaimer about the association of several \\\"expert commentators\\\" with the Maharishi Mahesh Yogi (and TM), not to mention J.Z. Knight, who often speaks in her \\\"Ramtha\\\" voice. (I'm always amazed at this channeled 10,000 year-old Atlantean superman's grasp of 21st century concepts and terminology. But then again, this film argues that the past, present and future are all one and the same, so if Ramtha existed in Atlantis 10,000 years ago, I suppose he could exist now and tomorrow. Only, then how come his financial advice has been so incredibly bad for his followers? Oh, I forgot, I'm the creator of \\\"good\\\" and \\\"bad\\\" advice, so it's all my fault, not Ramtha's.)<br /><br />What a mess.\"\n",
      "* * * * * * * * * \n",
      "15789\n",
      "Well I must say this is probably the worst film I have seen this year! The jokes were extremely crude (wasn't expecting it from as PG movie)(Rated PG in Canada) and they weren't funny! With this great cast I at least expected some good acting but I didn't even get that. I am a huge Rainn Wilson fan and this is the first time I was extremely disappointed by his performance. Neither Luke Wilosn or Uma Thurman's characters are the least bit likable and i really could have cared less what happened to either of them. I didn't expect this at all as in the past I have really liked other movies by this director (Six Days, Seven Nights for example) This movie was NOT worth the $10 it cost me and i strongly encourage you not to see this movie. I guarantee that you will be like me begging for this movie to be over.\n",
      "* * * * * * * * * \n",
      "15948\n",
      "Definitely not worth the rental, but if you catch it on cable, you'll be pleasantly surprised by the cameos--Iman's appearance is especially self-deprecating. It's also an opportunity to watch all the male supporting cast members from The Sopranos typecast themselves.\n",
      "* * * * * * * * * \n",
      "15963\n",
      "the only value in this movie is basically to laugh at how bad it really is. with a plot that makes your average middle-school writer look good, and acting which is almost as good, it gets my bottom score. one of tom hanks very early films where he obviously didn't have the pleasure to be real picky. the best special effect of the movie consists of a guy dressed up in an incredibly fake rubber monster consume.\n",
      "* * * * * * * * * \n",
      "16011\n",
      "For starters, I would like to say that I'm a fan of the American Pie series. Even though 'the naked mile' and this one are the two worst, this one seems to be the downfall of the whole series.<br /><br />First of all, the best part of the film was that it was an American Pie film, which is always appreciated.<br /><br />However, there are tonnes of bad things to say about this film. First of all, the story has a very stale 'arc' structure. First, there is the introduction of the characters, then the pledging of the beta house and finally the Greek Olympiad. Each of which has exactly 25 minutes of length. Apart from the general staleness of the plot, there is little to no character development, which makes a double whammy of a bad plot.<br /><br />Apart from that, I deeply disliked the stereotyping in this film. That is, showing the jocks as the extremely cool, only-thinking-about-sex guys, and explicitly displaying the geeks as inferior. Also, it shows females only as sexual objects, and males as only wanting to treat the females as sexual objects.<br /><br />Apart from that, the acting was also poor. With perhaps the exception of Steve Talley.<br /><br />So, in the end, a generally horrid film, if seen from a critical point of view. If seen from a teen point of view, I guess that it's better, but this film is rated 18+ in most countries, so it shouldn't really be seen by minors.\n",
      "* * * * * * * * * \n",
      "16482\n",
      "One of the worst movies I've ever seen. Acting was terrible, both for the kids and the adults. Most to all characters showed no, little or not enough emotion. The lighting was terrible, and there were too many mess ups about the time of the day the film was shot (In the river scene where they just get their boat destroyed, there's 4 shots; The sheriff and Dad in the evening on their boat, Jillian and Molly in the evening swimming, the rest of the kids in the daytime *when it's supposed to in the evening* at the river bank, and the doctor, Beatrice, and Simonton at night but not in the evening getting off their boat.) The best acting in the movie was probably from the sheriff, Cappy (Although, there's a slip of character when the pulse detector *Whatever that thing is when people die, it beeps* shows Cappy has died, he still moves while it can still be heard beeping, and while the nurse extra checks his pulse manually, then it shows the pulse again, and THEN he finally dies.) I guess it's not going to be perfect, since it's an independent movie, but it still could be better. Not worth watching, honestly, even for kids. Might as well watch something good, like The Lion King or Toy Story if you're going to see anything you'll remember.\n",
      "* * * * * * * * * \n",
      "16531\n",
      "Couldn't believe it! Clipped sentences? Good grief! Know what? All true! Real people ever talk like this? Don't think so. Good girl! Stout fellow! Stiffen upper lip! Only reason given movie 2 instead of 0 Gary Cooper such a dish. Movie as a whole ridiculous unless you like watching endless biplane dogfights. Seemed endless, anyway. Think all Franchot Tone's dialogue dubbed. When Crawford and Young make a special effort to sound British they come over as Irish. Handy tip - we Brits clip words, not sentences. And somehow we manage to draaaaaaaawl at the same time. But that's only if we've been to a really good public (that's private to you) school.\n",
      "* * * * * * * * * \n",
      "16579\n",
      "John Scott (John Wayne) and partner Kansas Charlie (Eddy Chandler) are trail buddies who make their way to the Rattlesnake Gulch rodeo. Scott is a pretty fair contestant, but finds that unless he's willing to accept twenty five cents on the dollar in prize money from a crooked promoter, he'll have to collect his winnings at gunpoint. Quite coincidentally, bandits Pete (Al Ferguson) and Jim (Paul Fix) decide they'd like the rest of the rodeo take; they shoot promoter Farnsworth (Henry Hall), and make it look like Scott and Kansas Charlie are the killers. <br /><br />Wayne and Chandler use a running gag in the film where they're about to go at it with their fists over various trivialities. Each time Chandler takes a wild swing, Wayne foot stomps him and knocks him silly.<br /><br />If you're very attentive, there's a neat Lipton's Tea ad in one of the scenes in which Scott's love interest Anne (Mary Kornman) appears.<br /><br />Later on in the film, the buddies are framed once again over a stage robbery. Having a change of heart and seeing the error of his ways, bad guy Jim wants to come clean and confess to the sheriff, but Pete shoots him down. While being patched up, Jim tells his story to the doctor and his sister Anne. In an unbelievable scene, Anne marches right into the middle of a gunfight between the good guys and the villains to confront the sheriff.<br /><br />\\The Desert Trail\\\" is one of the blander John Wayne Westerns from Lone Star Productions during this era. Noticeably absent are George \\\"Gabby\\\" Hayes and Yakima Canutt, one or both are usually to be seen in these oaters. If you're a John Wayne fan though, you'll have to see it once, but that will probably be enough.\"\n",
      "* * * * * * * * * \n",
      "16586\n",
      "To say that Thunderbirds is a horrid, forced, in-your-face, ugly looking, nasty to listen to and painful to watch film wouldn't be saying enough. There are only two reasons I can think of why you'd watch this film: 1; you've seen Thunderbirds when you were young (like I did) and are curious as to what it is like but you will really only be watching to find out how badly they screwed things up. Or, 2; you're seeing it with someone under ten years old.<br /><br />Thunderbirds manages to cock up everything it attempts. The list goes on and on but there are other more subtle, humiliating things that are painfully obvious when you think about it. From the off, Thunderbirds is wrong, wrong, wrong. The whole moral message and 'goal' is set up in an excruciating way: Jeff Tracy (A new low for Bill Paxton) tells his youngest son Alan he's not yet proved himself to be a Thunderbird after Alan randomly and stupidly decided to go down into Tracy Island's bowels to fire up Thunderbird One. The whole film is then a series of events and miss-fires consisting of Alan trying to prove himself whilst his father and other brothers are trapped in space aboard Thunderbird five.<br /><br />The film relies on kid actors to carry the film: A 16 year old Alan Tracy (Corbet), a 16 year old Tin Tin (Hudgens) and a 14 year old Fermat (Fulton) who is Brains' son. To say that watching the 'adventures' they get up to is painful is an understatement. Frequently trying to act and utilise the script whilst combating the evil 'Hood' (Kingsley) in ridiculously unfunny and hammy ways acts as the entertainment for the duration of the film; it only differs when everyone's in a different location. Also, the whole 'mind control' thing was very tiresome and basically dragged the film down as it was overused and offered a way for our heroes to see a weakness in The Hood  forced and incidental.<br /><br />I know that most 'film's for kids' these days try to integrate some sort of material for adults but in Thunderbirds it's done in a way that fetishises Lady Penelope. Sophia Myles plays Penelope and I think it's no coincidence she's a little older than the rest of the kids  at 24 years old, it's almost too good to be true. Her scenes are often highly charged and carry an erotic push. We see her in the bath, bubbles up to her neck watching TV; in comes her butler and sneaks a peek as she seductively changes channels with her wet, bare and bubble covered foot. Frequent shots of her massive, bright pink high heeled shoes filling the screen during various scenes: This first happens when she is actually tied up with the second happening during a fist fight with another woman! Twinned with this, her bright pink costumes that reveal just enough yet cover just enough are particularly outstanding as is the way she moves and talks with that posh, dominant, English accent; sounding like a commanding mistress (Well, she is LADY Penelope after all  and you'd better make sure call her that) The whole thing is laughable but the editing is so quick that the kids won't notice but it sure as hell is there.<br /><br />The actual plot of The Hood doing all that he does just to rob a few banks is very bizarre, the characters that are his bodyguards: a geeky looking woman and hard bodied black man who gets agitated a lot. Are we supposed to be laughing at this? What about the fight scenes? Poorly choreographed stunts and what the hell was with the silly noises? It's utterly, utterly laughable.<br /><br />The list goes on. The way Bill Paxton plays it all so seriously, like he was told they were doing it one way but it was made another, the way Ford motor company have their logo slapped all over the place. News bulletin: sponsored by Ford, the camera even moves to endorse Ford several times when cars are in shot, the way the CGI looks like something out of a computer game video clip  it's infuriating. The fact we are told to believe that a 16 year old girl can swim in the freezing Thames, against the current, rescue a downed monorail (monorail over the Thames!?), get back to the hatch and thus; save the day all the time holding her breath. It is absolute bull and the makers know it  I don't even know if a 10 year old would swallow it.<br /><br />In short: avoid, avoid, avoid. Thunderbirds is infuriating, unfunny, poorly scripted and even the Rolls Royce was taken out and replaced by a flying car  everything that could go wrong, did go wrong.\n",
      "* * * * * * * * * \n",
      "16754\n",
      "Hines and Goforth, the perpetrators of this crime, begin on the wrong foot first step, by assuming that Wells wrote Gothic horror and that all of his lines are meant to be taken seriously. That simply isn't true. Wells was very much an inheritor of the Enlightenment, and his main concern was that Victorian self-satisfaction might leave the British unprepared for the world the new technology could produce - both the good and the bad.<br /><br />Two terrible consequences follow - the protagonist is portrayed as a wimpy screamer (I was reminded of Fay Wray in the original King Kong), rather than a man struggling to live out the ironies of an unbelievable catastrophe; and the dialog reeks of 'Victorianisms' uttered seriously that Welles clearly meant to be taken tongue in cheek.<br /><br />All of this looks suspiciously like Ed Wood with an enormous budget to waste on CGI effects - which by the way are so poorly accomplished, the Warner Bros. cartoon factory of the 1940s could have done a better job. (Gobs of spattered blood looked like red balloons, I expected them to float away any minute.) Think The Yellow Submarine as done by the old EC Comics.<br /><br />Worse yet is the loss of theme, which robs the film of any reason to exist. Although the makers of this film return the story to its Victorian era, they utterly miss the uncanny way Wells' story predicted many of the horrors of the First World War - a fact not unnoticed by Wells himself, who, after the war, reworked the theme in The Shape of Things to Come.<br /><br />Without any theme, all we have here are a lot of people running around getting blasted into cartoon balloons, when they're not trying out for a high school production of a drunken student's rewrite of Macbeth.<br /><br />Really, this is the worst, most senseless piece of drivel I have suffered through since a friend talked me into seeing the Eastern European cartoon \\Fantastic Planet\\\" thirty years ago. That film was so pretentiously dull, my friend and I and two total strangers gave up ridiculing it about half-way through, and sat near the screen playing cards, using the movie as light by which to see the cards - its only usefulness, as far as any of us could tell.<br /><br />But I already have electric lighting in my apartment, so I didn't need this put-down of Wells for anything.<br /><br />Do not avoid this film - steal every copy you can (don't pay a cent) and burn each and every one of them. God in his wisdom created us just for this purpose.\"\n",
      "* * * * * * * * * \n",
      "16760\n",
      "This is a film of immense appeal to a relatively well-defined group (of which I am not a part). I went to a preview of this movie not knowing what to expect - I ultimately found it disappointing. The history of a dreadfully dysfunctional (oftentimes downright \\twisted\\\") Hungarian Jewish family is not my cup of tea. An epic saga like this should really provide its viewers with something more in the end. Ultimately, pictures such as this are about the human condition - this picture cast almost no new light on any of its more meaningful facets.\"\n",
      "* * * * * * * * * \n",
      "16827\n",
      "I saw this film in its entirety in the 1960s & 70s, yes it IS gruesome, and could be the progenitor of the \\Faces of Death\\\" series popular in the 80s & 90s. Considering the state of so-called \\\"driver education\\\" these days, this one should be required viewing for everyone preparing to learn to drive. When you see violent death in all its gore & horror, you certainly (if you have any sensibility at all) get a truer perspective on the responsibilities required to drive safely, what one instant of thoughtlessness or inattentiveness at the wheel can do. I worked for Bell Telephone in the 70s & 80s, and at one point was assigned to conduct a safety class. I found this film in the company library, showed it at the session, a number of people got physically sick and had to leave the room! Incredibly, most of them later said \\\"I never knew a car accident could be so terrible!\\\" This film, and another, \\\"RED ASPHALT\\\", is certainly reality in its most graphic form. I'll never forget it, I only wish I could have found a copy when my children were attending \\\"driver's ed\\\" in high school!\"\n",
      "* * * * * * * * * \n",
      "17004\n",
      "Let me start out by saying this movie has 1 funny point at the very beginning with the exchange between the narrator and George: Narrator:Huh? Wait a minute! Who the heck are you? George: Me new George. Studio too cheap to pay Brendan Fraser. Narrator: How did you get the part? George: New George just lucky, I guess. <br /><br />Sadly, that's the only funny part in the entire movie.<br /><br />It was still entertaining...But then again, i'm easily entertained...<br /><br />I wouldn't say this is the worst movie i've ever seen (that title goes to the terribly un-funny Disaster Movie...), This movie falls #7 on my bottom 15 list...<br /><br />If your a small child who is easily entertained, you'll enjoy this movie. If you're a movie-watcher who wants a good, funny movie, You'll end up shooting yourself halfway through this one..\n",
      "* * * * * * * * * \n",
      "17080\n",
      "BRIEF ENCOUNTER is a ghastly and pointless remake of the 1945 David Lean classic, which was based on Noel Coward's play \\Still Life\\\". A doctor removes a particle of grit from a woman's eye at a railway station, he is in a miserable relationship, she is happily married social worker of Italian ancestry. They meet by accident on another occasion, form an instant attraction and arrange to meet each other every Wednesday. The pair fall in love, but after spending a few afternoons together they realise that they have no realistic chance of happiness and agree to part. Coward's original one-act play concerned two ordinary people who fall in love. Sophia Loren and Richard Burton, two Super Stars and veterans of Hollywood Epics, are nobody's idea of 'ordinary people'. Loren in particular is miscast - Sophia Loren in full make-up, looking like a million dollars, working as a part-time voluntary social worker at a Citizen Advice Bureau just doesn't ring true. Burton, looking haggard, with dyed hair, too much make-up and wearing platform shoes, doesn't come across as your average General Practitioner. That said, you can't really blame them for having an affair after seeing their spouses. Burton is married to a literary critic who spends her evenings penning poisonous reviews and who treats her husband with total contempt. Loren's husband, Jack Hedley, potters around the house all day and is terminally boring: the most exciting thing he has ever done is nearly have an affair six years previous. Their final scene together will induce nausea, (\\\"You've been a long, long way away\\\", etc.). That great British jobbing actor, John LeMesurier, has a three minute cameo as Burton's friend, and appears to be slightly inebriated, speaking his lines in a barely audible voice. It's a sad and forgettable performance in a dismal, awful rehash of a cinema classic. Avoid at all costs.\"\n",
      "* * * * * * * * * \n",
      "17085\n",
      "The only reason I even watched this was because I found it at my local library (and will berate them mercilessly for having wasted public monies on it), and despite the plethora of tits and ass, it didn't take long to realize that the fast-forward button was my friend. Terrible direction, pedestrian camera work, sporadically bad-to-nearly-passable acting, chintzy effects, and one of the worst screenplays I've had the displeasure of seeing brought to life (such as it was, horribly crippled and mutilated) in a long, long time. Best laughs actually come from the \\Making of...\\\" featurette, in which the poor saps involved with this HDV mess attempt to justify their lame efforts as if they had been working on something special, instead of something that won't be utterly forgotten next week. Wait! Except for the fact that somehow someone lured Tippi \\\"The Birds\\\" Hedren, of all people, into doing a bit part, along with Kane \\\"Friday the 13th\\\" Hodder! How this came to pass, I'll never know, and to be honest, I don't really care. Watch at your own risk, and don't say you haven't been warned. This is film-making at its pretentious, craven worst. It only gets a 2 from me for having some good-looking naked women, and even then, just barely.\"\n",
      "* * * * * * * * * \n",
      "17099\n",
      "Every once in a long while a movie will come along that will be so awful that I feel compelled to warn people. If I labor all my days and I can save but one soul from watching this movie, how great will be my joy.<br /><br />Where to begin my discussion of pain. For starters, there was a musical montage every five minutes. There was no character development. Every character was a stereotype. We had swearing guy, fat guy who eats donuts, goofy foreign guy, etc. The script felt as if it were being written as the movie was being shot. The production value was so incredibly low that it felt like I was watching a junior high video presentation. Have the directors, producers, etc. ever even seen a movie before? Halestorm is getting worse and worse with every new entry. The concept for this movie sounded so funny. How could you go wrong with Gary Coleman and a handful of somewhat legitimate actors. But trust me when I say this, things went wrong, VERY WRONG.\n",
      "* * * * * * * * * \n",
      "17185\n",
      "This is a total waste of money. The production is poor, the special effects are terrible. In my country they had the courage to put this film on video named as \\The Mummy\\\" because of the success of Brendan Fraser`s film. I`m sure that you can find better horror movies.\"\n",
      "* * * * * * * * * \n",
      "17186\n",
      "A black guy fights ..... and supposedly wins .... yeah ... 1/10. Obviously fiction.<br /><br />So we're presented with a damm nice title, a real nice tag line and even a nice plot line .. Thats about it, thats where it ends.. We move into fiction after that.<br /><br />Michael Jai White, the black guy so don't get confused with the name.. portrays a black guy.. Umm, thats all there is to the name..<br /><br />Its so hard to find decent help, must have hired the black guys friends to help cause the low budget, low ineptness of this movie, has the camera's shadow trailing the first scenes.... Yeah obvious idiot moment for the average guy like you and me.. but yeah...<br /><br />10 lines. review submitted,. if you paid to see this movie, you got screwed.\n",
      "* * * * * * * * * \n",
      "17191\n",
      "This is one of the worst-written movies I've ever had to sit through.<br /><br />The story's nothing new -- but it's a cartoon, so who cares, as long as it's pretty and fun? <br /><br />I'm not going to go as deep as the characterisations, or I'll be here all day (except to say that there aren't any; the characters change personality whenever it's convenient to the plot), but whoever wrote the script and visual direction should be forbidden access to so much as pencil and paper. Thumbs down? I'd vote to cut their thumbs off.<br /><br />\\Narrow in on an object/prop. Cut back to character close-up. Character gives a knowing look, which the audience will not even remotely understand. Repeat that several times, with different objects/props.\\\"<br /><br />\\\"Make the characters pay no attention at all the huge lumps of rock are floating around, crashing into each other, generally raining destruction all over, and which could kill them all at any moment -- but make them stop and gasp in fear when they see a harmless-looking, almost pastoral green rock in the distance.\\\" <br /><br />The whole thing is a long succession of events, actions, and behaviour that are only there for the convenience of the writer, to save him having to think or make any effort at all to write the story properly.<br /><br />This is the Plan 9 of CG cartoons, except that it doesn't have Ed Wood groan factor to make it fun to watch.<br /><br />Do yourselves a favour: spend your cartoon budget on Pixar movies.\"\n",
      "* * * * * * * * * \n",
      "17411\n",
      "I was interested in seeing this movie because I knew it was Christian based. The director had a good idea/intentions when making this movie but it could have been better. I can understand why someone would still have feelings for who they believe is the greatest love of their life. However, I didn't understand why the director made his friends so insensitive, mean and rude. The main character kept apologizing to his friends when they were the ones mean to him. They weren't understanding at all and they used God as a reason to explain their behaviors. The main character, nor anyone else didn't know if the ex-girlfriend was divorced, still married etc but they were against him resolving old feelings that needed to be dealt with. His friends were suppose to be Christians and should have been portrayed as being supportive whether they agreed with his decision or not. So many times we do things in life where we don't apologize to those we have hurt in the past and when he was trying to do this they were all against him. The ironic part was his new female friend accused him of having stalking behavior for simply looking up an old friend, when she did a really odd thing to get a hold of his name, address and phone number...she seemed to be the stalker!. she didn't seem like a friend at all but was only looking out for herself. God is love...and I think God wants people to be with the person they were meant to be with and i feel the movie did a terrible injustice by making it seem like God doesn't care about true love...only that you stay with someone you made a bad choice with. We all make mistakes...it's all about what steps you take to make amends. Like I said the movie had potential but I was tired of the one-sided point of view being constantly repeated and jammed down the viewers throat by his so-called...well-meaning friends. This movie didn't hold true to the Christian belief of love but i give it a C for its effort.\n",
      "* * * * * * * * * \n",
      "17475\n",
      "I saw this movie in the theater when I was a kid and always remember it as my first experience with getting ripped off by a horrible movie with a good commercial. The commercial was great, but it I found out later that it had every explosion or 'special effect' in the entire movie (about 4) and even some that weren't in the movie. There was some sort of plot relating to the aliens but the aliens were never actually shown in the movie as far as I remember. It was clearly a case of someone making a buck off a cheap movie designed to scam people. I guess my world of innocence ended that day, when I found out there were bad people out there who make bad bad movies.\n",
      "* * * * * * * * * \n",
      "17512\n",
      "After 30 seconds, you already realize that there was no real budget for this cheap knock-off. The story is taken from great movies like \\Texas Chainsaw Massacre\\\" and \\\"Hills have Eyes\\\". I like those kind of movies, even if they're duplicated well (Wrong Turn, Timber Falls, Carver). <br /><br />But \\\"Side Sho\\\" is hard to watch: the actors are really bad, the dialogue is cheesy and the music is stupid and totally misplaced. You do not care at all what happens to the characters. The so-called bad guys are also not interesting at all and rather stereotypical. So how about the blood and gore ? Well there is some, although it is rather cheap and the action is executed very poorly. 2 Points, just for the gore and blood but do understand that this is hardly worth a look, even for the gore-hounds..\"\n",
      "* * * * * * * * * \n",
      "17847\n",
      "End Game started well, the least said about the end the better. it seemed like things we're happening just to keep the plot going, for example the reporter who at first is a very inquisitive, intelligent person, half way through does something really stupid and totally out of character, we are given no reason for this apart from, the next scene wouldn't make sense without it. The whole story could have been told in about 30 minutes, it would have made an average TV political drama The brilliant Cuba Gooding Jr. is very watchable however and James Woods does an admirable job considering.<br /><br />The end game was honestly one of the worst films I've ever seen......and that's saying something, I've seen Gigli.\n",
      "* * * * * * * * * \n",
      "17927\n",
      "I have watched 3 episodes of Caveman, and I have no idea why I continue except maybe waiting for it to get better. <br /><br />To me this show is just pumping itself off the commercials, with no real humor. As we sat around watching these shows, we all speculated on what was going to happen.<br /><br />The episode of the woman cave-woman with a attitude was actually a big, yea right, for us. she's crude in a theater and acts tough to strangers, and truth be told, she needed a slap<br /><br />I consider myself a pretty good reviewer, taking in everything, but I must say, Cavemen is comparable to the old show, My mother, the car. I give it a 2, only because they deserve 1 better than a 1 because they actually spent money on it.\n",
      "* * * * * * * * * \n",
      "17955\n",
      "I couldn't give this film a bad rating or bad review for two reasons: Robin Williams and Toni Collete. The film has the potential of being a thriller and there are some slight disturbing elements that lean to the psychological which was something the film could have focused a little on. Robin Williams plays Gabriel Noon, a storytelling night time deejay who is going through personal issues: his lover moves out and Gabriel is having what seems to be a case of storyteller's block. One day he receives and reads a story written by a dying 14-year old boy named Pete Boland (Rory Culkin). Pete tells the story of his life and the abuse he suffered at the hands of his parents. He lives with his adopted mother and social worker, Donna Boland (Toni Collette). Gabriel is fascinated and begins a friendship with Pete, but things seem strange when Gabriel attempts to meet him and discovers the possibility that Pete Boland may not even exist. I won't go into detail because I don't want to spoil the film, but I will tell you this: it is quite predictable. Fascinating atmosphere for telling a story and good performances from Robin Williams and Toni Collette, who I thought was the film's key character. Collette is without question one of the most talented and loveliest actresses. Her ability to tap into the psyche and personality of the characters she portrays is very uncanny and I hope to see her win an Oscar (hell, I think she might pull off getting a Best Supporting Actress nod for this one if the script were a little better). The film starts off as a psychological thriller, but a predictable one at that. If your curious to know the film's ending and twists, then see the film otherwise I would rent another predictable thriller called \\Hide and Seek\\\".\"\n",
      "* * * * * * * * * \n",
      "18076\n",
      "I saw this movie in 1979, I was 17 or 18, when it was released. The theater was perhaps 1/4 full when the movie started. Ten minutes into the movie me and the friend who went with me to see the film were the only two people in the theater. The movie was really weird and had no plot or reason to its script and people demanded their money back. We decided to stay for the ENTIRE movie.... why endure such torture??... here's why. We wanted to be true movie critics... to have a standard to base all other movies on it is hard to justify saying you have seen the best movie (a 10)they always come up with something better. But, it is easy to be able to base all other movies off of the worst movie ever made (and this is it... a 1 at best). There may be other movies out there that truly qualify as a 1, but I have yet to see them. I now base all movies I see on a scale based on this worst....I AM A TRUE MOVIE CRITIC...he he.\n",
      "* * * * * * * * * \n",
      "18192\n",
      "I don't know where to start; the acting, the special effects and the writing are all about as bad as you can possibly imagine. I can't believe that the production staff reached a point where they said, \\Our job is done, time for it's release\\\". I'm just glad the first two in the series never made it as far as the UK. I would actually recommend watching this film just so you can appreciate how well made most films are.<br /><br />I don't know how any of the other IMDb users could find it scary when the \\\"terrifying\\\" dinosaurs waddle down corridors with rubber arms flailing around.\"\n",
      "* * * * * * * * * \n",
      "18229\n",
      "If you rent a movie titled \\Exterminators of the year 3000,\\\" the odds are good you know what you're getting yourself into. I myself was sold by the promising descriptions of \\\"nuke mutants,\\\" \\\"motor-psychos,\\\" and of course the \\\"exterminators\\\" themselves which, according to the back of the movie-store case, are all cavorting around a post-apocalyptic barren wasteland wreaking all sorts of mayhem. Let the wacky hijinks and low budget buffoonery ensue--at least, such were my hopes for this \\\"film.\\\"<br /><br />Now I like the occasional terrible movie, and if you're reading the comments on Exterminators of the Year 3000, you probably do too. That being said, I rated this film a solid \\\"1(awful)\\\"--not because I completely hated the film but because it is one of the most legitimately dreadful efforts at movie-making I have ever seen. The dialogue, the acting, the cinematography, the sound-editing, the editing in general, the plot, etc., etc., etc--all are worthy of what must surely be low spectator expectations given that marvelous title.<br /><br />So what is really \\\"good\\\" about this bad movie? It does have several of what my circle affectionately terms \\\"quality kills.\\\" A quality kill, for those few of you unfamiliar with the phrase, isn't a hard and fast term, but in general refers to someone killed in a particularly gruesome, creative, or ridiculous fashion.<br /><br />Exterminators of the Year 3000 also has a fair supply of \\\"dialogue-so-bad-it-becomes-funny,\\\" provided in great part by Crazy Bull, the aptly titled leader of the hapless motor-psycho gang--who incidentally also provide most of the quality kills (if you're hoping for big things from the nuke mutants, think again, they play essentially zero part in the movie...shucks!). Crazy Bull, however, is all you could ask for in a b-movie motor-psycho. Shakespearean paraphrase and oddly PG-style insults are all he knows how to say...and that's terrific.<br /><br />Despite its quality kills and bad dialogue, however, if you're looking for a truly entertaining bad movie, Exterminators of the Year 3000 does disappoint somewhat in that with its draw limited to things like silly and outdated special effects, quality killing, and bad dialogue, there is simply not enough to justify a full feature length, owing principally to the forty minutes or so in which the audience is forced to follow the characters in protracted and boring car \\\"chases\\\" and long desert hiking sequences...All in all, a pretty good awful movie, but hey, it's no Death Race 2000.\"\n",
      "* * * * * * * * * \n",
      "18365\n",
      "I actually intended to see this movie in the theatre. It was actually sold out. I actually went to see Solaris instead, which actually was the worst movie to be released in 2002.<br /><br />Victor Rosa (John Leguizamo), a tough, streetwise 'street pharmacist', freaks out when he sees a kid get shot, so he decides to go clean and invest all of his money with Jack (Peter Sarsgaard). Things seem to be going pretty well until Jack skips town with his girlfriend Trish (Denise Richards). This happened very late in the movie, so had they not revealed this in the preview, it might have been an interesting twist. But they did, so it's not.<br /><br />In fact, there's not a single interesting thing about this movie; everything is given away in the preview. If you saw even one preview, you saw the whole movie, so you might just want to think really hard to fill in the gaps. Go to the website, download the preview, save yourself $3.99. There is not a single surprise or twist in the entire film, other than how terrible the soundtrack is.<br /><br />I hope that whoever was in charge of writing the soundtrack was fired. Twice. Most of it is what music would be like if the only songs allowed to be released were Ricky Martin and Gloria Estefan duets, and (I may shatter the fabric of the space-time continuum with a concept as mind-numbing as this) they both had less talent and musical ability.<br /><br />The acting is at best poor, the script is at best a crime against humanity, and Denise Richards is at best 67% styrofoam and 33% ziploc bag. You know things are bad when John Leguizamo (he was in The Pest!) upstages the rest of the cast with his acting abilities.\n",
      "* * * * * * * * * \n",
      "18613\n",
      "I hate how this movie has absolutely no creative input. I know they're going for realism, but to be frank I just don't want realism. Realism is boring. If I want to see daily life, I'll uhm, live. Tell me an interesting story and we'll talk. I can deal with the low production values, hell I'm a sucker for low production values, but at least work in some good ideas. The direction only goes as far as grabbing a camcorder and walking around a bit, but obviously I'm supposed to dig that because it makes stuff so much more realistic. Hitchcock used to say drama was essentially life with the dull bits cut out. I can only conclude this is not drama, not by a long shot. We get to see Rosetta walking to someplace, Rosetta working in a bakery, Rosetta eating a waffle, Rosetta carrying around bags of far, Rosetta walking back home, Rosetta walking someplace...it's just not that entertaining. There isn't really a deeper meaning either. I got so bored I started looking for some reflections on life in this movie but it's just plain realism, the most overrated quality in the business. I guess I'm supposed to love this, but come on, there's nothing in there.\n",
      "* * * * * * * * * \n",
      "18637\n",
      "Since I had loved the Inspector Gadget cartoon in the 80's, I went to see this movie. I wasted my money. The plot was very thin. Also, the movie could not keep me interested for long. I was glad it was over.<br /><br />If you want to see Inspector Gadget, watch the cartoon instead. It was much better than the movie.\n",
      "* * * * * * * * * \n",
      "18656\n",
      "This film came recommended as a good action film, which I don't really think it is. I found the story convoluted and not all that easy to follow. There really isn't that much action until the end of the film and it's pretty dark and hard to see what's really happening. I was sure hoping for something different, but, alas, didn't find it here.\n",
      "* * * * * * * * * \n",
      "18714\n",
      "I watched this film version of R.D. Blackmore's classic novel as a substitute until the 2001 A&E version was released on video. And what a poor substitution it proved to be!!!!<br /><br />This version does not have the authentic, I-feel-like-I'm-there aspect of the A&E movie. The actors are, for the most part, wooden (with Sean Bean the exception) and the \\romance\\\" seems forced and contrived. In fact, there is no kissing until the end of the movie!!!! The triangle between John Ridd, Lorna Doone (or Lady Lorna Dugal, whichever you prefer)and the evil Carver Doone isn't mentioned or expanded upon. We don't get much insight into Carver here, or as to why he has some (if any) romantic feelings for Lorna. This movie cuts out many of the key and interesting characters of the novel, such as Counsellor Doone, and John's sharp-tongued youngest sister Lizzie which were crucial to the plot. The screenplay itself is lacking in conviction. The political intrigue also doesn't figure in the script. The way Lorna came into being with the Doones isn't true to the original story. Now, don't get me wrong, Clive Owen is a handsome and talented actor (watch Gosford Park and King Arthur for confirmation) but he comes across as bland and stoic throughout, and long hair (it may have been a bad wig) just doesn't suit him!!!! Polly Walker is a lovely and accomplished actress (see Enchanted April and Patriot Games, in which she also costarred with Sean Bean), but she appears colorless and lackluster. She has a cold sore on her lip that make-up can't hide, and the costumes don't seem authentic. The late Robert Stephens does a respectable turn as Sir Ensor Doone, although he only refers to Lorna as his favorite rather than his granddaughter, which she was reputed to be in the book. Also, it seems to me that Owen and Walker are too old for their roles (maybe it's the make-up) and the scenery is brown, cold, gray and barren, without so much of a hint of a sunny sky. I understand that it is set in Southwest England, but it is green there and they do get their sunshine!!! The portrayal of Tom Faggus' character and his \\\"death\\\", which doesn't happen in the novel, depresses the film even more. The one positive note is Sean Bean's performance as Carver. Although it doesn't even come close to matching Aidan Gillen's portrayal in the A&E movie, Bean does make one mean villain. In short, watch this only if you've got a few hours to kill, but don't expect anything exciting or for it to be true to the novel. See any other version ( but I highly recommend A&E's film) over this tired adaptation.\"\n",
      "* * * * * * * * * \n",
      "18794\n",
      "Humm, an Italian movie starred by David hasselhoff and Linda Blair, I wasn´t expecting very much, to be honest and in fact, I took even less than I was expecting. It doesn´t mean this movie is the worst I have seen because I have watched worse things than this but the plot was most of the times confusing and uninteresting and some good gore scenes are the only thing saving this. Apart from that you are going to love some special effects, they are really cheesy and bad. Now I only want to watch \\Troll 3\\\" by this same director, sure it is not going to be worse than that.\"\n",
      "* * * * * * * * * \n",
      "18814\n",
      "I found it a real task to sit through this film. The sound track was not the best and some of the accents made it difficult to understand what was being said. There was little to move the plot along and often the action simply stopped and there was a prolonged period of conversations which seemed extraneous to the movie. These conversations switched between family groups and the observer was left to try and piece together what the common thread was that tied them together. It is rare that I rate a film this low and do so in this case as the entire viewing experience left me thinking \\so what\\\" and \\\"why did I waste my time watching this.\\\"\"\n",
      "* * * * * * * * * \n",
      "19019\n",
      "Apparently Hollywood is just handing out money to anyone with a camera and the ability to speak. This movie was mind numbingly bad. The casting was terrible, the acting unspeakable, and the story filled with holes. Script? who needs script? I was surprised that the movie wasn't as verbally vulgar as I thought it would be, however I got enough shots of T&A to last me a lifetime. The movie was like listening to a 19 year old street racer with ADD (who decided to buy a car instead of go to college) tell a story. Being so poorly scripted, I thought the two brothers in the film were lovers at first. The scenes at the racetrack, along with the main female actor in the film kept making me think of Herbie: Fully Loaded. This is the kind of film is what Grindhouse modeled itself after...only the writers thought they were being serious.\n",
      "* * * * * * * * * \n",
      "19306\n",
      "This film is so bad and gets worse in every imaginable fashion. Its not just the poor acting and script nor is it the lame and perverse time one wastes on watching it. What really puts this film in my hall of shame is the apparent struggling that the writers and producers do with the film to try and make it funny. The actress replacing Jean Reno's descendant is to old and learned her lesson in the first film so they add a new girl who is to be married. Nearly all of the original extras and gags return however this time makes me want to ripe my eyes out of my sockets because it's a waste of perfectly good film. The torture of the constant camera cuts and shots in any scene in this movie can put the viewer into violent convolutions. This second film takes the successful original and drags it out of its coffin and parades the corpse out in the public square and perversely degrades not only the original idea and its legacy but our intelligence as well. This film unlike the spruce goose could not fly for it had no plot in the principals returning for a 'necklace'. No script since it was apparently written and added to daily. No attention to camera or shots in mind. Poor lighting and special effects done for the sake of doing so. This film would not even pass for a student film in basic Film 101. How this pile got through no one can tell. It was a big loosing investment and it appears that no one had the strength to put this unnatural cruel mistake out of our miseries. This movie has one good part ...its END! This film is my #1 worst film of all time, finally \\Howard The Duck\\\" is no longer the goose.\"\n",
      "* * * * * * * * * \n",
      "19307\n",
      "It looks like the brilliant team of Shonda Rhimes outsourced the writing of this one somewhere offshore, maybe to the MediocreLand? \\PP\\\" reminds me any one of the many tedious, promising at first but predictable within 1 season David Kelly flicks (Picket Fences, Ally McBeal, and now Boston Legal). The crazy cases they get are so outlandish, they barely evoke sympathy or sadness. And that's what actually makes good medical dramas tick - dramatic situations you are afraid of, \\\"This could be me\\\" sentiment. They are not funny either.<br /><br />The actors are quite good, but the plot lines are dead and cannot be brought back to live. I'm a therapist, and let me tell you - Amy Brennan plays the most unbelievably incompetent, unethical, untrained therapist. Whoever writes her stuff flunked the ethics and the transference/counter-transference courses in Stanford. Somebody should give them a Code of Ethics to read (the episode with the nose-bleeding wife and the therapist's involvement in it). No therapists are that bad.<br /><br />Women yearning for men who have moved on - had been done to death, we've all graduated \\\"Sex and the City\\\". Addison in her youthful aggression towards the guy she likes - very age-inappropriate, looks so unnatural on a woman over 40, and this otherwise talented actress doesn't believe it herself and doesn't deliver it very well. The only successful/palatable developments are Addison struggling with her decision to move to LA, and the \\\"Voodoo Dr\\\" and his coping with widowhood.<br /><br />This concept might work with a whole new writing team.\"\n",
      "* * * * * * * * * \n",
      "19380\n",
      "There is a key aspect of film that Jobson seems to have forgotten - it has the ability to tell a story by showing it to you. You don't need to tell the audience what to think, because they'll see it. The action here is interspersed with some of the most ponderous narration unleashed on the unsuspecting public - the purple prose of the sensitive fifth former. And it should be unnecessary because their is a fine cast here and some beautifully composed and shot visuals. Maybe Jobbo felt that the basic story needed a lit bit of support. And he may have been right, it lacks a basic credibility: 70s Edinburgh wasn't exactly full of beautiful brainy girls with a penchant for the Velvet Underground and a soft spot for a passing sociopath. From the too neat and new looking clothes that character wears to the cod intellectualism that tries to link it all together, it's all too contrived for my taste.\n",
      "* * * * * * * * * \n",
      "19467\n",
      "This is yet another depressing and boring film about AIDS and tragedy. It begins very uneventful and predictable and continues throughout the movie. I kept waiting for it to pick-up, but unfortunately it never did. The acting is fair, but the script needs A LOT of work. And if you're looking for the nudity, don't waste your time with these not so hot actors. Due to the poor sound quality and lack of captions, I missed 1/8 of the movie. If you have never seen over five gay films, or have recently come to terms with being gay, you may find this film interesting, otherwise it's your run-of-the-mill low budget movie. It ranks as one of the worst gay films I have ever seen.\n",
      "* * * * * * * * * \n",
      "19469\n",
      "I watched about 30 minutes into this film before I finally got sick of getting bludgeoned over the head with this movie. The soundtrack, the so-called 'plot', and each and every actor. It's like they all think they're the main part of the movie and scream \\NOTICE ME!\\\" over and over again. The bad guy has his bad-guy music going on and says sinister bad-guy-like things, just in case you didn't quite catch on. The good guy does brave and noble things just in case you didn't know he was the good guy. And oh lord, the plane scene. \\\"MY HUSBAND IS MISSING! OH MY GOD! IT'S IMPOSSIBLE THAT HE GOT UP TO STRETCH HIS LEGS OR GO TO THE TOILET OR ANYTHING, HE MUST BE MISSING!\\\" (And yes, I know, his clothes were still there, but honestly, she woke up and started to panic before she even had time to look at the damn seat he'd been in.)<br /><br />As a religious girl, I want to apologize to the world for wasting the film this was printed on.<br /><br />And I want my 30 minutes back.\"\n",
      "* * * * * * * * * \n",
      "19499\n",
      "Normally I would never rent a movie like this, because you know it's going to be bad just by looking at the box. I rented seven movies at the same time, including Nightmare on Elm Street 5, 6 and Wes Craven's New Nightmare. Unfortunately, when I got home I found out the videostore-guy gave me the wrong tape. In the box of Wes Craven's New Nightmare I found this lame movie.<br /><br />This movie is incredibly boring, the acting is bad and the plot doesn't make any sense. It's hard to write a good review, because I have no idea what the movie was really about. At the end of the movie you have more questions then answers.<br /><br />On 'Max Power's Scale of 1 to 10' I rate this movie: 1<br /><br />PS I would like to correct Corinthian's review (right below mine). He says Robert Englund is ripping off lingerie, riding horses naked, etc. The guy that did those things was Mahmoud, played by Juliano Mer, not by Robert Englund.\n",
      "* * * * * * * * * \n",
      "19654\n",
      "I was utterly disappointed by this movie. I had read some of the other reviews here and had much higher expectations. I expected a drama with more intense character development. But that never happens in the movie. Daniel-Day Lewis is a good actor, but not as good as some reviewers here would have us believe. I tought he repeated the same set of 4 or 5 movements in the movie. I would rate his performance 6 out of 10.<br /><br />Acting: 6 out of 10 Direction is 5 out of 10. Script is the worst: 2 out of 10. <br /><br />I deleted the movie from my DVR at 70 mins. into the movie. Much better movies out there than this...\n",
      "* * * * * * * * * \n",
      "19790\n",
      "Caught this by accident on a t.v. showing - and could hardly believe how utterly awful the whole experience was. By comparison, the original \\A Man Called Horse\\\" was spell-binding because it held one's interest throughout. But this piece of nonsense - words fail me. It was bad enough to have some kind of a \\\"story\\\" presented with all the impact of a wet loaf of bread, but that error was compounded by the obvious lack of subtitles throughout whenever the so-called \\\"Sioux\\\" spoke. For goodness sake, couldn't the film-makers have found enough North American Indians who were also actors and near-actors to perform as \\\"Indians\\\" in this farrago instead of the imposters they actually used? I also found it quite embarrassing watching Richard Harris cavorting all around the countryside at the obvious behest of the director standing just behind camera, telling him to run and jump from pointless Point A to pointless Point B just to make up film footage and minutes. Absolutely terrible in all respects!\"\n",
      "* * * * * * * * * \n",
      "19890\n",
      "Contains spoilers The movie plot can be summarized in a few sentences: Three guys go hunting in the forest. Two of them along other people get shot in the head without explanation. The last guy can stand in the clear, shout and do anything without getting shot. He gets to walk through an old factory and has the evil people walk right into his scope without a struggle. The villains are conveniently dressed in black and look like villains.<br /><br />That is the whole story, not summarized but in detail. Everything is drawn out with a guy standing ringing a door bell. We wait with him. Long shot of guys being bored in the woods and sleeping. We can take a nap with them. The one drawn out shot of following a female jogger could have been redeeming, if we could see her butt or boobs bouncing.<br /><br />There dialog is less then Terminator and it is not because there is so much action. The characters just don't talk. And, then they don't even have something corny to say like 'I'll be back.' If my buddy shot this on the weekend, I'd cheer for him, because it is quite a feat to figure out the camera controls. To pay money to rent this as a DVD is totally inappropriate.<br /><br />The one thing that is a little funny is the extra with the director telling, how they local police didn't realize that they were shooting and treated them like a random guy walking around with a gun. If they'd have filmed that, I'd be sure it would be more fun to watch then the movie.\n",
      "* * * * * * * * * \n"
     ]
    }
   ],
   "source": [
    "# false positives\n",
    "\n",
    "print(\"Examples of false positives:\")\n",
    "\n",
    "import random, time\n",
    "\n",
    "for i in range(0, len(ols_predictions)):\n",
    "    if (ols_predictions[i] == 1):\n",
    "        if (X_raw_train.iloc[i]['sentiment'] == 0):\n",
    "            if (random.uniform(0, 1) < 0.05): # to print only 5% of the false positives\n",
    "                print(i)\n",
    "                print(X_raw_train.iloc[i]['review'])\n",
    "                print('* * * * * * * * * ')\n"
   ]
  },
  {
   "cell_type": "markdown",
   "metadata": {},
   "source": [
    "---\n",
    "\n",
    "# <span style=\"color:red\">WARNING: Don't look at test set performance too much!</span>\n",
    "\n",
    "---\n",
    "\n",
    "The following cells show performance on your test set. Do not look at this too often! "
   ]
  },
  {
   "cell_type": "markdown",
   "metadata": {},
   "source": [
    "# Look at performance on the test set"
   ]
  },
  {
   "cell_type": "markdown",
   "metadata": {},
   "source": [
    "### MODEL: ordinary least squares"
   ]
  },
  {
   "cell_type": "code",
   "execution_count": 24,
   "metadata": {},
   "outputs": [
    {
     "name": "stdout",
     "output_type": "stream",
     "text": [
      "{'Pos': 2481, 'Neg': 2519, 'TP': 1082, 'TN': 1472, 'FP': 1047, 'FN': 1399, 'Accuracy': 0.5108, 'Precision': 0.5082198215124472, 'Recall': 0.43611446997178555, 'desc': 'ols_test'}\n"
     ]
    }
   ],
   "source": [
    "ols_performance_test = BinaryClassificationPerformance(ols.predict(X_test), y_test, 'ols_test')\n",
    "ols_performance_test.compute_measures()\n",
    "print(ols_performance_test.performance_measures)"
   ]
  },
  {
   "cell_type": "markdown",
   "metadata": {},
   "source": [
    "### MODEL: SVM, linear"
   ]
  },
  {
   "cell_type": "code",
   "execution_count": 25,
   "metadata": {},
   "outputs": [
    {
     "name": "stdout",
     "output_type": "stream",
     "text": [
      "{'Pos': 2481, 'Neg': 2519, 'TP': 1894, 'TN': 1976, 'FP': 543, 'FN': 587, 'Accuracy': 0.774, 'Precision': 0.7771850636027903, 'Recall': 0.7634018540910923, 'desc': 'svm_test'}\n"
     ]
    }
   ],
   "source": [
    "svm_performance_test = BinaryClassificationPerformance(svm.predict(X_test), y_test, 'svm_test')\n",
    "svm_performance_test.compute_measures()\n",
    "print(svm_performance_test.performance_measures)"
   ]
  },
  {
   "cell_type": "markdown",
   "metadata": {},
   "source": [
    "### MODEL: logistic regression"
   ]
  },
  {
   "cell_type": "code",
   "execution_count": 26,
   "metadata": {
    "scrolled": true
   },
   "outputs": [
    {
     "name": "stdout",
     "output_type": "stream",
     "text": [
      "{'Pos': 2481, 'Neg': 2519, 'TP': 1901, 'TN': 1959, 'FP': 560, 'FN': 580, 'Accuracy': 0.772, 'Precision': 0.7724502234863877, 'Recall': 0.766223297057638, 'desc': 'lgs_test'}\n"
     ]
    }
   ],
   "source": [
    "lgs_performance_test = BinaryClassificationPerformance(lgs.predict(X_test), y_test, 'lgs_test')\n",
    "lgs_performance_test.compute_measures()\n",
    "print(lgs_performance_test.performance_measures)"
   ]
  },
  {
   "cell_type": "markdown",
   "metadata": {},
   "source": [
    "### MODEL: Naive Bayes"
   ]
  },
  {
   "cell_type": "code",
   "execution_count": 27,
   "metadata": {},
   "outputs": [
    {
     "name": "stdout",
     "output_type": "stream",
     "text": [
      "{'Pos': 2481, 'Neg': 2519, 'TP': 1815, 'TN': 1929, 'FP': 590, 'FN': 666, 'Accuracy': 0.7488, 'Precision': 0.7546777546777547, 'Recall': 0.7315598548972189, 'desc': 'nbs_test'}\n"
     ]
    }
   ],
   "source": [
    "nbs_performance_test = BinaryClassificationPerformance(nbs.predict(X_test), y_test, 'nbs_test')\n",
    "nbs_performance_test.compute_measures()\n",
    "print(nbs_performance_test.performance_measures)"
   ]
  },
  {
   "cell_type": "markdown",
   "metadata": {},
   "source": [
    "### MODEL: Perceptron"
   ]
  },
  {
   "cell_type": "code",
   "execution_count": 28,
   "metadata": {},
   "outputs": [
    {
     "name": "stdout",
     "output_type": "stream",
     "text": [
      "{'Pos': 2481, 'Neg': 2519, 'TP': 1913, 'TN': 1952, 'FP': 567, 'FN': 568, 'Accuracy': 0.773, 'Precision': 0.7713709677419355, 'Recall': 0.7710600564288593, 'desc': 'prc_test'}\n"
     ]
    }
   ],
   "source": [
    "prc_performance_test = BinaryClassificationPerformance(prc.predict(X_test), y_test, 'prc_test')\n",
    "prc_performance_test.compute_measures()\n",
    "print(prc_performance_test.performance_measures)"
   ]
  },
  {
   "cell_type": "markdown",
   "metadata": {},
   "source": [
    "### MODEL: Ridge Regression Classifier"
   ]
  },
  {
   "cell_type": "code",
   "execution_count": 29,
   "metadata": {},
   "outputs": [
    {
     "name": "stdout",
     "output_type": "stream",
     "text": [
      "{'Pos': 2481, 'Neg': 2519, 'TP': 2367, 'TN': 842, 'FP': 1677, 'FN': 114, 'Accuracy': 0.6418, 'Precision': 0.5853115727002968, 'Recall': 0.9540507859733979, 'desc': 'rdg_test'}\n"
     ]
    }
   ],
   "source": [
    "rdg_performance_test = BinaryClassificationPerformance(rdg.predict(X_test), y_test, 'rdg_test')\n",
    "rdg_performance_test.compute_measures()\n",
    "print(rdg_performance_test.performance_measures)"
   ]
  },
  {
   "cell_type": "markdown",
   "metadata": {},
   "source": [
    "### MODEL: Random Forest Classifier"
   ]
  },
  {
   "cell_type": "code",
   "execution_count": 30,
   "metadata": {},
   "outputs": [
    {
     "name": "stdout",
     "output_type": "stream",
     "text": [
      "{'Pos': 2481, 'Neg': 2519, 'TP': 1935, 'TN': 1492, 'FP': 1027, 'FN': 546, 'Accuracy': 0.6854, 'Precision': 0.6532748143146523, 'Recall': 0.7799274486094316, 'desc': 'rdf_test'}\n"
     ]
    }
   ],
   "source": [
    "rdf_performance_test = BinaryClassificationPerformance(rdf.predict(X_test), y_test, 'rdf_test')\n",
    "rdf_performance_test.compute_measures()\n",
    "print(rdf_performance_test.performance_measures)"
   ]
  },
  {
   "cell_type": "markdown",
   "metadata": {},
   "source": [
    "### ROC plot to compare performance of various models and fits"
   ]
  },
  {
   "cell_type": "code",
   "execution_count": 31,
   "metadata": {},
   "outputs": [
    {
     "data": {
      "image/png": "[encoded data removed]",
      "text/plain": [
       "<Figure size 640x480 with 1 Axes>"
      ]
     },
     "metadata": {},
     "output_type": "display_data"
    }
   ],
   "source": [
    "fits = [ols_performance_test, svm_performance_test, lgs_performance_test, nbs_performance_test, prc_performance_test, rdg_performance_test, rdf_performance_test]\n",
    "\n",
    "for fit in fits:\n",
    "    plt.plot(fit.performance_measures['FP'] / fit.performance_measures['Neg'], \n",
    "             fit.performance_measures['TP'] / fit.performance_measures['Pos'], 'bo')\n",
    "    plt.text(fit.performance_measures['FP'] / fit.performance_measures['Neg'], \n",
    "             fit.performance_measures['TP'] / fit.performance_measures['Pos'], fit.desc)\n",
    "plt.axis([0, 1, 0, 1])\n",
    "plt.title('ROC plot: test set')\n",
    "plt.xlabel('False positive rate')\n",
    "plt.ylabel('True positive rate')\n",
    "plt.show()"
   ]
  },
  {
   "cell_type": "markdown",
   "metadata": {},
   "source": [
    "---\n",
    "\n",
    "# <span style=\"color:red\">SUBMISSION</span>\n",
    "\n",
    "---"
   ]
  },
  {
   "cell_type": "code",
   "execution_count": 32,
   "metadata": {},
   "outputs": [
    {
     "name": "stderr",
     "output_type": "stream",
     "text": [
      "[nltk_data] Downloading package stopwords to /Users/main/nltk_data...\n",
      "[nltk_data]   Package stopwords is already up-to-date!\n",
      "[nltk_data] Downloading package punkt to /Users/main/nltk_data...\n",
      "[nltk_data]   Package punkt is already up-to-date!\n",
      "Cleaning reviews: 100%|██████████████████| 25000/25000 [00:28<00:00, 873.02it/s]\n"
     ]
    },
    {
     "name": "stdout",
     "output_type": "stream",
     "text": [
      "main theme nostalgia loss innoc perhap surpris rate highli older viewer younger one anyon enjoy pace steadi constant full engag relationship interact natur show need tear emot scream fear shout violenc anger short lend readi structur perfect polish diamond small chang make inclus poem fit neatli truli masterpiec subtleti overwhelm beauti\n",
      "Shape of CountVectorizer X:\n",
      "(25000, 1011634)\n",
      "(25000, 1011636)\n",
      "Shape of X_test for submission:\n",
      "(25000, 1011636)\n",
      "SUCCESS!\n",
      "Number of rows in the submission test set (should be 25,000): \n"
     ]
    }
   ],
   "source": [
    "# read in test data for submission\n",
    "# CHANGE FILE PATH and my_random_seed number (any integer other than 74 will do):\n",
    "movie_data = pd.read_csv('moviereviews_test.tsv', sep='\\t')\n",
    "corpus_of_reviews = movie_data['review']\n",
    "\n",
    "corpus_of_reviews = clean_corpus_of_reviews(corpus_of_reviews)\n",
    "print(corpus_of_reviews[0])\n",
    "\n",
    "X_hv = vectorize_feature(corpus_of_reviews, test=True)\n",
    "X_tfidf_sparse = apply_term_frequency_weight_to_feature(X_hv, test=True)\n",
    "\n",
    "new_quant_features_sparse = create_additional_features()\n",
    "\n",
    "X_stacked_matrix_of_features = hstack([X_tfidf_sparse, new_quant_features_sparse])\n",
    "X = scale_matrix_of_features(X_stacked_matrix_of_features, test=True)\n",
    "\n",
    "raw_data, X_test_submission = create_training_and_test_sets(my_random_seed=92, test=True)\n",
    "\n",
    "print(\"Number of rows in the submission test set (should be 25,000): \")"
   ]
  },
  {
   "cell_type": "markdown",
   "metadata": {},
   "source": [
    "---\n",
    "\n",
    "Choose a <span style=\"color:red\">*single*</span> model for your submission. In this code, I am choosing the Ordinary Least Squares model fit, which is in the `ols` object. But you should choose the model that is performing the best for you! "
   ]
  },
  {
   "cell_type": "code",
   "execution_count": 33,
   "metadata": {},
   "outputs": [
    {
     "name": "stdout",
     "output_type": "stream",
     "text": [
      "0.49008\n"
     ]
    }
   ],
   "source": [
    "# store the id from the raw data\n",
    "my_submission = pd.DataFrame(raw_data[\"id\"])\n",
    "# concatenate predictions to the id\n",
    "my_submission[\"prediction\"] = lgs.predict(X_test_submission)\n",
    "# look at the proportion of positive predictions\n",
    "print(my_submission['prediction'].mean())"
   ]
  },
  {
   "cell_type": "code",
   "execution_count": 34,
   "metadata": {},
   "outputs": [
    {
     "data": {
      "text/html": [
       "<div>\n",
       "<style scoped>\n",
       "    .dataframe tbody tr th:only-of-type {\n",
       "        vertical-align: middle;\n",
       "    }\n",
       "\n",
       "    .dataframe tbody tr th {\n",
       "        vertical-align: top;\n",
       "    }\n",
       "\n",
       "    .dataframe thead th {\n",
       "        text-align: right;\n",
       "    }\n",
       "</style>\n",
       "<table border=\"1\" class=\"dataframe\">\n",
       "  <thead>\n",
       "    <tr style=\"text-align: right;\">\n",
       "      <th></th>\n",
       "      <th>id</th>\n",
       "      <th>review</th>\n",
       "    </tr>\n",
       "  </thead>\n",
       "  <tbody>\n",
       "    <tr>\n",
       "      <th>0</th>\n",
       "      <td>12311_10</td>\n",
       "      <td>Naturally in a film who's main themes are of m...</td>\n",
       "    </tr>\n",
       "    <tr>\n",
       "      <th>1</th>\n",
       "      <td>8348_2</td>\n",
       "      <td>This movie is a disaster within a disaster fil...</td>\n",
       "    </tr>\n",
       "    <tr>\n",
       "      <th>2</th>\n",
       "      <td>5828_4</td>\n",
       "      <td>All in all, this is a movie for kids. We saw i...</td>\n",
       "    </tr>\n",
       "    <tr>\n",
       "      <th>3</th>\n",
       "      <td>7186_2</td>\n",
       "      <td>Afraid of the Dark left me with the impression...</td>\n",
       "    </tr>\n",
       "    <tr>\n",
       "      <th>4</th>\n",
       "      <td>12128_7</td>\n",
       "      <td>A very accurate depiction of small time mob li...</td>\n",
       "    </tr>\n",
       "  </tbody>\n",
       "</table>\n",
       "</div>"
      ],
      "text/plain": [
       "         id                                             review\n",
       "0  12311_10  Naturally in a film who's main themes are of m...\n",
       "1    8348_2  This movie is a disaster within a disaster fil...\n",
       "2    5828_4  All in all, this is a movie for kids. We saw i...\n",
       "3    7186_2  Afraid of the Dark left me with the impression...\n",
       "4   12128_7  A very accurate depiction of small time mob li..."
      ]
     },
     "execution_count": 34,
     "metadata": {},
     "output_type": "execute_result"
    }
   ],
   "source": [
    "raw_data.head()"
   ]
  },
  {
   "cell_type": "code",
   "execution_count": 35,
   "metadata": {},
   "outputs": [
    {
     "data": {
      "text/html": [
       "<div>\n",
       "<style scoped>\n",
       "    .dataframe tbody tr th:only-of-type {\n",
       "        vertical-align: middle;\n",
       "    }\n",
       "\n",
       "    .dataframe tbody tr th {\n",
       "        vertical-align: top;\n",
       "    }\n",
       "\n",
       "    .dataframe thead th {\n",
       "        text-align: right;\n",
       "    }\n",
       "</style>\n",
       "<table border=\"1\" class=\"dataframe\">\n",
       "  <thead>\n",
       "    <tr style=\"text-align: right;\">\n",
       "      <th></th>\n",
       "      <th>id</th>\n",
       "      <th>prediction</th>\n",
       "    </tr>\n",
       "  </thead>\n",
       "  <tbody>\n",
       "    <tr>\n",
       "      <th>0</th>\n",
       "      <td>12311_10</td>\n",
       "      <td>1</td>\n",
       "    </tr>\n",
       "    <tr>\n",
       "      <th>1</th>\n",
       "      <td>8348_2</td>\n",
       "      <td>0</td>\n",
       "    </tr>\n",
       "    <tr>\n",
       "      <th>2</th>\n",
       "      <td>5828_4</td>\n",
       "      <td>1</td>\n",
       "    </tr>\n",
       "    <tr>\n",
       "      <th>3</th>\n",
       "      <td>7186_2</td>\n",
       "      <td>1</td>\n",
       "    </tr>\n",
       "    <tr>\n",
       "      <th>4</th>\n",
       "      <td>12128_7</td>\n",
       "      <td>1</td>\n",
       "    </tr>\n",
       "  </tbody>\n",
       "</table>\n",
       "</div>"
      ],
      "text/plain": [
       "         id  prediction\n",
       "0  12311_10           1\n",
       "1    8348_2           0\n",
       "2    5828_4           1\n",
       "3    7186_2           1\n",
       "4   12128_7           1"
      ]
     },
     "execution_count": 35,
     "metadata": {},
     "output_type": "execute_result"
    }
   ],
   "source": [
    "my_submission.head()"
   ]
  },
  {
   "cell_type": "code",
   "execution_count": 36,
   "metadata": {},
   "outputs": [
    {
     "data": {
      "text/plain": [
       "(25000, 2)"
      ]
     },
     "execution_count": 36,
     "metadata": {},
     "output_type": "execute_result"
    }
   ],
   "source": [
    "my_submission.shape"
   ]
  },
  {
   "cell_type": "code",
   "execution_count": 37,
   "metadata": {},
   "outputs": [],
   "source": [
    "# export submission file as pdf\n",
    "# CHANGE FILE PATH: \n",
    "my_submission.to_csv('moviereviews_submission.csv', index=False)"
   ]
  },
  {
   "cell_type": "markdown",
   "metadata": {},
   "source": [
    "# Submit to Canvas: 1) the CSV file that was written in the previous cell and 2) the url to the repository (GitHub or other) that contains your code and documentation"
   ]
  }
 ],
 "metadata": {
  "kernelspec": {
   "display_name": "Python 3 (ipykernel)",
   "language": "python",
   "name": "python3"
  },
  "language_info": {
   "codemirror_mode": {
    "name": "ipython",
    "version": 3
   },
   "file_extension": ".py",
   "mimetype": "text/x-python",
   "name": "python",
   "nbconvert_exporter": "python",
   "pygments_lexer": "ipython3",
   "version": "3.11.5"
  }
 },
 "nbformat": 4,
 "nbformat_minor": 2
}
