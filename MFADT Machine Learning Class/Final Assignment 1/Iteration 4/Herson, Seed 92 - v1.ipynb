{
 "cells": [
  {
   "cell_type": "markdown",
   "metadata": {},
   "source": [
    "# Movie reviews\n",
    "\n",
    "This notebook takes you though a complete iteration of Machine Learning Assignment 1 - Movie reviews. The assignment details (including links to download the data) can be found [here](https://docs.google.com/document/d/1WGYw99e5q6j5V0Zrf2HveagU6URt_kVvdR8B9HYQ99E/edit?usp=sharing). "
   ]
  },
  {
   "cell_type": "code",
   "execution_count": 1,
   "metadata": {},
   "outputs": [],
   "source": [
    "# all imports and magic commands\n",
    "import numpy as np\n",
    "import pandas as pd\n",
    "import matplotlib.pyplot as plt\n",
    "from my_measures import BinaryClassificationPerformance\n",
    "from sklearn.feature_extraction.text import HashingVectorizer\n",
    "from sklearn.feature_extraction.text import CountVectorizer\n",
    "from sklearn.feature_extraction.text import TfidfTransformer\n",
    "from scipy.sparse import csr_matrix, hstack\n",
    "from sklearn.preprocessing import StandardScaler\n",
    "from sklearn.model_selection import train_test_split\n",
    "%matplotlib inline"
   ]
  },
  {
   "cell_type": "markdown",
   "metadata": {},
   "source": [
    "### IMPORTANT!!! Make sure you are using `BinaryClassificationPerformance` v1.02"
   ]
  },
  {
   "cell_type": "code",
   "execution_count": 2,
   "metadata": {},
   "outputs": [
    {
     "name": "stdout",
     "output_type": "stream",
     "text": [
      "Help on class BinaryClassificationPerformance in module my_measures:\n",
      "\n",
      "class BinaryClassificationPerformance(builtins.object)\n",
      " |  BinaryClassificationPerformance(predictions, labels, desc, probabilities=None)\n",
      " |  \n",
      " |  Performance measures to evaluate the fit of a binary classification model, v1.02\n",
      " |  \n",
      " |  Methods defined here:\n",
      " |  \n",
      " |  __init__(self, predictions, labels, desc, probabilities=None)\n",
      " |      Initialize attributes: predictions-vector of predicted values for Y, labels-vector of labels for Y\n",
      " |  \n",
      " |  compute_measures(self)\n",
      " |      Compute performance measures defined by Flach p. 57\n",
      " |  \n",
      " |  img_indices(self)\n",
      " |      Get the indices of true and false positives to be able to locate the corresponding images in a list of image names\n",
      " |  \n",
      " |  ----------------------------------------------------------------------\n",
      " |  Data descriptors defined here:\n",
      " |  \n",
      " |  __dict__\n",
      " |      dictionary for instance variables (if defined)\n",
      " |  \n",
      " |  __weakref__\n",
      " |      list of weak references to the object (if defined)\n",
      "\n"
     ]
    }
   ],
   "source": [
    "help(BinaryClassificationPerformance)"
   ]
  },
  {
   "cell_type": "markdown",
   "metadata": {},
   "source": [
    "# Function for feature building and extraction on natural language data"
   ]
  },
  {
   "cell_type": "code",
   "execution_count": 3,
   "metadata": {},
   "outputs": [],
   "source": [
    "# function that takes raw data and completes all preprocessing required before model fits\n",
    "def process_raw_data(fn, my_random_seed, test=False):\n",
    "    # read and summarize data\n",
    "    movie_data = pd.read_csv(fn, sep='\\t')\n",
    "    print(\"movie_data is:\", type(movie_data))\n",
    "    print(\"movie_data has\", movie_data.shape[0], \"rows and\", movie_data.shape[1], \"columns\", \"\\n\")\n",
    "    print(\"the data types for each of the columns in movie_data:\")\n",
    "    print(movie_data.dtypes, \"\\n\")\n",
    "    print(\"the first 10 rows in movie_data:\")\n",
    "    print(movie_data.head(5))\n",
    "    if (not test):\n",
    "        print(\"The rate of 'good' movie reviews in the dataset: \")\n",
    "        print(movie_data['sentiment'].mean())\n",
    "\n",
    "    # vectorize Bag of Words from review text; as sparse matrix\n",
    "    if (not test): # fit_transform()\n",
    "        cv = CountVectorizer()\n",
    "        X_cv = cv.fit_transform(movie_data.review)\n",
    "        fitted_transformations.append(cv)\n",
    "        print(\"Shape of CountVectorizer X:\")\n",
    "        print(X_cv.shape)\n",
    "    else: # transform() \n",
    "        X_cv = fitted_transformations[0].transform(movie_data.review)\n",
    "        print(\"Shape of CountVectorizer X:\")\n",
    "        print(X_cv.shape)\n",
    "    \n",
    "    # http://scikit-learn.org/stable/modules/generated/sklearn.feature_extraction.text.TfidfTransformer.html\n",
    "    if (not test):\n",
    "        transformer = TfidfTransformer()\n",
    "        X_tfidf = transformer.fit_transform(X_cv)\n",
    "        fitted_transformations.append(transformer)\n",
    "    else:\n",
    "        X_tfidf = fitted_transformations[1].transform(X_cv)\n",
    "    \n",
    "    # create additional quantitative features\n",
    "    # features from Amazon.csv to add to feature set\n",
    "    movie_data['word_count'] = movie_data['review'].str.split(' ').str.len()\n",
    "    movie_data['punc_count'] = movie_data['review'].str.count(\"\\.\")\n",
    "\n",
    "    X_quant_features = movie_data[[\"word_count\", \"punc_count\"]]\n",
    "    print(\"Look at a few rows of the new quantitative features: \")\n",
    "    print(X_quant_features.head(10))\n",
    "    \n",
    "    # Combine all quantitative features into a single sparse matrix\n",
    "    X_quant_features_csr = csr_matrix(X_quant_features)\n",
    "    X_combined = hstack([X_tfidf, X_quant_features_csr])\n",
    "    X_matrix = csr_matrix(X_combined) # convert to sparse matrix\n",
    "    print(\"Size of combined bag of words and new quantitative variables matrix:\")\n",
    "    print(X_matrix.shape)\n",
    "    \n",
    "    # Create `X`, scaled matrix of features\n",
    "    # feature scaling\n",
    "    if (not test):\n",
    "        sc = StandardScaler(with_mean=False)\n",
    "        X = sc.fit_transform(X_matrix)\n",
    "        fitted_transformations.append(sc)\n",
    "        print(X.shape)\n",
    "        y = movie_data['sentiment']\n",
    "    else:\n",
    "        X = fitted_transformations[2].transform(X_matrix)\n",
    "        print(X.shape)\n",
    "    \n",
    "    # Create Training and Test Sets\n",
    "    # enter an integer for the random_state parameter; any integer will work\n",
    "    if (test):\n",
    "        X_submission_test = X\n",
    "        print(\"Shape of X_test for submission:\")\n",
    "        print(X_submission_test.shape)\n",
    "        print('SUCCESS!')\n",
    "        return(movie_data, X_submission_test)\n",
    "    else: \n",
    "        X_train, X_test, y_train, y_test, X_raw_train, X_raw_test = train_test_split(X, y, movie_data, test_size=0.2, random_state=my_random_seed)\n",
    "        print(\"Shape of X_train and X_test:\")\n",
    "        print(X_train.shape)\n",
    "        print(X_test.shape)\n",
    "        print(\"Shape of y_train and y_test:\")\n",
    "        print(y_train.shape)\n",
    "        print(y_test.shape)\n",
    "        print(\"Shape of X_raw_train and X_raw_test:\")\n",
    "        print(X_raw_train.shape)\n",
    "        print(X_raw_test.shape)\n",
    "        print('SUCCESS!')\n",
    "        return(X_train, X_test, y_train, y_test, X_raw_train, X_raw_test)"
   ]
  },
  {
   "cell_type": "markdown",
   "metadata": {},
   "source": [
    "# Create training and test sets from function"
   ]
  },
  {
   "cell_type": "code",
   "execution_count": 4,
   "metadata": {},
   "outputs": [
    {
     "name": "stdout",
     "output_type": "stream",
     "text": [
      "movie_data is: <class 'pandas.core.frame.DataFrame'>\n",
      "movie_data has 25000 rows and 3 columns \n",
      "\n",
      "the data types for each of the columns in movie_data:\n",
      "id           object\n",
      "sentiment     int64\n",
      "review       object\n",
      "dtype: object \n",
      "\n",
      "the first 10 rows in movie_data:\n",
      "       id  sentiment                                             review\n",
      "0  5814_8          1  With all this stuff going down at the moment w...\n",
      "1  2381_9          1  \\The Classic War of the Worlds\\\" by Timothy Hi...\n",
      "2  7759_3          0  The film starts with a manager (Nicholas Bell)...\n",
      "3  3630_4          0  It must be assumed that those who praised this...\n",
      "4  9495_8          1  Superbly trashy and wondrously unpretentious 8...\n",
      "The rate of 'good' movie reviews in the dataset: \n",
      "0.5\n",
      "Shape of CountVectorizer X:\n",
      "(25000, 74849)\n",
      "Look at a few rows of the new quantitative features: \n",
      "   word_count  punc_count\n",
      "0         433          20\n",
      "1         158          16\n",
      "2         378          20\n",
      "3         379           8\n",
      "4         367           9\n",
      "5          89           5\n",
      "6         112           9\n",
      "7         132           9\n",
      "8         163           7\n",
      "9          43           5\n",
      "Size of combined bag of words and new quantitative variables matrix:\n",
      "(25000, 74851)\n",
      "(25000, 74851)\n",
      "Shape of X_train and X_test:\n",
      "(20000, 74851)\n",
      "(5000, 74851)\n",
      "Shape of y_train and y_test:\n",
      "(20000,)\n",
      "(5000,)\n",
      "Shape of X_raw_train and X_raw_test:\n",
      "(20000, 5)\n",
      "(5000, 5)\n",
      "SUCCESS!\n",
      "Number of fits stored in `fitted_transformations` list: \n",
      "3\n"
     ]
    }
   ],
   "source": [
    "# create an empty list to store any use of fit_transform() to transform() later\n",
    "# it is a global list to store model and feature extraction fits\n",
    "fitted_transformations = []\n",
    "\n",
    "# CHANGE FILE PATH and my_random_seed number (any integer other than 74 will do): \n",
    "X_train, X_test, y_train, y_test, X_raw_train, X_raw_test = process_raw_data(fn='moviereviews_train.tsv', my_random_seed=92)\n",
    "\n",
    "print(\"Number of fits stored in `fitted_transformations` list: \")\n",
    "print(len(fitted_transformations))"
   ]
  },
  {
   "cell_type": "markdown",
   "metadata": {},
   "source": [
    "# Fit (and tune) Various Models"
   ]
  },
  {
   "cell_type": "markdown",
   "metadata": {},
   "source": [
    "### MODEL: SVM, linear"
   ]
  },
  {
   "cell_type": "code",
   "execution_count": 5,
   "metadata": {},
   "outputs": [
    {
     "name": "stdout",
     "output_type": "stream",
     "text": [
      "{'Pos': 10019, 'Neg': 9981, 'TP': 9635, 'TN': 9834, 'FP': 147, 'FN': 384, 'Accuracy': 0.97345, 'Precision': 0.9849723982825598, 'Recall': 0.9616728216388861, 'desc': 'svm_0_000001_train'}\n"
     ]
    },
    {
     "name": "stderr",
     "output_type": "stream",
     "text": [
      "/Users/main/anaconda3/lib/python3.11/site-packages/sklearn/svm/_classes.py:32: FutureWarning: The default value of `dual` will change from `True` to `'auto'` in 1.5. Set the value of `dual` explicitly to suppress the warning.\n",
      "  warnings.warn(\n"
     ]
    }
   ],
   "source": [
    "from sklearn.svm import LinearSVC\n",
    "svm_0_000001 = LinearSVC(C = 0.000001, max_iter=10000)\n",
    "svm_0_000001.fit(X_train, y_train)\n",
    "\n",
    "svm_0_000001_performance_train = BinaryClassificationPerformance(svm_0_000001.predict(X_train), y_train, 'svm_0_000001_train')\n",
    "svm_0_000001_performance_train.compute_measures()\n",
    "print(svm_0_000001_performance_train.performance_measures)"
   ]
  },
  {
   "cell_type": "code",
   "execution_count": 6,
   "metadata": {},
   "outputs": [
    {
     "name": "stderr",
     "output_type": "stream",
     "text": [
      "/Users/main/anaconda3/lib/python3.11/site-packages/sklearn/svm/_classes.py:32: FutureWarning: The default value of `dual` will change from `True` to `'auto'` in 1.5. Set the value of `dual` explicitly to suppress the warning.\n",
      "  warnings.warn(\n"
     ]
    },
    {
     "name": "stdout",
     "output_type": "stream",
     "text": [
      "{'Pos': 10019, 'Neg': 9981, 'TP': 9967, 'TN': 9952, 'FP': 29, 'FN': 52, 'Accuracy': 0.99595, 'Precision': 0.9970988395358144, 'Recall': 0.9948098612635992, 'desc': 'svm_0_00001_train'}\n"
     ]
    }
   ],
   "source": [
    "from sklearn.svm import LinearSVC\n",
    "svm_0_00001 = LinearSVC(C = 0.00001, max_iter=10000)\n",
    "svm_0_00001.fit(X_train, y_train)\n",
    "\n",
    "svm_0_00001_performance_train = BinaryClassificationPerformance(svm_0_00001.predict(X_train), y_train, 'svm_0_00001_train')\n",
    "svm_0_00001_performance_train.compute_measures()\n",
    "print(svm_0_00001_performance_train.performance_measures)"
   ]
  },
  {
   "cell_type": "code",
   "execution_count": 7,
   "metadata": {},
   "outputs": [
    {
     "name": "stderr",
     "output_type": "stream",
     "text": [
      "/Users/main/anaconda3/lib/python3.11/site-packages/sklearn/svm/_classes.py:32: FutureWarning: The default value of `dual` will change from `True` to `'auto'` in 1.5. Set the value of `dual` explicitly to suppress the warning.\n",
      "  warnings.warn(\n"
     ]
    },
    {
     "name": "stdout",
     "output_type": "stream",
     "text": [
      "{'Pos': 10019, 'Neg': 9981, 'TP': 10019, 'TN': 9981, 'FP': 0, 'FN': 0, 'Accuracy': 1.0, 'Precision': 1.0, 'Recall': 1.0, 'desc': 'svm_0_0001_train'}\n"
     ]
    }
   ],
   "source": [
    "from sklearn.svm import LinearSVC\n",
    "svm_0_0001 = LinearSVC(C = 0.0001, max_iter=10000)\n",
    "svm_0_0001.fit(X_train, y_train)\n",
    "\n",
    "svm_0_0001_performance_train = BinaryClassificationPerformance(svm_0_0001.predict(X_train), y_train, 'svm_0_0001_train')\n",
    "svm_0_0001_performance_train.compute_measures()\n",
    "print(svm_0_0001_performance_train.performance_measures)"
   ]
  },
  {
   "cell_type": "code",
   "execution_count": 8,
   "metadata": {},
   "outputs": [
    {
     "name": "stderr",
     "output_type": "stream",
     "text": [
      "/Users/main/anaconda3/lib/python3.11/site-packages/sklearn/svm/_classes.py:32: FutureWarning: The default value of `dual` will change from `True` to `'auto'` in 1.5. Set the value of `dual` explicitly to suppress the warning.\n",
      "  warnings.warn(\n"
     ]
    },
    {
     "name": "stdout",
     "output_type": "stream",
     "text": [
      "{'Pos': 10019, 'Neg': 9981, 'TP': 10019, 'TN': 9981, 'FP': 0, 'FN': 0, 'Accuracy': 1.0, 'Precision': 1.0, 'Recall': 1.0, 'desc': 'svm_0_001_train'}\n"
     ]
    }
   ],
   "source": [
    "from sklearn.svm import LinearSVC\n",
    "svm_0_001 = LinearSVC(C = 0.001, max_iter=10000)\n",
    "svm_0_001.fit(X_train, y_train)\n",
    "\n",
    "svm_0_001_performance_train = BinaryClassificationPerformance(svm_0_001.predict(X_train), y_train, 'svm_0_001_train')\n",
    "svm_0_001_performance_train.compute_measures()\n",
    "print(svm_0_001_performance_train.performance_measures)"
   ]
  },
  {
   "cell_type": "code",
   "execution_count": 9,
   "metadata": {},
   "outputs": [
    {
     "name": "stderr",
     "output_type": "stream",
     "text": [
      "/Users/main/anaconda3/lib/python3.11/site-packages/sklearn/svm/_classes.py:32: FutureWarning: The default value of `dual` will change from `True` to `'auto'` in 1.5. Set the value of `dual` explicitly to suppress the warning.\n",
      "  warnings.warn(\n"
     ]
    },
    {
     "name": "stdout",
     "output_type": "stream",
     "text": [
      "{'Pos': 10019, 'Neg': 9981, 'TP': 10019, 'TN': 9981, 'FP': 0, 'FN': 0, 'Accuracy': 1.0, 'Precision': 1.0, 'Recall': 1.0, 'desc': 'svm_0_01_train'}\n"
     ]
    }
   ],
   "source": [
    "from sklearn.svm import LinearSVC\n",
    "svm_0_01 = LinearSVC(C = 0.01, max_iter=10000)\n",
    "svm_0_01.fit(X_train, y_train)\n",
    "\n",
    "svm_0_01_performance_train = BinaryClassificationPerformance(svm_0_01.predict(X_train), y_train, 'svm_0_01_train')\n",
    "svm_0_01_performance_train.compute_measures()\n",
    "print(svm_0_01_performance_train.performance_measures)"
   ]
  },
  {
   "cell_type": "code",
   "execution_count": 10,
   "metadata": {},
   "outputs": [
    {
     "name": "stderr",
     "output_type": "stream",
     "text": [
      "/Users/main/anaconda3/lib/python3.11/site-packages/sklearn/svm/_classes.py:32: FutureWarning: The default value of `dual` will change from `True` to `'auto'` in 1.5. Set the value of `dual` explicitly to suppress the warning.\n",
      "  warnings.warn(\n"
     ]
    },
    {
     "name": "stdout",
     "output_type": "stream",
     "text": [
      "{'Pos': 10019, 'Neg': 9981, 'TP': 10019, 'TN': 9981, 'FP': 0, 'FN': 0, 'Accuracy': 1.0, 'Precision': 1.0, 'Recall': 1.0, 'desc': 'svm_0_1_train'}\n"
     ]
    }
   ],
   "source": [
    "from sklearn.svm import LinearSVC\n",
    "svm_0_1 = LinearSVC(C = 0.1, max_iter=10000)\n",
    "svm_0_1.fit(X_train, y_train)\n",
    "\n",
    "svm_0_1_performance_train = BinaryClassificationPerformance(svm_0_1.predict(X_train), y_train, 'svm_0_1_train')\n",
    "svm_0_1_performance_train.compute_measures()\n",
    "print(svm_0_1_performance_train.performance_measures)"
   ]
  },
  {
   "cell_type": "code",
   "execution_count": 11,
   "metadata": {},
   "outputs": [
    {
     "name": "stderr",
     "output_type": "stream",
     "text": [
      "/Users/main/anaconda3/lib/python3.11/site-packages/sklearn/svm/_classes.py:32: FutureWarning: The default value of `dual` will change from `True` to `'auto'` in 1.5. Set the value of `dual` explicitly to suppress the warning.\n",
      "  warnings.warn(\n"
     ]
    },
    {
     "name": "stdout",
     "output_type": "stream",
     "text": [
      "{'Pos': 10019, 'Neg': 9981, 'TP': 10019, 'TN': 9981, 'FP': 0, 'FN': 0, 'Accuracy': 1.0, 'Precision': 1.0, 'Recall': 1.0, 'desc': 'svm_1_train'}\n"
     ]
    }
   ],
   "source": [
    "from sklearn.svm import LinearSVC\n",
    "svm_1 = LinearSVC(C = 1.0, max_iter=10000)\n",
    "svm_1.fit(X_train, y_train)\n",
    "\n",
    "svm_1_performance_train = BinaryClassificationPerformance(svm_1.predict(X_train), y_train, 'svm_1_train')\n",
    "svm_1_performance_train.compute_measures()\n",
    "print(svm_1_performance_train.performance_measures)"
   ]
  },
  {
   "cell_type": "code",
   "execution_count": 12,
   "metadata": {},
   "outputs": [
    {
     "name": "stderr",
     "output_type": "stream",
     "text": [
      "/Users/main/anaconda3/lib/python3.11/site-packages/sklearn/svm/_classes.py:32: FutureWarning: The default value of `dual` will change from `True` to `'auto'` in 1.5. Set the value of `dual` explicitly to suppress the warning.\n",
      "  warnings.warn(\n"
     ]
    },
    {
     "name": "stdout",
     "output_type": "stream",
     "text": [
      "{'Pos': 10019, 'Neg': 9981, 'TP': 10019, 'TN': 9981, 'FP': 0, 'FN': 0, 'Accuracy': 1.0, 'Precision': 1.0, 'Recall': 1.0, 'desc': 'svm_10_train'}\n"
     ]
    }
   ],
   "source": [
    "from sklearn.svm import LinearSVC\n",
    "svm_10 = LinearSVC(C = 10.0, max_iter=10000)\n",
    "svm_10.fit(X_train, y_train)\n",
    "\n",
    "svm_10_performance_train = BinaryClassificationPerformance(svm_10.predict(X_train), y_train, 'svm_10_train')\n",
    "svm_10_performance_train.compute_measures()\n",
    "print(svm_10_performance_train.performance_measures)"
   ]
  },
  {
   "cell_type": "code",
   "execution_count": 13,
   "metadata": {},
   "outputs": [
    {
     "name": "stderr",
     "output_type": "stream",
     "text": [
      "/Users/main/anaconda3/lib/python3.11/site-packages/sklearn/svm/_classes.py:32: FutureWarning: The default value of `dual` will change from `True` to `'auto'` in 1.5. Set the value of `dual` explicitly to suppress the warning.\n",
      "  warnings.warn(\n"
     ]
    },
    {
     "name": "stdout",
     "output_type": "stream",
     "text": [
      "{'Pos': 10019, 'Neg': 9981, 'TP': 10019, 'TN': 9981, 'FP': 0, 'FN': 0, 'Accuracy': 1.0, 'Precision': 1.0, 'Recall': 1.0, 'desc': 'svm_100_train'}\n"
     ]
    }
   ],
   "source": [
    "from sklearn.svm import LinearSVC\n",
    "svm_100 = LinearSVC(random_state = 1, tol = 0.001, C = 100.0)\n",
    "svm_100.fit(X_train, y_train)\n",
    "\n",
    "svm_100_performance_train = BinaryClassificationPerformance(svm_100.predict(X_train), y_train, 'svm_100_train')\n",
    "svm_100_performance_train.compute_measures()\n",
    "print(svm_100_performance_train.performance_measures)"
   ]
  },
  {
   "cell_type": "code",
   "execution_count": 14,
   "metadata": {},
   "outputs": [
    {
     "name": "stderr",
     "output_type": "stream",
     "text": [
      "/Users/main/anaconda3/lib/python3.11/site-packages/sklearn/svm/_classes.py:32: FutureWarning: The default value of `dual` will change from `True` to `'auto'` in 1.5. Set the value of `dual` explicitly to suppress the warning.\n",
      "  warnings.warn(\n"
     ]
    },
    {
     "name": "stdout",
     "output_type": "stream",
     "text": [
      "{'Pos': 10019, 'Neg': 9981, 'TP': 10019, 'TN': 9981, 'FP': 0, 'FN': 0, 'Accuracy': 1.0, 'Precision': 1.0, 'Recall': 1.0, 'desc': 'svm_1000_train'}\n"
     ]
    }
   ],
   "source": [
    "from sklearn.svm import LinearSVC\n",
    "svm_1000 = LinearSVC(C = 1000.0, max_iter=10000)\n",
    "svm_1000.fit(X_train, y_train)\n",
    "\n",
    "svm_1000_performance_train = BinaryClassificationPerformance(svm_1000.predict(X_train), y_train, 'svm_1000_train')\n",
    "svm_1000_performance_train.compute_measures()\n",
    "print(svm_1000_performance_train.performance_measures)"
   ]
  },
  {
   "cell_type": "code",
   "execution_count": 15,
   "metadata": {},
   "outputs": [
    {
     "name": "stderr",
     "output_type": "stream",
     "text": [
      "/Users/main/anaconda3/lib/python3.11/site-packages/sklearn/svm/_classes.py:32: FutureWarning: The default value of `dual` will change from `True` to `'auto'` in 1.5. Set the value of `dual` explicitly to suppress the warning.\n",
      "  warnings.warn(\n"
     ]
    },
    {
     "name": "stdout",
     "output_type": "stream",
     "text": [
      "{'Pos': 10019, 'Neg': 9981, 'TP': 10019, 'TN': 9981, 'FP': 0, 'FN': 0, 'Accuracy': 1.0, 'Precision': 1.0, 'Recall': 1.0, 'desc': 'svm_10000_train'}\n"
     ]
    }
   ],
   "source": [
    "from sklearn.svm import LinearSVC\n",
    "svm_10000 = LinearSVC(C = 10000.0, max_iter=10000)\n",
    "svm_10000.fit(X_train, y_train)\n",
    "\n",
    "svm_10000_performance_train = BinaryClassificationPerformance(svm_10000.predict(X_train), y_train, 'svm_10000_train')\n",
    "svm_10000_performance_train.compute_measures()\n",
    "print(svm_10000_performance_train.performance_measures)"
   ]
  },
  {
   "cell_type": "code",
   "execution_count": 16,
   "metadata": {},
   "outputs": [
    {
     "name": "stderr",
     "output_type": "stream",
     "text": [
      "/Users/main/anaconda3/lib/python3.11/site-packages/sklearn/svm/_classes.py:32: FutureWarning: The default value of `dual` will change from `True` to `'auto'` in 1.5. Set the value of `dual` explicitly to suppress the warning.\n",
      "  warnings.warn(\n"
     ]
    },
    {
     "name": "stdout",
     "output_type": "stream",
     "text": [
      "{'Pos': 10019, 'Neg': 9981, 'TP': 10019, 'TN': 9981, 'FP': 0, 'FN': 0, 'Accuracy': 1.0, 'Precision': 1.0, 'Recall': 1.0, 'desc': 'svm_100000_train'}\n"
     ]
    }
   ],
   "source": [
    "from sklearn.svm import LinearSVC\n",
    "svm_100000 = LinearSVC(C = 100000.0, max_iter=10000)\n",
    "svm_100000.fit(X_train, y_train)\n",
    "\n",
    "svm_100000_performance_train = BinaryClassificationPerformance(svm_100000.predict(X_train), y_train, 'svm_100000_train')\n",
    "svm_100000_performance_train.compute_measures()\n",
    "print(svm_100000_performance_train.performance_measures)"
   ]
  },
  {
   "cell_type": "markdown",
   "metadata": {},
   "source": [
    "---\n",
    "\n",
    "# <span style=\"color:red\">WARNING: Don't look at test set performance too much!</span>\n",
    "\n",
    "---\n",
    "\n",
    "The following cells show performance on your test set. Do not look at this too often! "
   ]
  },
  {
   "cell_type": "markdown",
   "metadata": {},
   "source": [
    "# Look at performance on the test set"
   ]
  },
  {
   "cell_type": "markdown",
   "metadata": {},
   "source": [
    "### MODEL: SVM, linear"
   ]
  },
  {
   "cell_type": "code",
   "execution_count": 18,
   "metadata": {},
   "outputs": [
    {
     "name": "stdout",
     "output_type": "stream",
     "text": [
      "{'Pos': 2481, 'Neg': 2519, 'TP': 2149, 'TN': 2214, 'FP': 305, 'FN': 332, 'Accuracy': 0.8726, 'Precision': 0.8757131214343928, 'Recall': 0.8661829907295445, 'desc': 'svm_0_000001_test'}\n"
     ]
    }
   ],
   "source": [
    "svm_0_000001_performance_test = BinaryClassificationPerformance(svm_0_000001.predict(X_test), y_test, 'svm_0_000001_test')\n",
    "svm_0_000001_performance_test.compute_measures()\n",
    "print(svm_0_000001_performance_test.performance_measures)"
   ]
  },
  {
   "cell_type": "code",
   "execution_count": 19,
   "metadata": {},
   "outputs": [
    {
     "name": "stdout",
     "output_type": "stream",
     "text": [
      "{'Pos': 2481, 'Neg': 2519, 'TP': 2227, 'TN': 2206, 'FP': 313, 'FN': 254, 'Accuracy': 0.8866, 'Precision': 0.8767716535433071, 'Recall': 0.8976219266424829, 'desc': 'svm_0_00001_test'}\n"
     ]
    }
   ],
   "source": [
    "svm_0_00001_performance_test = BinaryClassificationPerformance(svm_0_00001.predict(X_test), y_test, 'svm_0_00001_test')\n",
    "svm_0_00001_performance_test.compute_measures()\n",
    "print(svm_0_00001_performance_test.performance_measures)"
   ]
  },
  {
   "cell_type": "code",
   "execution_count": 20,
   "metadata": {},
   "outputs": [
    {
     "name": "stdout",
     "output_type": "stream",
     "text": [
      "{'Pos': 2481, 'Neg': 2519, 'TP': 2216, 'TN': 2149, 'FP': 370, 'FN': 265, 'Accuracy': 0.873, 'Precision': 0.8569218870843001, 'Recall': 0.8931882305521966, 'desc': 'svm_0_0001_test'}\n"
     ]
    }
   ],
   "source": [
    "svm_0_0001_performance_test = BinaryClassificationPerformance(svm_0_0001.predict(X_test), y_test, 'svm_0_0001_test')\n",
    "svm_0_0001_performance_test.compute_measures()\n",
    "print(svm_0_0001_performance_test.performance_measures)"
   ]
  },
  {
   "cell_type": "code",
   "execution_count": 21,
   "metadata": {},
   "outputs": [
    {
     "name": "stdout",
     "output_type": "stream",
     "text": [
      "{'Pos': 2481, 'Neg': 2519, 'TP': 2193, 'TN': 2127, 'FP': 392, 'FN': 288, 'Accuracy': 0.864, 'Precision': 0.8483558994197292, 'Recall': 0.8839177750906893, 'desc': 'svm_0_001_test'}\n"
     ]
    }
   ],
   "source": [
    "svm_0_001_performance_test = BinaryClassificationPerformance(svm_0_001.predict(X_test), y_test, 'svm_0_001_test')\n",
    "svm_0_001_performance_test.compute_measures()\n",
    "print(svm_0_001_performance_test.performance_measures)"
   ]
  },
  {
   "cell_type": "code",
   "execution_count": 22,
   "metadata": {},
   "outputs": [
    {
     "name": "stdout",
     "output_type": "stream",
     "text": [
      "{'Pos': 2481, 'Neg': 2519, 'TP': 2188, 'TN': 2127, 'FP': 392, 'FN': 293, 'Accuracy': 0.863, 'Precision': 0.8480620155038759, 'Recall': 0.8819024586860137, 'desc': 'svm_0_01_test'}\n"
     ]
    }
   ],
   "source": [
    "svm_0_01_performance_test = BinaryClassificationPerformance(svm_0_01.predict(X_test), y_test, 'svm_0_01_test')\n",
    "svm_0_01_performance_test.compute_measures()\n",
    "print(svm_0_01_performance_test.performance_measures)"
   ]
  },
  {
   "cell_type": "code",
   "execution_count": 23,
   "metadata": {},
   "outputs": [
    {
     "name": "stdout",
     "output_type": "stream",
     "text": [
      "{'Pos': 2481, 'Neg': 2519, 'TP': 2187, 'TN': 2126, 'FP': 393, 'FN': 294, 'Accuracy': 0.8626, 'Precision': 0.8476744186046512, 'Recall': 0.8814993954050786, 'desc': 'svm_0_1_test'}\n"
     ]
    }
   ],
   "source": [
    "svm_0_1_performance_test = BinaryClassificationPerformance(svm_0_1.predict(X_test), y_test, 'svm_0_1_test')\n",
    "svm_0_1_performance_test.compute_measures()\n",
    "print(svm_0_1_performance_test.performance_measures)"
   ]
  },
  {
   "cell_type": "code",
   "execution_count": 24,
   "metadata": {},
   "outputs": [
    {
     "name": "stdout",
     "output_type": "stream",
     "text": [
      "{'Pos': 2481, 'Neg': 2519, 'TP': 2187, 'TN': 2126, 'FP': 393, 'FN': 294, 'Accuracy': 0.8626, 'Precision': 0.8476744186046512, 'Recall': 0.8814993954050786, 'desc': 'svm_1_test'}\n"
     ]
    }
   ],
   "source": [
    "svm_1_performance_test = BinaryClassificationPerformance(svm_1.predict(X_test), y_test, 'svm_1_test')\n",
    "svm_1_performance_test.compute_measures()\n",
    "print(svm_1_performance_test.performance_measures)"
   ]
  },
  {
   "cell_type": "code",
   "execution_count": 25,
   "metadata": {},
   "outputs": [
    {
     "name": "stdout",
     "output_type": "stream",
     "text": [
      "{'Pos': 2481, 'Neg': 2519, 'TP': 2187, 'TN': 2126, 'FP': 393, 'FN': 294, 'Accuracy': 0.8626, 'Precision': 0.8476744186046512, 'Recall': 0.8814993954050786, 'desc': 'svm_10_test'}\n"
     ]
    }
   ],
   "source": [
    "svm_10_performance_test = BinaryClassificationPerformance(svm_10.predict(X_test), y_test, 'svm_10_test')\n",
    "svm_10_performance_test.compute_measures()\n",
    "print(svm_10_performance_test.performance_measures)"
   ]
  },
  {
   "cell_type": "code",
   "execution_count": 26,
   "metadata": {},
   "outputs": [
    {
     "name": "stdout",
     "output_type": "stream",
     "text": [
      "{'Pos': 2481, 'Neg': 2519, 'TP': 2187, 'TN': 2126, 'FP': 393, 'FN': 294, 'Accuracy': 0.8626, 'Precision': 0.8476744186046512, 'Recall': 0.8814993954050786, 'desc': 'svm_100_test'}\n"
     ]
    }
   ],
   "source": [
    "svm_100_performance_test = BinaryClassificationPerformance(svm_100.predict(X_test), y_test, 'svm_100_test')\n",
    "svm_100_performance_test.compute_measures()\n",
    "print(svm_100_performance_test.performance_measures)"
   ]
  },
  {
   "cell_type": "code",
   "execution_count": 27,
   "metadata": {},
   "outputs": [
    {
     "name": "stdout",
     "output_type": "stream",
     "text": [
      "{'Pos': 2481, 'Neg': 2519, 'TP': 2187, 'TN': 2126, 'FP': 393, 'FN': 294, 'Accuracy': 0.8626, 'Precision': 0.8476744186046512, 'Recall': 0.8814993954050786, 'desc': 'svm_1000_test'}\n"
     ]
    }
   ],
   "source": [
    "svm_1000_performance_test = BinaryClassificationPerformance(svm_1000.predict(X_test), y_test, 'svm_1000_test')\n",
    "svm_1000_performance_test.compute_measures()\n",
    "print(svm_1000_performance_test.performance_measures)"
   ]
  },
  {
   "cell_type": "code",
   "execution_count": 28,
   "metadata": {},
   "outputs": [
    {
     "name": "stdout",
     "output_type": "stream",
     "text": [
      "{'Pos': 2481, 'Neg': 2519, 'TP': 2187, 'TN': 2126, 'FP': 393, 'FN': 294, 'Accuracy': 0.8626, 'Precision': 0.8476744186046512, 'Recall': 0.8814993954050786, 'desc': 'svm_10000_test'}\n"
     ]
    }
   ],
   "source": [
    "svm_10000_performance_test = BinaryClassificationPerformance(svm_10000.predict(X_test), y_test, 'svm_10000_test')\n",
    "svm_10000_performance_test.compute_measures()\n",
    "print(svm_10000_performance_test.performance_measures)"
   ]
  },
  {
   "cell_type": "code",
   "execution_count": 29,
   "metadata": {},
   "outputs": [
    {
     "name": "stdout",
     "output_type": "stream",
     "text": [
      "{'Pos': 2481, 'Neg': 2519, 'TP': 2187, 'TN': 2126, 'FP': 393, 'FN': 294, 'Accuracy': 0.8626, 'Precision': 0.8476744186046512, 'Recall': 0.8814993954050786, 'desc': 'svm_100000_test'}\n"
     ]
    }
   ],
   "source": [
    "svm_100000_performance_test = BinaryClassificationPerformance(svm_100000.predict(X_test), y_test, 'svm_100000_test')\n",
    "svm_100000_performance_test.compute_measures()\n",
    "print(svm_100000_performance_test.performance_measures)"
   ]
  },
  {
   "cell_type": "markdown",
   "metadata": {},
   "source": [
    "### ROC plot to compare performance of various models and fits"
   ]
  },
  {
   "cell_type": "code",
   "execution_count": 30,
   "metadata": {},
   "outputs": [
    {
     "data": {
      "image/png": "[encoded data removed]",
      "text/plain": [
       "<Figure size 640x480 with 1 Axes>"
      ]
     },
     "metadata": {},
     "output_type": "display_data"
    }
   ],
   "source": [
    "fits = [ \n",
    "        # svm_0_000001_performance_train, svm_0_000001_performance_test,\n",
    "        # svm_0_00001_performance_train, svm_0_00001_performance_test,\n",
    "        # svm_0_0001_performance_train, svm_0_0001_performance_test,\n",
    "        # svm_0_001_performance_train, svm_0_001_performance_test,\n",
    "        #svm_0_01_performance_train, svm_0_01_performance_test,\n",
    "        svm_1_performance_train, svm_1_performance_test,\n",
    "]\n",
    "\n",
    "for fit in fits:\n",
    "    plt.plot(fit.performance_measures['FP'] / fit.performance_measures['Neg'], \n",
    "             fit.performance_measures['TP'] / fit.performance_measures['Pos'], 'bo')\n",
    "    plt.text(fit.performance_measures['FP'] / fit.performance_measures['Neg'], \n",
    "             fit.performance_measures['TP'] / fit.performance_measures['Pos'], fit.desc)\n",
    "plt.axis([0, 1, 0, 1])\n",
    "plt.title('ROC plot: test set')\n",
    "plt.xlabel('False positive rate')\n",
    "plt.ylabel('True positive rate')\n",
    "plt.show()"
   ]
  },
  {
   "cell_type": "markdown",
   "metadata": {},
   "source": [
    "---\n",
    "\n",
    "# <span style=\"color:red\">SUBMISSION</span>\n",
    "\n",
    "---"
   ]
  },
  {
   "cell_type": "code",
   "execution_count": 31,
   "metadata": {},
   "outputs": [
    {
     "name": "stdout",
     "output_type": "stream",
     "text": [
      "movie_data is: <class 'pandas.core.frame.DataFrame'>\n",
      "movie_data has 25000 rows and 2 columns \n",
      "\n",
      "the data types for each of the columns in movie_data:\n",
      "id        object\n",
      "review    object\n",
      "dtype: object \n",
      "\n",
      "the first 10 rows in movie_data:\n",
      "         id                                             review\n",
      "0  12311_10  Naturally in a film who's main themes are of m...\n",
      "1    8348_2  This movie is a disaster within a disaster fil...\n",
      "2    5828_4  All in all, this is a movie for kids. We saw i...\n",
      "3    7186_2  Afraid of the Dark left me with the impression...\n",
      "4   12128_7  A very accurate depiction of small time mob li...\n",
      "Shape of CountVectorizer X:\n",
      "(25000, 74849)\n",
      "Look at a few rows of the new quantitative features: \n",
      "   word_count  punc_count\n",
      "0         131           5\n",
      "1         169          15\n",
      "2         176          18\n",
      "3         112           5\n",
      "4         133           8\n",
      "5         331          20\n",
      "6         121          18\n",
      "7         230          22\n",
      "8          59           3\n",
      "9         224          14\n",
      "Size of combined bag of words and new quantitative variables matrix:\n",
      "(25000, 74851)\n",
      "(25000, 74851)\n",
      "Shape of X_test for submission:\n",
      "(25000, 74851)\n",
      "SUCCESS!\n",
      "Number of rows in the submission test set (should be 25,000): \n"
     ]
    }
   ],
   "source": [
    "# read in test data for submission\n",
    "# CHANGE FILE PATH and my_random_seed number (any integer other than 74 will do): \n",
    "raw_data, X_test_submission = process_raw_data(fn='moviereviews_test.tsv', my_random_seed=92, test=True)\n",
    "print(\"Number of rows in the submission test set (should be 25,000): \")"
   ]
  },
  {
   "cell_type": "markdown",
   "metadata": {},
   "source": [
    "---\n",
    "\n",
    "Choose a <span style=\"color:red\">*single*</span> model for your submission. In this code, I am choosing the Ordinary Least Squares model fit, which is in the `ols` object. But you should choose the model that is performing the best for you! "
   ]
  },
  {
   "cell_type": "code",
   "execution_count": 106,
   "metadata": {},
   "outputs": [
    {
     "name": "stdout",
     "output_type": "stream",
     "text": [
      "0.4632\n"
     ]
    }
   ],
   "source": [
    "# store the id from the raw data\n",
    "my_submission = pd.DataFrame(raw_data[\"id\"])\n",
    "# concatenate predictions to the id\n",
    "my_submission[\"prediction\"] = svm_0_00001.predict(X_test_submission)\n",
    "# look at the proportion of positive predictions\n",
    "print(my_submission['prediction'].mean())"
   ]
  },
  {
   "cell_type": "code",
   "execution_count": 107,
   "metadata": {},
   "outputs": [
    {
     "data": {
      "text/html": [
       "<div>\n",
       "<style scoped>\n",
       "    .dataframe tbody tr th:only-of-type {\n",
       "        vertical-align: middle;\n",
       "    }\n",
       "\n",
       "    .dataframe tbody tr th {\n",
       "        vertical-align: top;\n",
       "    }\n",
       "\n",
       "    .dataframe thead th {\n",
       "        text-align: right;\n",
       "    }\n",
       "</style>\n",
       "<table border=\"1\" class=\"dataframe\">\n",
       "  <thead>\n",
       "    <tr style=\"text-align: right;\">\n",
       "      <th></th>\n",
       "      <th>id</th>\n",
       "      <th>review</th>\n",
       "      <th>word_count</th>\n",
       "      <th>punc_count</th>\n",
       "    </tr>\n",
       "  </thead>\n",
       "  <tbody>\n",
       "    <tr>\n",
       "      <th>0</th>\n",
       "      <td>12311_10</td>\n",
       "      <td>Naturally in a film who's main themes are of m...</td>\n",
       "      <td>131</td>\n",
       "      <td>5</td>\n",
       "    </tr>\n",
       "    <tr>\n",
       "      <th>1</th>\n",
       "      <td>8348_2</td>\n",
       "      <td>This movie is a disaster within a disaster fil...</td>\n",
       "      <td>169</td>\n",
       "      <td>15</td>\n",
       "    </tr>\n",
       "    <tr>\n",
       "      <th>2</th>\n",
       "      <td>5828_4</td>\n",
       "      <td>All in all, this is a movie for kids. We saw i...</td>\n",
       "      <td>176</td>\n",
       "      <td>18</td>\n",
       "    </tr>\n",
       "    <tr>\n",
       "      <th>3</th>\n",
       "      <td>7186_2</td>\n",
       "      <td>Afraid of the Dark left me with the impression...</td>\n",
       "      <td>112</td>\n",
       "      <td>5</td>\n",
       "    </tr>\n",
       "    <tr>\n",
       "      <th>4</th>\n",
       "      <td>12128_7</td>\n",
       "      <td>A very accurate depiction of small time mob li...</td>\n",
       "      <td>133</td>\n",
       "      <td>8</td>\n",
       "    </tr>\n",
       "  </tbody>\n",
       "</table>\n",
       "</div>"
      ],
      "text/plain": [
       "         id                                             review  word_count  \\\n",
       "0  12311_10  Naturally in a film who's main themes are of m...         131   \n",
       "1    8348_2  This movie is a disaster within a disaster fil...         169   \n",
       "2    5828_4  All in all, this is a movie for kids. We saw i...         176   \n",
       "3    7186_2  Afraid of the Dark left me with the impression...         112   \n",
       "4   12128_7  A very accurate depiction of small time mob li...         133   \n",
       "\n",
       "   punc_count  \n",
       "0           5  \n",
       "1          15  \n",
       "2          18  \n",
       "3           5  \n",
       "4           8  "
      ]
     },
     "execution_count": 107,
     "metadata": {},
     "output_type": "execute_result"
    }
   ],
   "source": [
    "raw_data.head()"
   ]
  },
  {
   "cell_type": "code",
   "execution_count": 108,
   "metadata": {},
   "outputs": [
    {
     "data": {
      "text/html": [
       "<div>\n",
       "<style scoped>\n",
       "    .dataframe tbody tr th:only-of-type {\n",
       "        vertical-align: middle;\n",
       "    }\n",
       "\n",
       "    .dataframe tbody tr th {\n",
       "        vertical-align: top;\n",
       "    }\n",
       "\n",
       "    .dataframe thead th {\n",
       "        text-align: right;\n",
       "    }\n",
       "</style>\n",
       "<table border=\"1\" class=\"dataframe\">\n",
       "  <thead>\n",
       "    <tr style=\"text-align: right;\">\n",
       "      <th></th>\n",
       "      <th>id</th>\n",
       "      <th>prediction</th>\n",
       "    </tr>\n",
       "  </thead>\n",
       "  <tbody>\n",
       "    <tr>\n",
       "      <th>0</th>\n",
       "      <td>12311_10</td>\n",
       "      <td>1</td>\n",
       "    </tr>\n",
       "    <tr>\n",
       "      <th>1</th>\n",
       "      <td>8348_2</td>\n",
       "      <td>0</td>\n",
       "    </tr>\n",
       "    <tr>\n",
       "      <th>2</th>\n",
       "      <td>5828_4</td>\n",
       "      <td>0</td>\n",
       "    </tr>\n",
       "    <tr>\n",
       "      <th>3</th>\n",
       "      <td>7186_2</td>\n",
       "      <td>0</td>\n",
       "    </tr>\n",
       "    <tr>\n",
       "      <th>4</th>\n",
       "      <td>12128_7</td>\n",
       "      <td>1</td>\n",
       "    </tr>\n",
       "  </tbody>\n",
       "</table>\n",
       "</div>"
      ],
      "text/plain": [
       "         id  prediction\n",
       "0  12311_10           1\n",
       "1    8348_2           0\n",
       "2    5828_4           0\n",
       "3    7186_2           0\n",
       "4   12128_7           1"
      ]
     },
     "execution_count": 108,
     "metadata": {},
     "output_type": "execute_result"
    }
   ],
   "source": [
    "my_submission.head()"
   ]
  },
  {
   "cell_type": "code",
   "execution_count": 109,
   "metadata": {},
   "outputs": [
    {
     "data": {
      "text/plain": [
       "(25000, 2)"
      ]
     },
     "execution_count": 109,
     "metadata": {},
     "output_type": "execute_result"
    }
   ],
   "source": [
    "my_submission.shape"
   ]
  },
  {
   "cell_type": "code",
   "execution_count": 110,
   "metadata": {},
   "outputs": [],
   "source": [
    "# export submission file as pdf\n",
    "# CHANGE FILE PATH: \n",
    "my_submission.to_csv('moviereviews_submission.csv', index=False)"
   ]
  },
  {
   "cell_type": "markdown",
   "metadata": {},
   "source": [
    "# Submit to Canvas: 1) the CSV file that was written in the previous cell and 2) the url to the repository (GitHub or other) that contains your code and documentation"
   ]
  }
 ],
 "metadata": {
  "kernelspec": {
   "display_name": "Python 3 (ipykernel)",
   "language": "python",
   "name": "python3"
  },
  "language_info": {
   "codemirror_mode": {
    "name": "ipython",
    "version": 3
   },
   "file_extension": ".py",
   "mimetype": "text/x-python",
   "name": "python",
   "nbconvert_exporter": "python",
   "pygments_lexer": "ipython3",
   "version": "3.11.5"
  }
 },
 "nbformat": 4,
 "nbformat_minor": 2
}
