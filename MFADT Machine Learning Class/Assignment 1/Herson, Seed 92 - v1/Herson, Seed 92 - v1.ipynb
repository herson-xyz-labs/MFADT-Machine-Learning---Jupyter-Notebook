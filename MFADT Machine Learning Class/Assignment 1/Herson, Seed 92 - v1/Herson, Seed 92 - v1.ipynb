{
 "cells": [
  {
   "cell_type": "markdown",
   "metadata": {},
   "source": [
    "# Movie reviews\n",
    "\n",
    "This notebook takes you though a complete iteration of Machine Learning Assignment 1 - Movie reviews. The assignment details (including links to download the data) can be found [here](https://docs.google.com/document/d/1WGYw99e5q6j5V0Zrf2HveagU6URt_kVvdR8B9HYQ99E/edit?usp=sharing). "
   ]
  },
  {
   "cell_type": "code",
   "execution_count": 120,
   "metadata": {},
   "outputs": [],
   "source": [
    "# all imports and magic commands\n",
    "import numpy as np\n",
    "import pandas as pd\n",
    "import matplotlib.pyplot as plt\n",
    "from my_measures import BinaryClassificationPerformance\n",
    "from sklearn.feature_extraction.text import HashingVectorizer\n",
    "from sklearn.feature_extraction.text import TfidfTransformer\n",
    "from scipy.sparse import csr_matrix, hstack\n",
    "from sklearn.preprocessing import StandardScaler\n",
    "from sklearn.model_selection import train_test_split\n",
    "from tabulate import tabulate\n",
    "%matplotlib inline"
   ]
  },
  {
   "cell_type": "code",
   "execution_count": 121,
   "metadata": {},
   "outputs": [],
   "source": [
    "def vectorize_feature(feature, test=False):\n",
    "    # vectorize Bag of Words from review text; as sparse matrix\n",
    "    if (not test): # fit_transform()\n",
    "        hv = HashingVectorizer(n_features=2 ** 17, alternate_sign=False)\n",
    "        X_hv = hv.fit_transform(feature)\n",
    "        fitted_transformations.append(hv)\n",
    "    else: # transform() \n",
    "        X_hv = fitted_transformations[0].transform(feature)\n",
    "        print(\"Shape of HashingVectorizer X:\")\n",
    "        print(X_hv.shape)\n",
    "    return(X_hv)"
   ]
  },
  {
   "cell_type": "code",
   "execution_count": 122,
   "metadata": {},
   "outputs": [],
   "source": [
    "def apply_term_frequency_weight_to_feature(feature_to_weight, test=False):\n",
    "    # http://scikit-learn.org/stable/modules/generated/sklearn.feature_extraction.text.TfidfTransformer.html\n",
    "    if (not test):\n",
    "        transformer = TfidfTransformer()\n",
    "        X_tfidf = transformer.fit_transform(feature_to_weight)\n",
    "        fitted_transformations.append(transformer)\n",
    "    else:\n",
    "        X_tfidf = fitted_transformations[1].transform(feature_to_weight)\n",
    "    return X_tfidf"
   ]
  },
  {
   "cell_type": "code",
   "execution_count": 123,
   "metadata": {},
   "outputs": [],
   "source": [
    "def scale_matrix_of_features(features, test=False):\n",
    "    # Create `X`, scaled matrix of features\n",
    "    # feature scaling\n",
    "    if (not test):\n",
    "        sc = StandardScaler(with_mean=False)\n",
    "        X = sc.fit_transform(features)\n",
    "        fitted_transformations.append(sc)\n",
    "    else:\n",
    "        X = fitted_transformations[2].transform(features)\n",
    "        print(X.shape)\n",
    "    return(X)"
   ]
  },
  {
   "cell_type": "code",
   "execution_count": 124,
   "metadata": {},
   "outputs": [],
   "source": [
    "# function that takes raw data and completes all preprocessing required before model fits\n",
    "def create_training_and_test_sets(my_random_seed, test=False):\n",
    "    # Create Training and Test Sets\n",
    "    # enter an integer for the random_state parameter; any integer will work\n",
    "    if (test):\n",
    "        X_submission_test = X\n",
    "        print(\"Shape of X_test for submission:\")\n",
    "        print(X_submission_test.shape)\n",
    "        print('SUCCESS!')\n",
    "        return(movie_data, X_submission_test)\n",
    "    else: \n",
    "        X_train, X_test, y_train, y_test, X_raw_train, X_raw_test = train_test_split(X, y, movie_data, test_size=0.2, random_state=my_random_seed)\n",
    "        return(X_train, X_test, y_train, y_test, X_raw_train, X_raw_test)"
   ]
  },
  {
   "cell_type": "code",
   "execution_count": 148,
   "metadata": {},
   "outputs": [],
   "source": [
    "def print_report():\n",
    "    print(\"\\033[94m\" + \"movie_data is:\\n\" + \"\\033[0m\", type(movie_data))\n",
    "    print(\"\\n\" + \"-\"*40 + \"\\n\")\n",
    "    print(\"\\033[94m\" + \"movie_data has:\\n\" + \"\\033[0m\")\n",
    "    shape_table = [(\"Rows\", movie_data.shape[0]), (\"Columns\", movie_data.shape[1])]\n",
    "    print(tabulate(shape_table, headers=[\"Dimension\", \"Size\"]))\n",
    "    print(\"\\n\" + \"-\"*40 + \"\\n\")\n",
    "    print(\"\\033[94m\" + \"the data types for each of the columns in movie_data:\\n\" + \"\\033[0m\")\n",
    "    print(movie_data.dtypes, \"\\n\")\n",
    "    print(\"\\n\" + \"-\"*40 + \"\\n\")\n",
    "    print(\"\\033[94m\" + \"Sample Review:\\n\" + \"\\033[0m\")\n",
    "    print(corpus_of_reviews[0])\n",
    "    print(\"\\n\" + \"-\"*40 + \"\\n\")\n",
    "    print(\"\\033[94m\" + \"the first 10 rows in movie_data:\\n\" + \"\\033[0m\")\n",
    "    print(movie_data.head(5))\n",
    "    print(\"\\n\" + \"-\"*40 + \"\\n\")\n",
    "    print(\"\\033[94m\" + \"The rate of 'good' movie reviews in the dataset:\\n\" + \"\\033[0m\")\n",
    "    print(movie_data['sentiment'].mean())\n",
    "    print(\"\\n\" + \"-\"*40 + \"\\n\")\n",
    "    print(\"\\033[94m\" + \"Shape of HashingVectorizer X:\\n\" + \"\\033[0m\")\n",
    "    shape_table = [(\"Reviews\", X_hv.shape[0]), (\"Terms\", X_hv.shape[1])]\n",
    "    print(tabulate(shape_table, headers=[\"Dimension\", \"Size\"]))\n",
    "    print(\"\\n\" + \"-\"*40 + \"\\n\")\n",
    "    print(\"\\033[94m\" + \"Look at a few rows of the new quantitative features:\\n\" + \"\\033[0m\")\n",
    "    print(tabulate(new_quant_features[:10], headers=[\"Word Count\", \"Punctuation Count\"]))\n",
    "    print(\"\\n\" + \"-\"*40 + \"\\n\")\n",
    "    print(\"\\033[94m\" + \"Size of combined bag of words and new quantitative variables matrix:\\n\" + \"\\033[0m\")\n",
    "    shape_table = [(\"Reviews\", X_stacked_matrix_of_features.shape[0]), (\"Terms\", X_stacked_matrix_of_features.shape[1])]\n",
    "    print(tabulate(shape_table, headers=[\"Dimension\", \"Size\"]))\n",
    "    print(\"\\n\" + \"-\"*40 + \"\\n\")\n",
    "    print(\"\\033[94m\" + \"Shape of X_train and X_test:\\n\" + \"\\033[0m\")\n",
    "    shape_table = [(\"Reviews\", X_train.shape[0]), (\"Terms\", X_train.shape[1])]\n",
    "    print(tabulate(shape_table, headers=[\"Dimension\", \"Size\"]))\n",
    "    print(\"\\n\")\n",
    "    shape_table = [(\"Reviews\", X_test.shape[0]), (\"Terms\", X_test.shape[1])]\n",
    "    print(tabulate(shape_table, headers=[\"Dimension\", \"Size\"]))\n",
    "    print(\"\\n\" + \"-\"*40 + \"\\n\")\n",
    "    print(\"\\033[94m\" + \"Shape of y_train and y_test:\\n\" + \"\\033[0m\")\n",
    "    shape_table = [(\"Reviews\", y_train.shape[0])]\n",
    "    print(tabulate(shape_table, headers=[\"Size\"]))\n",
    "    print(\"\\n\")\n",
    "    shape_table = [(\"Reviews\", y_test.shape[0])]\n",
    "    print(tabulate(shape_table, headers=[\"Size\"]))\n",
    "    print(\"\\n\" + \"-\"*40 + \"\\n\")\n",
    "    print(\"\\033[94m\" + \"Shape of X_raw_train and X_raw_test:\\n\" + \"\\033[0m\")\n",
    "    shape_table = [(\"Reviews\", X_raw_train.shape[0]), (\"Terms\", X_raw_train.shape[1])]\n",
    "    print(tabulate(shape_table, headers=[\"Dimension\", \"Size\"]))\n",
    "    print(\"\\n\")\n",
    "    shape_table = [(\"Reviews\", X_raw_test.shape[0]), (\"Terms\", X_raw_test.shape[1])]\n",
    "    print(tabulate(shape_table, headers=[\"Dimension\", \"Size\"]))\n",
    "    print(\"\\n\" + \"-\"*40 + \"\\n\")\n",
    "    print(\"\\033[94m\" + \"Number of fits stored in `fitted_transformations` list:\\n\" + \"\\033[0m\")\n",
    "    print(len(fitted_transformations))\n",
    "    print(\"\\n\" + \"-\"*40 + \"\\n\")\n",
    "    print(\"\\n\" + \"-\"*40 + \"\\n\")\n",
    "    print(\"\\033[94m\" + 'SUCCESS!' + \"\\033[0m\")"
   ]
  },
  {
   "cell_type": "code",
   "execution_count": 289,
   "metadata": {},
   "outputs": [],
   "source": [
    "def clean_corpus_of_reviews(corpus_of_reviews):\n",
    "    import re\n",
    "    import nltk\n",
    "    from nltk.corpus import stopwords\n",
    "    from nltk.stem.porter import PorterStemmer\n",
    "    from nltk.probability import FreqDist\n",
    "    from tqdm import tqdm\n",
    "    import pandas as pd\n",
    "\n",
    "    nltk.download('stopwords')\n",
    "    nltk.download('punkt')  # If not already downloaded, for tokenizing\n",
    "\n",
    "    # Tokenize all reviews to calculate word frequencies\n",
    "    all_words = []\n",
    "    for review in corpus_of_reviews:\n",
    "        review = re.sub('!+', '!', review)\n",
    "        review = re.sub('[^a-zA-Z!]', ' ', review)\n",
    "        tokens = nltk.word_tokenize(review.lower())  # Lowercasing here for frequency analysis\n",
    "        all_words.extend(tokens)\n",
    "\n",
    "    # Calculate frequency distribution\n",
    "    freq_dist = FreqDist(all_words)\n",
    "    # Define frequency thresholds, e.g., words appearing in more than 5% and less than 0.1% of reviews\n",
    "    upper_threshold = len(corpus_of_reviews) * 0.2\n",
    "    lower_threshold = len(corpus_of_reviews) * 0.001\n",
    "    # Filter words by frequency\n",
    "    unique_words = {word for word, freq in freq_dist.items() if lower_threshold < freq < upper_threshold}\n",
    "\n",
    "    # Cleaning process\n",
    "    corpus = []\n",
    "    ps = PorterStemmer()\n",
    "    stop_words = set(stopwords.words('english'))\n",
    "\n",
    "    for review in tqdm(corpus_of_reviews, desc=\"Cleaning reviews: \"):\n",
    "        review = re.sub('!+', '!', review)\n",
    "        review = re.sub('[^a-zA-Z!]', ' ', review)\n",
    "        review_words = review.split()\n",
    "        cleaned_review = [ps.stem(word) for word in review_words if word not in stop_words and word in unique_words]\n",
    "        cleaned_review = ' '.join(cleaned_review)\n",
    "        corpus.append(cleaned_review)\n",
    "\n",
    "    return pd.Series(corpus)"
   ]
  },
  {
   "cell_type": "markdown",
   "metadata": {},
   "source": [
    "# Creating training and test sets"
   ]
  },
  {
   "cell_type": "code",
   "execution_count": 272,
   "metadata": {},
   "outputs": [
    {
     "name": "stderr",
     "output_type": "stream",
     "text": [
      "[nltk_data] Downloading package stopwords to /Users/main/nltk_data...\n",
      "[nltk_data]   Package stopwords is already up-to-date!\n",
      "[nltk_data] Downloading package punkt to /Users/main/nltk_data...\n",
      "[nltk_data]   Package punkt is already up-to-date!\n",
      "Cleaning reviews: 100%|██████████████████| 25000/25000 [00:34<00:00, 723.41it/s]\n"
     ]
    },
    {
     "name": "stdout",
     "output_type": "stream",
     "text": [
      "\u001b[94mmovie_data is:\n",
      "\u001b[0m <class 'pandas.core.frame.DataFrame'>\n",
      "\n",
      "----------------------------------------\n",
      "\n",
      "\u001b[94mmovie_data has:\n",
      "\u001b[0m\n",
      "Dimension      Size\n",
      "-----------  ------\n",
      "Rows          25000\n",
      "Columns           3\n",
      "\n",
      "----------------------------------------\n",
      "\n",
      "\u001b[94mthe data types for each of the columns in movie_data:\n",
      "\u001b[0m\n",
      "id           object\n",
      "sentiment     int64\n",
      "review       object\n",
      "dtype: object \n",
      "\n",
      "\n",
      "----------------------------------------\n",
      "\n",
      "\u001b[94mSample Review:\n",
      "\u001b[0m\n",
      "stuff go moment start listen music watch odd documentari watch watch want get certain insight guy thought realli cool eighti mayb make mind whether guilti innoc part biographi part featur rememb go see cinema origin releas subtl messag feel toward press also obviou messag drug bad kay impress cours unless remot anyway go hate find bore may call make fan would say made fan true realli nice actual featur bit final start minut sequenc convinc power drug lord want dead bad beyond plan charact want peopl know drug etc mayb hate music cool thing turn car robot whole sequenc director must patienc saint came film sequenc usual director hate work kid let alon whole bunch perform complex danc scene line peopl level anoth think peopl stay away tri give wholesom messag iron buddi truli talent peopl ever grace planet guilti attent gave subject hmmm well know peopl differ behind close door know fact either extrem nice stupid guy hope latter\n",
      "\n",
      "----------------------------------------\n",
      "\n",
      "\u001b[94mthe first 10 rows in movie_data:\n",
      "\u001b[0m\n",
      "       id  sentiment                                             review\n",
      "0  5814_8          1  With all this stuff going down at the moment w...\n",
      "1  2381_9          1  \\The Classic War of the Worlds\\\" by Timothy Hi...\n",
      "2  7759_3          0  The film starts with a manager (Nicholas Bell)...\n",
      "3  3630_4          0  It must be assumed that those who praised this...\n",
      "4  9495_8          1  Superbly trashy and wondrously unpretentious 8...\n",
      "\n",
      "----------------------------------------\n",
      "\n",
      "\u001b[94mThe rate of 'good' movie reviews in the dataset:\n",
      "\u001b[0m\n",
      "0.5\n",
      "\n",
      "----------------------------------------\n",
      "\n",
      "\u001b[94mShape of HashingVectorizer X:\n",
      "\u001b[0m\n",
      "Dimension      Size\n",
      "-----------  ------\n",
      "Reviews       25000\n",
      "Terms        131072\n",
      "\n",
      "----------------------------------------\n",
      "\n",
      "\u001b[94mLook at a few rows of the new quantitative features:\n",
      "\u001b[0m\n",
      "  Word Count    Punctuation Count\n",
      "------------  -------------------\n",
      "         160                    0\n",
      "          54                    0\n",
      "         155                    0\n",
      "         118                    0\n",
      "         163                    0\n",
      "          27                    0\n",
      "          42                    0\n",
      "          56                    0\n",
      "          68                    0\n",
      "          13                    0\n",
      "\n",
      "----------------------------------------\n",
      "\n",
      "\u001b[94mSize of combined bag of words and new quantitative variables matrix:\n",
      "\u001b[0m\n",
      "Dimension      Size\n",
      "-----------  ------\n",
      "Reviews       25000\n",
      "Terms        131074\n",
      "\n",
      "----------------------------------------\n",
      "\n",
      "\u001b[94mShape of X_train and X_test:\n",
      "\u001b[0m\n",
      "Dimension      Size\n",
      "-----------  ------\n",
      "Reviews       20000\n",
      "Terms        131074\n",
      "\n",
      "\n",
      "Dimension      Size\n",
      "-----------  ------\n",
      "Reviews        5000\n",
      "Terms        131074\n",
      "\n",
      "----------------------------------------\n",
      "\n",
      "\u001b[94mShape of y_train and y_test:\n",
      "\u001b[0m\n",
      "           Size\n",
      "-------  ------\n",
      "Reviews   20000\n",
      "\n",
      "\n",
      "           Size\n",
      "-------  ------\n",
      "Reviews    5000\n",
      "\n",
      "----------------------------------------\n",
      "\n",
      "\u001b[94mShape of X_raw_train and X_raw_test:\n",
      "\u001b[0m\n",
      "Dimension      Size\n",
      "-----------  ------\n",
      "Reviews       20000\n",
      "Terms             3\n",
      "\n",
      "\n",
      "Dimension      Size\n",
      "-----------  ------\n",
      "Reviews        5000\n",
      "Terms             3\n",
      "\n",
      "----------------------------------------\n",
      "\n",
      "\u001b[94mNumber of fits stored in `fitted_transformations` list:\n",
      "\u001b[0m\n",
      "3\n",
      "\n",
      "----------------------------------------\n",
      "\n",
      "\n",
      "----------------------------------------\n",
      "\n",
      "\u001b[94mSUCCESS!\u001b[0m\n"
     ]
    }
   ],
   "source": [
    "# create an empty list to store any use of fit_transform() to transform() later\n",
    "# it is a global list to store model and feature extraction fits\n",
    "fitted_transformations = []\n",
    "\n",
    "movie_data = pd.read_csv('moviereviews_train.tsv', sep='\\t')\n",
    "corpus_of_reviews = movie_data['review']\n",
    "\n",
    "corpus_of_reviews = clean_corpus_of_reviews(corpus_of_reviews)\n",
    "\n",
    "X_hv = vectorize_feature(corpus_of_reviews)\n",
    "X_tfidf_sparse = apply_term_frequency_weight_to_feature(X_hv)\n",
    "\n",
    "# create additional quantitative features\n",
    "new_quant_features = []\n",
    "new_quant_features.append(corpus_of_reviews.str.split(' ').str.len())\n",
    "new_quant_features.append(corpus_of_reviews.str.count(\"!\"))\n",
    "new_quant_features = np.array(new_quant_features).T\n",
    "new_quant_features_sparse = csr_matrix(new_quant_features)\n",
    "\n",
    "X_stacked_matrix_of_features = hstack([X_tfidf_sparse, new_quant_features_sparse]) # <---- Removed the weighted sparse matrix\n",
    "X = scale_matrix_of_features(X_stacked_matrix_of_features)\n",
    "\n",
    "y = movie_data['sentiment']\n",
    "    \n",
    "# CHANGE FILE PATH and my_random_seed number (any integer other than 74 will do): \n",
    "X_train, X_test, y_train, y_test, X_raw_train, X_raw_test = create_training_and_test_sets(my_random_seed=92)\n",
    "\n",
    "print_report()"
   ]
  },
  {
   "cell_type": "markdown",
   "metadata": {},
   "source": [
    "# Fit (and tune) Various Models"
   ]
  },
  {
   "cell_type": "markdown",
   "metadata": {},
   "source": [
    "### MODEL: ordinary least squares"
   ]
  },
  {
   "cell_type": "code",
   "execution_count": 273,
   "metadata": {},
   "outputs": [
    {
     "name": "stdout",
     "output_type": "stream",
     "text": [
      "{'Pos': 10019, 'Neg': 9981, 'TP': 4562, 'TN': 5304, 'FP': 4677, 'FN': 5457, 'Accuracy': 0.4933, 'Precision': 0.4937763827254032, 'Recall': 0.4553348637588582, 'desc': 'ols_train'}\n"
     ]
    }
   ],
   "source": [
    "from sklearn import linear_model\n",
    "ols = linear_model.SGDClassifier(loss=\"squared_error\")\n",
    "ols.fit(X_train, y_train)\n",
    "\n",
    "ols_performance_train = BinaryClassificationPerformance(ols.predict(X_train), y_train, 'ols_train')\n",
    "ols_performance_train.compute_measures()\n",
    "print(ols_performance_train.performance_measures)"
   ]
  },
  {
   "cell_type": "markdown",
   "metadata": {},
   "source": [
    "### MODEL: SVM, linear"
   ]
  },
  {
   "cell_type": "code",
   "execution_count": 274,
   "metadata": {},
   "outputs": [
    {
     "name": "stdout",
     "output_type": "stream",
     "text": [
      "{'Pos': 10019, 'Neg': 9981, 'TP': 9978, 'TN': 9904, 'FP': 77, 'FN': 41, 'Accuracy': 0.9941, 'Precision': 0.99234211834908, 'Recall': 0.9959077752270685, 'desc': 'svm_train'}\n"
     ]
    }
   ],
   "source": [
    "from sklearn import linear_model\n",
    "svm = linear_model.SGDClassifier()\n",
    "svm.fit(X_train, y_train)\n",
    "\n",
    "svm_performance_train = BinaryClassificationPerformance(svm.predict(X_train), y_train, 'svm_train')\n",
    "svm_performance_train.compute_measures()\n",
    "print(svm_performance_train.performance_measures)"
   ]
  },
  {
   "cell_type": "markdown",
   "metadata": {},
   "source": [
    "### MODEL: logistic regression"
   ]
  },
  {
   "cell_type": "code",
   "execution_count": 275,
   "metadata": {},
   "outputs": [
    {
     "name": "stdout",
     "output_type": "stream",
     "text": [
      "{'Pos': 10019, 'Neg': 9981, 'TP': 10012, 'TN': 9981, 'FP': 0, 'FN': 7, 'Accuracy': 0.99965, 'Precision': 1.0, 'Recall': 0.9993013274777922, 'desc': 'lgs_train'}\n"
     ]
    }
   ],
   "source": [
    "from sklearn import linear_model\n",
    "lgs = linear_model.SGDClassifier(loss='log_loss')\n",
    "lgs.fit(X_train, y_train)\n",
    "\n",
    "lgs_performance_train = BinaryClassificationPerformance(lgs.predict(X_train), y_train, 'lgs_train')\n",
    "lgs_performance_train.compute_measures()\n",
    "print(lgs_performance_train.performance_measures)"
   ]
  },
  {
   "cell_type": "markdown",
   "metadata": {},
   "source": [
    "### MODEL: Naive Bayes"
   ]
  },
  {
   "cell_type": "code",
   "execution_count": 276,
   "metadata": {},
   "outputs": [
    {
     "name": "stdout",
     "output_type": "stream",
     "text": [
      "{'Pos': 10019, 'Neg': 9981, 'TP': 8703, 'TN': 8596, 'FP': 1385, 'FN': 1316, 'Accuracy': 0.86495, 'Precision': 0.8627081681205393, 'Recall': 0.8686495658249326, 'desc': 'nbs_train'}\n"
     ]
    }
   ],
   "source": [
    "from sklearn.naive_bayes import MultinomialNB\n",
    "nbs = MultinomialNB()\n",
    "nbs.fit(X_train, y_train)\n",
    "\n",
    "nbs_performance_train = BinaryClassificationPerformance(nbs.predict(X_train), y_train, 'nbs_train')\n",
    "nbs_performance_train.compute_measures()\n",
    "print(nbs_performance_train.performance_measures)"
   ]
  },
  {
   "cell_type": "markdown",
   "metadata": {},
   "source": [
    "### MODEL: Perceptron"
   ]
  },
  {
   "cell_type": "code",
   "execution_count": 277,
   "metadata": {},
   "outputs": [
    {
     "name": "stdout",
     "output_type": "stream",
     "text": [
      "{'Pos': 10019, 'Neg': 9981, 'TP': 9923, 'TN': 9950, 'FP': 31, 'FN': 96, 'Accuracy': 0.99365, 'Precision': 0.9968856741008639, 'Recall': 0.9904182054097215, 'desc': 'prc_train'}\n"
     ]
    }
   ],
   "source": [
    "from sklearn import linear_model\n",
    "prc = linear_model.SGDClassifier(loss='perceptron')\n",
    "prc.fit(X_train, y_train)\n",
    "\n",
    "prc_performance_train = BinaryClassificationPerformance(prc.predict(X_train), y_train, 'prc_train')\n",
    "prc_performance_train.compute_measures()\n",
    "print(prc_performance_train.performance_measures)"
   ]
  },
  {
   "cell_type": "markdown",
   "metadata": {},
   "source": [
    "### MODEL: Ridge Regression Classifier"
   ]
  },
  {
   "cell_type": "code",
   "execution_count": 278,
   "metadata": {},
   "outputs": [
    {
     "name": "stdout",
     "output_type": "stream",
     "text": [
      "{'Pos': 10019, 'Neg': 9981, 'TP': 9525, 'TN': 9364, 'FP': 617, 'FN': 494, 'Accuracy': 0.94445, 'Precision': 0.9391638730033524, 'Recall': 0.950693682004192, 'desc': 'rdg_train'}\n"
     ]
    }
   ],
   "source": [
    "from sklearn import linear_model\n",
    "rdg = linear_model.RidgeClassifier()\n",
    "rdg.fit(X_train, y_train)\n",
    "\n",
    "rdg_performance_train = BinaryClassificationPerformance(rdg.predict(X_train), y_train, 'rdg_train')\n",
    "rdg_performance_train.compute_measures()\n",
    "print(rdg_performance_train.performance_measures)"
   ]
  },
  {
   "cell_type": "markdown",
   "metadata": {},
   "source": [
    "### MODEL: Random Forest Classifier"
   ]
  },
  {
   "cell_type": "code",
   "execution_count": 279,
   "metadata": {},
   "outputs": [
    {
     "name": "stdout",
     "output_type": "stream",
     "text": [
      "{'Pos': 10019, 'Neg': 9981, 'TP': 8173, 'TN': 7172, 'FP': 2809, 'FN': 1846, 'Accuracy': 0.76725, 'Precision': 0.7442178109633947, 'Recall': 0.8157500748577703, 'desc': 'rdf_train'}\n"
     ]
    }
   ],
   "source": [
    "from sklearn.ensemble import RandomForestClassifier\n",
    "rdf = RandomForestClassifier(max_depth=2, random_state=0)\n",
    "rdf.fit(X_train, y_train)\n",
    "\n",
    "rdf_performance_train = BinaryClassificationPerformance(rdf.predict(X_train), y_train, 'rdf_train')\n",
    "rdf_performance_train.compute_measures()\n",
    "print(rdf_performance_train.performance_measures)"
   ]
  },
  {
   "cell_type": "markdown",
   "metadata": {},
   "source": [
    "### ROC plot to compare performance of various models and fits"
   ]
  },
  {
   "cell_type": "code",
   "execution_count": 281,
   "metadata": {
    "scrolled": false
   },
   "outputs": [
    {
     "data": {
      "image/png": "[encoded data removed]",
      "text/plain": [
       "<Figure size 640x480 with 1 Axes>"
      ]
     },
     "metadata": {},
     "output_type": "display_data"
    }
   ],
   "source": [
    "fits = [ols_performance_train, svm_performance_train, lgs_performance_train, nbs_performance_train, prc_performance_train, rdg_performance_train, rdf_performance_train]\n",
    "\n",
    "for fit in fits:\n",
    "    plt.plot(fit.performance_measures['FP'] / fit.performance_measures['Neg'], \n",
    "             fit.performance_measures['TP'] / fit.performance_measures['Pos'], 'bo')\n",
    "    plt.text(fit.performance_measures['FP'] / fit.performance_measures['Neg'], \n",
    "             fit.performance_measures['TP'] / fit.performance_measures['Pos'], fit.desc)\n",
    "plt.axis([0, 1, 0, 1])\n",
    "plt.title('ROC plot: training set')\n",
    "plt.xlabel('False positive rate')\n",
    "plt.ylabel('True positive rate')\n",
    "plt.show()"
   ]
  },
  {
   "cell_type": "markdown",
   "metadata": {},
   "source": [
    "### looking at reviews based on their classification\n",
    "\n",
    "Let's say we decide that Ordinary Least Squares (OLS) Regression is the best model for generalization. Let's take a look at some of the reviews and try to make a (subjective) determination of whether it's generalizing well. "
   ]
  },
  {
   "cell_type": "code",
   "execution_count": 282,
   "metadata": {},
   "outputs": [],
   "source": [
    "ols_predictions = ols.predict(X_train)"
   ]
  },
  {
   "cell_type": "markdown",
   "metadata": {},
   "source": [
    "### let's look at some false positives:"
   ]
  },
  {
   "cell_type": "code",
   "execution_count": 283,
   "metadata": {},
   "outputs": [
    {
     "name": "stdout",
     "output_type": "stream",
     "text": [
      "Examples of false positives:\n",
      "110\n",
      "I'm embarrassed to be writing this review. I say that because those of you reading it will know that I sat through the whole thing and that is embarrassing to admit even to strangers. But I just had to warn those who read the viewer comments on IMDb before they watch a film not to watch this one. It's the least I can do. This is a bad movie! Trust me. The plot is goofy. The acting is amateurish. And the directing, camera work, sets, costumes, etc. are all second rate. Let it go.\n",
      "* * * * * * * * * \n",
      "242\n",
      "An uninspired and undistinguished \\new\\\" Columbo which sees the man-in-the-mac attend his nephew's wedding, only for his bride to disappear on their wedding night. Columbo investigates...<br /><br />And that it is about it: indifferently plotted and surprisingly laden with a flat script, given that it is written by Robert Van Scoyk, who penned the highly enjoyable Columbo story \\\"Murder Under Glass\\\" in the detective's heyday; there is not even a murder to speak of and the greatest amount of ingenuity afforded to Columbo by the script-writer is the narrowing down of suspects via the photos taken at the wedding, which include everybody who was there!<br /><br />Devoid of every Columbo trait possible, I thought I was watching an episode of Hill Street Blues. An insult to the history of the series, with appropriately soap-opera style acting. Very avoidable stuff.\"\n",
      "* * * * * * * * * \n",
      "346\n",
      "I came to NEW PORT SOUTH expecting a surrogate movie about the Columbine school massacre similar to Gus Van Sant's ELEPHANT and certainly the synopsis in the TV guide stating that a student sociopath rebels against the system did give me that impression but this is a very boring movie where little happens so consider yourself warned <br /><br />The story is about Maddox , a Chicago high school student who decides to strike back at what he perceives to be an authoritarian regime . The major problem is that the character is underwritten and the actor who plays him Blake Shields is unable to embellish any script deficiencies . You have the gut feeling that Maddox should have the evil charisma of Hitler , Saddam or Bin Laden but he never comes across as anything more than a petulant truculent teenager and it's impossible to believe he could rally any disciples . The subtext of you overthrow one manipulative authoritarian regime only to replace it with another manipulative regime is too obvious which means NEW PORT SOUTH is an entirely unconvincing drama that's not worth going out of your way to see\n",
      "* * * * * * * * * \n",
      "416\n",
      "I will admit that I'm only a college student at this present time, an English major at that. At the time I saw this film I was a high school student--I want to say junior year but it may have been senior, hard to remember. My experience with quantum physics goes pretty much to my honors physics course, an interest in quantum mechanics that has led me to read up on the subject in a number of books on the theoretical aspects of the field as well as any article I can find in Discover and the like. I'm not a PhD by any means.<br /><br />That said...<br /><br />This movie is simply terrible. It's designed to appeal to the scientific mind of the average New Age guru who desperately wants to believe in how special everybody is. My mother is such a person and ever since she's seen this movie she's tried to get all her friends to see it and bought a copy of the film. I attempted to point out the various flaws and problems I'd seen with the films logic and science--and they are numerous--and she dismissed my claims because \\oh, so a high school student knows more than all those people with PhDs.\\\" In this case, apparently so.<br /><br />Leaving behind the fact that earning a PhD doesn't necessarily require that a person be correct or, in fact, intelligent. Leaving behind the fact that my basic understanding of physics is enough to debunk half the film. Leaving that behind, the film makers completely manipulated their interviews with at least one of the participants to make it appear that he supported their beliefs when, in fact, he completely opposed them.<br /><br />I could go on and on but I think intuitor did a really good job of debunking the film so feel free to read that if you care to do so.<br /><br />http://www.intuitor.com/moviephysics/bleep.html\"\n",
      "* * * * * * * * * \n",
      "439\n",
      "I do not believe all the praise for this movie. The play and movie were a ripoff of Sleuth. Michael Caine wishes he were Olivier, and Reeves wishes he were Caine. Caine even had the nerve to do a remake of Sleuth with Jude Law playing his original part. Jude Law? You mean the one that did the remake of \\Alfie\\\"? <br /><br />This movie was made during a period of Caine's career when it was obvious he needed to pay off gambling debts. He would do anything for money. He would star in such award winning movies such as this, and \\\"Beyond the Poseidon Adventure\\\". What seems to be driving the praise for this movie is Reeves death. He deserves better than to be remembered for this lousy movie. And so does Caine. This movie can be found in the $5.97 bin at Walmart. Along with gems like \\\"The Island\\\", and \\\"Blame it on Rio\\\".\"\n",
      "* * * * * * * * * \n",
      "535\n",
      "watch a team of bomb disposal experts in Iraq count down their time before they can go home.<br /><br />That in itself sounds boring. Every time that little caption came up telling us how long they had left, it just caused this film with no plot to drag on and on. hurry up and finish your time there so we can all go home.<br /><br />I must be missing something. I'm a great fan of war films if they are done well. This had \\jarhead\\\" syndrome. A film that at times was beautifully shot, but cinematography doesn't stop it from being totally dull and pointless.<br /><br />And get over the slow mo \\\"cartridges coming out of the gun\\\" shot already. they could have saved money and just got stock footage from any other film with a gun in it.<br /><br />I didn't have any empathy for the main guy in it, i was constantly hoping that his recklessness would cause him to die. In fact the film would have worked much better if he had.<br /><br />I read some reviews and seemed to get the feeling that those who had been in the armed forces disliked it, and everyone else loved it. I have never been in the forces, and I'm with them. It's pretentious drivel. the 3 stars are for the cinematography.\"\n",
      "* * * * * * * * * \n",
      "565\n",
      "\\Houseboat Horror\\\" is often regarded as the worst Australian film ever made and described as a typical slasher film,which carried the promotion 'See the movie that can't get an Academy Award'.An underground disco band members begins to die slashed to death by burned maniac as they are attempting to shoot a music video on a remote lake in the Australian outback.Badly acted and written slasher flick with zero suspense and annoying characters.It certainly delivers the gore:heads are split in half with a machete,throats are cut and a woman is killed with a horseshoe.If you like cheesy slasher movies you can give this one a try,but you have been warned.At least it's better than Swedish \\\"The Bleeder\\\".4 out of 10.\"\n",
      "* * * * * * * * * \n",
      "720\n",
      "I agree with one of the other comment writers about good story & good actors but mismatched, and I would also say rushed. It has been about 24years since I read the book as it was in school. But I felt that you would need to know the story of Jane Eyre when watching this one as bits are left out & therefore it doesn't fully make sense. For example Jane & Mr Rochester have hardly spoken & suddenly he is proposing marriage!!! The actors don't have time to let the audience know how their character feels about each thing happening in the story.The actors are good but aren't given enough time to do this story justice. I'm sorry to say it but I didn't really enjoy this version.The 1970 version with Susanna York & George C Scott would be the Jane Eyre movie of my preference BUT you should check out the 1983 BBC mini series version with Zelah Clarke & Timothy Dalton in the 2 main roles. I love it so much I watch it regularly.There is an abridged version which goes for 225mins or the full version for 330mins.\n",
      "* * * * * * * * * \n",
      "837\n",
      "A few weeks ago the German broadcaster \\SAT1\\\" advertised this movie as the \\\"TV-Event of the year\\\" - sorry, but I've seen better things on TV this year.<br /><br />I didn't thought much of the movie but I soon reminisced about two other horrible movies when I watched the commercial - namely Titanic and Pearl Harbor because the picture looked so familiar: The \\\"heroine\\\" (if I can really call her that) in the middle and her two \\\"loved-ones\\\" next to her - Pearl Harbor, anyone? In fact the love-story is a poor man's version of the one in Pearl Harbor and that one was already poor!<br /><br />But as I like watching movies and analyzing their patterns I eventually decided to watch that rubbish. The movie begins with a doctor leaving his family for the military strike against Russia near the end of the Third Reich promising his wife that he will return. Now fast forward to Spring 1948: Germany lost the war and the allies & Russia captured the country and they both try to eliminate each other for world power and their ideologies: capitalism versus communism. Well, I guess you already know the story because you have to know it - The movie doesn't really bother with it so much and literally takes a dump on historical facts. The movie tries to depict the US government as angels and completely ignores the contribution of other countries during the airlift especially Great Britain who was responsible for nearly a quarter of the rations despite having their country bombed from a country that they're trying to help.<br /><br />What was also pretty annoying were the historical remarks the people said in the movie like when the heroine's mother tells her daughter that Germany might be parted in two with a response like: \\\"That's impossible!\\\" Or when Stalin (where the director thought we just stick similarly looking mustache on the actor and he WILL look like him) says that Russia has to stop \\\"Coca Cola\\\" from spreading in Germany. Yeah right, if Stalin has ever said something like this. Or there is this one US pilot who tells his fellow of a bread with meat and everything possible in it - please! Burgers were invented WAY before that time.<br /><br />In the movie you once see a map showing the airlines, funnily enough the map looks like it came straight out of a laser printer - in '48. The US general Lucius Clay who's main idea was to stay in Berlin is portrayed as a guy who is mean and grumpy and all the ideas he historically had like for example the airlift and improving on that idea came from the fictive character Phillip Turner, the love interest of the main actress which leads me to other aspects: Not enough African-American soldiers in the movie, there were like two in the whole film! Also relationships between US soldiers and German civilians was not allowed and by a revealing of such a relationship the US soldier would've been sent home. I don't want to say that there were no relationships at all but in this movie there was a couple that almost got married, If it wasn't for the death of the pilot in his fake CGI plane which looked terribly unrealistic especially the CGI fire!<br /><br />If it wasn't enough all Americans in this movie spoke accent-free German although they only were in Germany for a couple of months - look I'm also American living in Germany for my whole life and even I have a little accent. Notably bad was also the child acting - the kids had like two expressions on their faces: \\\"Normal-I-look-monotonous-like-a-robot\\\" and grinning.<br /><br />All in all the movie was boring from beginning to end moving way too slow especially the love story which was the same as the one in Pearl Harbor just with half of the dialogue. The sad part is that the movie was very successful - 8.97 millions watched the first part and 7.83 millions the second part the day after thus SAT1 receiving two consecutive wins in the overall market share and a whopping win in the commercial relevant group. But like I always think: The biggest pile of bull-crap is where the most flies go to.\"\n",
      "* * * * * * * * * \n",
      "892\n",
      "So don't even think about renting this from the shops, because this is one hell of a bad movie. You'd think that JJ Abrahams had written this movie. Basically, a rat is flushed down the toilet and somehow has to get back out. Fans of the completely terrible \\Shrek\\\" might enjoy, but \\\"Wallace & Gromit\\\" fans will probably turn away in disgust. Also, why didn't they do it in plasticine or clay? I mean, CGI animation?? For an AARDMAN movie??!! Obviously, Aardman lazed around while they let Dreamworks do the whole thing. Wrong, wrong, WRONG!!! Nearly every single character is awful, apart from that freaky frog guy, who is just right for a movie villain. But everything else about the movie is DULL, DULL, DULL!!! I almost fell asleep with boredom watching this movie. No, wait, actually, I DID fall asleep with boredom watching this movie. It's just terrible. But thankfully, it's not as bad as \\\"Shrek.\\\"\"\n",
      "* * * * * * * * * \n",
      "932\n",
      "An awful film! It must have been up against some real stinkers to be nominated for the Golden Globe. They've taken the story of the first famous female Renaissance painter and mangled it beyond recognition. My complaint is not that they've taken liberties with the facts; if the story were good, that would perfectly fine. But it's simply bizarre -- by all accounts the true story of this artist would have made for a far better film, so why did they come up with this dishwater-dull script? I suppose there weren't enough naked people in the factual version. It's hurriedly capped off in the end with a summary of the artist's life -- we could have saved ourselves a couple of hours if they'd favored the rest of the film with same brevity.\n",
      "* * * * * * * * * \n",
      "1039\n",
      "I rented \\New Best Friend\\\" hoping for a movie similar to enjoyable teen thrillers such as \\\"Gossip\\\" and \\\"The Curve\\\". Instead, \\\"New Best Friend\\\" is much more like \\\"The In Crowd\\\", in which there are no thrills and the acting is incredibly phony. \\\"New Best Friend\\\" is boring, and the events during the movie are the same. Skip this movie...it's a waste of time.\"\n",
      "* * * * * * * * * \n",
      "1104\n",
      "I grew up on the 'Superman II' theatrical version (\\S2T\\\") and as a kid, I loved it more than Part I since not only did it contain more Superman and three Superman-type villains, it started off with a bang  the best Clark Kent to Superman transformations and rescue scenes. Kids no longer had to impatiently wait for Superman to appear on screen, as in part I. Now as an adult, I can see how the mighty had fallen with S2T (See: my review.) I've always heard of the back-story on how they prematurely and unjustifiably fired the original's director, Richard Donner from part II. (It must have been a rarity back then to film two separate movies simultaneously, now it's common: 'Back to the Future' and 'Matrix' 2 & 3 for example.) Unfortunately, after finally seeing the Richard Donner Cut (or, \\\"S2RD\\\") I still can't fully recommend it. Gone, was the great Superman change scene, the entire Paris rescue, as was the wonderful recap of part I in S2T's opening. In fact, they all but wrote the words: \\\"Previously on Superman",
      "\\\" in S2RD. The special effects weren't great in either Part I or S2T , but S2RD, they were mostly downright laughable  such as Lois falling from the Daily Planet window. I will admit, some new scenes worked and some they took out were welcomed departures, such as any scene in the \\\"honeymoon suite.\\\" Overall, if you grew up on S2T as I did, and loved it as a child  not nitpicking as I do as an adult, you should absolutely see S2RD as it's almost a brand new childhood experience with dozens of new scenes. (Spoiler alert) Unfortunately, the worst change comes last: gone was also the weird amnesia kiss from S2T replaced with the exact same ending as 'I.' This is not only a lazy, unoriginal copout, it doesn't make sense on why Clark would go back to that diner, if those events never actually happened. And will he continue to \\\"turn back time\\\" for every confrontation?\"\n",
      "* * * * * * * * * \n",
      "1116\n",
      "BEGIN SPOILER: Fitfully funny and memorable for Mr. Chong's literal roach-smoking scene: Chong coolly mashes a stray kitchen cockroach into his pipe's bowl, lights up, coughs and hacks violently for a seeming eternity,then with perfect aplomb and not skipping a beat, re-loads the bowl properly, re-lights, re-tokes. END SPOILER. Alas, I began to lose faith less than half-way through the proceedings. It occurred to me that the lackadaisical duo are way obnoxious and less than relatable. I have come to appreciate the relative sophistication of contemporary stoners, Harold and Kumar. I simply prefer brighter company. Yet, the movie is probably a perfect fit for baked frat bros or those viewers who are so feeble-minded as to be outwitted by a stoner when they-- the former are sober. Notable guest appearance by Paul Reubens spouting obscenities in pre-Pee-wee form.\n",
      "* * * * * * * * * \n",
      "1228\n",
      "Gadar is a really dumb movie because it tells a fake story.It's too unrealistic and is a typical sunny deol movie that is aimed to bash Pakistan.The movie's aim is to misguide the viewers so they can think that Pakistan and it's government is bad but trying to hide their own flaws won't work.And all the songs and music of the movie are all bad.Most likely the Sikhs will love th movie cause they are being misguided.The movie sucks and sucks with power. I think only Amisha Patel was good in the movie. If i can give 0 out of 10 I would but the lowest is 1.Please save 3 hours of your life and do not watch this stupid boring movie .Disaster.\n",
      "* * * * * * * * * \n",
      "1334\n",
      "\\Creepshow 2\\\" is little more than a pale imitation of the original, designed with little purpose other than to cash in on the name of the previous film. It even amplifies the flaws of its predecessor, which was often predictable and heavy-handed. Still, the first time around, there were enough thrills to make up for it's periodic lulls, resulting in an uneven but overall fairly entertaining effort. The sequel has few worthwhile moments, so the transparency of the stories are even more apparent. Once in a while, it delivers, but most of the time, it just lingers there.<br /><br />As in the original, all the stories revolve around the common theme of revenge and just desserts. A wooden Indian comes to life, wreaking vengeance upon the killers of its owner. Teenagers are devoured by an aquatic monster. A hitchhiker returns from the dead to pursue a careless motorist. None of these premises are inherently bad in themselves, but they are utterly lacking in inspiration. There are few surprises and no scares. This a textbook example of unmotivated, by-the-numbers filmmaking. It doesn't help that this cheap-looking movie suffers from a flat directorial style, although to be honest, there wasn't much to work with. In the end, the second story comes off best, but not by much. <br /><br />For the most part, the performances are okay at best. George Kennedy, as the ill-fated general store owner, does an adequate, if not particularly inspired job. Dorothy Lamour, on the other hand, is quite good as the guilt-ridden motorist, evoking sympathy for her plight despite the predictable, redundant material. However, most of the characters are pretty thin overall. <br /><br />One would think that \\\"Creepshow 2\\\" would have turned out better. George Romero, who directed the original, returned to pen the screenplay, based on more of Stephen King's stories. Makeup effects artist Tom Savini turns in some good, gory work. So why is the film a letdown? I guess Romero didn't really want to make a second film, but was forced to do so for financial reasons. It was a decade of horror sequels, clones, rip-offs, and whatnot, so this one was certainly inevitable. I can imagine the guy writing the script in a hurry, picking up his paycheck, and running off. I guess he had to do what was necessary to get his own projects financed; we can't blame him.<br /><br />Rating: *1/2 (out of ****)<br /><br />Released by New World Pictures\"\n",
      "* * * * * * * * * \n",
      "1523\n",
      "There are no spoilers in this review. There's nothing to spoil.<br /><br />No plot, nothing; most clip shows at least try to tie the clips into the plot by some tenuous stretch, but this didn't even do that. Clips, three lines to lead into the next interminable sequence of dull clips... OK, so perhaps they were short on production time, but they'd have been better off skipping this episode entirely. What a waste of time.<br /><br />I'm not sure how this got made, in fact. Scrubs is usually much better at subverting tropes, but somehow this got through....<br /><br />Thank heavens they were back on form by the next episode.\n",
      "* * * * * * * * * \n",
      "1569\n",
      "What a piece of stupid tripe.<br /><br />I won't even waste time evaluating any of the points of this show. It's not worth the time. The one comment I will make is - why get such a DUMB, inarticulate doofus to be the star?!?<br /><br />There aren't many more dismal testimonials to the deteriorating mental condition of the networks than the fact that FOX has stated it will NOT bring back John Doe (a decent series) but WILL bring back brain-dead drivel like Joe Millionaire for yet another round of killing the brain cells of the american public.<br /><br />FOX has lost it, IMHO.\n",
      "* * * * * * * * * \n",
      "1648\n",
      "A particularly maligned example of Italian cult cinema with a nonsensical title to boot (if anything, the alternate THE MARK OF Satan is even less relevant to the plot!), this hybrid of Gothic Horror and Giallo (with a strong dose of Erotica) only contrives a flat sort of atmosphere throughout  actually matched by handling which is downright dreadful! Here, we get the usual group of people (an acting troupe) stranded on an island (to which they were invited by a Count  since he had become enamored of the leading lady, a dead-ringer for his missing spouse)! The characters are pretty much stereotypes: middle-aged but dashing hero (played by Giacomo Rossi-Stuart and whose family history bears more than its share of violent tragedy), demure heroine, sluttish companion (recalling Mae West and emerging the most annoying of the lot!), a meek but devoted stage manager (forever chided by one and all for his unmanly behavior!), a couple of lesbians, a mysterious gardener (the ubiquitous Luciano Pigozzi who, for once, gets in on the action, if you know what I mean), an envious housekeeper (nominal star Femi Benussi though, for what it is worth, this is really an ensemble piece), a religious fanatic of a butler, an impressionable chambermaid, etc. While the film is not by any means unwatchable, the atrocious dubbing, snail's pace, shoddy production (with the scenes depicting the raging sea lifted from some black-and-white film!) and the fact that the murders only occur within the concluding half-hour do not help matters. Besides, Marcello Giombini's score, though pleasant in itself, comes off as incongruously modern under the circumstances; that said, the revelation proves a surprisingly elaborate one (considering there is surely no shortage of suspects here).\n",
      "* * * * * * * * * \n",
      "1731\n",
      "When Carol (Vanessa Hidalgo) starts looking into her brother's death, she begins to suspect something more sinister than \\natural causes\\\". The closer she gets to the truth, the more of a threat she becomes to her sister-in-law, Fiona (Helga Line), and the rest of the local Satanists. They'll do whatever is necessary to put a stop her nosy ways.<br /><br />If you're into sleazy, Satanic-themed movies, Black Candles has a lot to offer. The movie is filled with plenty of nudity and ritualistic soft-core sex. One scene in particular involving a young woman and a goat must be seen to be believed. Unfortunately, all the sleaze in the world can't save Black Candles. Most of the movie is a total bore. Other than the one scene I've already mentioned, the numerous sex scenes aren't shocking and certainly aren't sexy. The acting is spotty at best. Even genre favorite Helga Line gives a disappointing performance. The plot really doesn't matter. Its main function seems to be to hold the string of dull sex scenes together. I'm only familiar with one other movie directed by Jose Ramon Larraz. Compared with his Daughters of Darkness that masterfully mixes eroticism and horror, Black Candles comes off as amateurish. 3/10 is about the best I can do.\"\n",
      "* * * * * * * * * \n",
      "1820\n",
      "I love Dracula but this movie was a complete disappointment! I remember Lee from other Dracula films from when i was younger, and i thought he was great, but this movie was really bad. I don't know if it was my youth that fooled me into believing Lee was the ultimate Dracula, with style, looks, attraction and the evil underneath that. Or maybe it was just this film that disappointed me. <br /><br />But can you imagine Dracula with an snobbish English accent and the body language to go along with it? Do you like when a plot contains unrealistic choices by the characters and is boring and lacks any kind of tension..? Then this is a movie for you! <br /><br />Otherwise - don't see it! I only gave it a 2 because somehow i managed to stay awake during the whole movie.<br /><br />Sorry but if you liked this movie then you must have been sleep deprived and home alone in a dark room with lots of unwatched space behind you. Maybe alone in your parents house or in a strangers home. Cause not even the characters in this flick seemed afraid, and i think that sums up the whole thing!<br /><br />Or maybe you like this film because of it's place in Dracula cinema history, perhaps being fascinated by how the Dracula story has evolved from Nosferatu to what it is today. Cause as movie it isn't that appealing, it doesn't pull you in to the suggestive mystery that for me make the Vampyre myth so fascinating. <br /><br />And furthermore it has so much of that tacky 70ies feel about it. The scenery looks like cheap Theatre. And i don't say that rejecting everything made in the 70ies. Cause i can love old film as well as new.\n",
      "* * * * * * * * * \n",
      "1962\n",
      "Ever heard of a taiwanese horror movie? Or any taiwanese movie? Propably for a reason. This one was a really boring one, even though it has black magic including withered baby bodies and people exploding from the inside with thousands of eels.<br /><br />Having read other peoples thoughts, I was looking forward for some violence and gore, but there's not much at all. Some blood puking and other lame stuff, if you are waiting for graphic gore or any gruesome effects you will be disappointed. They clearly didn't use the eel exploding and other things to their maximum potent.<br /><br />Pretty much nothing good about this movie; a single character that wasn't completely bland and a few OK black magic spells, like the eel one. The plot was confusing and boring. The characters were thin and annoying, including the main character. The horror aspect didn't work at all, the most horrifying thing was an albino girl (not that scary really). This is the worst Asian horror movie I have ever seen.\n",
      "* * * * * * * * * \n",
      "2106\n",
      "This film really disappointed me. The acting is atrocious. Unbelievable. And it's about actors. The story is incredibly obvious: A group of independent actors stage a Passion Play and, in turn, they start to live out the lives of the characters they play. I've been watching a lot of movies lately, thanks to Netflix, and this is the first one I haven't watched all the way through in a long time. I felt I didn't need to see the end; we all know the end of this story.<br /><br />For some, it seems, this \\modernization\\\" of the Gospels is either sacrilegious or enlightening. I cannot speak to any of this as I wasn't raised in the Christian church. That being said, I was raised in the US and I live in an increasingly Christian culture. I'm curious enough about Jesus and about the modernization of the religion, for better or worse. I haven't seen Mel Gibson's version, but I'm guessing that those who liked that one will like this, except for the most conservative. I just wish this was a better film.<br /><br />Lots of these reviews praise Arcand's direction and especially the cinematography. I liked neither. The film itself is rather prudish and preachy. I didn't believe the characters' personae and I was never involved with their on screen lives. The play within the play is very much dated and would not, I think, carry it's own weight in a real time production. But that's beside the point. What I really needed for this to work would have been stronger development of the characters and the plot to support the philosophical and theological questions the film would like to be about. And the musical choices are obvious and unoriginal.<br /><br />There were two examples of this that come easily to mind. Firstly, there is a reenactment of the parable of Jesus driving the money lenders from the temple: the lead actor, who has fallen for the woman who will play Magdalene and who is also a model and dancer, becomes enraged that she must debase herself by auditioning for a commercial (with a wicked producer and plenty of panting men in the audience) with her pants off. He trashes the place and chases them all out. I guess this is the level that the film wishes to reach. The romance between these two is entirely arbitrary and not at all emotionally realized and the scene is played out like a high-school rendering of Death of a Salesman, i.e., not well. Please stop hitting me over the head with this high-handed \\\"significance.\\\" The other is the relationship between the other female lead and the priest who has asked them to do the play and who, eventually, turns against them and betrays them to the nowadays-corrupt Church. Why. Why does she sleep with this guy. \\\"It brings him so much pleasure and me so little pain.\\\" Ah, the saintly whore and the lovable old coot. It seems to be just enough for Arcand to signify but not worth the trouble to enrich and enliven these characters. They are going through the motions and I'm reaching for the eject button.<br /><br />Feel free to write me off as bored, jaded or just not interested. Feel free to watch this movie and see the Passion, in all its beauty, sadness and inspiration, delivered as an amateurish and gimmicky charade. Feel free to have all your preconceived ideas affirmed and see any shred of artistic integrity forsaken for monotonous drivel. But don't say I didn't warn you.\"\n",
      "* * * * * * * * * \n",
      "2143\n",
      "I was looking over our DVD tower last night for something to watch. We were between NetFlix mailings and it was a quiet Saturday night. I pulled one out that I never heard of before and realized it was borrowed from a friend. From the jacket, it sounded like a rip-off of \\The Big Chill\\\" but, with the all-star cast, felt it might be worth watching. Boy was I wrong!!! Not only was it like \\\"The Big Chill,\\\" it was a rip-off almost character by character. The Bill Paxton character was a copy of William Hurt (\\\"where have you been all this time\\\" role) -spoiler warning- and, lo and behold, he remains behind to take care of the old place(cabin/camp). Kimberly Williams = Meg Tilly; jerk womanizer Matt Craven = Jeff Goldblum etc., etc. I found myself wondering why I'm even watching these people. There was insufficient character development for me to find any interest in them. How did \\\"Unca Lou\\\" even find these characters after 20 years? Plus it wasn't even funny, except when Perkins fell, err 'flopped' out of bed the first morning, it was a sign and I missed it. After it was over, I asked my wife, \\\"Were there any endearing characters in this film? ... Are you sleeping over there?\\\" She replied, \\\"No, I'm still thinking...No, none I can think of.\\\"\"\n",
      "* * * * * * * * * \n",
      "2144\n",
      "The first episode set the bar quite high i thought. It starred William Hurt as a hit-man who is contracted to kill a toymaker. We are given very little information on his character or who is paying him to kill, indeed the episode is notable for having no dialogue at all. Returning to his modernist penthouse he is delivered a package containing toy soldiers, this gives him a smile but he dismisses it and goes about his business. But he is in for a night of hell, the soldiers are alive and are about to wage war, driving jeeps, shooting machine guns and bazookas and even flying helicopters!. The special effects are good for a TV show and it becomes quite tense as he dodges around the apartment using his wits to survive, sometimes getting the upper hand and other times not. I wont spoil the ending but suffice to say it was a clever little twist. This gave me hope for the rest of the series but i was in for a disappointment, the other episodes were all rubbish and i lost interest by the fourth one. Stephen King adaptations are always a mixed bag and these are no exception\n",
      "* * * * * * * * * \n",
      "2227\n",
      "Dont let the MPAA fool you with their \\Rated R for extreme violence\\\" there is definatly no extreme violence in this boring peice of s*t. I expected some cheap rambo 3 type action that the trailer promised, however its just boring boring nonsense with tons of lame slow mo flashbacks that make no sense. AVOID!\"\n",
      "* * * * * * * * * \n",
      "2346\n",
      "This movie introduces quite an array of characters and their relationships in the first half-hour or so. None of them generate any interest or positive response. I waited for the intrigue to begin, hoping things would get better and ended up sticking around until the bitter end, but there was no reward for doing that.<br /><br />If you want a synopsis, look elsewhere. To me the action isn't worth recounting. Not that the story was that bad, I guess you could say I had some problems with the script--i.e. I thought it stunk. A look at the credits will show you that there's a pretty strong cast here, used to no avail. Most of the old pros in this flick do good jobs; of the actors I hadn't seen much of before I especially liked Deborah Kara Unger. That's about all that I can find good to say about this picture.\n",
      "* * * * * * * * * \n",
      "2547\n",
      "Ouch, what a painfully BORING Sci-Fi movie! And that's especially saddening because the opening 15 minutes were so action-packed and full of potential! During the intro, we follow a bunch of nervous security officers and hired hit men as they chase a doctor who escaped from a mysterious laboratory with a briefcase full of top-secret files. As he's about to reveal the supposedly horrible & inhuman events that take place in the lab, he's executed. Figures",
      " From then on, the 'action' swifts back and forth between two locations, the aforementioned laboratory and the rural mansion of a corrupt senator (or something), and it quickly becomes clear that the experiments are actually the complete opposite of disturbing. More like dull, pointless and vague. Scientists selected four random persons without living relatives and it's really really really really important that they speak the truth even though a giant machine reads the content of their minds, anyway. They all hide dark secrets from their pasts and people suffer when get revealed; yet I fail to see how these tests could ever result in a humanity-threatening device. Perhaps I missed something, but I doubt it. The interactions between the patients and doctors are even less interesting to follow, as really none of them have personalities. So basically, \\The Brain Machine\\\" just handles about a bunch of lame people living in an awfully decorated room. The film also could have been half an hour shorter if it weren't for a THOUSAND stagnant shots of buildings! The relocations from the lab to the villa and vice versa are indicated EVERY SINGLE TIME by a five-second shot of the places. Either the makers really needed the padding or they just assumed that all Sci-Fi viewers are morons unable to notice a change of location by themselves. Staring at a forsaken pool with a mansion in the background for the tenth time in only five minutes becomes quite annoying, I assure you. James Best's performance as the reverend with mental issues is rather decent, but one man definitely can't save this thing from being an absolute waste of time. Avoid!\"\n",
      "* * * * * * * * * \n",
      "2603\n",
      "Without wishing to be a killjoy, Brad Sykes is responsible for at least two of the most dull and clichéd films i've ever seen - this being one of them, and Camp Blood being another. <br /><br />The acting is terrible, the print is shoddy, and everything about this film screams \\seriously, you could do better yourself\\\". Maybe this is a challenge to everyone to saturate youtube with our own zombie related crap?<br /><br />I bought this for £1, but remember, you can't put a price on 71 minutes of your life. You'd do well to avoid this turkey, even at a bargain basement price.\"\n",
      "* * * * * * * * * \n",
      "2696\n",
      "The Ballad of Django is a meandering mess of a movie! This spaghetti western is simply a collection of scenes from other (and much better!) films supposedly tied together by \\Django\\\" telling how he brought in different outlaws. Hunt Powers (John Cameron) brings nothing to the role of Django. Skip this one unless you just HAVE to have every Django movie made and even THAT may not be a good enough excuse to see this one!!\"\n",
      "* * * * * * * * * \n",
      "2739\n",
      "Millie is a sap. She marries a rich guy named Maitland and they have a child. She then catches him cheating on her and divorces him...but lets him keep the kid she claims to love. Back then in the early 1930s, she would have been entitled to hefty spousal and child support but lets the guy off amazingly easy...with no support...what a sap! Later, when she has a boyfriend and life seems pretty good, he turns out to ALSO be a cheat! Wow, does she have a hard time picking men.<br /><br />As a result of these bad relationships, Millie changes. Now she's a wild party girl--doing everything she can to distract herself from her hard luck. Suddenly, many years pass. Millie's daughter who she left early on in the film is now 17 and oddly fashions haven't changed one bit. An old friend of Millie's (yes, it's another evil man!) is now pretending to be the daughter's friend, but he has lecherous designs on her. Millie promises him that if he touches the girl, she'll kill him. Take a wild guess what happens next! <br /><br />Overall, the film is a confusing and often bizarre mess--a bit like \\Madam X\\\" but much, much less focused. So often Millie's motivations and actions seem to make little sense. And, the film seems to have a little of everything tossed into it--so long as it substantiates the notion that all men are pigs. Unusual but not particularly good.\"\n",
      "* * * * * * * * * \n",
      "2801\n",
      "A low point in human interaction was reached by the Maysles Brothers with this film. Do remember, you who used words like \\masterpiece\\\"when reviewing this film, that these Maysles creeps didn't just happen to drive to the Hamptons and happen to shoot film on some eccentric people. No, when they found these two poor pathetic people they then had to finance their project (and imagine what they told the money people to sell the project). Then they befriended the two extremely vulnerable women. No meeting of minds here or real consensual participation. These wretched Maysles smiled, kissed ass, did whatever they had to to get the Beales to cooperate and then exploited them as viciously as has ever been done. One would like to think that these hustlers had occasional thoughts of remorse and guilt. But the film-making process, given the preplanning, actual shooting and then editing took a lot of time and their goal had no provisions for actually relating to the Beales as human beings. An exploitation film perpetrated by the vilest of people. As time accrued their film-making reputation has been seriously stained by what they did here. Their reputation as human beings is execrable. That is what people will remember them as. Grotesque hustlers.\"\n",
      "* * * * * * * * * \n",
      "2838\n",
      "This is a movie about how men think women think about love. No woman describes a one-night sexual encounter and declares it a love story.<br /><br />Of the ten monologues I felt only three really had any kind of truth ring through them. I kept waiting for the film to get better, and it did a bit, but never better enough.<br /><br />This is an interesting concept, and I kept wanting it to be good, but it never succeeded. Maybe if they actually WERE love stories it would have worked.\n",
      "* * * * * * * * * \n",
      "2845\n",
      "The infamous Ed Wood \\classic\\\" Plan 9 From Outer Space features an indignant alien calling the human race, \\\"...stupid! Stupid, stupid stupid!\\\" I'd have to say exhibit A in that trial would probably this movie, a ridiculously silly sci-fi film.<br /><br />Falling action star Jean Claude Van Damme returns to a hit role for him from the original movie, Luke, a former Universal Soldier who now works making really good universal soldiers. While Van Damme was too big to reprise the role in the first two sequels, he was too small to do much of anything else by the time the fourth film in the Universal Soldier series came around. So, probably cursing under his breath the whole way, he kicks and grunts and scowls through ninety minutes of explosions and karate kicks. You'll find plenty of mindless violence, but I'd advise you get a coat check for your brain at the door when you start watching this thing. Otherwise, you are liable to forget where you left it by the time it's over.<br /><br />Luke is called into action against more Universal Soldiers after a really really REALLY evil computer named Seth (makes HAL look like Ghandi) turns all the other universal soldiers into evil, remorseless killers. Of course this is what these things are programmed to do, but in this case they are killing their creators, not \\\"the enemy\\\" so that's a problem.<br /><br />I love the dumb logic of this movie. Logic that believes that a supercomputer would create a body for itself that looks as ashamed as Michael Jai White does to be in this movie. Logic that dictates that the creator of Seth be a blue-haired cyber-stereotype geek who spouts cliches more regularly than Old Faithful does steam. Logic that has a climactic karate fight feature two characters kicking each other though ten separate panes of shattering glass in the span of three minutes of screen time.<br /><br />The film also features a daughter in peril character, wrestler Bill Goldberg as a wrestler disguised as a Universal Soldier, and a romance so tacked on, I have to think the writers thought tacked on romances were actually a GOOD thing. And when this movie ends, it ends. Not a minute after a gigantic towering finale-style explosion are the credits running. No epilogue, no where are they now, no final kiss, just explosion, hug, over. Even the creators want to get out of this thing as soon as possible.<br /><br />While it's no Plan 9, US:TR is a silly little trifle of an action movie that would be fun at parties full of rowdy Van Damme fans who enjoy seeing their hero really reaching new depths. Not to be seen on a serious stomach.\"\n",
      "* * * * * * * * * \n",
      "2870\n",
      "Casting aside many of the favorable comments that have obviously come from friends and/or relatives that pepper this and many other low budget independents listed on IMDb, one is lost when it comes to using these reviews as an accurate gauge. So eventually you have to go out and rent the flick just to see for yourself. One of the first things you must understand are the catch phrases that camouflage the reality of the movie. In this case the term \\dark psychological thriller.\\\" Read: \\\"hack writer/director who thinks he's an auteur, who replaces plot, story, and action, with what he believes is a deep insight into the human soul. His great insight? Festering and repressed childhood traumas emerge to wreck havoc when we become adults. Wow, I bet Freud would be really impressed! Too many would be film makers like Kallio, who were raised on low budget horror flicks of the last few decades, fail to dig their own fresh grave. Instead, they fall into the pre-dug graves of the many other directors that came before them. They are content with rehashing old and tired horror clichés that they borrowed from a dozen or more films. The result is an unoriginal, uninspired, unbelievable waste of film stock.\"\n",
      "* * * * * * * * * \n",
      "3147\n",
      "Saw this movie when it first came out in the 1970's and hated, hated, hated it! Easily the most booooring movie I have ever seen in my life. Don't know where Leigh got his inspiration but this is one of those movies where you want to shake the characters to get them to open their mouths and communicate. The title says it all because there are no saving moments in this movie, just long, long silences with people unable to articulate what they are (presumably) feeling. If you want to watch something that will drive you to drink then this is the one for you. If you have nothing better to do for two hours then stick a fork in a toaster: the experience will be infinitely more pleasurable than anything you will get from this! Yes, Leigh came up with a lot of really worthwhile stuff much later in his career but give this one a miss.\n",
      "* * * * * * * * * \n",
      "3174\n",
      "This is almost like two films--one literate and engaging, the other stupid and clichéd. It's really a shame all the problems weren't worked out with the writing, but considering how quickly most B-movies were written and produced, this isn't too unusual. It's a real shame, though, as this could have been a very good film.<br /><br />First the good. The movie is original and involves WWII code-breakers. This is pretty fascinating and I liked watching the leading man (Lee Bowman) go through his paces as a master code-breaker. In fact, the first two-thirds of the film was very good. But now for the bad, the film just went on way too long and lost steam at about 50 minutes. Additionally, Jean Rogers' role as the \\kooky girlfriend\\\" must rank as one of the worst-written and distracting roles in film history!! For every smart move made by Bowman, the idiot Rogers then stepped in to screw things up as some sort of misguided \\\"comedy relief\\\". If her role had been intelligently written, the overall film would have improved immensely! Instead, watching her, it's hard to understand how we actually won WWII!!\"\n",
      "* * * * * * * * * \n",
      "3278\n",
      "This scared the hell out of me when i was a teenager. Now I find it more amusing than scary, but with some pretty unsettling moments and with a kind of sleazy quality to it that I like. And, come to think of it, the plot is rather disgusting actually...but handled with some kind of taste. If there is a problem with this movie, it is that there are HUGE gaps where nothing exciting or interesting happens. Also, the ending goes on forever, making a potentially tense climax seem silly after a while with Barbara Bach screaming and screaming. The \\monster\\\", after it is exposed, isn't very scary either unfortunately. The somewhat drab look of the movie also works against it, making it appear as a TV-movie more than something made for theaters. But it is an example of films that are rarely made nowadays so I urge horror fans to watch it and feel a bit nostalgic...\"\n",
      "* * * * * * * * * \n",
      "3412\n",
      "and this movie has crossed it. I have never seen such a terrible movie in my life! I mean, a kid's head getting cut off from the force of an empty sled? A snowman with a costume that has the seams clearly visible? This was a pitiful excuse for a movie.\n",
      "* * * * * * * * * \n",
      "3424\n",
      "Well first off I'd like to add that I myself is somewhat of a historian so what I look for in a film that is based upon historical events is that it is actually based upon historical facts. But this is however not the case here. Sure the movie is entertaining and all but the fact that it isn't entirely based upon true facts is more than annoying. Hitler wasn't anti-semitic in his youth, he even worked for Jews before world war one. It was however during world war one and after that he formed his views about the Jews. His upbringing in this movie is also inaccurate, Hitler as a child wasn't a disturbed little brat. He had a more or less normal upbringing. Nothing is mentioned about his lost brothers and other important pieces that adds to the puzzle that is Hitler.<br /><br />Robert Carlyle is a great actor but he doesn't really fit in the role as Hitler. Hitler wasn't as impossible and unstable as he is portrait-ed here. Under his younger years he was a charismatic person whom \\manipulated\\\" people through his charms. His unstable behavior and rage outbursts started in the turning point of the war.<br /><br />I'd like to see a film about Hitler's life that is based upon real historical facts and not accusations. I really hate when people point a blaming finger at for example Hitler and others and tell inaccurate stories just to paint a picture of them as pure evil. It is much better to actually tell the story EXACTLY as it was so that everyone can learn what it was like! The ones behind this movie should have made some research before making this. Because it seems as if they didn't even know what really happened. Hitler wasn't even shot in the revolutionary march in Munch, his shoulder was ripped out of its socket.<br /><br />It gives you more to see a good documentary than seeing this.\"\n",
      "* * * * * * * * * \n",
      "3540\n",
      "With a cast list like this one, I expected far better. Venessa Redgrave spent the majority of the movie lying in bed. The best actresses in the world cannot make anything very interesting when their acting is limited to lying down and falling asleep throughout the entire movie. The plot summary says that a secret is revealed to the daughters as their mother comes closer to death. The thing is, she never tells her daughters anything except cryptic advice to be happy. All the relationships in the movie are underdeveloped. I also felt that the back and forth between the past and present was unnecessary. It seemed as if the idea was stolen either from the book the Da Vinci Code in which the device was used to increase suspense, or from The Notebook in which they used the device to create the never ending romance of the story's main characters. Either way it was a cheap device in this movie because it didn't work to create anything. It was a way to attempt suspense in a movie that has none. I left wondering why good movies can't be written for women. It really was a disappointment.\n",
      "* * * * * * * * * \n",
      "3612\n",
      "I saw this film in my cinema class. I am glad that I did not pay to see it. I came into it with an open mind, and was even a little excited. I really enjoy Ed Norton and Evan Rachel Wood, and the rest of the cast was interesting. I just never connected with this movie. The acting was great, the cinematography was interesting, but the storyline, or rather, lack thereof, was a problem. There was no central, connecting theme to the movie. Was it a romance between Norton and Wood? Well, no, not really. Was it a western? Kind of, but no. I'm all for twists in movies, I recently saw \\Brick\\\" and loved it, but the place that this movie went was just too out there. It was so weird, and if I weren't required to have sat through the whole film, I would have walked out. The writing wasn't terrible, but it was just all over the place. By the time this movie ended, I was just left terribly confused and wishing that it had ended sooner. There was just something about this film that didn't resonate, I understand more offbeat films like \\\"Fight Club\\\", but I just did not care about the characters at all.\"\n",
      "* * * * * * * * * \n",
      "3752\n",
      "One of the most peculiar oft-used romance movie plots is this one: A seriously messed-up man falls in love with a terminally ill woman, who turns his life around before dying. Occasionally this story is done well and realistically (as in \\The Theory of Flight\\\", an excellent weepie), but more frequently it's done like it is here, where as usual the heroine dies of \\\"Old Movie Disease\\\". You know, the terminal illness that has no symptoms but one fainting spell and a need to lie down as you're telling your lover goodbye forever; and your looks aren't affected one bit (and since this is the 70's, neither is your sex life). This is one of the worst versions made of that particular story, where a very silly script puts two incompatible and unbelievable characters together, and they're played by actors who are completely at sea.<br /><br />This has got to be the worst performance of Al Pacino's career, and I say that after having seen \\\"The Devil's Advocate\\\" only two days ago! He plays a control-freak, emotionally constipated race-car driver, and plays an unlikeable character lifelessly. He seems to constantly be asking himself why he's staying around the grating Marthe Keller (so does the audience), and spends most of the movie just... standing there, usually with his mouth hanging open. The only time he shows any sign of life is towards the end, where his character proves that he's changed from uptight to liberated by doing a hilariously bad Mae West imitation. Hey, it *was* the seventies!<br /><br />Marthe Keller is equally terrible as the dying love interest; her character was conceived as bold and free and touching and uninhibited and full of life even though dying, and was probably meant to be played with an actress with the sensitivity of, say, Vanessa Redgrave or Julie Christie. Instead, they got the expressionless face and heavy German accent of Ms. Keller, who comes across as more of a scary Teutonic stereotype (\\\"You VILL eat ze omelet!\\\") than anything like lovable. She's supposed to be reforming Pacino and filling him with courage and spirit and all that, but it doesn't work that way, it's more like she's harping on his faults in the most obnoxious possible fashion. This makes for one of the least convincing romances in movie history, where you can't believe she'd be with someone she finds so worthless, and you can't believe he's with someone who gets on his nerves that much.<br /><br />Some bad-movie fans call this a cult classic, mostly because of Pacino's silly \\\"liberating\\\" Mae West imitation. The scene is a scream, especially in context, but not worth sitting through the rest of the film for. No, only see the film if you're a serious bad-movie aficionado who is especially interested in studying Extreme Lack of Chemistry between leading actors, or Very Bad Casting (not only are the leads terrible, but Pacino's other girlfriend is played by an actress who looks and sounds just likes Keller with shorter hair, I got them totally confused). This isn't one of those laugh-a-minute bad movies like \\\"The Conqueror\\\", it's just a really, really bad movie.<br /><br />\"\n",
      "* * * * * * * * * \n",
      "3876\n",
      "I rented this movie on DVD. I knew that the movie wouldn't live up to what it promised me on the back of the case, but once I saw that Leatherface (Gunnar Hansen) was in it, I had to rent it. It starts off pretty good, with the premise being that snuff films are being aired over cable. However, the main character has nothing about her to make you feel sorry for her whatsoever, and the end of the movie really leaves you hanging. There are way too many unanswered questions. There was a great scene at the end that totally took me by surprise, but overall this is a very sub par movie, but I guess it was worth the $ 3.99 rental fee.\n",
      "* * * * * * * * * \n",
      "3894\n",
      "I watched this on the tube last night. The actor's involved first caught my attention. The first scenes were attention getters. Some funny some sad. Good character development. I felt that the latter third of the film diverged. If it was not for the early part of the movie I would have stopped watching. I kept watching wanting to how how it tied together.<br /><br />Unfortunately I feel that it never happened. I especially did not like the extend period that several of the character were talking yiddish (?). Was that the other shoe?<br /><br />Would I recommend? No, I think not. As other reviewers mention much of the slang is dated (60's jive) but it was not too distracting. The ending totally turned me off.\n",
      "* * * * * * * * * \n",
      "3937\n",
      "After watching this on the MST3K episode, I have to wonder how many movies this film borrows from. It seems to combine elements of Logans Run, Farenheight 451, Final Sacrifice and at least several others. At one point I was really expecting Cris Makepease to call Lee Majors ROWSDOWER. <br /><br />I wonder if the director has any clue how many holes there are in the plot. like the fact that, even though gas is unavailable, there is plenty of it in abandoned gas stations, and the stations are located close enough together to keep an F1 race car going all the way across the country.\n",
      "* * * * * * * * * \n",
      "3964\n",
      "I was glad to watch this movie free of charge as I am working in the hotel industry and this movie came lately to our movie library. Nothing against low budget movies, but this movie has horrible acting and directing. How can a movie as this one ever be made. The director should be blacklisted, and for all the poor actors, it is for sure not a jumping board into a career. Please make sure that you'll not watch this movie, the acting is lame, the camera and directing awful. There are just a few more movies out there which deserve to be called the \\LOW 10\\\". Another example would be \\\"Dracula 3000\\\". People who make money with this movie should give it to charity, so at least it serves for a good reason. <br /><br />In this case I would watch it even another 10 (or at least one more time).\"\n",
      "* * * * * * * * * \n",
      "4184\n",
      "1st watched 4/29/2007 - 4 out of 10(Dir-Mick Garris): Campy vampire-like Stephen King movie has so many strange and goofy elements that you start laughing over the extreme weirdness about 3/4 the way into the movie and you wonder if this movie might have a cult following for King fans. It's the story of a mother and son who are sleepwalkers(a shape-shifting feline-like, flesh eating, life needing, near extinct breed of humanoid) who move from town to town searching for virgins to feed on to keep themselves alive. They come across as pretty normal upper-class folk except they are secret lovers and cats hang around the outside of their home, day and night. Cats are deadly to them, so they set traps in their yard to try and keep the population down. We get to see them break a couple of their necks when they attack(which is also a first in my movie-going experience) --- hopefully no real cats were harmed in the making of the film. The boy is after a sweet girl that he has a crush on until he turns into a \\sleepwalker\\\" and then he just wants her body. There is so much campy uniqueness to this movie that it might have been better if it was an all-out satirical comedy on suburban life, but the director instead tries to scare you every couple minutes until you wish he'd just get over it and bring out the gore. Eventually that happens and the movie winds down to it's typical Stephen King downbeat ending. The movie is interesting because King's humor comes thru more than usual but his weirdness is also very present and what you have is a movie that his fans will probably like and should have in their collection, but as a worthwhile movie experience it really doesn't cut it.\"\n",
      "* * * * * * * * * \n",
      "4212\n",
      "I am giving this pretentious piece of garbage a 1 simply because i don't believe there is a worse movie in the world.<br /><br />I hate this movie, i hate the acting, dialog, setting, writing and directing. I hope everyone that was involved in this movie burns and rots in the darkest circle of hell.<br /><br />Damn this disgusting waste of time.<br /><br />I pray every day that this movie is just a figment of my imagination. i pray that i dreamt the movie, and that i will never have to see it at <br /><br />my local video store again.<br /><br />BURN IN HELL\n",
      "* * * * * * * * * \n",
      "4237\n",
      "I was raised watching the original Batman Animated Series, and am an avid Batman graphic novel collector. With a comic book hero as iconic as Batman, there are certain traits that cannot be changed. Creative liberties are all well and good, but when it completely changes the character, then it is too far. I purchased one of the seasons of \\The Batman\\\" in the hopes that an extra bonus feature could shed some light on the creators' reasoning for making this show such an atrocity. In an interview on the making of \\\"The Batman,\\\" one of the artists or writers (I'm unsure which) said that \\\"We felt we shouldn't mess with Batman, but we could mess with the villains.\\\" So, they proceeded to make the Joker into an immature little kid begging for attention, the Penguin into some anime knockoff, Mr. Freeze into a super-powered jewel thief, Poison Ivy into a teenage hippie, and countless other shameful acts which are making Bob Kane roll over in his grave. <br /><br />To sum it all up: I wish I had more hands so I could give this show FOUR THUMBS DOWN. It squeezes by my rating with a 2 out of 10 simply because it uses the Batman name. Warner Bros...rethink this! Please!\"\n",
      "* * * * * * * * * \n",
      "4258\n",
      "I wanted to like this film, I really did. It's got some good actors but ultimately it falls flat. It tries too hard to be funny in some places (the daughters over zealous cooking attempts), over reaches in others (the scene where they clean up someone's yard, so he agrees to join the team) and has some scenes that, while mildly interesting, are really just filler (all the work scene's). And I didn't find the \\villians\\\" intimidating, or worth hating, so much as I found them to be childishly annoying. <br /><br />I've met people like those in the film while playing church ball. And I will say the referee's are spot on, Still, in the end, I really didn't care all that much about the characters, or their quest for church ball glory. Maybe because they were all so one dimensional, which I might not have minded so much if the film were funnier or seemed to flow a little more smoothly overall. <br /><br />Kurt Hale, and Halestorm entertainment, has made some good films, but this is not one of them.\"\n",
      "* * * * * * * * * \n",
      "4536\n",
      "This Hitchcock movie bears little similarity to his later suspense films and seems much more like a very old fashioned morality tale. A young couple receives an inheritance that they believe will make them happy. They spend the money traveling about the world and living a very hedonistic existence. However, after a while the excitement begins to wane and the couple become dissipated and pointless in their existence. However, out of no where, when they are on a luxury cruise, the ship sinks and they lose everything--and end up much happier in the end because they now appreciate life! What an odd, silly and preachy film! Personally, I'd like to inherit all that money and find out if it makes me miserable!<br /><br />The production values are relatively poor compared to later productions--a rough film with poor sound quality and rather amateurish acting.\n",
      "* * * * * * * * * \n",
      "4555\n",
      "Painful to watch, and not entirely for empathy with the struggles of the characters. Two of the main characters, Cynthia the mother and Monica the acknowledged daughter, spend the great bulk of the film pathetically mewling and bitterly bitching respectively. Their characters are so firmly established that their redemption into tolerable personalities after a quick family catharsis is unbelievable. It wasn't worth the wait. I wish a worthy pitch for honesty among families was less of a headache to view.\n",
      "* * * * * * * * * \n",
      "4608\n",
      "Oliver Gruner is totally unknown to me. My friend showed me this film because he had seen Gruner in, what he called a pretty good sci-fi film, Nemesis. So as we watched this, we found ourselves fastforwarding through the BS drama parts just to get to the unbelievable action sequences. Gruner loves to kick and kick and kick. And kick! haha<br /><br />Gruner character is a graduate student who is forced to stay in a ghetto close to the one that he grew up in. He finds himself watching after the boy who lives with him because he really wants to join in the Mexican gang that keeps tormenting his family. Instead of joining up, Gruner tells the boy to fight back (against a gang? too crazy). Gruner plays a typical Van Damme character who kills everyone (or maims them pretty bad) and works to rid his block of these gangmembers.<br /><br />The plot was very cheesy and easy to think of. Gruner is probably not very well known because of his script-choosing if this movie is anything to compare possible choices to. This ghetto is pure hell and I enjoyed seeing the motley crew of characters go through it as if they have a chance against Gruner's character. The music was typical action music (thumping pianos and timpani, swelling guitars) which actually wasn't as bad as I make it sound. The director really needed to keep the action going instead of taking a break every 5 minutes for a tense family moment.<br /><br />Ultimately, I gave it a 4/10 because it really tried to be an average action film for Oliver Gruner to star in, but the overall feel of the film leaves you wanting more closure on what you just saw.\n",
      "* * * * * * * * * \n",
      "4618\n",
      "The story and the show were good, but it was really depressing and I hate depressing movies. Ri'Chard is great. He really put on a top notch performance, and the girl who played his sister was really awesome and gorgeous. Seriously, I thought she was Carmen Electra until I saw the IMDb profile. I can't say anything bad about Peter Galleghar. He's one of my favorite actors. I love Anne Rice. I'm currently reading the Vampire Chronicles, but I'm glad I saw the movie before reading the book. This is a little too\\real\\\" for me. I prefer Lestat and Louis's witty little tiffs to the struggles of slaves. Eartha Kitt was so creepy and after her character did what she did The movie was ruined for me; I could barely stand to watch the rest of the show. (sorry for the ambiguity, but I don't want to give anything away) Sorry, but it's just not my type of show.\"\n",
      "* * * * * * * * * \n",
      "4742\n",
      "Let me be really clear about this movie. I didn't watch this movie because of the plot, I watch it for the saucy sex scenes. That being said, this movie is so god damn awful I flip between pure joy of seeing a godly body of Traci (Mandy Schaffer) and cringing my eyeballs out for the disaster of a plot.<br /><br />Spoiler Alert The first scene of the movie already had me cringing.. you see a woman painting something by the lakeside, in pure bliss and serene, then a beautiful girl approach and ask if she could paint beside her. When they both finished, they show each other what they had done... and the woman painted A VINEYARD WHEN SHE IS FACING INFRONT OF THE LAKE. What kind of screwball director would make this kind of mistake?? And in another scene, Traci gets to kill her teacher's lover by smash him with the sail pole, and then she swims away, and none of the town's police suspected her once. I mean HELLOOOOO? MANDY DID NOT WEAR A GLOVE DID SHE? HER FINGER PRINTS ARE ALL OVER THE GOD DAMN BOAT!! After that, it gets worst, whenever Mandy is around, there is the \\chilling\\\" sound effect played which sounds like a cat in hissy fit. It's also a real pity Rosanna Arquette's is in this movie. I feel real sorry for her to have to star in this super low budget soft-porn no brainer. Same goes for Jürgen Prochnow, who also has the misfortune to star in this movie. All in all, 2/10.\"\n",
      "* * * * * * * * * \n",
      "4841\n",
      "\\Ambushed\\\" is no ordinary action flick. It's much to bad to be ordinary. One man walks toward another with a machine gun blazing. The other man fires one round and fells the man with the greater fire power without so much as a nick from the hail of lead raining down on him. Guess which one is the good guy. Duh. Such is \\\"Ambushed\\\" through and through. Not a good action flick, not a good drama, not a good movie, \\\"Ambushed\\\" fails on all levels with it's cast of B-movie veterans mechanically going through the motions almost as though they know they're making a real loser. Not recommended for anyone.<br /><br />\"\n",
      "* * * * * * * * * \n",
      "4889\n",
      "Bad plot, bad dialogue, bad acting, idiotic directing, the annoying porn groove soundtrack that ran continually over the overacted script, and a crappy copy of the VHS cannot be redeemed by consuming liquor. Trust me, because I stuck this turkey out to the end. It was so pathetically bad all over that I had to figure it was a fourth-rate spoof of Springtime for Hitler.<br /><br />The girl who played Janis Joplin was the only faint spark of interest, and that was only because she could sing better than the original.<br /><br />If you want to watch something similar but a thousand times better, then watch Beyond The Valley of The Dolls.\n",
      "* * * * * * * * * \n",
      "5021\n",
      "Freddy's Dead: The Final Nightmare, the sixth installment of the Nightmare on Elm Street series and once again another bad sequel. I think this is tied up with the last sequel of the Dream Child. I was lucky enough to get the Nightmare on Elm Street series box DVD set for my birthday, so I got to see all the sequels. May I say that I'm just getting more and more disappointed though with these sequels, at least the past two, it just seems like Freddy lost his edge. It's almost like the writers were trying to give Freddy a soul and they're just destroying it instead of reinventing the story. This was a sequel that wasn't needed, sorry to Robert Englund, but this was very much below what Freddy Krueger represents.<br /><br />Freddy is back, but he's got something we don't know about, a daughter. Maggie, she's not aware that he is her father, but soon she finds out what his dark secrets are and he wants her help. She has to do her best to resist his powers, but it's hard with all the good memories she has of her loving father. Ironic, isn't it? But Freddy isn't giving up without manipulating her into his ways.<br /><br />Freddy's Dead: The Final Nightmare is also presented in 3-D, radical, huh? Note the sarcasm. This is one of the worst sequels, it's tied up with the fifth sequel of the Nightmare on Elm Street series, I'd rather watch the second Nightmare on Elm Street to be honest. This just had bad acting, stupid editing, and just over all a bad idea for a story. I didn't like the concept of it and it just ruined the whole idea of who Freddy Krueger really is, the death master of nightmares, not Father Knows Best.<br /><br />2/10\n",
      "* * * * * * * * * \n",
      "5260\n",
      "I have to say although this movie was formulaic throughout with a plot stolen from films like Friday the 13th/I Know What You Did Last Summer, this movie wasn't that bad. In fact it wasn't as bad as most of the Horror films Hollywood has released recently. The killings although at times a little too imaginative were in most instances just that, original. The cast was mediocre which is to be expected from low-budget features but much better than what that much bigger studio Artisan/Lions Gate has been offering. My only real complaint that wasn't due to the film's budget, which must have been small, was the contrived \\twist\\\" ending. I'm sorry but this is what put this film in the bad category for me. The ending was just stupid and tacked on. Before that I was a little bored, but actually enjoying it. 4/10\"\n",
      "* * * * * * * * * \n",
      "5364\n",
      "December holiday specials, like the original Frosty, ought to be richly-produced with quality music and a wholesome, yet lighthearted storyline. They should have a touch of the mystical magic of the holidays. Basically, they should look, sound, and feel...well, \\special\\\" and they should have a decent and appropriate December holiday subtext.<br /><br />So when I saw Legend of Frosty the Snowman in the TV listings, I got my kids (6 and 8) pumped up for it by telling them the story of the original Frosty and passionately relating how much I enjoyed it as a kid. As my wife and kids cozied up on the couch to watch the movie the expectations were high, but 10 minutes into it my kids were yawning and my wife and I were giving each other \\\"the look\\\" and rolling our eyes. After 35 minutes my kids were actually asking to go to bed -- I guess they were fed up with the insensitive language and pointless, disconnected segments. I was actually embarrassed about their (and my) disappointment with this movie.<br /><br />Unfortunately, Legend of Frosty the Snowman is more like a bad episode of Fairly Odd Parents crossed with a worse-than-normal episode of Sponge Bob than a classic holiday movie. Don't get me wrong...those shows are fine and I like them as much as the next guy, but when I watch Fairly Odd Parents or Sponge Bob, my low expectations (for mediocre, off-color, zero subtext, mind numbing episodes) are always satisfied.<br /><br />We picked out some good books and spent the rest of the evening reading together. A much better choice than the embarrassingly bad Legend of Frosty the Snowman.\"\n",
      "* * * * * * * * * \n",
      "5455\n",
      "\\True\\\" story of a late monster that appears when an American industrial plant begins polluting the waters. Amusing, though not really good, monster film has lots of people trying to get the monster and find out whats going on but not in a completely involving way. Give it points for giving us a giant monster that they clearly built to scale for some scenes but take some away in that it looks like a non threatening puppy. An amusing exploitation film thats enjoyably silly in the right frame of mind. (My one complaint is that the print used on the Elvira release is so poor that it looks like a well worn video tape copy that was past its prime 20 years ago.)\"\n",
      "* * * * * * * * * \n",
      "5694\n",
      "The story by Norman Maclean is a masterwork; Redford's film is a mediocrity. He adds banal scenes of the Maclean brothers going over a falls and of them double-dating in a seedy bar that were not even hinted at in the story. The cipher, Brad Pitt, trying to play the charismatic Paul Maclean, a genius outdoors, proves either risible or depressing, depending on what the original story meant to you. Some of the fly casting scenes are beautiful. Also, Tom Skerritt as the father and Craig Sheffer as Norman are strong and masculine, as men were once expected to be. None of the women make an impression in the film, which is regrettable, because Maclean loved the women in his story and made this clear, even poetic.\n",
      "* * * * * * * * * \n",
      "5791\n",
      "I watched this movie recently together with my sister who likes the performances of Sophia Loren. I'm a person who they call a Cultural Barbarian. I hate art in any kind of shape or form. Rambo is more my kind of movie, action, kills, blood, horror. If you recognize yourself in this avoid this movie like the plague. No one dies, no action, no nudity, nothing of the kind. Let me give you a résumé in a few sentences. It starts out with 5 minutes in black and white Nazi propaganda. Every Italian in a housing block attends a parade in honor of Hitler, except for a housewife, an anti fascist and a caretaker. The housewife who is cheated by her husband, meets the anti fascist. She falls in love with him, wants to make love to him, but the anti fascist is gay. Despite of this they make love with each other. At the end of the day, the housewife reads a book from her gay lover, and the guy himself is deported by agents. The end. You want an even shorter résumé? BORING... That short enough? The guy should have used his gun in the beginning of this movie and shoot himself, to save the audience from this atrocity. On a side note my sister loved this movie. Like I said, I'm a Cultural Barbarian...\n",
      "* * * * * * * * * \n",
      "5801\n",
      "Perhaps it's because I am so in love with the William Holden - Kim Novak version, or because I'm not a Gen-X'er, but this was absolutely the worst remake I have ever seen. Without the original's soundtrack, it just seemed like another typical TV movie...yes, about as bland as Kraft cheese.\n",
      "* * * * * * * * * \n",
      "5994\n",
      "You'd better choose Paul Verhoeven's even if you have watched it.\n",
      "* * * * * * * * * \n",
      "6023\n",
      "<br /><br />A friend of mine enjoys watching the worst films he can possibly find, and I have a good laugh watching them with him.<br /><br />I have told him if he puts this one on again I will be forced to give him a good kicking.<br /><br />He knows I am serious!<br /><br />\n",
      "* * * * * * * * * \n",
      "6044\n",
      "A real blow-up of the film literally. This British film is boringly made.<br /><br />What an exciting plot! A terrorist places bombs on a train. How could the writers and producers of this stinker turn this into such a dull story?<br /><br />Glenn Ford, as the expert called upon to defuse the bomb, is given awful writing material to work with. Naturally, just as he is called in, his wife, Anne Vernon, is about to leave him. No wonder we never heard of Miss Vernon. After such a film, it would be enough to end her career.<br /><br />That elderly man who loved trains and interferes is our 1953 version of senile dementia. I thought it was highly insulting to show this man, even at the end.\n",
      "* * * * * * * * * \n",
      "6078\n",
      "Sondra Locke stinks in this film, but then she was an awful 'actress' anyway. Unfortunately, she drags everyone else (including then =real life boyfriend Clint Eastwood down the drain with her. But what was Clint Eastwood thinking when he agreed to star in this one? One read of the script should have told him that this one was going to be a real snorer. It's an exceptionally weak story, basically no story or plot at all. Add in bored, poor acting, even from the normally good Eastwood. There's absolutely no action except a couple arguments and as far as I was concerned, this film ranks up at the top of the heap of natural sleep enhancers. Wow! Could a film BE any more boring? I think watching paint dry or the grass grow might be more fun. A real stinker. Don't bother with this one.\n",
      "* * * * * * * * * \n",
      "6115\n",
      "Dark Wolf (Quick Review) Let's get right to it: This is a repugnant piece of rotting roadkill with cow sh*t on it. It's just an awful movie. It's an urban werewolf movie with some of the worst acting imaginable and a story as weak as any gangly nerd from an 80's high school drama film. What's worse is that poor Kane Hodder was duped into playing the gigantic evil werewolf. Kane f*cking Hodder. Someone's trying to ensure that playing Jason Voorhees is the height of his film career...<br /><br />Anyway, former Playmate Jaime Bergman is also in the movie and she eventually becomes a werewolf, too. It's kind of a crappy cop drama with the world's worst looking werewolf in it. But it does have moments of near-rampant nudity. But that's about all. Want to know more? Okay, the werewolf is generally an ugly-looking black blur zipping around the screen. And when we're privileged enough to actually see a transformation sequence, we're presented with something that resembles a full-motion video from a video game made during the early stages of the Playstation. The first Playstation. The CG animation is really that primitive. Only good for horror hardcore fanatics that want to see small moments of nudity surrounded by rampant visual vomit. 2/10<br /><br />www.ResidentHazard.com\n",
      "* * * * * * * * * \n",
      "6202\n",
      "A cast of 1980's TV movie and TV series guest stars (Misty Rowe, Pamela Hemsley,Clevon Little, Seymour Cassel among several others)in the story of a photographer who has dreams about killing his models. Of course the models and other people start turning up dead causing all sorts of complications.<br /><br />Over done not very good thriller has enough nudity and violence to get an R rating but not enough good material to engender any real interest. This is best described as the sort of movie that gave the cable channel Cinemax the alternate name of Skinamax. I really can't see the point of watching this unless you need to see every sleazy thriller out there. (I also have to comment that this film is filled with smoking, to the point that it becomes laughable when anyone lights up)\n",
      "* * * * * * * * * \n",
      "6265\n",
      "I am compelled to write a review of this IMAX feature as a means of warning others to SAVE YOUR MONEY. Almost any episode of Desmond Morris' \\The Human Animal\\\" or David Suzuki's \\\"The Nature of Things\\\" could have bested the material presented. Not only does the director fail to make use of IMAX's incredible 65 to 70 mm film stock and gigantic presentation screen, everything on screen is extremely unimpressive given the accessibility of such programming mentioned previously. Viewers are introduced to a pregnant Heather, her husband Buster, and their niece and nephew. We follow them for an interminable forty-odd minutes as they eat, sweat, listen to music, etc. Although we are given access to scenes inside the human digestive track and learn about babies' natural diving reflexes, do we really learn anything more than most grade-school graduates? Are we even remotely entertained by the trans-Atlantic Heather? Do we care? Avoid this film at all cost. If you do wish to see an IMAX feature, I suggest the beautifully photographed \\\"India: Kingdom of the Tiger\\\" or the technically thrilling \\\"Space Station 3D\\\". Trust me.\"\n",
      "* * * * * * * * * \n",
      "6445\n",
      "Saw this movie in an early preview, and I cannot stress enough how bad I thought this film was. From the very beginning, the audience was groaning over Pacino's awful southern accent. Poor Al looked really, really haggard, and I can't decide whether this was purposely part of his role as a drug addicted publicist, or perhaps he just didn't get any sleep before coming to the set. Much worse than Pacino's close ups, however, is the wretched excuse for a plot. Early in the film we are given indications that Pacino's character is gay, and I suspect that is what the screenwriter had originally intended. Later, however, we are supposed to suspend our incredulity and believe that both Tea Leoni and Kim Basinger (both of whom are sleepwalking through lame roles) lust after this elderly, half dead looking, effeminate man with the ridiculous accent. The worst part overall was the main plot thread, which had to do with some corporate espionage that is never fully explained and we never, ever care about in the slightest. Because this was a preview I will reserve my final judgment, because of the possibility of re-shoots and editing, but you can bet I will not pay a cent to see this in theaters.\n",
      "* * * * * * * * * \n",
      "6482\n",
      "I think that movie can`t be a Scott`s film. That is impossible. Do you remember Blade Runner? And Alien? Two greats movies versus a one. I hope didn´t see ever it. good bye!!\n",
      "* * * * * * * * * \n",
      "6496\n",
      "Well, this movie started out funny but quickly deteriorated. I thought it would be more 'adult oriented' humor based on the first few moments but then the movie switched into a bad made-for-Disney Channel type mode, especially a go-kart racing scene that was incredibly long. Alana De La Garza is gorgeous but has a really fake Italian accent. The movie looked and sounded very independent and low budget. There was one very cute moment which I'll just call the serenading scene but overall this one was a yawner. The laughs are very few and far between. The end surprise for \\Mr. Fix It\\\" is so ridiculous it left me more mad than anything else. Might be worth a look if you can catch it for free or TV but don't waste your money buying or renting this movie.\"\n",
      "* * * * * * * * * \n",
      "6519\n",
      "Let me being by saying the I followed watching this video by watching Saw and after Bleed, Saw looked like the all time greatest horror flick ever even though I thought it was only fairly good. Bleed is pretty bad. The best part is seeing the female cast nude. The gore is very fake looking and over-done. It has its funny parts but its extremely predictable and I didn't want to stay to see the horrible ending. If I could, I would ban these actors and actresses, the only reason being is that Debbie Rochon (Maddy) has been in over a hundred other videos and I've also seen two other members of the cast in equally or worse motion pictures. They should not allowed to continue this madness.\n",
      "* * * * * * * * * \n",
      "6582\n",
      "******SPOILERS******<br /><br />The unfunny radio quiz show host Kyser and his mediocre band are the excuse for Lugosi, Karloff, and Lorre to pick up a paycheck in this bland, sporatically watchable haunted house spoof. Lugosi is a mystic whose seances are exposed as a fraudulent attempt to bilk an heiress' fortune; Karloff is the butler and Lorre is a professor who exposes fake mediums, but it turns out that they're both in conspiracy with Lugosi. <br /><br />Of course, Kay Kyser and his band of 30-something year old \\kids\\\" uncover the truth with the minimum of possible humor along the way. Not recommended to any but the absolute horror completist.\"\n",
      "* * * * * * * * * \n",
      "6660\n",
      "I have watched some pretty poor films in the past, but what the hell were they thinking of when they made this movie. Had the production crew turned into zombies when they came up with the idea of making it, because you sure have to be brain dead to find any enjoyment in it.<br /><br />I am a fan of most genres and enjoy \\shoot 'em up\\\" games, but merging the daft scenes from the game just made this ridiculous and unwatchable.<br /><br />As most have already said, there was hardly any script and the acting was weak. I won't waste my time describing it.<br /><br />Anyone who rates this film above 4 has to be part of the production company or Sega, or else they have a very warped concept of entertainment.<br /><br />I must say, I was more annoyed with the video shop, who gave this a thumbs up, which led me to rent it. Thank god I had a second film to watch to restore some of my faith in movies.<br /><br />Comic book guy would be right if he said \\\"Worst movie ever\\\"!\"\n",
      "* * * * * * * * * \n",
      "6864\n",
      "This is an OK film but lacks any real depth either emotionally or in terms of story telling.<br /><br />The story is based on real events and this limits the amount of action to virtually none, also no real suspense.<br /><br />Washington is believable in the lead but he is sleep walking through it, there is no scope to flex any acting muscles for him or the supporting cast.<br /><br />The story simply falls a little flat, even having never heard of the title character the ending was obvious but unlike other films about such injustices this one has no emotional impact, you don't really care about him and the motivations of those on the outside helping seem more academic than concerned for his welfare.<br /><br />There is an attempt to inject some emotion using the boy outside who hero worships Carter but this seems forced.<br /><br />It's an OK film but instantly forgettable.\n",
      "* * * * * * * * * \n",
      "7023\n",
      "A friend of mine gave me this movie. A friend of mine is now in a hospital were a team of doctors are trying to surgically remove a DVD casing from his ***. <br /><br />I got quit excited by the prospects of an other Michael Chabon movie. After all his novels have brought me much entertainment and previous screenplay adaptations were great, but boy, was I wrong.<br /><br />First off the people that did the casting must have been asleep whilst doing so. I imagine the castings went something like this. \\Tell me, do you like fish?\\\" \\\"Yes I enjoy fish very much.\\\" \\\"Wonder full, you're hired. Have some money.\\\" <br /><br />Than there is the script. I have read Chabon, who I hope went blind before he could see this piece of dong, and it has absolutely nothing to do with his novel. I'm not quit sure why it annoyed me like it did, but it might have something to do with the fact that listening to a speech impaired 90 year old drunk duck hunter with a right cranial lobe dysfunction would have been a treat in comparison to the one-liners these 2nd degree model massacre kids spat out.<br /><br />This is an actual line from the movie; \\\"If you tell me something that you've never said out loud to anyone before, than this moment becomes unique!\\\" Unique? Does it? Does it really? Off course not you plank. Please pass me the Imodium. I'll have a whole ****ing strip. <br /><br />The directing is... well. I've got nothing. Maybe Rawson Marshall Thurber just got word his grandmother exploded or something. Stick to directing comedies. No stick to directing commercials. <br /><br />This movie is so horrible it left me banging my head against a wall so hard it brought me back to the stone age. I give it 2 stars because I don't wanna be the guy that watched a 1 star movie.\"\n",
      "* * * * * * * * * \n",
      "7099\n",
      "...well, pop this into the DVD, waste an hour and a half of your life that you will never get back, and find out.<br /><br />Acting? What acting? <br /><br />Production values? ...Production? ...Values?<br /><br />Story? Don't get me started.<br /><br />After many years of posting on IMDb, I never thought I would see a film so bad that I truly wished for a lower rating than one. I always have found at least a reason or two to see merit - if only in the intent or the effort of the writer, the director, the cast, or the producer?<br /><br />In this case, they're all the same guy (!) who really needs to get a handle on the fact, at least as demonstrated by this worthless waste of video tape, that he has no talent. I mean it would be a reasonable excuse if this were some junior high schooler's \\production\\\" for his first cinema class, but the referenced \\\"artist\\\" behind this dreck was twenty-six at the time of this miscarriage. <br /><br />Just how did this ever get made? Who in their right mind ever wrote a check for this? Moreover, don't let the box cover fool you: there's not even anything that remotely resembles a good sex scene or any good \\\"exposure\\\" of the hunk on that cover.<br /><br />Two final items: there was one second when this \\\"film\\\" had redeeming value: the aforementioned \\\"talent\\\" gets roundly punched out by his lover. I cheered! And, I did learn one thing from this \\\"film.\\\". There are times when something is so very bad that it is, indeed, truly very funny. But not in any comical manner; it's just sadly humorous. Very sadly humorous.\"\n",
      "* * * * * * * * * \n",
      "7256\n",
      "The only thing that prevented this flick from being a total disaster were a couple of interesting stylish touches. <br /><br />(Moderate Spoiler Alert) Death by comic is a bit derivative of a scene in Twilight Zone: The Movie, which delivers death by cartoon. Still this was handled nicely, especially watching the ink bleed and the color being sapped out.<br /><br />Additionally, there is one other good scene with a demon motorcycle.<br /><br />Having said that, I was glad I got the DVD cheap at a store going out of business sale, because this was pretty awful. I bought \\Soul Survivors\\\" at the same time and both movies were similarly annoying with the constant realizations that you have been watching a dream. However , where \\\"Soul Survivors\\\" has nothing to redeem it, or have it make any sense, this at least had a couple of stylish notes, referred to above.<br /><br />Interestingly, the DVD lets you go to the 8 'nightmares' where something actually happens, which is the only way to watch this. The scripting between the creative gore moments is rather unbearable.<br /><br />3 out of 10.\"\n",
      "* * * * * * * * * \n",
      "7350\n",
      "This movie is not very good.In fact, it is the worst Elvis movie I have seen.It has very little plot,mostly partying,beer drinking and fighting. Burgess Meredith and Thomas Gomez are wasted. I don't know why they did this movie.You could say Elvis was wasted as well,he is much,much better in \\Follow That Dream.\\\"\"\n",
      "* * * * * * * * * \n",
      "7469\n",
      "I can't believe that people thought this stinking heap of trash was funny. Shifting the attempts at humor among cruelty, disgust and stupidity, 'There's Something About Mary' leaves little reason to stay until the end. Sure, Cameron Diaz is very pretty, but that is never going to be enough to save a movie. Ben Stiller tries hard to work within the plot, and is obviously very talented, but the movie is a loser.<br /><br />Not once were any of the scenes believable. The shots were badly timed and poorly framed. The Farreley brothers should be kept away from making films at all costs. I check IMDB to see what they are working on just so I know what to avoid.<br /><br />2/10; the bonus is from the one time I smiled. It's not like I'm immune to humor or alone in my opinion. My wife hated it, too. The next day we saw 'Rush Hour' and laughed ourselves silly. This movie just stunk.\n",
      "* * * * * * * * * \n",
      "7473\n",
      "Ah, Lucio Fulci, rest in peace. This infamous Italian is most<br /><br />famous for \\Zombie,\\\" and the absolutely unwatchable \\\"The<br /><br />Psychic\\\" and \\\"Manhattan Baby.\\\" Well, add this to the unwatchable<br /><br />list.<br /><br />The plot, as it were, concerns a nekkid woman who wears a gold<br /><br />mask and a G-string. She wants the power of a young dubbed<br /><br />stud who has a set of magic arrows and a bow. They are magic<br /><br />because they glow. Arrow boy teams up with a guy in a bad wig,<br /><br />and they spend most of the movie rescuing each other from flat<br /><br />action sequences. In the end, the nekkid chick is defeated, but not<br /><br />before taking the mask off and reminding me why I broke up with<br /><br />my high school girlfriend.<br /><br />Fulci bathes every shot in an orange glow and fills the screen with<br /><br />smoke. Nothing like a smoky orange action sequence to make you<br /><br />crave Sunny Delight and a cigarette. The special effects are<br /><br />laughable. In one sequence, our ambiguously gay duo are<br /><br />attacked by dozens of arrows that are obviously pin scratches on<br /><br />the film itself. The majority of the effects budget must have been<br /><br />spent on the Fulci-licious gore, which consists entirely of spurting<br /><br />wounds. Hey, we can all use a good spurting wound once in a<br /><br />while, but when you get into spurting wound overkill, it gets boring.<br /><br />I kept having to play with the brightness setting on my TV anyway<br /><br />just to see what the heck was happening.<br /><br />There is lots of talk of fulfilling omens and prophecies, so let me<br /><br />do a little look into the future...if you find this movie and watch it,<br /><br />you will regret it. The scene on the video box (by Media) does not<br /><br />appear in the film in any context whatsoever. \\\"Conquest\\\" is a con<br /><br />job. What MST3K could have done with this!<br /><br />This is rated (R) for strong physical violence, strong gore, female<br /><br />nudity, brief male nudity, and mild sexual content.<br /><br />\"\n",
      "* * * * * * * * * \n",
      "7483\n",
      "Deceptive Advertising... I saw a commercial for Carlitos Way: Rise to Power that states \\From the Producer of Scarface and Carlito's Way\\\" LETS GET IT STRAIGHT... Michael Bergman did not produce Scarface, in fact he was 'editing room assistant' for Scarface. Not to take away from Bergman's talent... but in my opinion he should of had a little more class. I think I can speak for the masses when I say... We hate being blatantly lied to. As far as the movie goes, It was poor at best. I did think Puff Daddy did a good job. Although, Luis Guzman should be ashamed for working on this film. Overall this film did not do a good job filling in the blanks for Carlito's Way. It's obvious this project was an attempt to make a quick buck rather a good film.\"\n",
      "* * * * * * * * * \n",
      "7495\n",
      "Phew--I don't what to say. This is a film that could be really good a with a bunch of stoned viewers. Some of the acting reminded me of John Waters' early offerings. Perhaps I should take that back--I don't want to insult Waters' ability as a director/storyteller.<br /><br />I particularly loved the lawyer taking about the \\full faith and credibility\\\" clause. It's \\\"full faith and credit,\\\" by the way!<br /><br />This also reminds me of \\\"The Conrad Boys,\\\" where the main actor is also the writer, director, film editor, etc. Those sort of multi-involved undertakings such as that are probably best left to very seasoned film professionals who would have the technical ability (albeit a stunt, some might say) to pull something off like that.\"\n",
      "* * * * * * * * * \n",
      "7514\n",
      "Other than some neat special effects, this movie has nothing to offer. They threw in some gore and some nudity to try and make it interesting, but with no success. Kevin Bacon's acting was pretty good, but he couldn't salvage the movies lack of plot.\n",
      "* * * * * * * * * \n",
      "7530\n",
      "It saddens me to rate a movie with a lot of my favorite actors, locations and genres, i.e. Douglas, Sutherland, Washington, D.C. and political thriller, but 'The Sentinel' really hits a low. It's like they had a great idea up front, signed the right cast and had some great city shots and then took a holiday letting the remaining crew improvise the rest. And I wish I could blame it on yet another bland performance from Basinger (not only do I feel she's one of the worst actors in Hollywood, but I'm still steaming more than a decade later that she was the only one, and definitely the only bad actor in the film, to win an acting Oscar for 'L.A. Confidential.') But she wasn't the only problem. Sutherland, who I love as Jack Bauer on '24' once again plays",
      "Jack. I miss his old 'A Time to Kill' or 'A Few Good Men' days. Douglas certainly took a hiatus from acting and phoned this one in. Plot: Someone, some Secret Service traitor, wants the President dead and Douglas is (haphazardly) being framed. Will someone believe him? Actually, no spoiler here: as quickly as they came up with that subplot half-way through, it's over before you know it. And why did someone(s) want the President dead? Is that to be revealed in the sequel? Too many plot holes, too many doors opened and never closed and too predictable 'The Sentinel' is. If you only see one movie a year, you may not know who the mole is, but anyone who's familiar with these types of movies or even just seen one 'Law & Order' episode you'll know in the first few frames. Was it terrible? Not really, the cinematography was good, and despite Sutherland playing Jack again, he's still got it.\n",
      "* * * * * * * * * \n",
      "7559\n",
      "After the success of Scooby-Doo, Where are You, they decided to give Scooby and Shaggy their own show. But unfortunately, they added a new character that spoilt Scooby-Doo success forever. They invented a new show with a new title, Scooby and Scrappy-Doo. It was Scrappy-Doo that made this show a complete failure, probably for both adults and kids together. Scrappy was the stupid brave puppy that always looked ready to beat someone up. Scooby and Shaggy were getting scared of the villain, and they were also trying to stop him. Scooby-Doo doesn't need any little annoying bastard puppy nephews. If they wanted Scooby-Doo to be more successful, they should have either killed or never thought up Scrappy. This was just poor, maybe your kids will prefer it!\n",
      "* * * * * * * * * \n",
      "7601\n",
      "Our teacher showed us this movie in first grade. I haven't seen it since. I just watched the trailer though. Does this look like a first grade movie to you? I don't think so. I was so horrified by this movie, I could barely watch it. It was mainly the scene with Shirley McClain cutting that little girl in half, and then there was the boy with ketchup! I was freaked out by this film. Now today, being 20, I probably would not feel that way. I just wanted to share my experience and opinion that maybe small children shouldn't see this movie, even though it's PG. Be aware of the possible outcomes of showing this to kids. I don't even remember what it was about, once was enough!\n",
      "* * * * * * * * * \n",
      "7656\n",
      "This is a very bad western mainly because it is historically inaccurate. It looks as if it were shot on a back lot in California instead of where Jack Slade lived and died, Idaho, Colorado Territories, and Montana. It fictionalizes everything that is known about this mysterious 'bad man,' 'good man.' The script is horrible; there is very little direction, and lousy acting. Dorothy Malone is completely wasted as his wife. Mark Steven never seems to know how to portray this mysterious Jack Slade. In real life, Jack Slade was a very good stage line superintendent. He was feared by his local townsmen for his hard drinking. When drunk he would start fights and cause other problems in Virginia City, Montana. To insure that he could never terrorize them again, vigilantes lynched Jack Slade after he ignored their warning to leave town immediately. This is a horrible movie. I can not recommend anyone to watch this movie other than to see how Hollywood butches history at will, even to this day.\n",
      "* * * * * * * * * \n",
      "7740\n",
      "I agree with the previous comment, what a disappointment. Rented it thinking it was going to be a good movie since Mira and Olivier where in it. I was surprised by their performance, expected more since they're good actors.<br /><br />Thought it was a slow beginning but it got worse. I even laughed at some bad stunts!! when is supposed to be a mystery movie. You can even guess who is the killer beforehand!!! <br /><br />For real what happened?? <br /><br />Sorry to say but don't even bother you'll waste time and money.<br /><br />Boring!!!\n",
      "* * * * * * * * * \n",
      "7836\n",
      "I had the distinct misfortune of catching up on two of 2004's worst films back to back this morning: first, the incoherent CGI-driven emptiness of The Chronicles of Riddick, and then, the embarrassing vanity project known as Greendale. One cost multimillions and the other cost pennies, but they're both bad. Really, really bad. <br /><br />Up front I should state I'm not the world's biggest Neil Young fan, but he has contributed his share of classic tunes: from Buffalo Springfield (whose best recordings were Young compositions) to Rust Never Sleeps, Harvest, and Mirror Ball, the man has penned some really great songs. Sadly, there are no great songs in Greendale, and precious few good ones, and the film around which they are built is truly cringeworthy and simplistic political sloganeering. Completely without merit as art and unimpressive as polemic, Greendale is best left forgotten. Buy the book if you feel compelled to contribute to Young's bank account.\n",
      "* * * * * * * * * \n",
      "7932\n",
      "I read the reviews for this and while not expecting a saving private Ryan I was expecting a film of some substance.<br /><br />The film starts off very lob-sided with the usual intro of history and how the unit came into being. But immediately it's 1944 and you are not sure where everyone is. The accents etc are very poor as this unit is supposed to be Hawaiian/Asian American but everyone speaks in a very poor take on Harvard English imitation of a Japanese person.<br /><br />I gave this film 3 out of 10 as after 10 minutes I couldn't watch any more of it. The characters were 1 dimensional and even though they were most likely based on real people I had no feeling for them and this left me not caring about them. Very poor direction of a very average TV movie which will be shown at midnight on some cable channel. I'd avoid and look out for better efforts.<br /><br />This is a good story but it was deserving of a better telling. You got a sense the director had seen band of brothers and thought that that was enough to sell his movie. My advice, avoid and watch band of brothers, Tuskegee airmen, Glory or any other movie like when trumpets fade...\n",
      "* * * * * * * * * \n",
      "8018\n",
      "This is, quite literally, the worst movie I have ever watched in my life. It may be the worst movie possible. Some movies are so bad that they're good; this movie is so bad that it goes past enjoyable camp and simply becomes unwatchably awful. It is the anti-enantiodromia. We bought it with the intent to heckle, and all of my family gathered around for a fun evening of clever remarks; instead, we sat in stunned silence, pitying poor Peter Sellers.<br /><br />This is worse than the animated Lord of the Rings. It is worse than the Matrix sequels. It is worse than Krull. It is worse than any Batman movie.<br /><br />Do not, under any circumstances, let this movie approach within ten feet of your television.\n",
      "* * * * * * * * * \n",
      "8099\n",
      "This movie was made for people who found Gremlins too serious and Critters to hardcore. Like many of the critters/trolls/gremlins movies of the 80's this movie is bad. The sad part is that there's no punchline to that comment. It's just bad and not in a funny way.<br /><br />The problem with this miniature monster movie is that it actually tries to be funny and ends up being as successful in doing that as Howie Mandell was in Walk Like A Man. What made the other 80's horror movies into classics was that they were genuinely trying to be scary, but were hilarious because they failed so miserably. Someone must have told Bettina Hirsch (yes THE Bettina Hirsch)she had a knack for comedy before she started directing this movie. Unfortunately they were wrong.<br /><br />Sure seeing a weird little mutated cross between a ferret and a tumor wearing a brown trenchcoat and throwing pool balls at an outcast from the Lost Boys is amusing, but not enough to save the movie.<br /><br />By far the most annoying part of the movie is the Paul character. His Paul Reiser wannabe schtick is enough to make you start fast forwarding from the time of his first scene until the ending credits only stopping once to see a scene where a munchie throws pool balls at a guy...not that I did that.<br /><br />So the bottom line is run, don't walk, to your nearest Blockbuster and shake hands with the manager and thank him for not having the grapes to stock this pile of garbage on the shelves.\n",
      "* * * * * * * * * \n",
      "8134\n",
      "I rated this a 3. The dubbing was as bad as I have seen. The plot - yuck. I'm not sure which ruined the movie more. Jet Li is definitely a great martial artist, but I'll stick to Jackie Chan movies until somebody tells me Jet's English is up to par.\n",
      "* * * * * * * * * \n",
      "8235\n",
      "I didn't even know this was originally a made-for-tv movie when I saw it, but I guessed it through the running time. It has the same washed-out colors, bland characters, and horrible synthesized music that I remember from the 80's, plus a 'social platform' that practically screams \\Afterschool special\\\". Anyhoo.<br /><br />Rona Jaffe's (thank you) Mazes and Monsters was made in the heyday of Dungeons & Dragons, a pen-and-paper RPG that took the hearts of millions of geeks around America. I count myself one of said geeks, tho I have never played D&D specifically I have dabbled in one of its brethren. M&M was also made in the heyday of D&D's major controversy-that it was so engrossing that people could lose touch with reality, be worshiping Satan without knowing, blah blah. I suppose it was a legitimate concern at one point, if extremely rare-but it dates this movie horrendously.<br /><br />We meet 4 young college students, who play the aptly named Mazes and Monsters, to socialize and have a little time away from mundane life. Except that M&M as presented is more boring than their mundane lives. None of the allure of gaming is presented here-and Jay Jay's request to take M&M into 'the real world' comes out of nowhere. It's just an excuse to make one of the characters go crazy out of nowhere also-though at that point we don't really care. Jay Jay, Robbie, Kate and Daniel are supposed to be different-but they're all rich WASPy prigs who have problems no one really has.<br /><br />But things just continue, getting worse in more ways than one. The low budget comes dreadfully clear, (I love the 'Entrance' sign and cardboard cutout to the forbidden caverns) Robbie/Pardu shows why he's not a warrior in the oafiest stabbing scene ever, and the payoff atop the 'Two Towers' is unintentionally hilarious. Tom Hanks' blubbering \\\"Jay Jay, what am I doing here?\\\" made me laugh for minutes on end. Definitely the low point in his career.<br /><br />Don't look at it as a cogent satire, just a laughable piece of 80's TV trash, and you'll still have a good time. That is, if you can stay awake. The majority is mostly boring, but it's all worthwhile for Pardu's breakdown at the end. At least Tom Hanks has gotten better. Not that he could go much worse from here.\"\n",
      "* * * * * * * * * \n",
      "8265\n",
      "Crude, some times crass - to me that's the summation of Madhur Bhandarkar's latest work - Page 3. He has no point of view - just shallow, funny digs at stereotypes. What is the movie about?? Is it about reporting a clan of people (so called Page 3 types) who are so busy socializing and progressing their profiles in life - that they have no time for anything else. And you are either in it or out of it. Is it that there is no press at all to report everyday incidents. Madhur Bhandarkar forgets that there is a main newspaper and Page 3 is just a supplement; perhaps an entertainer for checking out who's who and what's what. Don't mix the two. And then there is power play - that would happen in every walk of life. So what have you told at the end of it all - nothing - just a few crude jokes strung together in an otherwise direction less movie.\n",
      "* * * * * * * * * \n",
      "8313\n",
      "***Possible Spoilers***<br /><br />When I saw this today I had some expectation of how it would be like, not too high, but not low either. This was nothing like I expected at all though, it seems to me like the movie makers couldn't make up their mind of what kind of movie to make.<br /><br />In the begining of the film it's somewhat mysterious and kinda exciting, but that'll soon change to some ridiculous scenes - very obvious scenes... As I watched further I almost fell asleep a couple of times.<br /><br />The ending is the most ridiculous of all though, almost splatter/comedy...<br /><br />I'm not saying it doesn't have some good scenes it's just that the film never becomes \\whole\\\".<br /><br />4/10 Movie-Man\"\n",
      "* * * * * * * * * \n",
      "8345\n",
      "This was a great book and the possibilities for a truly great film were definitely there. But the casting decisions completely wrecked the movie. Hanks is a great actor to be sure, but lacks the smarmy, morally ambivalent characteristics needed for the lead role. Jeff Daniels would have been my choice.<br /><br />Putting Melanie Griffiths in, for eye candy reasons, is understandable, but again, she did not portray the depth or ambivalence, so need to pull this off.<br /><br />This movie is a great example of how every decision, even those early on in the movie production can make or break a file.\n",
      "* * * * * * * * * \n",
      "8427\n",
      "Boy-girl love affair/sequel with songs, only this time she's the punkette and he's the straight arrow. Movie-buffs out there actually like this movie? It has fans? I must say, the mind reels... \\Grease 2\\\" is a truly lame enterprise that doesn't even have the courage, moxy or sheer gall to take the memory of its predecessor down in flames (like \\\"Jaws 2\\\" or \\\"Exorcist II\\\"). No, it whimpers along in slow-motion and often just plays dead. It looks and feels cheap, with a large cast lost amidst messy direction and unfocused handling. This was the first time a substantial audience got a glimpse of Michelle Pfeiffer and, although she doesn't embarrass herself, it's a role worth forgetting. A misfire on the lowest of levels. NO STARS from ****\"\n",
      "* * * * * * * * * \n",
      "8492\n",
      "I cannot say that Aag is the worst Bollywood film ever made, because I haven't seen every Bollywood film, but my imagination tells me that it could well be.<br /><br />This film seems like an attempt at artistic suicide on behalf of the director, and I for one be believe he has been successful in his mission. No A-list actor outside of this film would risk sharing the same billing as him for all the humiliation this film is bound to carry with it.<br /><br />But lets not just blame the director here, there is the cinematographer, who looks like he's rehearsing for the amateur home movie maker of the year award. There is the over dramatic score, that hopes to carry you to the next scene. The lighting man, who must have been holding a cigarette in one hand and light bulb on pole in the other, and hoping that the flame burning off the cigarette would add to that much needed light in every scene. And, of course the actors! Some of them are by no means newcomers, else all could be forgiven here. The ensemble of actors in Aag were put together to promote a new beginning and dimension to the re-make of India's most loved movie of all time, 'Sholay'. One must not forget that these actors were not forced in to this film, they are A-list and willing participants to something that, let's face it would surely have had high and eager public expectation??? So it begs the question, Amitabh aside (for now), did the other actors really believe their performances even attempted to better the original? Did Amitabh Bachchan read the script and believe that people would remember his dialogue in this farcical abomination of a film? Don't be stupid, of course he didn't, this was a demonstration to the public of how much money talks hence can make actors walk.<br /><br />I truly hope everyone involved is satisfied with what is truly a vulgar attempt to remake a classic film, which only succeeds in polluting everyone's mind when they watch the original.\n",
      "* * * * * * * * * \n",
      "8527\n",
      "My God, what an incredible movie it is! Reminded me so much of the similar scene in Mel Gibson's movie \\We were Soldiers\\\" when \\\"the Company is not lost, they're just cut off\\\" And the other scene in Pearl Harbour when the British officer says to Ben Affleck \\\"If all Americans are like you, then God help the nation that goes to war with America!<br /><br />Put all 3 movies together and you would have enough BULLSHIT to fertilise the entire Sahara Desert.<br /><br />The story of the cut-off Battalion may be real enough but the movie could have done without all that American preachy jingoistic propaganda attached to it. There were audible groans in the cinema during the above-mentioned scene in Pearl Harbour (no kidding either) The Lost Battalion however is really in a class of its own ",
      ".<br /><br />\\\"Americans think they are unbeatable",
      "inspired bravery",
      ". \\\" I actually cringed and damn near puked at all the swill being spewed out throughout this diarrhoeic disaster (the movie that is) <br /><br />The fighting scenes were well made (3 stars for that) but if the script is manure, then wrapped even in brightly coloured ribbons, it is still manure. The writer, James Carabatsos, also wrote those other screamers",
      "Hamburger Hill, No Mercy , Heartbreak Ridge. Someone, please shoot him before he writes any more such garbage.<br /><br />The Director, Russell Mulcahy is an Australian too. God, the shame!!!\"\n",
      "* * * * * * * * * \n",
      "8540\n",
      "I read the novel some years ago and I liked it a lot. when I saw the movie I couldn't believe it... They changed everything I liked about the novel, even the plot. I wonder what did Isabel Allende (author) say about the movie, but I think it sucks!!!\n",
      "* * * * * * * * * \n",
      "8582\n",
      "OK, forget all the technical inconsisties or the physical impossibilities of the Space Shuttle accidentally being launched by a quirky robot with a heart of gold. Forget the hideous special effects and poorly-constructed one-dimensional characters. Just looking at the premise of the story. The very reason for the film to exist in the first place, and you will see just how badly this film was pieced together.<br /><br />I know 9 year olds that look at this insult to the intelligence and just laugh at it. The story is horrible. The acting is comical and the message its trying to show is incomprehensible. And whats worse, is that the cable Movie channels KEEP SHOWING IT! Its on twice a day every two or three days! Why does anyone in their right mind think that people would want to see this painful piece of celluloid multiple times, much less to see it at all?<br /><br />My recomendation is dont even bother spending the energy to watch this thing. Its just not worth it.\n",
      "* * * * * * * * * \n",
      "8719\n",
      "I had a lot of expectations from this movie and more so since it was a Yashraj Film.<br /><br />Jimmy operates a call centre and one day he is invited by Pooja Singh to teach her boss, Lakhan Singh, English. The two fall in love and decide to run away but Pooja tells Jimmy that she can't do this as she owes a debt to Lakhan Singh, who is also known as Bhaiyyaji. But they decide and steal money from him and its only then that Jimmy finds out that Bhaiyyaji / Lakhan Singh is a Don. In the meantime, Bhaiyyaji hires a man, Bachchan Pandey, to track down Jimmy and Pooja.<br /><br />Starring Saif Ali Khan, Kareena Kapoor, Anil Kapoor and Akshaye Kumar, the movie is directed by first time director Viay Krishna Acharya and is produced by both Aditya Chopra and Yash Chopra.<br /><br />\\Tashan\\\" has to be one of the worse films that I have ever watched. Yes! The scenery is good and Kareena Kapoor (and her much publicised weight loss) looks good. But plot is extremely thin on story and at times makes no sense from one scene to the other - hence why I have said at the beginning that I had expected more from this film as it was a Yashraj Production. With reference to songs, unfortunately, there is not one song that I can remember now.<br /><br />There are moments where one can laugh and that is mainly thanks to Akshaye Kumar and Saif could have definitely done better while Kareena Kapoor played her part well. But this cannot be said for Anil Kapoor - it did not suit him at all as a villain. Lastly,never mind Aditya Chopra, who in the past has produced and directed good films such as \\\"Mohabbatein,\\\" what was Yash Chopra doing by producing such a trash movie? <br /><br />Conclusion: Bad movie, not worth wasting your time and that is my first and last impression.\"\n",
      "* * * * * * * * * \n",
      "8855\n",
      "The central theme in this movie seems to be confusion, as the relationships, setting, acting and social context all lead to the same place: confusion. Even Harvey Keitel appears to be out of his element, and lacks his usual impeccable clarity, direction and intensity. To make matters worse, his character's name is 'Che', and we are only told (directly, by the narrator) well into the film that he is not 'that' Che, just a guy named Che. The family relationships remain unclear until the end of the film, and once defined, the family is divided - the younger generation off to America. So cliché. Other reviews discuss how the movie depicts the impact of the revolution on a boy's family; however the political stance of the director is murky at best, and we are never quite sure who is responsible for what bloodshed. So they lost their property (acquired by gambling profits) - so what? Refusing to take a political stand, when making a movie about the Cuban revolution, is an odd and cowardly choice. Not to mention the movie was in English! Why are all these Cubans speaking English? No wonder they did not get permission to film in Cuba. And if family life is most important to look at here, it would be great if we could figure out who is who - we are 'introduced' to them all in the beginning - a cheap way out of making the relationships clear throughout the film! The acting was mostly shallow, wooden, and unbelievable, timing was off all around. The 'special' visual effects were confusing and distracting. References to American films - and the black character as Greek chorus - strictly gratuitous, intellectually ostentatious, and consistently out of place. I only watched the whole movie because I was waiting for clarity, or some point to it all. It never happened.\n",
      "* * * * * * * * * \n",
      "8876\n",
      "I have seen and liked the original film, and expected more from a remake than this.<br /><br />GOOD: Effects and makeup are good. No complaints about the score and visuals, they are adequate, and the performances were okay (Tim Roth was excellent, the other principals were fine, and a handful of the \\supporting supporting actors\\\" did very well with extremely limited roles). The action scenes were exciting and fun.<br /><br />BAD: The escape from the ape city was terrible. The characters are going in circles, then suddenly someplace in the middle of town there are tunnels to escape. Plus, what escape route leads through everybody's bedroom?<br /><br />The story was pared down to include as much action as possible. I like action scenes but the original film had more meat to it and deserved more respect.<br /><br />Finally, the ending was completely nonsensical as presented. Without seeing the inevitable sequel, there is no justification for it.<br /><br />\"\n",
      "* * * * * * * * * \n",
      "9030\n",
      "This movie made me feel as if I had missed some important scenes from the very beginning. There were continuity errors and plots that stopped as abruptly as they started. I was very disappointed because I love Whoopi Goldberg & Danny Glover, in addition to that have always trusted & respected Danny Glovers taste in his choice of roles, \\Grand Canyon\\\" for example. I just could not finish this movie, after what seemed an eternity, but was probably just a little over an hour; we had to turn it off. There was no comedy, there was nothing about the characters to make you empathize or sympathize with them, there was no evoking of emotion at all regarding this movie and the clips of their past were poorly edited, confusing, and unnecessary. What could have been a great idea for a movie, even as a drama & not a comedy (although I think a comedy in this situation would have been better, because I love to watch white people freak out & start acting like complete idiots, it makes me laugh) became a waste of my $1 credit at the video store.\"\n",
      "* * * * * * * * * \n",
      "9039\n",
      "Kurt Russell (as Steven Post) works as a mail-boy for struggling TV station UBC (that's United Broadcasting Corporation); he is going nowhere at work, offering ridiculous projects like \\Abraham Lincoln's Doctor's Dog\\\" to studio executives - because Lincoln, doctors, and dogs are popular. Programming director Joe Flynn (as Francis X. Wilbanks) wisely rejects Mr. Russell's proposals, but has no idea how to pick a hit TV show. His secretary Heather North (as Jennifer Scott), who does double duty as Russell's girlfriend, has a chimpanzee who bugs the heck out of Russell when he wants to watch TV. Turns out, the monkey watches all the popular shows, and can easily pick the hits. Russell discovers the chimp's talent, and uses him to advance his own career. Understandably, things gets HAIRY for Russell and the cast!<br /><br />Raffles the chimp (handled by Frank Lamping) performs well; Raffles does look bored and/or distracted during a few scenes, when the chimp is supposed to look interested; these could have been corrected with re-takes or editing. A mild satirical edge is present - imagine a monkey picking hit TV shows! AND, it's a monkey who gets a BEER during the commercials (drinking in a Disney film)! A look through the cast will reveal s bunch of fun TV actors to recognize and try to place. You could make a drinking game, in honor of Raffles' beer-guzzling, by guessing actors, and where you've seen them before. Here's a start - Hey, isn't that \\\"Dr. Bellows\\\" from \\\"I Dream of Jeannie\\\"? Down the hatch! <br /><br />**** The Barefoot Executive (1971) Robert Butler ~ Kurt Russell, Joe Flynn, John Ritter\"\n",
      "* * * * * * * * * \n",
      "9056\n",
      "This is a terrible remake of a marginal, but well liked, movie from the early 70's. I have seen the original at least 6 times. The 1997 version is a 20 minute movie 'crammed' into 2 hours or whatever the runtime is. Cheesy storyline, which by the way, is completely different than the original. The major government involvement was far-fetched. There is no flow from one scene to the next. In the original you could go get a beer or hit the bathroom and still keep up. <br /><br />It only took a few hours movie time to change the oil pan on the car. It takes many times longer than that in real life. Car guys notice this stuff. Also, the fool or fools that chose to trash a 1968 Charger and abuse a 1970 Challenger should be shot in the heel with a dull bullet. The fact they aren't 'car people' is painfully obvious, and their passing will not be grieved. <br /><br />The actors lacked any emotion, everything was cut and dried. One step above a monotone. A barmitzvah is more exciting and energetic.<br /><br />Last but surely not least, the radio DJ made the statement that the Challenger hit the bulldozers at 180 or 185 (??). That is total garbage. Can you say aerodynamics, or lack thereof?? Hahahaha!! This movie is a joke. Don't waste your time watching this one.\n",
      "* * * * * * * * * \n",
      "9069\n",
      "This is an awful film. Yea the girls are pretty but its not very good. The plot having a cowboy get involved with an Indian maiden would be interesting if the sex didn't get in the way. Well, okay it might be interesting, but its not, because its so badly paced and and only partly acted. I can only imagine what the close ups of the dancing tushes looked like on a big screen, probably more laughable then they do on TV. (I won't even mention the topless knife fight between two women who are tied together and spend the whole thing chest to chest. Never read about that in the old west) This is a film that requires liberal use of fast forward.<br /><br />I like schlock films but this is ridiculous. There is a reason that I don't go for this sort of films and that they tend not be very good, the plot taking a back seat to breasts. The original nudie cuties as they are called were originally nudist films or films where there was no touching but as the adult industry began to grow the film makers either tried to be clever or tried to exploit something else in order to put butts in seats. The clever ones were very few which only left hacks who were of limited talent. The comedies often came off best with the humor approaching the first grade level, infantile but harmlessly fun. Something that could rarely be said about any other genre cross dressed as a nudie.<br /><br />The Ramrodder looks good and has a couple of nice pieces but its done in by being neither western nor sex film.<br /><br />I need not watch this again.<br /><br />Of interest to probably no one, the rapist and killer in the film was played by Bobby Beausoleil, a member of the Manson family who was arrested for murdering a school teacher not long after filming wrapped.<br /><br />Obviously these sort of things will ruin some peoples lives.\n",
      "* * * * * * * * * \n",
      "9091\n",
      "Mulva is put in a sugercoma by Teen Ape. When she awakens she's considerably hotter (the parts played by Debbie Rochon in this sequel), and out for revenge on those that did her wrong. As the sub-title and box art implies this is indeed a take off on the \\Kill Bill\\\" films, but this being a Chris Seaver's film, it's a wildly incompetent satire (and I use that last term extremely loosely) I'd love to say this is better than the first film, but truth be told I was so impossibly drunk off my ass when I saw the previous film that I can't even hope to compare the two at this point in time. But I must have enjoyed it since I bought the sequel (see when I'm drunk I like, for lack of a better word, complete and total crappy movies) There are a few laugh out loud moments (very few) but I do remember Bonejack being funnier though. Well at least at slightly over an hour, it IS over mighty quickly for what it's worth.<br /><br />My Grade: D+ <br /><br />DVD Extras: Audio commentary by Director Chris Seaver, actress Debbie Rochon, and the Lbp gang; Second commentary by Seaver; 31 minute Making of featurette; Lloyd Kaufman's 6 minute tribute to low budget pictures; Fake 2 minute syrup commercial; stills gallery; Promo trailer; and trailers for :Mulva\\\", 'Quest for the Egg Salad\\\", \\\"Fiilthy McNasty\\\"1, 2, & 3; \\\"the Feral Man\\\", \\\"the Bonesetter\\\", \\\"Midnight Skater\\\", \\\"Demon Summer\\\" & \\\"Splatter Rampage Wrestling\\\"\"\n",
      "* * * * * * * * * \n",
      "9126\n",
      "OK. I think the TV show is kind of cute and it always has some kind of lesson involved. So, when my kids decided they wanted to see this movie, I decided to tag along. I wish I'd stayed home and watched the TV show instead.<br /><br />The fact that the humor is silly and unoriginal is the least of the problems with this movie. The plot is next to non-existant, the characters seem to exist in a vacuum, and, worst of all, Gadget does not carry any lesson whatsoever. It appears that Disney took all of the things that make Inspector Gadget work on TV and tossed them all. To be fair, my younger child (8 years old) liked the movie but the older one (10 years old) came away thinking it silly (he was too old for the youth humor but too young for any of the adult humor).<br /><br />Generally, I like Disney films but this one misses by a mile. It is OK for a very narrow age band (say 7 to 9) but a must miss for everybody else.\n",
      "* * * * * * * * * \n",
      "9129\n",
      "This movie was so very badly written. The characters had no depth. They should have never made a movie of this. My 11 yr old son could write a better screenplay then Hyung-rae Shim.<br /><br />The only actor that didn't suck was the zoo guard. He was the only funny and believable one of the lot.<br /><br />I love movies and try to give them the benefit of the doubt, but this one was up there on my lame list at number 2. Number 1 being Demonicus.<br /><br />For those of you who actually thought this was a good movie, you are in serious need of brain surgery.<br /><br />Most of the creatures in the movie weren't even dragons...so why did they call D-war?\n",
      "* * * * * * * * * \n",
      "9154\n",
      "my friend bought the movie for 5 (its is not even 1 cent worth), because they wrote it was like American pie. but we would soon find out that there is a long way from American pie to that piece of crap. it is not even a comedy, its more like a really really really bad documentary. not only the story is bad, the picture and sound also sucks to. they put in some alcohol, chicks, dwarfs and drunken teens. and the result is a disaster. if you see this movie don't buy it, rather spend your money on something else, and better. if you are gonna torture yourself, then don't invite your friend/s, unless you hate really much and you want to get rid of them.\n",
      "* * * * * * * * * \n",
      "9303\n",
      "I picked up this movie for $5 dollars at a discount book store, Adam Sandler is a awesome actor and i figured it would be a good movie, well, it wasn't. There was absolutely no story line at all, bad jokes, and the other comedian said \\The F-Word\\\" every other word he said,cursing usually dosen't bother me but this was over the top. And even worse than the lack of story line was the parts when Sandler would just begin talking into the camera at random parts in the movie, it reminded me of Dora the Explorer when they turn and look at the screen and ask you questions. And last of all is when they would randomly put in Bikini shots of girls at random times in the movie. In my opinion, Don't buy this movie, its a waste of money\"\n",
      "* * * * * * * * * \n",
      "9382\n",
      "\\The Rainmaker\\\" released in 1956 - has some of the finest actors of its time. Katharine Hepburn, Lloyd Bridges, and Burt Lancaster being the principle players. Not even they can save this completely over acted melodrama. First of all, Hepburn is horribly miscast as a shy spinster - despite her brilliance as an actress, not even she can pull this off. She is too strong to be credible as being this much of a simpleton, and was just too old for the part. Lancaster over acts to the extreme, and Earl Holliman is way too hammy and comes off more like Jethro Clampett. Only Bridges and the ever reliable Wendell Corey seem to rise above the cast a bit - but even they can only do so much. It seems like the 1950's was a time when Katharine Hepburn wanted to spread her wings a bit as an actress, and that is fine. She just made a bad choice here. Fortunately for her fans (me being among them) she didn't make too many of them. Despite an A-list cast and good production values, it doesn't work.\"\n",
      "* * * * * * * * * \n",
      "9396\n",
      "Mix exotic tropical locations, babes in skimpy attire, explosions, good-looking Dudley Do-Right clones, a movie star with his best years behind him (Martin Sheen), a little martial arts and a sexy villainess (Tracy Lor.....er, sorry...Tracy ELIZABETH Lords) and you'd think you'd be in for some escapist fun. Not so! This is a dreary TV movie and even though it likes to promote itself as a \\Charlie's Angels\\\" deal,it is nowhere near as good as the original series or even the gawdawful, irretrievably stupid, recent C.A. movies. This abomination is best described as a THIRD RATE Andy Sidaris film. Nowhere near as much fun as Andy's \\\"Hard Ticket To Hawaii\\\", although some of the fight scenes are decent enough. The girls spend too much time posing and trying too look prissy and it gets annoying after a while. There's better genre stuff that this out there. Oh yeah, and the \\\"babes\\\" aren't as hot as they like to think they are. Terrible soundtrack...when it's there.\"\n",
      "* * * * * * * * * \n",
      "9452\n",
      "...but the actress playing the daughter just doesn't come across as credible.<br /><br />It doesn't work for me when I see an actress of about 25 years playing the role of a 12-year-old... Other commentators have suggested that this is one of the messages of this film, that children may sometimes seem more adult-like than adults, but with the casting as it is in this film, it just doesn't work for me.<br /><br />you might want to check other comments to find out what this film is actually about, because i couldn't bear watching it to the end.<br /><br />i agree that the premise for this film is beautiful though - I wish another director would try to pick up this story again.\n",
      "* * * * * * * * * \n",
      "9470\n",
      "It's frequently said that movies can never equal the original book. Well, in this case, not only the movie is not \\as good\\\" as the book, but is an insult to the book. I'd rather see Milan Kundera's novel turned on fire than into this \\\"something,\\\" which the director probably calls \\\"adaptation.\\\"<br /><br />All the beautiful philosophy that asks \\\"is it better to carry a heavy load on your shoulders, or cope with the unbearable lightness of being?\\\" is put aside, and instead, all the movie deals with is Daniel Day Lewis' (I cannot say Tomas) sexual adventures with his dumb wife, his mistress, and his other mistresses. François Truffaut already said it: bad directors make bad movies. Don't waste your time and money. Read the book instead, it's really worth it.\"\n",
      "* * * * * * * * * \n",
      "9476\n",
      "Woody Allen made \\September\\\", proving that even a genius could screw up. This is Mel Brook's \\\"September\\\". Monumentally stupid, boring, and unfunny, I must confess I did not watch it through to the end. The flick ranks among the dishonored few (e.g., \\\"The Money Pit\\\", \\\"Out to Sea\\\", \\\"Spitfire Grill\\\") which either put me to sleep or forced me to reach for the \\\"rewind\\\" button. And I say this, sadly, as a devoted Mel Brooks fan. He should stick to straight comedy and leave social commentary alone. How the same fellow that made \\\"Young Frankenstein\\\" and \\\"Spaceballs\\\" could crank out a dog like this is beyond me. To be avoided at all costs.\"\n",
      "* * * * * * * * * \n",
      "9522\n",
      "This rather formulaic swords and flying fists movie is a decent early display of John Woo's talents. The cinematography is excellent and some of the sword work is truly remarkable. Unfortunately the film labours under the burden of a dull story and a glaringly low budget (check some of the setbound fight scenes if you doubt me). Nonetheless, it's worth seeing, especially if you can catch in letterboxed.\n",
      "* * * * * * * * * \n",
      "9584\n",
      "My spouse & I found this movie to be very schlocky. It started out good, but quickly got unbelievable & ridiculous. Most of the acting was poor, with the exception of the little girl, Abbie, who really was terrific. In addition, the dialog was predictable & lame - especially Gideon, the Angel's. Also, without giving away anything, when one of the characters has a tragedy, she almost appears nonchalant. At first we thought it was 'shock', but then we realized that it was just a terrible script. We love almost all of the Hallmark movies & their heart-warming stories, but this movie doesn't rise to the occasion of being one. There are so many great ones - don't waste your time with this horrible movie.\n",
      "* * * * * * * * * \n",
      "9611\n",
      "The movie has several story lines that follow several different characters. The different story lines don't feel like one whole complete piece which makes this comedy a very incoherent one and gets even annoying to watch at times.<br /><br />It may sound weak and cliché but it's true; You're way better of watching the Crocodile Hunter series on the Discovery channel with Steve and Terri Irwin. It's more fun and even more hilarious than this movie is. I'm sure both cast and crew had lots of fun making this movie but the movie doesn't give us the viewers much pleasure. For a comedy it simply isn't funny enough and Steve and Terri Irwin just aren't good actors, not even when they play themselves! Their antics are simply not good enough to make an entire movie around and their scene's feel long, distracting and unnecessary and even annoying at times.<br /><br />The movie had quite some potential, I mean Steve Irwin is one character that in a strange way is both intriguing and hilarious to watch, so when I first heard that they were making a movie about 'the crocodile hunter' my first reaction was; brilliant! The movie however heavily suffers from its weak story and the incoherent story lines with uninteresting and unfunny characters. The movie does has a certain entertainment value, at least enough to make this movie watchable for at least once but still, I must certainly wouldn't recommend this movie.<br /><br />Watching this movie felt like a waste of time. Still this movie might be watchable just once, when it gets on TV, on a rainy afternoon. It does has some good moments but the story lines really completely ruin the movie and its potential.<br /><br />4/10\n",
      "* * * * * * * * * \n",
      "9988\n",
      "I love Seth Green. His appearances on THat 70s' Show is always worth watching but last night, I felt the show needed to overhauled. Four single young guys inherit a New York City apartment that most of us would die for. The grandmother must have been an heiress to have such space in the first place. So I felt the need for realism should have been brought out. Anyway the plot about four best friends getting this apartment was not believable. I would have been thrilled if they had to move in with one of their parents which would have provided great humor and dysfunctional about the show's set up. There did not seem to be much humor in it. I am only watching it because it falls before My Name is Earl on a winning Thursday night. I think they should go back, scrap this series, and start over. We need more family involved series. How about Seth and his friends move in with his wacky parents in the suburbs after a fire burns their place down. THey could have Dabney Coleman play the father and Christine Estabrook, play the mother and dysfunctional siblings. The list of possibilities with somebody like Seth Green are endless and the network is blowing it.\n",
      "* * * * * * * * * \n",
      "10024\n",
      "First of all, I became dissy after watching this movie for five minutes (cause of the bas screenplay). I don't think this movie has any purpose. It's boring from the first minute to the last. I don't understand why this movie scores so high. I gave it 1/10 but actually it's not more wurth then 0/10.\n",
      "* * * * * * * * * \n",
      "10361\n",
      "I think Dolph Lundgren had potential at being a big action star a la Schwarzenegger, Stallone, and even Van Damme to certain degree. He had some big moments in his career but he also made some poor choices and this is definitely one of them although made later in his career. The strange thing about Jill The Ripper (or Jill Rips...or Tied Up) is that I honestly think they seriously thought they were making a provocative and serious thriller? It shows in the way that they describe it on IMDb, on the DVD case, in the commentaries, and this film is not serious. To call it campy would be a huge understatement. The film tries to be complex and intelligent when in fact it's nothing more than shallow, confusing and gratuitous. On top of that they put Lundgren, who is known for action films, in an attempt at a serious role which makes it even more campy because his range as an actor is pretty limited. The entire film revolves around the kinky sex world and yet they attempt at making it a serious thriller? Just the plot and premise immediately make it a B-Movie Porn at very best.<br /><br />Dolph Lundgren plays disgraced former cop and raging alcoholic Matt Sorenson who decides to play Detective when his brother is murdered. I mean put aside the numerous plot holes that has Lundgren getting free roam to investigate crime scenes, and witnesses and everything else even though he's not a cop anymore and you still have a pretty strange and rather lack luster performance from Lundgren. Danielle Brett is Lundgren's eventual love interest and his brother's widow. Brett plays her role decently enough considering the script and campy story. The supporting cast is huge and no one particularly stands out in their performances unless it's on the negative side such as the absolutely horrible performance by Victor Pedtrchenko who seems to go by several different names in the film, boasts an awful accent and is a really awful villain.<br /><br />I honestly tried to get into the mystery and film and watch closely but there wasn't any reason to because it was all a jumble of ridiculous plot and gratuitous sex games including a downright ridiculously hilarious scene where Lundgren goes under cover and is strung upside down nearly naked. To explain how classy and well done this movie is (sarcasm...sarcasm) the back of the DVD I picked up (it was really cheap) has Lundgren's character listed as \\Murray Wilson\\\" (not the name of his character in the film.) While somehow Lundgren manages to be usually watchable the film falls flat on it's face trying to be serious. Considering director Anthony Hickox is infamous for really B-Movie Horror flicks it only makes sense even though I think he was really trying to be serious. Hard core cult Lundgren fans will have to see it...no one else should...certainly for any sort of mystery or suspense. 3/10\"\n",
      "* * * * * * * * * \n",
      "10645\n",
      "Given that a lot of horror films are based on the premise that one or more of the central characters does something stupid at some stage during the proceedings, the girls in this film would be collecting Gold, Silver and Bronze at a Darwin Awards Olympic ceremony. A mentally disabled baboon would have made better choices than they did, and would have screamed a lot less while doing so.<br /><br />If you like films with a grainy picture, deliberately amateur camera-work (my 92 year-old grandmother wields a camcorder with better results), extremely poor sound and no discernible plot/narrative, then this is your ideal film. Also note that you should enjoy the following: women screaming for no reason, women whining for no reason. In fact reason and logic don't appear much in this film. For example: \\we have to find Stephanie\\\" \\\"yeah I can't believe I was speaking to her, like, last night\\\" \\\"she called you last night?\\\" \\\"yeah, she wanted to talk about some date she got asked one\\\" \\\"WHAT? How come she didn't tell me\\\"? As in, our friend is being chased by a serial killer with a shotgun and an array of grisly weapons but I have a problem with the fact that she didn't tell me she was going on a date.<br /><br />Okay, so the budget is low. That doesn't mean you have to make it look like it cost half the budget. The 'score' is interesting since all - with the exception of one - tracks have been written and performed by the writers/directors of the film itself. In fact it would appear that the entire budget has been blown on sampling a track by The Duskfall, a death metal band from Sweden.<br /><br />The most worrying thing of all in the entire film is the ending which leaves us with the possibility for a sequel.\"\n",
      "* * * * * * * * * \n",
      "10656\n",
      "Can I please say first of all, that I felt so strongly about this movie that I signed up to IMDb specifically to review it. And my review? This is easily the worst movie I have ever seen.<br /><br />The synopsis of the movie sounded interesting- Nazis, occult, time travel, etc., but the movies plot failed to properly bring all these elements together. Remember the episode of South Park that featured manatees writing Family Guy using 'idea balls'? Did these manatees also write Unholy? Its like the writer wanted to include all these different ideas, but had no idea how to link them all together, and then to make things make even less sense, included a Donnie Darko-esquire time travel theme to the ending, messing up the chronology.<br /><br />I could tell from early on that this was a bad movie. Special effects were too low budget for anything better than straight to DVD. The acting wasn't great, but in fairness I've seen worse. I will praise the Nazi paintings, they were creepy, but the evil Nazi butcher guy was just comic.<br /><br />I don't have a vendetta against this movie or anything, but to be honest, I'm not even into the horror genre. But this movie cannot be described as a thriller or a drama. If this story had been well told, this would have been a good movie. But it has been over hyped. Waaaaay over hyped.\n",
      "* * * * * * * * * \n",
      "10755\n",
      "Primal Species comes from B Movie legend Roger Corman and as such everybody who watches this needs to realise that this is a Low Budget B Movie and it knows it.<br /><br />A bunch of terrorists high-jack a Lorry and kill an entire army doing so, they believe it to hold uranium, but No..... It contains two Dino's with a taste for Human Flesh... Then a Crack team, who might as well be called Delta Force get called in.<br /><br />OK, This ain't Jurassic Park, and Yes The Dino's are never clearly seen because it's obviously a guy in a Costume that's not too dissimilar to Barney the Dinosaur - only slightly LESS terrifying,but come on guys this had about 1% of Jurassic Park's Budget and as such does what it can.<br /><br />Does this deserve to be in the bottom 100?....HELL NO!!! I think the nearly half of voters who give this a 1 - are being WAY WAY overly harsh, it's much closer to a 4... it's actually a lot better than a whole host of other movies not in the Bottom 100, and has a similar production value to a Sci-Fi Channel Production. (again Movies which get a overly harsh time from critics here on IMDb)<br /><br />The acting is as expected in a B Movie although none of the actors take it that seriously, neither does the script<br /><br />All in All it's an enjoyable B Movie - Not for Film Snobs<br /><br />** out of *****\n",
      "* * * * * * * * * \n",
      "10824\n",
      "I didn't expect a movie as good as \\In The Line of Fire\\\" or an episode of \\\"24\\\", but it looked like this movie was made for TV and did a mediocre job at best. The (good) cast couldn't disguise the fact that the plot was all too predictable and actors had to struggle (they really try their best I think) through their lines of bad script, giving their rather flat characters any extras. When I watched the movie I got the feeling that I had seen most of this in other (better) movies. In it you had car chases, big shootouts, romance, plot twists etc. etc; This movie has none.<br /><br />** Spoiler** As soon as you see another woman talking into the phone to Cuba's character, you know who's behind all this and all the hints you're being given (\\\"you stand too close to the president, see it from my perspective..\\\" ) sound silly. <br /><br />If it were up to me (and maybe it's a good thing that it isn't) I would rewrite the plot like this:<br /><br />First lady orders the murder of her husband because she is sick and tired of writing checks to Cuba all the time.\"\n",
      "* * * * * * * * * \n",
      "10852\n",
      "Don't get me wrong - I love David Suchet as Poirot. I love the series as well as the movies but enough already re: Death On The Nile. Everyone has done this one! We know who dies. We know why they die. We know who the killer is. We know how it was done. So I say enough already! Mr. Suchet could have used that awesome talent in another one of Agatha Christie's novels. I will say that the acting by all the actors was superb. The sets were terrific and very realistic. I especially liked David Soul but I was surprised at how 'awful' he looked. I hope he doesn't look that way in 'real' life! I honestly can't remember from other movies whether the very end was the same. Somehow I don't think so. I thought that was a rather brilliant touch whether or not Ms. Christie wrote it that way. I would much rather have that ending then wasting away in prison!\n",
      "* * * * * * * * * \n",
      "11094\n",
      "I like the time period, I like the attempt, but watching a movie that looks like I'm looking at it through a coke bottle gives me a headache. If I played computer games that were this blurry and out of focus, I would upgrade my computer. Could be that this was the look the director was after, but not so it hurts the eyes and you want to leave after 10 minutes. If I hadn't taken someone with me to this film, I was out of there. Even though it was a series and not a movie per say, Band of Brothers accomplished this. They made it look like WWII footage, with just a touch of graininess, but it was still a pleasure to watch. Movies need real people, with real sets, and real locations; Use CGI when it is appropriate, not for an entire film.\n",
      "* * * * * * * * * \n",
      "11113\n",
      "I had to shut this off after about 15 execrable moments..<br /><br />I was hoping it might improve,<br /><br />What I saw was badly acted, directed & written.<br /><br />This movie should never even have been released directly to DVD,.<br /><br />The lead character who is a bride top be from HELL has an huge Ice sculpture fall on her killing her. She was such a revolting person I was not even sorry for her. She winds up there in a sort of heaven, & was still repulsive, I left shortly after.<br /><br />Eve Longoria portrays her & I hope I never see her again, she cant even act.She is just plain annoying.<br /><br />Paul Rudd an actor who normally can do no wrong also was in this dud.<br /><br />Jason Biggs ( no longer a teen) is also present,<br /><br />I do like comedies BUT not stupid ones about stupid people.<br /><br />Rating: * (out of 4) 30 points (out of 100) IMDb 2 (out of 10)\n",
      "* * * * * * * * * \n",
      "11132\n",
      "- A small time hood tricks the local mob boss out of a lot of money. Of course the mob boss wants his money back and doesn't care who he has to kill to get it. The punk enlists his friend and an old mobster to help him save his life.<br /><br />- If this sounds ridiculous, it is. The whole idea that this Izod-wearing, dune buggy-driving punk could hold off one of the most powerful mobs in Rome is just plain silly. His friend may be good with a gun, but he's up against a group of trained killers. The old mobster is little more than comic relief and no real help when it comes to the face off with the mob. There's also a sub-plot about how the friend's father was killed years ago by the mob boss, but there's little made of it and it doesn't help the movie any at all.<br /><br />- The mob boss, Mister Scarface, is played by Jack Palance. I suppose he got the name because he has what looks like a shaving nick on his cheek. Palance is as ineffective as the rest of the cast, doing what he must to get a paycheck.<br /><br />- I've seen some pretty good Italian crime/cop flicks recently, but Mister Scarface isn't one of them. Check out Syndicate Sadists or Revolver instead.\n",
      "* * * * * * * * * \n",
      "11219\n",
      "I've now written reviews for several of the MoH episodes, and this is among the worst. An interesting premise at the beginning is completely abandoned by the time the credits roll. If watching people things they never would in real life amuses you (\\let's check out the basement!\\\"), then this is your show. Except, it's not amusing or entertaining - it's just annoying.<br /><br />The extent of the virus is never, ever showed. I can very much overlook the fact that it affects men only, as the resulting situation is very, very frightening. But then things deteriorate as daughter lets OBVIOUSLY deranged dad into the home, and ultimately dies at his hands. The woman flees north, and runs into a few tens situations. Then, some sort of spirit or alien or something appears and saves her (things that make you go HUH?). Or something. Then, she is huddling for warmth. The end.<br /><br />Awful. These directors are mailing this tripe in.\"\n",
      "* * * * * * * * * \n",
      "11263\n",
      "Well, let me start off by saying how utterly HILARIOUS this film is, I simply couldn't keep myself from laughing at the sheer stupidity of it. Don't get me wrong, it IS well acted particularly by Bassinger but the script is just, well the mind boggles truly.<br /><br />The premise is good and up until Della actually witnesses the murder it is engaging but after that it just goes downhill . Half way through the film the protagonist pulls out her toolbox and of course instead of lobbing it at the guy's head, she decides to pull out a screwdriver, car jack and finally a flare (as in for a sinking ship) respectively to kill her victims.<br /><br />Then there is the final line that I promise, if it doesn't have you in stitches then I will eat my own left foot.<br /><br />I would recommend this film to those who simply want to laugh at some good old fashioned, appalling film making. Might I also suggest you watch out for the scene in the scrap yard with the guy falling from the one foot high plank of wood, gets me every time.\n",
      "* * * * * * * * * \n",
      "11352\n",
      "Even by 1942 standards of movie-making the setup which HER CARDBOARD LOVER presents was dated to the extreme. The machinations of one half of a pair (of husband/wife, ex-husband/ex-wife) to get the other back at the threat of marriage to another, divorce, or an eventual separation by means of jealousy, humiliation, or other schemes had been done much better in classics such as HIS GIRL Friday and THE PHILADELPHIA STORY. Both of these movies features women with a strong, indomitable screen presence and who played independent, proto-feminist characters. In both movies, both women were estranged/divorced from their (witty) first husbands and set to marry colorless men who were their exact opposite, and both would be bamboozled into rejecting their soon-to-be husbands and re-igniting their passion for each other.<br /><br />The plot in HER CARDBOARD LOVER switches the gender: here, it's Norma Shearer in the Cary Grant role out, this time, to ward off an ex-boyfriend (George Sanders) by means of hiring Robert Taylor to pose as her gigolo. The problem is, Shearer is much too old to be playing a role more suited to an actress in her mid-to-late twenties; Sanders is about as involved as a piece of furniture for the most -- any man who would be in love with his fiancée, on seeing a strange man come out of her bathroom as happens here, would knock the lights out of him and cause a huge scene. Not here. And Robert Taylor plays his part as if he were trying to channel Cary Grant half the time, not in speech inflections but in overall essence.<br /><br />But the worst part of it is Shearer herself. For an actress used to parts which gave her a sense of intellectual sexiness and dramatic presence, playing Consuelo Craydon seems to put her into throes of complete over-acting, over-emoting, and over-gesturing which, while still a part of her style of acting and more appropriate ten years earlier, makes her look like an extremely mannered performer wrenching the joke out of a situation like water from a fairly dry sponge. It only fuels the fires that tell the theory which gives Irving Thalberg the maker of her career and chooser of (most of her) roles; why she passed on roles such as Charlotte Vale and Mrs. Miniver on mega-hits NOW VOYAGER and MRS. MINIVER is a mystery, but then again, most accounts also state that by this time she had just burnt out from acting, that she'd had lost interest in the whole thing altogether and it's no secret that anyone who has experienced this sort of thing has essentially lost focus and can't wait until retirement or the end of a contract is near to leave as soon as possible. Such could be the case here. She seems lost, she seems tired, she seems ill at ease, going through autopilot instead of living the part. After this film she would make no more, but would be responsible of discovering Janet Leigh who would come into her own as a screen star during the late 40s and into the 60s.\n",
      "* * * * * * * * * \n",
      "11440\n",
      "The original \\les visiteurs\\\" was original, hilarious, interesting, balanced and near perfect. LV2 must be a candidate for \\\"Worst first sequel to a really good film\\\". In LV2 everyone keeps shouting, when a gag doesn't work first it's repeated another 5 times with some vague hope that it will eventually become funny. LV2 is a horrible parody of LV1, except of course that a parody should be inventive. If you loved LV1 just don't see this film, just see LV1 again!!\"\n",
      "* * * * * * * * * \n",
      "11470\n",
      "STAR RATING: ***** Saturday Night **** Friday Night *** Friday Morning ** Sunday Night * Monday Morning <br /><br />This second instalment of the Che films moves the story forward to the late 60s, where the man has now moved his resistance fighters into the hills of South America, surviving without enough food and water and with tensions mounting between the group. Everything comes to a head when he crosses the border into Bolivia and the government forces step up their campaign to bring him down.<br /><br />Without the flitting between time and places of the last film, Soderbergh's second instalment focuses solely on the action in the hills, and manages to be an even duller experience. And more pretentiously, the score has been drowned out, giving the second instalment more of an unwelcome air of artsieness that proves just as alienating. There's just an unshakeable air of boredom to the film that never lets up. You can't fault Soderbergh's ambition or Del Toro's drive in the lead role, it's just a shame that somewhere in the production things managed to take such a disappointing turn. **\n",
      "* * * * * * * * * \n",
      "11510\n",
      "Kubrick meets King. It sounded so promising back in the spring of 1980, I remember. Then the movie came out, and the Kubrick cultists have been bickering with the King cultists ever since.<br /><br />The King cultists say Stanley Kubrick took a great horror tale and ruined it. The Kubrick cultists don't give a damn about King's story. They talk about Steadicams, tracking shots, camera angles.This is a film, they insist: It should be considered on its own. As it happens, both camps are correct. Unfortunately.<br /><br />If one views it purely as an adaptation of King's novel, \\The Shining\\\" is indeed a failure, a wasted opportunity, a series of botched narrative gambits. <br /><br />I used to blame that on Kubrick's screenwriter. The writer Diane Johnson (author of Le Marriage, L'Affaire, Le Divorce, etc.) has a reputation as an novelist of social manners. Maybe she was chosen for her subtle grasp of conjugal relations or family dynamics. But the little blue-collar town of Sidewinder, Colorado doesn't exist on any map in her Francophile universe. <br /><br />Kubrick the Anglophile probably found her congenial, however. He, of course, is the real auteur. And considered on its own merits, his screenplay for \\\"The Shining\\\" -- with its mishmash of abnormal psychology, rationalism, supernaturalism, and implied reincarnation -- just doesn't stand up to logical analysis.<br /><br />I'm willing to consider Kubrick's \\\"Shining\\\" on its own terms. I'm even willing to take it as something other than a conventional horror-genre movie. But it doesn't succeed as a naturalistic study of isolation, alienation, and madness either. Parsed either way, the film pretty much falls apart.<br /><br />Are the horrors of the Overlook Hotel real? Or do they exist only in the mind -- first as prescient nightmares suffered by little Danny Torrance, then as the hallucinations of his father? One notes how whenever Jack Torrance is seen talking to a \\\"ghost\\\" he is in fact looking into a mirror. One notes how the hotel's frozen topiary-hedge maze appears to symbolize Jack's stunted, convoluted psyche. Very deep stuff.<br /><br />But if indeed the Overlook's \\\"ghosts\\\" are purely manifestations of Jack Torrance's growing insanity, then who exactly lets the trapped Jack out of the hotel kitchen's dead-bolted walk- in closet, so that he can go on his climactic ax-wielding rampage?<br /><br />And can ANYONE explain, with a straight face, that black-and-white photograph (helpfully labelled \\\"1921\\\") of Nicholson as a tuxedoed party-goer that pops up out of left field and onto a hotel-ballroom wall during the film's closing seconds? Are we to seriously conclude that Jack Torrance's Bad Craziness stems from a some sort of \\\"past life\\\" experience? (And if you swallow that, since when are reincarnated people supposed to be exact physical replicas their past selves?)<br /><br />Maybe Kubrick didn't care about his storyline. Maybe only wanted to evoke a mood of horror. Whatever the case, the film tries to hedge its narrative bets -- to have it both ways, rational and supernatural. As a result, the story is a mess. This movie hasn't improved with age, and it certainly doesn't improve with repeated viewings.<br /><br />I don't deny that a few moments of fear, claustrophobia, and general creepiness are scattered throughout this long, long film. But those gushing Elevators o' Blood, seen repeatedly in little Danny's visions, are absurd and laughable. And Jack Torrance's infamous tag lines (\\\"Wendy, I'm home!\\\" and \\\"Heeeeeere's JOHNNY!\\\") merely puncture the movie's dramatic tension and dissipate its narrative energy. (I know: I sat in the theater and heard the audience laugh in comic relief: \\\"Whew! Glad we don't have to take this stuff seriously!\\\") Finally, Kubrick is completely at sea -- or else utterly cynical -- during those scenes in which Wendy wanders around the empty hotel while her husband tries to puree their son. A foyer full of mummified guests, all sitting there dead in their party hats? Yikes, now I really am afraid.<br /><br />Given Jack Nicholson's brilliance over the years, one can only assume that he gave just the sort of eyeball-rolling, eyebrow-wiggling, scenery-chomping performance that the director wanted. The performance of Shelley Duvall, as a sort of female version of Don Knotts in \\\"The Ghost and Mr. Chicken,\\\" is best passed over in silence.<br /><br />This movie simply doesn't succeed -- not as an adaptation, not on its own terms. It probably merits a 3 out of 10, but I'm giving it a 1 because it has been so GROTESQUELY over-rated in this forum.\"\n",
      "* * * * * * * * * \n",
      "11712\n",
      "Although I use this site quite frequently to see how other people rated what I think are challenging or just plain enjoyable films, after watching this \\movie\\\" on Film Four last night I felt compelled to write something down, even if it just helps cleanse me once again.<br /><br />The film was possibly the shallowest experience I've ever had - the main characters played by Danny Dyer (23? You sure?) and Gillian Anderson (who will always be Scully as Leonard Nimoy will always be Spock) had no real substance about them - I'm not sure if the first half-hour of the film didn't make the final cut but surely in a revenge movie you would like some empathy with the victims... here I couldn't care less. In fact, the only character I did seem to care about was the dog, with the stag coming a close second. And both animals out-acted Dire (sic) and Scully, who were quite frankly terrible. I guess though you're only as good as the script you are given, and I'd like to warmly thank the writers, the producers, the director and all of the cast for wasting 90 minutes of my life and some perfectly good electricity.\"\n",
      "* * * * * * * * * \n",
      "11778\n",
      "I knew nothing of this film before I was convinced to see it by a friend who had heard it was a \\non-stop epic battle scene from beginning to end\\\". That couldn't have been further from the truth. This was one of the most boring, poorly written, amateurishly directed, horribly acted films I've ever had the misfortune to lay my eyes upon. I'd rank it up there with the movie I consider to be the worst film of all time... Battlefield Earth. There basically is no story, it's hard to believe that the makers of this film thought that this cheesy soap opera crap would be taken seriously as actual historic fact. It also features some of the worst dialogue I've ever heard... like this little gem... Guy tells girl \\\"You smell like the moon.\\\". Girl replies \\\"What does the moon smell like?\\\" OMG! You have to be kidding me! The scene where the guy was drawn and quartered got some good laughs from the audience since it looked so ridiculously cheap and the sound FX of the guy being ripped apart reminded me of someone making a fart sound with their mouth. If this is playing at a theater near you, avoid it at all costs. This movie is so bad that I actually made the decision about 45 minutes through that I needed to catch up on my sleep... and I did. Awful.\"\n",
      "* * * * * * * * * \n",
      "11824\n",
      "That's right! Under 9 on average, but maybe under 12s for some others! I was 11 when I originally saw this on video and at such youth I wasn't able to notice the shoddy cartoon-quality or the fact that those classic characters we have all grown to love are Not the same or as good to see. Just about everything is so 2D here! Belle is, I'll agree, not even beautiful but just a plain-looking woman with tinted skin, she wears the same bright blue dress all the way through with not one glamorous dress on, Wardrobe is to say the Least, annoying - my ears may bleed if I had to listen to her everyday! Lumiere, in both the original and the Christmas edition was suave and elegant, but here he is a womanizing, unfunny twit! Cogsworth, despite being the no-nonsense housekeeper he is famous for, is a complete sh-t and the most insufferable character I'd say! He always seems to find shutting that unbearably grating pie-hole of his very difficult in this one and whose clock face should really have been used for turning back in time to the unforgettable two film in this series! Poor, poor Mrs Potts was not brought to life by Angela Lansbury (one of my favourite classic actresses) but by Anne Rogers who captured none of Mrs Potts' character, no offence to her! Not if she did her best! When the beast roars it sounds so horrifically fake with clearly no additional roars, snarls or growls by a microphone. I am aware that this is only a third feature following two other films so of course it wouldn't be as good but I'm sure that more of a contribution wouldn't have hurt the Disney artists who, indeed, have achieved such remarkable styles of animation over the years. It's alright, I guess, and I do watch it sometimes though only when it suits me. It's quite difficult to make a recommendation for you reading this because it depends on how old you are but remember this will not at all be what you may expect following the earlier spectacular movies! And to think that on my video of it the text on the back cover said \\boasting brilliant animation\\\"! It's a nice little flick but for one thing it's also highly poor and, for another, those 3 words ought to have been saved for the next re-release of the original!\"\n",
      "* * * * * * * * * \n",
      "12026\n",
      "As some other comments show, this movie might scare you, when you're a little child. (And that is probably all that it is good for.)<br /><br />However, if you're older, this movie only does one thing: suck majorly -and thereby I don't mean the acting, its soundtrack, cutting or s.th. like that. I'm simply talking about the \\plot\\\" (if you can call it that). <br /><br />SPOILERS ahead ------------------------<br /><br />I don't want to give any more spoilers than necessary (if after reading this, you really still want to watch this movie) but if you graduated from any school, this is just a big insult of your intelligence. When watching this, I was stunned most of the time, because what was happening was just THAT stupid.<br /><br />This includes:<br /><br />-the forming of UNITE (an evil UN-association) <br /><br />--> we are just supposed to believe it's evil. is it even evil at all? if so: why is it evil?<br /><br />-the mark of evil in the form of a tattoo <br /><br />--> there is no necessity to impose this on the people, so why the hell (no pun intended) are they doing it? <br /><br />-inviting Christ to your heart merely as lip service <br /><br />-->because there's nothing anybody, who in this movie is considered \\\"a real Christian\\\", ever does, besides saying that stupid prayer. so...just say that prayer before the rapture and you're saved - no matter what?! <br /><br />Thus, rating 1/10\"\n",
      "* * * * * * * * * \n",
      "12124\n",
      "The Darkling was a very interesting and entertaining film while F. Murray Abraham was in it. Spoilers: About halfway through, F.Murray gets zapped, because The Darkling is some kind of demon-like creature who enjoys living vicariously. He takes bums and losers and perverts them further while giving them all they want in terms of success. He feeds from their enjoyment of the Seven Deadly Sins. However, part of it is that he needs to get people who may be flawed but not completely evil. Otherwise he cannot \\pervert\\\" their natural goodness. That's what the little guy said in his Barry White voice, which I found both charming and amusing. Mostly amusing. Like imagine Barry White if he were a little dwarf and he was telling Aiden Gillen \\\"Dee Plane, Dee Plane, Bos, Here eet come, Dee Plane!\\\" All through the movie, Dee Dwarf (actually a robotronic cherub) talks to Aiden Gillen in the Barry White voice, saying things like \\\"It's OK to be bad, you know you want it.\\\" \\\"Now you've committed murder, you're really moving up in the world\\\" and other remarks that sound like commercials for \\\"Being Evil\\\" Stores or something. It really is hilarious in a sick way.<br /><br />Anyhow, Aiden Gillen is no F. Murray Abraham, and the movie tanks as soon as Murray gets the axe (or knifed?). F. Murray brings a certain happy malevolence to his role in this film. He is a good actor. Aiden Gillen on the other hand has a permanent happy smirk on his face, and he looks like maybe his remedial English Comp. class had never hit the Mythological Characters and he could not imagine what the movie was about. The ENDING is really creepy and yet almost comical. If this movie were a parody, the ending was perfect. If it was not a parody, then it was creepy; but a cheap use of a little girl to deliver a gross-out that the movie itself could not deliver. The people who made this movie lost whatever it was that they wanted to do with it somewhere before the ending. It just ends like they just realized that they had run out of money and had to film a quickie ending.\"\n",
      "* * * * * * * * * \n",
      "12161\n",
      "I think that can sum up this show about as well as anything. Batman TAS may be the worst thing to ever happen to cartoons based on comic books because everything that comes after will be compared to it and nothing has measured up yet. It's just too damn good. Was Batman Beyond good? \\Yeah, but it was no TAS.\\\" Is Justice League good? \\\"It's not too bad, but it's no TAS.\\\"<br /><br />The Batman is certainly no TAS, either, but I won't hold that against it. It would be unfair and besides, it has plenty of other problems with it.<br /><br />The concept of a younger, less experienced Batman fighting crime is a fine one, and at times the art is very nice. But all of the rest of the time, the art is worthless Americanime, and this betrays a lot of the flaws of the show itself. It is paced, written, and designed like an Americanime. If I wanted to watch Jackie Chan Adventures, I'd watch Jackie Chan Adventures. Or I could just bang my head into a wall any time and get the same effect. The Joker is a homicidal, mentally unstable clown in a suit who uses his wits, unpredictability, and clever gadgets to fight Batman. When he is forced to fight hand to hand, he will either resort to something cheap or be totally outmatched. He is not meant to be a monkey with dreadlocks who knows kung-fu and can leap into twenty feet into the air, accompanied by speed lines. If they had wanted to do that with a villain, there were other less important characters they could have used or *gasp* they could have created a new one entirely. And it's not that re-imaginings are a bad thing, don't get me wrong. TAS (there I go again) took Mr. Freeze from your standard icegun-wielding B villain and made him into a memorable and morally complex character. Of course Freeze wasn't exactly a classic villain at the time and they performed an upgrade, but the point stands. What The Batman does is it takes everything you liked about Batman comics and lore and takes a large, smelly dump on them. Guess what? They were eating corn.<br /><br />It's obvious this show can't stand against TAS but stand it on its own legs and it still doesn't work for me. The plots aren't good and they don't develop any better. They've been written for the demographic of children under twelve. Should children be able to enjoy a show? Of course they should. This shouldn't be an adult show with swearing, nudity, and gratuitous violence. But the mark of a truly good show is that it can be enjoyed on different levels by all ages. This show misses that mark.<br /><br />Is this show a TAS? No, of course not. The problem is it's not even a JLU.\"\n",
      "* * * * * * * * * \n",
      "12182\n",
      "Chris Kattan is a great sketch actor on Saturday Night Live...but he should probably leave the movie industry alone unless he gets some sort of creative control. He plays an annoyingly peppy character who basically comes off as mildly retarded and on speed. Wanna know the only funny parts? The stuff they showed in the previews. Yes, his rendition of take on me is funny. Nothing else is. ESPECIALLY when you can tell he's trying very hard to be a physical comedian, which he shouldn't have to try at because he is one. And yet, his 'demolishing the vet's office' bit comes off as cringingly bad. This movie made me develop an eye twitch. Avoid it at all costs, and keep watching SNL.\n",
      "* * * * * * * * * \n",
      "12217\n",
      "The excruciatingly slow pace of this film was probably the director's express intention, in order to convey what life was like growing up as a village teen in China. However, I found the combination of the glacially slow 'plot' and the general filming style so impersonal as to be totally alienating, particularly to a western audience. At times I actually had trouble telling some characters apart, as they were filmed from such a distance. Two hours in and I was totally past caring. As someone who is not only interested in music but is also very into the history and culture of China (and is by the way no stranger to Chinese cinema), I couldn't engage with a single character and found nothing to get my teeth into. It begs the question: If I disliked it, who on earth would like it? Give me Zhang Yimou, give me Chen Kaige. Give me the work of just about any other Chinese director I've ever seen. This sorry effort just doesn't measure up at all. I'd be sorry to see Chinese cinema judged against this benchmark.\n",
      "* * * * * * * * * \n",
      "12294\n",
      "This is a great story and was just the beginning of equality in the United States. (We are still working on it too.) However despite the fact this is true, it's still a movie and this is a movie site. I realize independent films have a hard time getting good actors, but wow. The only one even mediocre is the excellent Ossie Davis. But even he couldn't make up for all the actors (including the one playing him as a young man) absolutely atrocious acting. Granted the script was terribly cliché, but even then you have got to get some decent actors! I wouldn't recommend this to anybody because it is so poorly done in every category. Read some books about the true story of the U.S.S Mason, because they give these men the respect they deserve.\n",
      "* * * * * * * * * \n",
      "12356\n",
      "This a fascinatingly awful movie. It make so little sense that it starts to make a kind of weird internal logic of its own. Well, it would if it didn't keep darting off up side-alleys until eventually floundering under the weight of its own indecisiveness. The movie can't make up its mind whether it is a straight forward 'Man Turns Into Monster' flick (like all those 1950s 'THE INCREDIBLE insert verb ING MAN' movies), or a ghastly big business conspiracy theory movie, or a mystical afterlife contact story, or... or what? Take your pick. It's just a mess. Grotesquely over the top and firing off in all directions, leaving loose ends flapping all over the place. It was as if Tobe Hooper had been taking David Lynch pills. Unfortunately he didn't take enough.\n",
      "* * * * * * * * * \n",
      "12384\n",
      "I found it very very difficulty to watch this after the initial 5 minutes of the film. I managed to stomach 45-50 minutes before switching it off in disgust and watching Monster House instead (which, by the way, is great fun).<br /><br />The story has massive holes in it. The plot line is hugely over stated and dull, the acting is awful, especially from Justin TImberlake who should really stick to what he is good at (looking daft and singing like a castrato). Morgan Freeman looked incredibly uncomfortable, especially when made to dance around to rock music for no apparent reason half way through the film after him and Timberlake meet. Freeman and Timberlake's characters seem to be supposed to have some sort of father/son relationship of sorts or something, which simply isn't evident at all apart from the fact that; though Freeman's character seems to have nothing but contempt for the ignorant and rather stupid character of Timberlake, he never the less pulls out all the stops to help him uncover a completely ridiculous cover up.<br /><br />It would take some incredible suspension of disbelief to give any credit to the story line, which is simply absurd and blown out of all proportion.<br /><br />Don't watch this film, it is a pure waste of time.\n",
      "* * * * * * * * * \n",
      "12391\n",
      "Four Eyed Monsters follows the relationship of a shy, reclusive videographer and an equally estranged struggling artist, who, both living in the Big Apple, develop an unlikely romance with the help of an internet dating site. This in itself is not so unusual, but what is, is their method of communication. Foregoing the verbal, they take to writing notes and later communicating through video.<br /><br />The film is based upon the creator's (Arin Crumley & Susan Buice) own relationship, who besides writing and directing, take to acting as the lead characters as well. With elements of avant-garde, anti-plot, and docudrama, the film scatters itself to the wind with an undecided structure nestled neatly between narcissism and self-indulgence.<br /><br />As the movie wears on, a brief separation and deterioration of their once intriguing form of communication grow old as the couple face the hardship of reality. Focusing solely on inner conflict, or the woes of relationship, the film struggles through a stagnant narrative that is neither original, nor poignant. This could have been easily circumvented with the addition of subplot and external conflict, and a third act, to which there is none - just a montage of melodrama that leads nowhere.<br /><br />What is even more aggravating is the film's descent from story into reality that abruptly concludes with an open ended and unsatisfying finish. This would have been all fine and dandy, but there is no question asked and no meaning to be discovered or pondered.<br /><br />(On a side note, the film contains beautiful animation and a vivid and moving soundtrack, one of the more interesting aspects of the production.)<br /><br />But as always, watch the film and decide for yourself.\n",
      "* * * * * * * * * \n",
      "12618\n",
      "I expected a comedy like the \\Big Mama\\\" movies. Instead, the movie was a bizarre mix of comedy, drama and a love story.<br /><br />This movie has three plots: The first involves Madea and her taking in a foster child. The second involves a woman who is engaged to a rich man who is abusing her. The third involves a relationship between a single mother with 2 children and a single father.<br /><br />There is actually very little comedy in the movie. There are also a number of very twisted messages in the movie. For example, Madea beats the foster child with a belt (in a comedic manner), to convince the child to straighten out. The child does, in fact, turn herself around. Apparently, it pays to beat children.<br /><br />There are plots dealing with child rape (with the consent of the mother). There are scenes with old men ogling young girls who are related to them. (The ogling takes place at a family reunion.) The movie jumps from plot to plot such that you are always off-balance. Is this a comedy, a love story, or a drama? It is, in fact, nothing ... except a waste of time and money.\"\n",
      "* * * * * * * * * \n",
      "12729\n",
      "I felt asleep, watching it!!! (and I had tickets for the midnight- premiere) Any questions? The most disturbing scene, as far as I can remember, was the techno-dance-i-dont-know-what-that-was-scene. By the way what an ending!?\n",
      "* * * * * * * * * \n",
      "12754\n",
      "Only the most ardent DORIS DAY fan could find this one even bearable to watch. When one thinks of the wealth of material available for a story about New York City's most famous blackout, a film that could have dealt with numerous real-life stories of what people had to cope with, this scrapes the bottom of the barrel for lack of story-telling originality.<br /><br />Once again Doris is indignant because she suspects she may have been compromised on the night of the blackout when she returned to her Connecticut lodgings, took a sleeping potion and woke up in the morning with a man who had done the same, wandering into the house by mistake.<br /><br />Nobody is able to salvage this mess--not Doris, not ROBERT MORSE, TERRY-THOMAS, PATRICK O'NEAL or LOLA ALBRIGHT. As directed by Hy Averback, it's the weakest vehicle Day found herself in, committed to do the film because of her husband's machinations and unable to get out of it. Too bad.\n",
      "* * * * * * * * * \n"
     ]
    },
    {
     "name": "stdout",
     "output_type": "stream",
     "text": [
      "13024\n",
      "You know a movie is bad when the highlight of it is being able to see a brief moment of \\Jeopardy!\\\".<br /><br />The saddest thing about White Men Can't Jump is that it had tremendous potential. For several years, I lived in area quite like that portrayed in this film; racial tensions were high, and basketball meant everything to everyone. A film about the members of this \\\"basketball culture\\\" could have been very interesting, but the mediocre acting and poor script in White Men Can't Job left something to be desired.<br /><br />The movie's sequence of events is cyclical. First, Billy either wins or loses money by playing a game of basketball. He then returns to his home and lounges around with his girlfriend; and the process is repeated. Most stories build up to a climax of some kind, but the \\\"climax\\\" I saw was just another sequence in this repetition (this case being \\\"Billy either wins or loses money by playing a game of basketball\\\").<br /><br />In order for a plot to develop, some dilemma must be resolved; and this dilemma must be interesting if the film is going to be interesting as well. Apparently the writers of White Men Can't Jump forgot this rule, as the plot can be summarized as \\\"Billy needs to pay the bills.\\\" I appreciated the change of pace from other formulaic sports movies, but -- I'm sorry -- this was just plain awful. I could have cared less if Billy got the money to pay the rent for his apartment.<br /><br />Despite all this, White Men Can't Jump is a successful film. Apparently some adamant sports fans will dismiss terrible writing for a few scenes with a basketball in them. Others, I'm sure, were lured by the big names playing the leading roles. This leaves me to wonder, if the cast was replaced entirely with previously unknown actors, and the basketball theme was replaced with lacrosse, would anyone have bothered watching this movie? I really don't think so.<br /><br />I'll give this movie two stars out of ten; the extra star is for the \\\"Jeopardy!\\\" scene, which kept me awake for a few minutes. Thanks, Trebek.\"\n",
      "* * * * * * * * * \n",
      "13053\n",
      "Although I can see the potentially redeeming qualities in this film by way of it's intrigue, I most certainly thought that the painfully long nature in the way the scene structure played out was too much to ask of most viewers. Enormous holes in the screenplay such as the never explained \\your father died today\\\" comment by the mother made it even harder to try to make sense of these characters.<br /><br />This won first place at Cannes in 2001 which is a shock considering. Perhaps the French had been starved for film noir that year and were desperate for something as sadistic as this film. I understood the long scenes as a device to keep the viewer as uncomfortable as possible but when matched with the inability to relate to the main character it went too far for me and kept me at arms distance from the story altogether.<br /><br />This is a film for only the most dedicated fan of film noir and one who expects no gratification from having watched a film once it's over. I LOVED movies such as \\\"Trainspotting\\\" or \\\"Requiem for a Dream\\\" - which were far more disturbing but at least gave the viewer something in the way of editing and pacing. To watch this teachers slow and painful silence scene after scene just became so redundant that I found it tedious - and I really wanted to like this film at every turn.\"\n",
      "* * * * * * * * * \n",
      "13114\n",
      "I'm a big fan of Lucio Fulci; many of his Giallo and splatter flicks are amongst my favourites of all time, but this made for TV movie is extremely sub par and not what I've come to expect from the great Italian director. The film is neither interesting, like some of Fulci's more tame Giallo's, or gory like the majority of his cult classics; thus leaving it lacking in both major areas, and ultimately ensuring that the film isn't very good. The film works from a plot that has been used many times previously, but still it's an idea that always has the chance of springing an interesting story just because it focuses on the theme of the afterlife, which is the ultimate unknown. This film focuses on Giorgio Mainardi; a man that isn't exactly well liked and after he dies of an apparent stomach hemorrhage, there aren't many people that are sad to see him go. This means that his ghost is trapped somewhere between life and the afterlife, and so he decides to try and get to the bottom of his death, and his only ally in this endeavour is his daughter.<br /><br />The video that I saw this film on is proudly proclaimed that the film is \\in the style of HP Lovecraft\\\", and that's one of the most blatant attempts to sell a film I've ever seen. There is nothing even slightly reminiscent of the great horror writer in this tale, and the reason for that tagline would appear to be because of title similarity to the Stuart Gordon/Lovecraft film, 'From Beyond' - which is a lot better. The film does benefit from a distinctly Italian style, and the score is rather good. Unfortunately, however, Fulci has seen fit to positively roast every scene in it - and so the theme quickly becomes annoying. The plot plays out in a really boring way, and most of the scenes simply involve the ghost 'desperately' trying to find things out, or the daughter placing her suspicions over her family members. This movie was made for Italian TV, and so it's not surprising that it's all rather tame. There's a little bit of gore and a nightmare sequence with zombies; but this isn't the Fulci we all know and love. Overall, this film is extremely mediocre and not a good representation of Fulci's talents. Not worth bothering with, unless you're a Fulci completist.\"\n",
      "* * * * * * * * * \n",
      "13198\n",
      "Three Russian aristocrats soak up the decadence of Monte Carlo, despite the fact they are down to their last franc. In order to support their lavish lifestyle, the three use the services of a counterfeiter, and use the notes at the casinos, hoping to exchange the bogus currency for a jackpot. Andrew Hughes, a US envoy, arrives at Monaco with his wife Helen, and the three decide to make pals with the visitors, hoping for financial assistance. One of the three Russians, Count Sergius Karamzin, plans to go further, with continuous advance towards Helen, while disappointing the Count's maid, who loves Sergius. Eventually, circumstances play their hand against the three aristocrats. Its obvious that Von Stroheim was trying to convey a message (with the foolishness of American women and the improper behaviors of the aristocrats), rather than tell a story, and the film really can bore modern audiences, like me, easily by doing that. Even the acting, which is great in later EvS like Greed and the Wedding March, is just run of the mill here. The film could have used improvements on various levels. Rating, 3.\n",
      "* * * * * * * * * \n",
      "13234\n",
      "This is only related to the first movie by the name. The plot has nothing to do with the first and the whole movie stinks!!! I have no idea what they were thinking but this movie is so bad. Avoid this at all costs, the first movie in the series is acceptable as a slasher flick and so is the fourth but this one and the 3rd are rubbish!!\n",
      "* * * * * * * * * \n",
      "13381\n",
      "This was a painful example of a cheap, boring and unoriginal show produced by Australian TV stations to fulfil local content quotas. The writing was truly terrible and I'm not surprised that the writers are those responsible for the worst Australian film in recent memory the Honerable Wally Norman.<br /><br />Nothing about this TV series was funny - ever - not even mildly amusing. It was just tired and BAD and, worst of all, it really thought it was funny. It was simply embarrassing to watch.<br /><br />There is something very suss about this show being given 10 out of 10 on IMDb. Try to find a (real) review by a (real) Australian viewer of the show (there weren't many) and it is impossible. Or crazy. There are loafs of bread that are funnier than this show. <br /><br />Avoid the show at all cost and if it does come out on DVD, remember that the laughter THAT deserves was unintentional.\n",
      "* * * * * * * * * \n",
      "13384\n",
      "When I first saw this film it was not an impressive one. Now that I have seen it again with some friends on DVD ( they had not viewed it on the silver screen ), my opinion remains the same. The subject matter is puerile and the performances are weak.\n",
      "* * * * * * * * * \n",
      "13465\n",
      "A quite usual trashy Italo-Western, stupid storyline full of clichés and lack of logic, some mediocre actors, dirty settings, lots of punch-fights and people shoot dead on a massive scale.<br /><br />This has nothing to do with Django. - At least not in my German translated version, this German DVD-release is called \\Adios Companeros\\\" and has Macho Callaghan fighting against Butch Cassidy and Ironhead because their gang killed his one (he's the only survivor). Then you have Butch Cassidy and Ironhead fighting each other because they quarreled and the gang split. And you have Ironhead fighting against everyone because he's just the biggest and most greedy asshole anyway. Yeah, that's it, no more cleverness in the storyline, hehe.<br /><br />A small role by Klaus Kinski as Reverend Cotton is remarkable (that's why I bought this DVD). In one scene he attempts to separate two men fighting by hitting them and screaming \\\"I said love!\\\" and in another scene he wins a competition in throwing horseshoes and goes nuts for a second - FANTASTICFANTASTICFANTASTIC!!!<br /><br />It's also remarkable that JOE d'AMATO aka Aristide Massaccesi did the cinematography - I love this master of incompetent exploitation-thrash, so it was an \\\"aahhh\\\" for me.\"\n",
      "* * * * * * * * * \n",
      "13521\n",
      "This movie is not as good as all think. the actors are lowlevel and the story is very comic-like. I respect fantasy but Lord of the Rings is fantasy...Conan..is fantasy...THIS IS JUST NORMAL HK-LOWPRICE-ENTERTAINMENT...Why did they include this Splatter-tongue, it makes everything worse. The only good thing is the cinematography and the cutter's Job.\n",
      "* * * * * * * * * \n",
      "13545\n",
      "\\Lies\\\" tells about an affair between an 18 year old bucktoothed female student and a scrawny 38 year old married man with the pair of protags spending about half the screen time engaged in naked sex and hokey whipping and the other half meandering through the pathetically naive storyline which seems little more than an excuse for the sex scenes. With very poor production value including obvious sanitary appliances and phony softcore sex to a story which is a messy mix of comedy and drama, \\\"Lies\\\" quickly becomes redundant ad nauseam. With an almost 2 hour run, subtitles, and so little substance, \\\"Lies\\\" is simply not recommendable. (C-)\"\n",
      "* * * * * * * * * \n",
      "13608\n",
      "I remember being forced (yes--literally FORCED) to see this film by a Southern Baptist Preacher when I was a kid, and even then I loved its awfulness. It's designed to scare poor suckers into being \\saved.\\\" The only thing that \\\"saved\\\" me was the fact that it finally ended and I could go out and have a REAL life.<br /><br />Check out the chapter on this film in Sarah Diamond's book \\\"The Politics of the Christian Right.\\\" FASCINATING. And certainly more interesting than the movie!\"\n",
      "* * * * * * * * * \n",
      "13665\n",
      "When I was a teen-ager seeing this film for the first time, I thought it was one of the best movies ever made. Of course, the reason for that is Bo Derek and her various states of undress in this film. However, now that I'm older, I can honestly say that this film is awful. Mind you, Bo Derek is absolutely incredibly beautiful, and she and husband-director John Derek make sure you see plenty of her. But when you take that aspect out of the film, it becomes one big dull ride. And Tarzan, well, he's all muscular like you think he should be, but when he sees Jane (that's Bo, of course) for the first time, he doesn't know what to think. This despite the fact that Bo is wearing a wet see-thru shirt, with her breast prominently displayed. Tarzan would be the only primitive man on the planet who would have that problem. If you are looking for a movie to slobber over a beautiful naked body, then this might fill the ticket. If you are looking for a thoughtful, entertaining and worth-while film, go elsewhere...almost anywhere else at that!!!\n",
      "* * * * * * * * * \n",
      "13941\n",
      "I'm not a big fan of rom/coms at the best of times. A few have been quite good (check of Dream for an Insomniac), but this one is just more of the same but less.<br /><br />With a running time of 100min, I expect more than 1 laugh every 30mins. The only real belly laugh are when male strangers and friends instinctively help out Lee's character.<br /><br />All I can say is AVOID. I guarantee there is at least 10 other movies on the shelf that deserve you $$<br /><br />3 of out 10 (And only cos I'm a big Lee fan)\n",
      "* * * * * * * * * \n",
      "13979\n",
      "This is awesomely bad and awesomely embarassing for a Canadian. We grow good wine. Our writers and poets are among the world's best. The National Ballet is rated among the top five companies in the world. BUT WE MAKE BLOODY AWFUL MOVIES! This one isn't especially bad. It's especially typical and typically bad, shot in two bit hotels and public parks with thin direction, high school level acting and \\gee whiz...lets see what this button on the camera does??\\\" photography. If Michael Moriarity was so intent on doing a Jack Nicholson impersonation, couldn't he at least have done a GOOD Jack Nicholson impersonation? And if the movie was shot in Vancouver, truly one of the loveliest cities on earth and also a centre of yacht building (part of the \\\"plot\\\") why in God's name do we let that endemic Canadian inferiority complex dictate that it be disguised as Seattle??? Not only am I mad about this film, I'm embarassed and more than a little ashamed. The Australians turn out some splendid stuff. We produce pretentious second rate piffle. Gawd!!!!!\"\n",
      "* * * * * * * * * \n",
      "14076\n",
      "Its like if you took the general themes of The Usual Suspects and Fightclub, take away all their style and class and mixed them together with a lot of pretentious new wave \\i'm intellectual so my movie must be hard to make sense of\\\" film maker rubbish, mashed in a few extra styles for good measure, chopped off the ending, there you have Revolver.<br /><br />Yes, I did think about it for a little bit after watching, and yes it did kind of make sense, however that doesn't stop it being garbage.<br /><br />Waste of money. Waste of time.<br /><br />Up there as the worst Movie I have ever seen, with not even a bad movie novelty value to redeem it a little.\"\n",
      "* * * * * * * * * \n",
      "14105\n",
      "Christ, oh Christ... One watches stunned, incredulous, and possibly deranged, as this tawdry exercise in mirthless smut unfolds with all the wit and dexterity of a palsied Galapagos tortoise. Can such things be? Does this movie actually exist, or was I the unwitting guinea pig of some shadowy international drugs company, sipping my coffee unaware that it had been spiked with a dangerous hallucinogen? I've seen a lot of films, and a lot of bad films, but nothing prepared me for this; by the end of it I was a gibbering, snivelling wreck, tearing at the carpet with my teeth like a dog, clawing at the walls, howling till my lungs were sore. I pleaded desperately, frenziedly for mercy (to whom this appeal was made, I don't know), and longed with burning desire for the soothing balm of Ozu Yasujiro. Sweet Weeping Jesus, the memories... sometimes they come back to me. When I'm at my most vulnerable, when I'm least able to handle them. I shudder, I break down in tears, I bite my fingernails till my hands are slathered with blood, but I can't quite banish the awful flashbacks from my mind. I'm haunted. I'm damaged. I'm a shell of a man.<br /><br />The other user comments here suggest that I am not alone in having undergone this terrifying experience, which can only mean one of two things: a) the film does, in fact, exist, or b) I am but one victim among legions of an international conspiracy of truly sinister proportions. What is quite mind-boggling is that some people seem to have enjoyed their ordeal, or at least have not been left traumatised by it. Perhaps they're part of the operation. God damn them, the maniacs! God damn them all to Hell!!!!!!\n",
      "* * * * * * * * * \n",
      "14128\n",
      "\\Indian burial ground\\\": If those three words appear anywhere in a real-estate listing, look for a different neighborhood. A young couple with a young daughter and a toddler-age son move into a Maine house adjacent to a pet cemetery--and, after a l-o-o-o-ng hike, an ancient Indian burial ground. Seems the Indian ground can bring Fido or Fluffy back from the dead--if you don't mind having a raving hell beast for a pet. It can do the same for dead people--if you don't mind having a homicidal zombie around the house.<br /><br />Throw in a busy two-lane blacktop, speeding big rigs, a well-meaning (if somewhat dim) old neighbor, and one kid who really doesn't get enough supervision, and I think you can figure out what happens from there--an over-the-top, illogical mess, which, in all fairness, does offer up a few scares.<br /><br />Well, there are worse Stephen King adaptations (such as \\\"Maximum Overdrive,\\\" which King also directed). But there are far better ones, too (such as \\\"Salem's Lot,\\\" \\\"The Dead Zone,\\\" and both versions of \\\"The Shining\\\").\"\n",
      "* * * * * * * * * \n",
      "14173\n",
      "To be honest I knew what to expect before I watched this film, and I've got to say it has the worst acting I've ever seen. It does have its moments, and on a comedy level its very entertaining, but i'm afraid its not scary, and stupidity is taken to a new level. There's a lot of unnecessary gore, and the plot is all over the place. I have no idea why the aliens were evil, and why they even came to this remote part of wales, (i mean who'd go there anyway?) but I didn't care at that point, because I was amused by the costumes, and the bad CGI. As far as B-movies go, this deserves the title of 'being so bad, its good', and kudos to the film-makers, because they probably knew what they were doing. Long may these films continue.....\n",
      "* * * * * * * * * \n",
      "14270\n",
      "How can you gather this respectable cast of young British actors and come up with such a pile of filmic manure? Horrible script, annoyingly hectic camera, awfully edited, gruesomely badly acted. Only Rhys Ifans tries to fill his role with life. Another painful proof that \\different\\\" sometimes equals \\\"dreck\\\". Why do the money people fail to read the scripts beforehand? Do yourself a favour: spare yourself and do something else - like hitting a mallet onto your knees. It's less painful and more fun than this movie!\"\n",
      "* * * * * * * * * \n",
      "14320\n",
      "Despite some occasionally original touches, like the \\virtual sets\\\" that provide the background for the Victorian interiors featuring Ada Lovelace and her circle, this film falls short and ultimately disappoints. Newcomer Francesca Faridany seems talented, but is wasted as Emmy, a character who by mid-film is reduced to nothing more than staring at a monitor watching Lady Ada narrate an autobiography. 'Conceiving Ada' takes off briefly when Lady Ada (Tilda Swinton) appears; the camera lingers on her facial expressions, mannerisms, even making her appear to be translucent or momentarily invisible, apporting into scenes to dramatize Emmy's \\\"virtual\\\" rendering of her.<br /><br />A straightforward biopic of Ada Lovelace would have been worthwhile, but this film unfortunately makes a hash of both Lady Ada's life, and that of a modern-day computer scientist (and her broadly-drawn, doltish boyfriend).\"\n",
      "* * * * * * * * * \n",
      "14330\n",
      "By no means is this movie as bad as 'Perfect Stranger', but it just wasn't funny. It couldn't stick to one type of comedy - it jumped from SNL, to Adam Sandler-esquire, to romantic, to little guy scores big, to slapstick, to 'Loser' (the movie) types of comedies. Although there were some pretty funny slapstick moments (the fall down the hill), no one was very particularly funny or outstanding in any way. 'Schindler's List' was funnier (and felt shorter). you never knew if Andy Samberg was supposed to be in high school, a college dropout, or just a loser living at home with his mother - Sissy Spacek, in her worst choice of roles. And poor Ian McShane, THE serious actor if I only had to name one, is given crap to read into the camera. The story drags and is completely predictable up to and including the end (no spoilers here in case Adam Samberg's mom wants to see it). Don't spend ANY money going to see this movie, and maybe Lorne Michaels will get the hint and start producing quality (Yes, Wayne's World and Tommy Boy are quality) movies.\n",
      "* * * * * * * * * \n",
      "14378\n",
      "this movie wasn't absolutely atrocious, but it was pretty bad. the acting ACTUALLY was pretty good! jeffrey combs did a pretty darn good job as the mad scientist, which is sort of his specialty if you don't know such things :D. bill forsythe .. well, i'm not EXACTLY sure why he was in this film. he's way too good for this kinda stuff, and his role wasn't exactly demanding. I rented this on the strength of those two leads, and I wasn't really disappointed. I mean, heck, it's a movie about a half man/half shark. It ain't Shakespeare folks. Other than the plot, which is full of holes, and the poor dialogue, I would like to note that the cinematography also left many things to be desired. there were shots were they were trying to look \\cool\\\", but it ended up obscuring the scene or just coming off plain cheezy. they also blew it many times when they had decent dialogue and cut away prematurely before the person could even deliver the line. it was pretty bad. but if you are a jeffrey combs fan, this one is worth checking out. he gives a great performance and does what he can with the character. forsythe ain't bad either, and either is the female lead. heck if i can remember her name though. bottom line, i wouldn't otherwise waste your time.\"\n",
      "* * * * * * * * * \n",
      "14415\n",
      "This movie was pretty bad. Sci-fi is usually my favorite channel so I watch all the original movies that play on it. I really don't know if this movie can be called original. Starting a zoo/theme park on a remote island sounds pretty familiar. What was it, oh yeah, Jurassic Park. But this has Sabertooth tigers instead.<br /><br />The movie starts out with a few stereotypical college kids on an island doing some kind of treasure hunt. One of them ends up dieing a rather gruesome death with some of the worst special effects I've seen. The blood looked a lot like ketchup. Also at the beginning there is a scientist who wants to make as many saber tooth tigers as possible for people to enjoy. 3 of them have already escaped and are going around eating the tourists, or the people invited to the island to see the tigers first hand. Again, sound like Jurassic Park. Probably the coolest thing was the 1000lb saber tooth who crawled around on his front legs killing the mad scientist with a tooth statue of sorts that somehow shrinks and goes through the guys neck. Funniest death I've seen on TV.<br /><br />The acting is extremely cheesy, the special effects are horrible. The CG tigers could almost pass for clay models, and even some of the sounds were off. For instance, when one of the college students is trying to escape, he uses an ax to break down a door, the ax goes into the door and about 2 seconds later you hear the sound. This movie was pretty bad. The cheesy deaths were quite funny though.\n",
      "* * * * * * * * * \n",
      "14416\n",
      "Spoilers? Maybe a few details, but nothing too plot related. Not like it would matter with this movie. <br /><br />Air Rage blatantly rips off the mid-air infiltration premise of Executive Decision. Ice-T leads a team of four \\elite\\\" commandos who wear baggy black shirts that we can only imagine must conceal invisible body armor as their idiotic tactics (similar to what 3rd graders use when playing Star Wars on the playground) lead them to absorb a hail of gunfire. <br /><br />What entertained me the most about this flick was the use of look-alike has-been actors. You'll immediately recognize Cyril O'Reily as someone who once acted in a movie that you really liked, though it was so long ago that you probably won't be able to place it (it was Porky's). Here Cyril plays a decent knock-off of a Bill Paxton character. Most Hilarious is porker Gil Gerard, who's so fat that you will never recognize him as TV's Buck Rogers. Instead of evoking his mildly heroic character past, Gerard gives us a passable performance of the crusty fat tough guy persona, which was clearly imagineered for John Goodman. Finally, Alex Cord gives us a nice hybrid look-alike performance as a Chuck Connors/Kirk Douglas type. In the 10 years since New Jack City, Ice-T's acting has deteriorated remarkably. It's not acting so much as regurgitation of lines that he might have actually memorized. <br /><br />One of the items that plays into this movie is a CD-ROM of classified information. It's being hand carried, and it's apparently and unbelievably not encrypted, despite the security-savvy aura of Gerard's NSA character. What a joke. I'm severely doubting that the information purported to be on the CD would ever even all be assembled into a portable format. <br /><br />Despite being in a closed aircraft without silencers, the gunfire is about as loud as canned air, and causes nary a person to flinch, so apparently no foley budget. The assortment of weapons chosen is pretty funny. The flight attendant's use of a coffee pot is about the most realistic depiction of violence in the film. When she takes intuitively to the mini-Uzi pistol, which has got to be one of the worst pistol designs ever, that's just too stupid. A true elite team would carry MP-5s for this type thing or maybe SOCOMM .45s, or even customized Hi- Powers if they were really old school, or maybe something FN 5.7 if new school... The lame-o standard issue 92Fs are totally unbelievable, having lost most of their cool after Lethal Weapon I. The bad guys, supposedly experienced soldier of fortune types, have an assorted mixture of absurdity, like the aforementioned mini-Uzi pistol and a Tec-9 with the infamous non-functional barrel extender that isn't a silencer. <br /><br />There was one touch of realism on which I would like to correct the other reviewers: The flight attendant and Ice-T did lower the craft to 10,000 feet for \\\"breathable air\\\" before they opened the door. And I also got the impression that the flight attendant was NOT able to get the door closed, that she basically just gave up on that point. As far as the landing, there was no mention of flaps until about 2 seconds before touchdown. Sigh. <br /><br />Only the Dukes of Hazard eluding Roscoe P. Coltrane at the \\\"pass\\\" could shame this movie for use of stock footage. They obviously chose the incredible (and retired) SR-71 because they couldn't get stock of an F-117. Aside from the fact that they were mothballed already in 2001, let's also forget for a moment that the SR-71 is not a pure stealth aircraft in the sense of the B-2, and that at point blank range... Well, I'm no expert, but I'm having doubts as to whether it would be invisible on Radar. <br /><br />As others have pointed out, the repeated references to \\\"F-15s\\\" when they were showing F -16s was laughable. Details of the 747 were pretty stupid. No airline would put that few passengers on a 747 to begin with, not to mention everything else that was idiotic about it. Pay attention to the use of exposed electrical wiring. <br /><br />Wow. What a show. Catch it on Stars or something. Don't pay to rent it, but do watch it for laughs. In contention for worst movie ever, right up there with No Holds Barred, which at least had some originality.\"\n",
      "* * * * * * * * * \n",
      "14418\n",
      "I wonder who, how and more importantly why the decision to call Richard Attenborough to direct the most singular sensation to hit Broadway in many many years? He's an Academy Award winning director. Yes, he won for Ghandi you moron! Jeremy Irons is an Academy winning actor do you want to see him play Rocky Balboa? He has experience with musicals. Really? \\Oh what a lovely war\\\" have you forgotten? To answer your question, yes! The film is a disappointment, clear and simple. Not an ounce of the live energy survived the heavy handedness of the proceedings. Every character danced beautifully they were charming but their projection was theatrical. I felt nothing. But when I saw it on stage I felt everything. The film should have been cast with stars, unknown, newcomers but stars with compelling unforgettable faces even the most invisible of the group. Great actors who could dance beautifully. Well Michael Douglas was in it. True I forgot I'm absolutely wrong and you are absolutely right. Nothing like a Richard Attenborough Michael Douglas musical.\"\n",
      "* * * * * * * * * \n",
      "14536\n",
      "I love John Saxon in anything he's in. The one time he takes over the camera though he directs a movie that should have more aptly been been titled \\Please Do Not Watch This Movie Called: Zombie Death House\\\". The $1000 dollar Shock Insurance Certificate is dear Fred Olen Ray's tricky way of making you spend 14 dollars on a filmed dump churned out by a major 70's cheese legend. Ray being the front man at RetroMedia. Ray by the way makes Charles Band look hotter than stucco ceilings on a Ford Falcon. Just plain bad now, the both of them- and boring besides. It's great that Ray is digging up this old stuff and in some cases it's public domain like the rest of the dollar video hucksters but in the case of Zombie Death House- (the word \\\"Zombie\\\" sloppily superimposed to add ownership and interest on the part of F.O.R.) THE ONLY WAY TO DO SERVICE TO THIS TRIPE IS TO RELEASE IT ON THE DOLLAR MARKET FOR THE CURIOUS COLLECTOR AND FANS OF SAXON!!! If you wanna see real Saxon, pick up Black Christmas, Nightmare on Elm Street or The Glove.\"\n",
      "* * * * * * * * * \n",
      "14568\n",
      "Considering its popularity, I found this movie a huge disappointment. Maybe I was expecting too much from this film. After all, it is one of the most well known martial arts films of the 1970s, but I could never figure out why. The story is uninteresting. It is also a very talky movie with sporadic action sequences. My biggest problem with the movie was that the story does not offer a character that I could root for, since the intended hero is an idiot. Director Chang has no sense of style, and he is unable to hide the glaring imperfections found in the narrative. I know this is not supposed to be high art, but I found the movie boring. Definitely not the best example of this much-beloved genre. Its cult status escapes me. I recommend you to skip it.\n",
      "* * * * * * * * * \n",
      "14575\n",
      "I'm getting a little tired of people misusing God's name to perpetuate their own bigoted view on the world. Well I don't dismiss the idea of Armageddon, or the coming of the anti-Christ, I do dismiss the idea that only certain people who live truly good lives(They seem to be mostly white Christian children) will go to Heaven, while the rest of us must suffer through a millenia of Hell on Earth, just because we weren't good enough. God may be a judge, but I don't think He is going to measure every level of goodness. Give the Creator some credit.\n",
      "* * * * * * * * * \n",
      "14675\n",
      "This inept adaptation of arguably one of Martin Amis's weaker novels fails to even draw comparisons with other druggy oeuvres such as Requiem For A Dream or anything penned by Irvine Walsh as it struggles to decide whether it is a slap-stick cartoon or a hyper-realistic hallucination.<br /><br />Boringly directed by William Marsh in over-saturated hues, a group of public school drop-outs converge in a mansion awaiting the appearance of three American friends for a weekend of decadent drug-taking. And that's it. Except for the ludicrous sub-plot soon-to-be-the-main-plot nonsense about an extremist cult group who express themselves with the violent killings of the world's elite figures, be it political or pampered. Within the first reel you know exactly where this is going.<br /><br />What is a talented actor like Paul Bettany doing in this tiresome, badly written bore? Made prior to his rise to fame and Jennifer Connelly one can be assured that had he been offered this garbage now he'd have immediately changed agents! Avoid.\n",
      "* * * * * * * * * \n",
      "14676\n",
      "I don't really know where to start. The acting in this movie was really terrible, I can't remember seeing so many 'actors' in one film that weren't able to act. Not only the acting was bad, the characters were incredibly stupid as well.<br /><br />Then there's the action. I believe that even children know that when someone gets shot, there's blood involved. But when someone gets shot in Snitch'd for ten (!!) times, there's no blood at all. Well, I guess that's just me.<br /><br />To make a long story short (because believe me, I can go on for hours about this film), this is without a doubt the worst film I ever saw. This film should be number 1 in the bottom 100 without a doubt.\n",
      "* * * * * * * * * \n",
      "14946\n",
      "For some strange reason the film world is driven by fashion . Someone makes a film about a killer shark then all of a sudden the film world`s oceans are awash with giant Squids , killer octopusses and sea monsters of every ilk . A man is stalked by an erstwhile lover from hell then every film character is stalked by a cop from hell or a flatmate from hell or a babysitter from hell . Then when a major Hollywood company produces a big budget FX laden blockbuster about tornados then other film producers jump upon the bandwagon , the fact that they don`t have the budget to pull it off doesn`t stop them. NIGHT OF THE TWISTERS is a case in point . What struck me about this made for television film is the fact that it tries to hide its lack of budget by cutting to the ad breaks . Everytime a tornado appears the camara locks onto the horrified expression of the actors as they scream things like \\ Oh my gawd it`s heading this way \\\" and \\\" Run for your lives \\\" then the screen fades to black saving the producers the need to up the special effects budget . Unfortunately NIGHT OF THE TWISTERS budget should have been upped to include better actors . The cast are by no means bad but they are unimpressive and lack the skill to carry a film which is character driven . Where`s Josh Hartnett and Elijah Wood when you need them ?<br /><br />And the last word on this being a TWISTER clone ..... Yes NOTT was released a couple of months before TWISTER but TWISTER had been hyped for several months as being the Summer blockbuster of 1996 and NOTT has a rushed feeling to it which leads me to believe that it was made and released to tie in with the hype surrounding TWISTER\"\n",
      "* * * * * * * * * \n",
      "15201\n",
      "SPOILER ALERT ! ! ! Personally I don't understand why Pete did not help to save Williams life,I mean that would be great to know why William was motivated,or forced.I think Secret Service members are every day people,and there is a rumor the writer was a member of the Secret Service,now he's motivations are clear,well known.But as a rental this film will not satisfy you,cause the old but used twists,the average acting -these are just things in this film,only for keep you wait the end.Clark Johnson as the director of S.W.A.T. did a far better work like this time,and I still wondering how the producers (for example Michael Douglas)left this film to theaters.\n",
      "* * * * * * * * * \n",
      "15228\n",
      "The movie's storyline is pat and quaint. Two women travel through the middle east and discover themselves. Unfortunately, if you are looking for a movie about the middle east and central Asia this is absolutely terrible.<br /><br />The producers of the film either did no research or were unbelievably lazy when filming it. To begin with, and most glaringly incorrect, the Nuristanis, as they were known in the thirties, and indeed since the 1890s and their forceful conversion by Abdul-Rahman Shah of Aghnaistan, were not nomads. In fact they have not been nomads since the Aryan invasions of central Asia over three milenia ago.<br /><br />Second, the city that is filmed as Tehran is not Tehran, which is understandable, however the geography of the area around the city could not be more strikingly DIFFERENT than the city of Tehran, which is surrounded on all side by a large mountain range, which predominates all of the cities views.<br /><br />Third, Persian, despite the fact it is spoken in Iran and Afghanistan, is never heard in movie. When there are native speakers who do not speak in German they speak in Arabic. The 'Persian' guards at the border, in fact, say to each other 'Ma hadha rujal' (This is not a man) and not 'in mard nist' as it would be in Persian. Also, the love song between the Indian princess and one of the main characters is obviously in Spanish. While talking in the garden one of the main characters says that the Quran uses the words 'Ferdos' and 'jehaan' and makes some reference to drugs afterwords. These words certainly never appear in the Quran as they are Persian for Paradise (indeed, Ferdos and Paradise are very distant cognates between our languages) and 'World' respectively, though Jehaan is admittedly close to 'Jehennan' which is hell in Arabic. When they encounter the nomads in the desert the language spoken is also Arabic, this despite the fact that there are NO native speakers of Arabic in Iran and Afghanistan and its use is primarily religious, with some use in education at that time.<br /><br />When they are stopped in Iran before they reach the Afghan border the people they encounter are wholly unlike any Iranian group. Their tents are typically bedouin with carpets decorating the walls and a high profile. In Iran it is also extremely uncommon for people to wear Turbans unless they are a cleric. The language spoken is clearly Arabic from the initial greeting of 'Ahlan wa Sahlan.' When they do reach Kabul the desert they find themselves in is sandy, totally unlike the rock dirt that is found in the arid parts of the Hindu Kush mountain range. There is an absence of the light green scrub that covers the ground in the summer and spring. The area is also not wholly consumed by the extreme mountains of the mountain range that won its name, The Indian Killers, because of its difficult and limiting ground.<br /><br />In short, the story line is the only thing in this movie that holds any water and it is still weak and common place. It lacks any real draw to it, being merely the tale of two women trying to learning about themselves as they get to Nuristan, however, even that is still-born and no real development is felt, leaving the characters in the end just where they were in the beginning and nothing has changed except that world war two has broken loose. In short, this is a really bad movie that I would have rated at one star except for the good footage of Bedouin and the deserts of the Levant, even if they are misnamed.\n",
      "* * * * * * * * * \n",
      "15509\n",
      "After Watergate, Vietnam and the dark days of the Nixon and Jimmy Carter eras, what the world needed was a good old-fashioned chapter-play hero taking on venomous serpents and evildoers in the America of 1936 or the jungles of South America in a series of fantastic cliffhanging adventures. Unfortunately what it got in 1975 was Doc Savage, The Man of Bronze. Perhaps the best that can be said of legendary producer George Pal's final film is that his often beautifully designed but sadly flat adaptation of Kenneth Robeson's pulp-paperback novels probably had George Lucas and Phil Kaufman leaving the theatre and saying to each other \\We can do better than that,\\\" and adding a bullwhip, a battered Fedora and some much needed character flaws to the mix.<br /><br />A big part of the problem is that Doc Savage is in many ways even harder to write for than Superman  explorer, adventurer, philanthropist, a scientific and intellectual genius in the bronzed bleach-blonde bulletproof muscle-bound body of a Greek God (or rather the form of TV's Tarzan, Ron Ely, a rather dull Charlton Heston clone here), there's simply nothing he can't do and, more damagingly, nothing that can harm him. The man is the virtual incarnation of Hitler's Aryan ubermensch (no surprise that the DVD is only available in Germany!), albeit with all-American values. And just in case there should ever be anything he's overlooked (not that there ever is) he has not one but five sidekicks in his entourage, the (less than) Fabulous Five. A chemist, an electrician and even an archaeologist I can accept, and at a stretch I could possibly even go as far as to see the possible need for a construction engineer, but what kind of hero takes a criminal lawyer with him on his adventures? In reality Doc's brain trust were probably added because with the hero so tiresomely invulnerable and practically perfect in every way  even Kryptonite wouldn't put a dent in him - there needed to be someone at risk in the stories, though with the exception of Paul Gleason they're all so horribly badly cast and overplayed (as are most parts in the film) you'd happily kill them all off during the opening titles. The villains fare no better, with Paul Wexler exuding all the menace of a geography teacher as Captain Seas, Scott Walker (no, a different one) delivering one of cinema's worst accents (is it meant to be Scottish, Irish, Welsh, Greek, Pakistani or some nationality no-one has ever heard of?) while Robyn Hilton's Marilyn Monroe-ish dumb blonde moll gives Paris (no relation) a run for her money in the untalented bimbo stakes.<br /><br />Even with those drawbacks, this should have been much better than it is considering the various ingredients  lost tribes, a pool of gold, a dogfight with a biplane and a deadly poison that comes alive, all wrapped up in a quest to discover why Doc's father was murdered. Unfortunately it's a question of tone: in the 60s and 70s pulp superheroes weren't brooding figures prone to state-of-the-art action scenes and special effects but were treated as somewhat comical figures of low-budget camp fun with action scenes quickly knocked off on the cheap almost as an afterthought, the films aimed purely at the matinée market: you know, for kids. There have long been rumours that the original cut was more straight-faced  and certainly much of the camp value has been added in post-production, be it the Colgate twinkle in Doc's eye, the comical captions identifying various fighting styles in the final dust-up with Captain Seas or Don Black's gung-ho lyrics to John Philip Sousa's patriotic marches  but plenty was in the film to begin with. After all, it's hard to see how one of the villain's underlings making phone calls from a giant rocking crib was ever intended as anything other than a joke that falls flat, while Doc's explanation to Pamela Hensley of why he never dates girls could be a scene written for Adam West's Batman. Instead, the funniest moments are usually purely unintentional, such as Doc displaying his sixth sense by, er, bobbing his Adam's apple.<br /><br />Perhaps an even bigger problem is that, while promising on paper, the action is handled in an almost relentlessly mundane fashion, be it chasing a native assassin on the rooftops of New York skyscrapers or escaping from a yacht full of bad guys. Even the winning notion of animated glowing green snakes swirling through the air as they poison their victims fails to raise any enthusiasm from director Michael Anderson: having demonstrated their own invulnerability a couple of scenes earlier, Doc manages to dispatch them with no more than a chair and an electric fan by simply pulling the curtains on them.<br /><br />Still, aside from Doc's various vehicles all stamped with his logo and looking more moulded plastic than bronze, the production design is often rather handsome even if it is very obviously L.A. standing in for New York while Fred Koenekamp's cinematography ensures the film often looks good despite the low budget. And it's good to see a superhero movie that doesn't spend most of its running time on an origin story, though one is left with the suspicion that Doc sprang fully formed from the loins of Zeus himself.<br /><br />It's a film I'd really like to like more, but it just feels like 100 minutes of lost opportunities. No wonder Doc Savage, The Arch Enemy of Evil, the sequel so optimistically promised in the end credits, never happened.\"\n",
      "* * * * * * * * * \n",
      "15531\n",
      "just below the surface lies what? a simply awful movie is what.<br /><br />as other viewers have justifiably commented, the storm sequences are just plain ridiculous. chopping already sodden firewood in the pouring rain? now that's smart. menace? foreboding? sexual tension? for those read dull & contrived, dull & contrived and dull & overly contrived.<br /><br />i want to say thank god for mia sara's shower scene but in retrospect i think the producers of the film, having seen the completed mess realised that they had to put something in to make it half way worthwhile at all. so it just becomes yet another contrivance. do yourself a favour and give this a miss.\n",
      "* * * * * * * * * \n",
      "15571\n",
      "This movie should be number one on the bottom 100. The acting is so horrible that when my son and I watched it we nearly got physically ill. And the story is worse. I could go on and on about how bad it is but all I really wanted to do was add a warning to frankbob's review as I see no one else has gone to the trouble of doing so yet. Don't waste your time, money, energy or anything else on this movie. Thank goodness we saw it on TV so we didn't spend anything on it. Had we, I would have been forced to write the people responsible for this abomination and be forced to hurl an execration in their general direction. In conclusion, I would like to say that I have always enjoyed watching Carrie Fisher act. But I am sad to say that she is not worth watching in this particular film. Don't spoil your opinion of Carrie by viewing it.\n",
      "* * * * * * * * * \n",
      "15672\n",
      "An executive, very successful in his professional life but very unable in his familiar life, meets a boy with down syndrome, escaped from a residence . Both characters feel very alone, and the apparently less intelligent one will show to the executive the beauty of the small things in life... With this argument, the somehow Amelie-like atmosphere and the sentimental music, I didn't expect but a moralistic disgusting movie. Anyway, as there were some interesting scenes (the boy is sometimes quite a violent guy), and the interpretation of both actors, Daniel Auteil and Pasqal Duquenne, was very good, I decided to go on watching the movie. The French cinema, in general, has the ability of showing something that seems quite much to life, opposed to the more stereotyped American cinema. But, because of that, it is much more disappointing to see after the absurd ending, with the impossible death of the boy, the charming tone, the happiness of the executive's family, the cheap moral, the unbearable laughter of the daughters, the guy waving from heaven as Michael Landon... Really nasty, in my humble opinion.\n",
      "* * * * * * * * * \n",
      "15735\n",
      "This mess is so bad it doesn't even qualify as horror. <br /><br />Debbie Rochon's talent is completely wasted in this film. She is not even the villain. The rest of the actors look like porno wannabes and the plot is so lame I won't even mention it.<br /><br />Do yourself a favor and skip to the end credits to hear upcoming band TwoMarlowe perform \\Better Than Sex\\\" it's total 80's Disco candy song. Nice up tempo song about Gambleing & Sex. Way more entertaining than \\\"Bleed\\\". Put it this way, When one has the equipment to copy videos, but decides only to record the song at the end of movie, you have a really \\\"BAD\\\" movie.\"\n",
      "* * * * * * * * * \n",
      "15778\n",
      "What a complete waste of time. The movie starts as a clone of the Saw series, but with even worse acting. Melissa Joan Hart is absolutely horrible. The ending is ridiculous and the story contains no twists, not plot surprises and just a plain bad ending. I liked some of the characters and I was hoping for everything to be tied together at the end. It just doesn't happen. It's a total \\Wrestler\\\" ending with none of the good acting. I can't believe I spent the time watching this. It's not \\\"fun\\\" as some people put it. A guy in a mask kidnaps people who are connected and forces them to figure it out. The connection is a stretch and he should have shot the main actress first.\"\n",
      "* * * * * * * * * \n",
      "15915\n",
      "The reason the DVD releases of this film are in black and white is because nobody can get their hands on a color print of this public domain film, a modest sea story at best.<br /><br />Distributed for television thru Allied Artists, DVD's (or VHS) on the market at this time for this title are all coming from the same 16MM television print. Films distributed for television prior to 1963 were often distributed in b/w prints, because the bulk of viewers did not have color sets anyway. Striking b/w prints for television was also cheaper, as it often involved quite a few prints to cover all stations running a film on a syndicated basis.\n",
      "* * * * * * * * * \n",
      "16103\n",
      "The potential was there. I saw Creep and thought, 'Oooh, this is getting interesting' several times. Yet somehow the interesting plot lines wound up unexplained or ignored, like they never happened. The lead character was irritating throughout the movie, and at one point my fella and I both shouted that we wanted her to die. There are some genuinely spooky/scary moments, but these are grossly overshadowed by the moments that just annoyed the hell out of me. It's another one of those horror movies that crops up and intrigues you for a while, but ultimately leaves you frustrated and a little confused about what the movie makers were trying to achieve.<br /><br />The one saving grace of this movie is the bad guy, but when the baddie is more likable than the lead character you know you're on to a loser.\n",
      "* * * * * * * * * \n",
      "16111\n",
      "Weaker entry in the Bulldog Drummond series, with John Howard in the role. Usual funny banter and antics, but not much plot. Barrymore gets something to do as the inspector, swapping disguises to follow Drummond, Algy, and Tenny on a wild goose chase (mostly in circles; perhaps the budget was tighter than usual) to rescue poor Phyllis, who is being held captive by people who want to lure Drummond to his doom. For those keeping score, in this one, Drummond is planning to ask Phyllis to marry him and Algy is worried about missing the baby's christening. It's fun to see Algy and Tenny dressed up as fisherman to blend in at The Angler's Rest, but little of it rises above silly.\n",
      "* * * * * * * * * \n",
      "16172\n",
      "I liked the initial premise to this film which is what led me to hunt it out but the problem I quickly found is that one pretty much knows what's going to happen within the first 20-30 minutes ( the doubles will come from behind the mirror and take over everybody).<br /><br />There is no real twist (which is fine) , but the final reveal doesn't make a great deal of sense either (how can she be racked with uncertainty and fear for the whole film, if she's an evil id from beyond the mirror?).<br /><br />Admittedly the scenes 'beyond the mirror' were chilling when they first appeared and the blonde's murder is also effectively creepy, but ultimately alas this seems to be a film in search of a story or a more engaging script, piling atmosphere upon atmosphere and over the top scary sound design for 80-90 minutes does not really cut it, in fact it gets quite dull.\n",
      "* * * * * * * * * \n",
      "16209\n",
      "My Score for this crap: 1 / 10 1 for the technical only. Everything else is very bad. <br /><br />Another film that makes no sense. Clearly it seems that creating a good script for film or television is almost a impossible mission. <br /><br />While it's easy to understand why politicians never say the truth, they are among the biggest liars on the planet, it is difficult to understand how to make films so pathetic. <br /><br />We must believe that taking people for morons. Perhaps it was reason to believe, since 99% of the films are crap. Because they are stupid and ridiculous and very bad scenarios. <br /><br />When you look at the price we give Oscars, we understand better why we continue to make films any more ridiculous than others. <br /><br />And oddly enough it was always money for such nonsense. But it was not for education and health. <br /><br />If you still want to listen to this s**t, press super Fast Forward button (at least 20X).\n",
      "* * * * * * * * * \n",
      "16291\n",
      "Leave it to Paul \\sex on the brain\\\" Verhoeven to come up with a pointlessly sleazy and juvenile version of the INVISIBLE MAN story. If he'd direct a Pokemon film, I'm sure he'd turn it into some massive orgy of sorts. I don't mind sex or even sleaze (check my other reviews) on film but frankly, it's obvious the director has a one track mind and he couldn't see interesting aspects about an invisible man storyline than the kinky implications it comes with it. It's a shame because it could have been good if the film didn't spend so much time having an invisible Kevin Bacon grope women. <br /><br />The game cast of actors does what it can with the one-note cheesy script but I felt bad for some of them, including William Devane, who is totally wasted here.<br /><br />But then what could I have expected from the director of SHOWGIRLS, which, btw, is much more entertaining than this stilted & bad film.\"\n",
      "* * * * * * * * * \n",
      "16306\n",
      "the guy who wrote, directed and stared in this shocking piece of trash should really consider a carer change. Yes Rob Stefaniuk, i mean you! Seriously, who funded this crap? there are so many talented writers out there whom money could be better spent on. I think the idea is great but the acting, script and directing is just plain awful! The jokes are so not funny, I understand that they are supposed to be taking the mickey. BUT do it with style, this movie is screaming 1995 Saturday night live skits. Why, I say again why do studios give money to hacks like Rob Stefaniuk - NEVER GIVE A COMEDIAN THE Opportunity TO WRITE DIRECT AND STAR IN HIS OWN MOVIE. DUH!\n",
      "* * * * * * * * * \n",
      "16334\n",
      "While filming an 80's horror movie called 'Hot Blooded', the director is brutally murdered and the leading lady is scarred as she survives the attack and manages to kill murderer. After all of this, the production is abandoned and the stock reels are left to gather dust. So a group of filmmakers decide to pick up where the film left off even though they're warned by people to keep away from the film, as the last person who was interested in the flick turned up dead in the cinema while watching the film. From this it's labelled as a cursed production. Not taking these warnings seriously the crew goes ahead with the production and they get the original star of the movie to return from Hollywood to reprise her role, but not as the daughter but the mother. But again the murders start occurring with the cast and crew getting butchered by an unknown figure dressed up as the film's killer.<br /><br />Look what 'Scream' started! Hey, I enjoy those films, but mostly everything else that followed on afterwards were annoying and pointless excuses. During this stage the sub-genre came back with vengeance, but it wasn't much of a good thing as they were mostly unsuccessful and unoriginal attempts, where they followed the derivative pattern of the Scream franchise. 'Cut' which is an independent Australian take on the textbook slasher genre is purely shonky garbage that lacks basically everything and shamelessly knocks off every other slasher flick. But you know what, I found it a cheesy delight. Yeah, It's gawd awful and highly forgettable, but it's a bit of ala good cheap fun while it lasted. Although I did hate it when I originally came across it, but the second time around I knew what I was getting myself into and it worked better for it. It was just like helping myself to a nice slice cheesecake again, but this time it wasn't so sweet.<br /><br />The film came out around the same time as 'Scream 3' and 'Urban Legends: The Final Cut' did, which all three follow the same structure of using a movie within a movie. 'Scream 3' is obviously the strongest of the three, but I would actually watch this trash over Urban Legends: The Final Cut. Though, it did seem more of a throwback to the 80's slashers than that of one of Scream's bastard offspring. Pretty much the film is given b-grade treatment and that shows up in the script and performances. The dialog is truly unimaginative and hardly comes up with any surprises and suspense. While, the performances are pure mockery and Molly Ringwald takes the crown for it. She plays the wash-up actress returning to finish the cursed flick and I had good fun with her laughably ridiculous send-up performance. She provides the bite here and nails it down perfectly. The rest were mostly recognizable Australian TV stars (that's if you're an Australian) with a ravishing Jessica Napier leading the cast with the likes of Stephen Curry and Frank Roberts. Also pop singer (and supposed actress) Kylie Minogue makes a cameo appearance in the opening just to be hacked up! Nice. These teens mostly followed the formula of horny and dim-witted kids that have nothing better to do but to be killed. Sometimes it feels like they just waiting in queue, because they have no real substance to be there.<br /><br />The plot starts off rather interestingly, then heads into a mystery phase where red herrings pop up, but then it makes a sudden u-turn where it becomes a somewhat satire on the horror genre. Simply it's rather choppy and when it comes to the explanation for all of this madness I was kind of left thinking",
      " oh my. This when it tries to twist back onto itself in a clever manner, but sadly it falls along way. But don't you just love an opening ending. Also it sports some pop culture references and a self referential, tongue-in-cheek approach. Predictability makes its way in rather early and the jokes can become over-stated at times, but it knows that by poking fun at itself quite a bit. The atmosphere looses a bit of edge because of the humour taking away the bleakness, but still the isolated grand old mansion where they are filming has some neat touches that added 'some' spookiness. The cinema scene is done rather nicely too.<br /><br />Now, now we know we want gore and nudity when watching this type of flick, but sadly there's no nudity to be found and the gore is pretty standard, if lacking but it's more then decent for such low-budget flick. There are one or two creative deaths, but the rest are systematic. The killer wasn't bad but when he spoke it kind of hurt it I thought, well the smart-ass attitude didn't sit well with me. Another notes of the production which were dire ranged from the cut-away editing, out-of-place soundtrack and Kimble Rendall's direction lacked execution and was pretty careless, but these contributing factors pull together to add some sort of sheer entertainment to all of this badness.<br /><br />The imagination matches the budget that's for sure, but heck this lousy slasher wasn't trying to be anything else. Pure schlock that's slightly amusing!\n",
      "* * * * * * * * * \n",
      "16354\n",
      "All day now I've been watching dinosaurs, and all day they've had the same fundamental problem.<br /><br />They don't believe in firearms. They just don't seem to have been _told_ about them or something. Bullets _bounce_ off of dinosaurs! Maybe it's because they became extinct millions of years before the invention of gunpowder, and the laws of physics were just different back then... Aah, no. Come on. If they're close enough to chemically operate today, they'd have to be vulnerable to fast (even subsonic) lead projectiles. It's that simple.<br /><br />Look, the toughest-skinned reptiles on the planet today, alligators and crocodiles, are completely vulnerable to basic rifle fire. They're nothing magic. You can shoot a pistol round right through the heavy scales on their backs. They don't take armor-piercing bullets or anything special. Small bullets penetrate them, they just don't kill them. Somewhat (but not REALLY) large bullets are preferred because the challenge (as with most game) is to kill the animal with one shot, so it doesn't run. (Hunters consider it immoral to allow prey to run off and die unharvested.)<br /><br />Most animals, including predators, are easily repelled by gunfire. Between the noise, and the pain of even a non-lethal wound, most will run away. An exception are big bears, which are so fearless that they're merely enraged by mortal wounds. Cape buffalo are regarded as highly dangerous because they are well known to charge when wounded. We've seen video of the big bulls of a herd of cape buffalo rescuing a calf from an entire pride of lions. A big cat will run if it can, but if it can't it will charge as a final act of desperation. Where a T.Rex would fit in this spectrum is unknown. Their behavior simply has not been observed. With these larger animals, safe hunting becomes a matter of applying an appropriately large and powerful projectile, and/or applying several of them rapidly enough to counter its charge. With a T.Rex, of course, this could be a serious problem. I've seen a T.Rex skull (they have one in the museum downtown) and carrying a gun big enough to bust that might be impractical. Chewing its neck off with lots of smaller fire might be a more viable approach. Small bullets would still _penetrate_ them, they wouldn't just bounce off just because the animal is too big to easily kill! <br /><br />So here we have Cortez and his men (this is _before_ the famous Mexican campaign, apparently) captured by American natives and scheduled for sacrifice on the pyramid. It appears that all those human sacrifices were about appeasing the bloodthirst of the pair of T.Rexes that terrorized the continent in the day. Rather than just having their hearts cut out and being fed to the lizards, Cortez et al talk the Aztecs into letting them hunt & kill them. OK, maybe they don't have M-16s like the guys in the \\Carnosaur\\\" series, but they _do_ have flintlocks, crossbows, pointed sticks (big ones, made from trees) and swords. Maybe that's a little less uneven than squads of soldiers with full auto, but they've several guys and I'd quickly bet on them over a dinosaur. Oh, wait, there's a _cannon_, about a 4-incher. That's just the ticket for busting a Tyrannosaurus' skull! So they lay a trap, with a squad of men, cannon, pointed sticks in a ravine, and lure the first T.Rex into it, using a pretty brown girl as bait. Cortez points out that they'll NOT have time to reload, so they'll have to close the range until they can be certain of their aim. T.Rex totally ignores their volley of flintlock fire, and we see both a crossbow bolt _and_ the cannon ball _bounce_ off! Forget it. End of credibility. A crossbow bolt would defeat Cortez' torso armor, and a 4\\\" cannon ball might penetrate the hull of a wooden ship! This would also _certainly_ get through the hide, ribcage, or skull of any animal ever to walk this planet. (Do you think a _whale_ could withstand a 4\\\" cannon ball?) And here's T.Rex, still standing, not even bleeding. So Cortez lures it to the ravine, where it falls onto the pointed sticks, which (I guess by magic) penetrate it and kill it. Yaaay, pointed sticks! <br /><br />The dinos aren't completely invulnerable to gunfire - they manage to put out an eye of the second one with a pistol. This runs it off, so it's NOT as mean as a bear or a buffalo, at least in the movies.<br /><br />They kill the second dinosaur with a bomb - made from a gourd filled with gunpowder and gemstones. My money would still be on the cannon. It's engineered function is to concentrate all the gunpowder's energy in one direction - toward the target. A bomb is a much more diffused application of force. A _real_ bomb (NOT a gourd bomb) has a steel casing which contains the explosion to extremely high pressure. (Think: pipe bomb vs firecracker.) A pile of gunpowder set on fire will simply go POOF. (Trust me on that one.)\"\n",
      "* * * * * * * * * \n",
      "16679\n",
      "I had never read Gary Paulsen's novel, Hatchet, for which 'A Cry in the Wild' is the adaptation of, so I can't make any comparisons to the book. I will, however, say that as a film on its own, adaptation or no adaptation, it was an underdeveloped adventure that provides no major explanation of its few characters.<br /><br />Think of 'A Cry in the Wild' as a less luxurious, teenage mountaineer (was Quincy, California the only place this was filmed?) version of 'Cast Away.' Jared Rushton is 13-year-old Brian Roebson, a kid headed on a small plane to visit his father, until the craft crashes over some deserted mountain terrain, leaving the kid stranded for quite a while and having to defend himself.<br /><br />There are basically three parts to the film. The obvious being the ten or fifteen minute introduction of the characters, namely Brian and his mom. <br /><br />The next third of the movie (which really consumes nearly all of the film) is that of Brian \\roughing it.\\\" These scenes contain no particularly amazing action, nothing spectacular other than lots of beautiful cinematography of a beautiful Yukon landscape. Nothing to put you on edge, no real encounters (except a brisk confrontation with a cub), and no major dilemmas to initiate some sort of enjoyment or connection with the character on the screen. You might even feel briefly bored with the passage of time as we witness Brian dealing with his situation through first, primitive means, and then more improved ones (using tools, etc) for his survival. It is more like the ordinary time that passes if you were actually stuck in the situation, and that is pretty much about it. In other words, they put no meat on the Paulsen's words when they translated them into a visual media.<br /><br />And, of course, the third part of the movie is his rescue.<br /><br />There is a subplot that continuously seeks to make itself known during this time, however. Some conflict between Brian and his parents that created a rocky, awkward relationship between them. However, for the most part, it is only explained in brief, intermittent, minimal dialog flashbacks that look more like a back story for a music video. Any minute, the singer from Jefferson Starship, should chime in an start singing 'Sara.' Other than what the viewer can draw from the implications, or guess for his own need to fill the gaps in the narrative, we get a very underdeveloped back story which was probably necessary to enjoy at least part of this film and create a connection to the characters, whether or not it really had anything to do with Brian's survival adventure in the third part of the movie. These are the flaws in the narrative that through the viewer into a stupor as he struggles to find out what the heck those people there on the screen are doing and, for me, almost done to the point of screaming at the television to say something and tell me more! <br /><br />It certainly was not, for me, a good adventure tale. But, for fans of Jared Rushton, it was one of the last few movies he made. So, watch it purely for nostalgia, if nothing else.\"\n",
      "* * * * * * * * * \n",
      "16840\n",
      "After a series of power-outages on a remote island zoo, genetically engineered sabertooth tigers are on the loose and mauling residents of the island. Man, the sci-fi channel has made some bad \\original\\\" movies, but I think this might possibly be their worst so far! This badly written and directed \\\"Jurassic Park\\\" rip-off offers all the usual clichés (mad scientists who thinks people killed by the monsters are \\\"expendable losses\\\", characters walking down long dark hallways alone, brain-dead teen characters who's only function in the film is to die a horrible death, etc.), and, unsurprisingly, no suspense whatsoever. The special effects are atrociousthe puppet heads in close-ups of the title beasties are bad enough, looking like stiff plush dolls, but the CGIwhich makes the computer-generated dinosaurs in \\\"Walking with Dinosaurs\\\" look life-like by comparisonare just downright awful. There's some gore, but most of it looks pretty unconvincing. Oh, and the death scene of the scientist at the end is truly one of the worst things I've seen in years. I couldn't even laugh it was so bad!<br /><br />Don't waste your time, this one is just downright bad.<br /><br />2/10. <br /><br />Oh, and here's some interesting trivia for youthis film borrowed music cues from the 2003 sci-fi film \\\"Alien Hunter\\\", which was far superior to this piece of crap.\"\n",
      "* * * * * * * * * \n",
      "16982\n",
      "Even though the book wasn't strictly accurate to the real situation it described it still carried a sense of Japan. I find it hard to believe that anyone who was involved in making this film had ever been to japan as it didn't feel Japanese in the slightest. Almost everything about it was terrible. I will admit the actors were generally quite good but couldn't stand a chance of saving it. Before the film started I was surprised that there were only ten people in the cinema on a Friday night shortly after the movie had opened in Japan. 30 minutes in I was amazed they stayed. I stayed so I would have the right to criticize it. The whole movie was punctuated my groans and suppressed laughs of disbelief from my Japanese girlfriend. Everyone I saw walking out of that cinema had looks of confusion and disappointment on their faces. <br /><br />To the makers of this movie, you owe me two hours.\n",
      "* * * * * * * * * \n",
      "17050\n",
      "(Avast, slight spoilers ahead) I got this tape from my local library, which keeps a copy for obvious reasons.<br /><br />I once went to the town of Matewan, West Virginia, and in a little museum there I saw the schedule for the town theatre citra May 1954. Movies would change at the theatre each day. As there would be no TV for another decade or so in those parts, this was much of the available entertainment in the town. \\The Raid\\\" seems to have been made for towns like Matewan in the 1950's. Although it wasn't listed for that month, I am sure showed there some Monday or Tuesday night for an audience which probably wasn't too demanding. The historical raid - daring and remarkably successful - didn't seem to have been very well researched, so the movie is full of Hollywood embellishments, including a loose cannon played by Lee Marvin. Marvin uses the opportunity to practice being Liberty Valance. And St. Albans seems to have had more Yankee soldiers coming and going through the town than Washington D.C. had.<br /><br />What really made me snicker was when the raiders change into their Confederate uniforms. Only in tacky Civil War paintings do Rebel uniforms look so pristine. When Anne Bancroft's son catches Van Heflin in his uniform just before the raid, I expected the boy to think it was Halloween.<br /><br />And then there's Anne Bancroft herself. While watching the movie I actually looked on the IMDb to see if there was a second Anne Bancroft. The then-studio contract actress looks nothing like in her later films, and has none of the presence she would later have in \\\"The Miracle Worker,\\\" \\\"Agnes of God,\\\" and of course \\\"The Graduate.\\\"<br /><br />Worth seeing if only 1). you live in St. Albans and 2). you have a couple hours to kill on a Hollywood fictionalization of your home town's biggest news story.\"\n",
      "* * * * * * * * * \n",
      "17063\n",
      "Born, raised, and educated in Scotland, I was appalled at this disgusting portrayal of a man who was no more nor less than a cattle rustler. Worse yet, the thread of the entire movie was sex in one form or another, by implication or verbally. To view it, one would think that 18th century Scotland was populated by a bunch of sex perverts and homosexuals. Lange was a joke acting as the \\young\\\" mother at age 49 but Liam Neeson was even worse! Taking a \\\"bath\\\" in a Scottish loch is NOT commonplace as they portrayed him - but, it did give them yet another opportunity to demonstrate how sexually driven we were. Save your money and watch Pinnochio.\"\n",
      "* * * * * * * * * \n",
      "17195\n",
      "No need to detail what others have written in other reviews - here goes the summary: <br /><br />* Much of the nested animation work is downright gorgeous - the colors are superb - would love to have it done in silk as a necktie<br /><br />* The story and execution is a total snooze - it was quite difficult to stay awake at times<br /><br />If you are a student of the fine arts, medieval calligraphy, early religion and so forth - have at it. This is a FILM for you.<br /><br />If you want an engaging, entertaining MOVIE - look elsewhere - this is a failure as anything other than an artistic statement.<br /><br />Vikings didn't have horns by the way...\n",
      "* * * * * * * * * \n",
      "17472\n",
      "People tried to make me believe that the premise of this rubbishy supernatural horror/thriller was inspired by the actual last words spoken by an authentic serial killer (whose name escapes me at the moment). Whilst awaiting his execution in the electric chair, he claimed that his soul would return to life and continue to go on a never-ending murder spree. It's not a highly original idea to revolve a horror film on, by the way. Other low-budget turkeys implemented the exact same basic premise, like \\House 3\\\", \\\"Shocker\\\" and \\\"Ghost in the Machine\\\". Anyway, \\\"The First Power\\\" (a.k.a \\\"Pentagram\\\") isn't a completely terrible effort, but the script overly reverts to clichés and lacks genuine thrills. The film starts off as an okay, albeit mundane serial killer flick in which obsessive cop-hero Lou Diamond Philips pursues a maniac who carves bloody pentagrams into the chests of his victims. He receives unexpected help from a spiritual medium, played by the gorgeous and underrated Tracy Griffith. She leads him to the killer but also begs not to execute him, as that would result in an even bigger catastrophe! Thanks to Tess' helpful hints, Detective Logan quickly captures the killer and celebrates his death penalty, but Patrick Channing made a pact with Satan Himself and returns to the rotten streets of California to do some more killing. \\\"The First Power\\\" gets pretty bad once the murderer reincarnates as a vengeful spirit. Instead of using his newly gained satanic powers to wipe out the entire world (that's what I would do in his position), Channing simply prefers to play cat and mouse games with his nemesis the copper. He annoyingly calls him \\\"Buddy-Boy\\\" all the time and possesses the bodies of Logan's friends and colleagues in order to trick him. Even though never really boring or poorly realized, it's a very weak film to endure, mostly because you constantly get the feeling of déjà-vu. Writer/director Robert Resnikoff shamelessly uses every dreadful cliché (the killer got sexually abused as a child) and even the players' lines can easily be predicted. As soon as Griffith explains she's able to predict the future, you just know that, somewhere at some point in the film, she's going to say the ridiculously overused line \\\"I tell people who to live their lives, but my own life is a mess\\\". Yawn. Lou Diamond Philips' performance is adequate enough, but it's rather difficult to take that youthful rebel of \\\"La Bamba\\\" and \\\"Stand And Deliver\\\" serious as a tough copper. There also are decent supportive roles for Mykelti Williamson (\\\"Forrest Gump\\\"), Carmen Argenziano (\\\"When a Stranger Calls\\\") and B-movie horror legend David Gale (\\\"Re-Animator\\\") appears in a minuscule cameo at the very beginning of the film.\"\n",
      "* * * * * * * * * \n",
      "17531\n",
      "A pale shadow of a great musical, this movie suffers from the fact that the director, Richard Attenborough, completely misses the point of the musical, needlessly \\opens\\\" it up, and muddies the thrust of the play. The show is about a group of dancers auditioning for a job in a B'way musical and examines their drive & desire to work in this demanding and not-always-rewarding line of work. Attenborough gives us a fresh-faced cast of hopefuls, assuming that they are trying to get their \\\"big break\\\" in show business, rather than presenting the grittier mix of characters created on stage as a group of working \\\"gypsies\\\" living show to show, along with a couple of newcomers. The film has one advantage over the play and that is the opening scene, showing the size of the original audition and the true scale of shrinkage down to the 16/17 on the line (depending on how you count Cassie, who is stupidly kept out of the line in the movie). Anyone who can catch a local civic light opera production of the play will have a much richer experience than seeing this poorly-conceived film.\"\n",
      "* * * * * * * * * \n",
      "17678\n",
      "Robert Taylor definitely showed himself to be a fine dramatic actor in his role as a gun-slinging buffalo hunter in this 1956 western. It was one of the few times that Taylor would play a heavy in a film. Nonetheless, this picture was far from great as shortly after this, Taylor fled to television with the successful series The Detectives.<br /><br />Stuart Granger hid his British accent and turned in a formidable performance as Taylor's partner. <br /><br />Taylor is a bigot here and his hatred for the Indians really shows.<br /><br />Another very good performance here was by veteran actor Lloyd Nolan as an aged, drinking old-timer who joined in the hunt for buffalo as well. In his early scenes, Nolan was really doing an excellent take-off of Walter Huston in his Oscar-winning role in The Treasure of the Sierre Madre in 1948. Note the appearance of Russ Tamblyn in the film. The following year Tamblyn and Nolan would join in the phenomenal Peyton Place.<br /><br />The writing in the film is stiff at best. By the film's end, it's the elements of nature that did Taylor in. How about the elements of the writing here?\n",
      "* * * * * * * * * \n",
      "17706\n",
      "Rachel, Jo, Hannah, Tina, Bradley and John are all on top form here. They deserve oscar nominations for their performances. I am a great fan of the tv show aswell. Their music rocks and they're all so talented! I am also a great exponent of SARCASM!!!!!!<br /><br />IF YOU'RE AN S CLUB FAN DO NOT READ THIS!!!!!<br /><br />The performances are terribly weak, the dialogue is terrible and the jokes are not even executed properly (i feel sorry for the director). The jokes are so unbelievably bad that 8 little, passionate S Club fans weren't laughing. They thought they could do it better. And they did. They conquered the world. They became S Club Juniors. Paul, \\the fat, ugly one who started a mosh band\\\" must be thanking his lucky stars that he left when he did. One of the worst movies ever made. BEWARE OF THIS MOVIE! DO NOT GO AND SEE IT! YOU WON'T LAUGH! YOU WILL CRY! 0/10 RJT\"\n",
      "* * * * * * * * * \n",
      "17718\n",
      "The film did what it set out to do: show how a young girl copes with poverty and grows into her maturity. However, for most of us, this subject has been explored adequately and in most instances with more sophistication than done here. The movie fixated on breasts, which soon became boring and I lost interest. If this was on TV, I would've switched to the latest news on the Starr Report. That's how boring I found this movie.\n",
      "* * * * * * * * * \n",
      "18061\n",
      "The Crater Lake Monster is easily one of the most awful, amateurish film I've ever seen - ranking right up there with Manos, the Hands of Fate in terms of poor acting, useless direction, and kindergarten-level production values. In this movie a silly-looking claymation/stop-motion animated dinosaur wakes up after a meteor hits a lake in Bumblebum, CA, and begins dining on the local hayseeds. In the thrilling climax, the creature, described by one local as \\a giant alligator with flippers\\\", drags it's ponderous bulk over the ground to chase its would-be lunch, before a bulldozer bumps it a couple of times & it dies from boredom. Every character in this moovie is a complete moron. One pointless subplot shows a hick go into a liquor store to purchase a $4.75 pint of Ripple; instead of simply buying the bottle, the idiot shoots the cashier and another bystander, shoots at a cop, gets chased towards the lake, all so that he can eaten by the monster. Unfortunate close-ups of the monster reveal it to be nothing more than a piece of styrofoam. There's a fake magician struggling with a phony British accent (to make him seem more legit), two overly-bumbling redneck boat renters, some cheesy \\\"pre-historic cave art\\\" done in crayon, and annoying banjo-pickin' background moosic. In one painful scene, the fake magician and his dopey wife/girlfriend/accomplice manage to pad the movie an extra 4 minutes by cowmenting on how may stars they can see in the night sky, even though it is clearly day time still. Even on constant fast-forward, this moovie hurts, and hurts bad. MooCow says call the fumigators, 'cause this cow pie really stinks! :=8P\"\n",
      "* * * * * * * * * \n",
      "18105\n",
      "I can see why Laurel and Hardy purists might be offended by this rather gentle 're-enactment', but this film would be an excellent way to introduce children to the pleasures of classic L & H. Bronson Pinchot and Gailard Sartain acquit themselves reasonably as the comedy duo and there's a reasonably good supporting cast. I enjoyed it.\n",
      "* * * * * * * * * \n",
      "18111\n",
      "You'll notice that the chemist, who appears in two scenes and gets to speak, is played by Stephen King. \\Don't give up your day job\\\" is the standard thing to say, but that's not fair. King acquits himself reasonably well: he's no worse than any other member of the cast, and better than most. The story, on the other hand, is pure rubbish. Please, give up your day job.<br /><br />Never have I seen so many dreadful performances - of which the lead actor's (the LEAD ACTOR'S!) is probably the worst - gathered together in the one film. Everyone acts hammily, but not in any entertaining way; they all somehow manage to go over-the-top without expending, or manifesting, energy. I blame screenwriter/director Tom Holland. It can't be that ALL the actors are REALLY this bad. What are the odds against that? Admittedly, I've never heard of any of them before, but still, I don't think I could walk into a talent agency and walk out with this many bad performers if I tried: ONE actor, despite my best efforts, would turn out to have talent. So what's more likely - that Tom Holland rolled a dozen consecutive snake-eyes, or that he wrote a lousy script and then directed it poorly? That would also explain why actors are bad in direct proportion to their prominence in the script. The more direction an actor got, the worse he performed. (\\\"You want me to bend over like a hunchback, talk from the back of my throat, show all my teeth, and look bored, all at the same time? Okay...\\\")<br /><br />This theory is confirmed by the fact that Holland undeniably managed to co-write a lousy script. Several writers here have commented on the fact that Billy Halleck is not a likeable character, but that's a misleading way of putting it. He's not a knowable character. All we find out about him before the supernatural stuff starts happening is that he's fat, and that all he can think about is food. (\\\"All I can think about is food,\\\" he tells us, helpfully.) And in the end...<br /><br />(Sigh) I suppose I ought insert a spoiler warning here...<br /><br />In the end he becomes evil. Why? I can only shrug. Perhaps he's under some kind of enchantment. Yeah, that's probably it. By \\\"evil\\\" perhaps I mean \\\"inexplicable\\\" - it's not so much badness as a socially undesirable suspension of ordinary means-end psychology. Anyway, his actions at the end make no sense, nobody's actions make much sense, and this is despite the fact that the characters do little but explain their motivation for the benefit of the audience.<br /><br />By the way, here's my nominee for hammiest line/delivery: \\\"I don't think you'd like it. IN FACT...\\\" [big dramatic pause] \\\"...I don't think you'd like it at all.\\\"\"\n",
      "* * * * * * * * * \n",
      "18171\n",
      "As a big fan of gorilla movies in general, I anticipated that this one would be great - and as for the gorilla effects, They were quite good, however - that is the only thing I can write about this flop. The film claims to be based on a true story but in effect, it does not even come close to what actually happened to \\Buddy\\\" - who in real life, was the famous Gargantua, sold to Ringling Bros. by our supposed \\\"heroic\\\" Gertrude Lintz, known by many animal enthusiasts as a woman who hardly had her animals' welfare in the best interest. As far as Buddy being portrayed as becoming aggressive, this was total fiction and at no time did the gorilla, in real life, resort to such behavior. buddy did, in fact, escape his wooden crate (not a plush cage room as depicted in movie) during a storm, to seek shelter and comfort in the house, which frightened Gertrude Lintz into selling him. No, Buddy was not released into a gorilla family surrounded by lush trees in a zoological paradise - he was abandoned in a wooden crate, deep in the back of a garage for some time with only a single light bulb for comfort and then sold to the circus - where he actually lived a better life having peanuts thrown at him until he died (historically the oldest living gorilla on record, by the way) before a show in Miami. Notice also, in the film, how Buddy grows older but the chimpanzees never age. (The chimps, by the way, were not raised simultaneously with other animals, including Buddy, as portrayed in the film)\"\n",
      "* * * * * * * * * \n",
      "18213\n",
      "I have to admit that by moments I had to laugh at how bad that movie was... But the laughs were too few and since this whole thing was in no way a parody, it felt more like an insult to the viewer's intelligence. The worst acting I have ever seen from any of these people...\n",
      "* * * * * * * * * \n",
      "18429\n",
      "At the name of Pinter, every knee shall bow - especially after his Nobel Literature Prize acceptance speech which did little more than regurgitate canned, by-the-numbers, sixth-form anti-Americanism. But this is even worse; not only is it a tour-de-force of talentlessness, a superb example of how to get away with coasting on your decades-old reputation, but it also represents the butchery of a superb piece. The original Sleuth was a masterpiece of its kind. Yes, it was a theatrical confection, and it is easy to see how it's central plot device would work better on the stage than the screen, but it still worked terrifically well. This is a Michael Caine vanity piece, but let's face it, Caine is no Olivier. Not only can he not fill Larry's shoes, he couldn't even fill his bathroom slippers. The appropriately-named Caine is, after all, a distinctly average actor, whose only real recommendation, like so many British actors, is their longevity in the business. He was a good Harry Palmer, excellent in Get Carter, but that's yer lot, mate! Give this a very wide berth and stick to the superb original. This is more of a half-pinter.\n",
      "* * * * * * * * * \n",
      "18547\n",
      "A truly horrible film that left me feeling sullied by having watched the forty minutes or so I could stand. Not the actors' fault, but the writer/director, producers, financiers, etc., need a very stiff talking to. Maybe it thinks it is profound. It isn't. This rape and ultra-violence, unlike that central to Clockwork Orange, has nothing to say about or add to the sum of human understanding. It's no Straw Dogs, either, to which I have seen it compared. Rather it feels like something Pete Walker might have turned his hand to, yet even in saying that I'm probably being a bit unfair on Pete Walker.<br /><br />Revenge is a powerful human desire, but The Bedroom Window has more to say about that and male emasculation than this pitiful effort.<br /><br />I don't think it's particularly misogynistic, merely too gleeful in its depiction of certain details -- the blood running down GA's leg post rape, par example. It's neither challenging nor confrontational, though I'm sure the film-makers consider themselves very 'daring', just deeply unpleasant.<br /><br />Is this as high as we can aim? Is this why those involved wanted to make films? ( I did write in here the Latin phrase which translates as Oh the Times! Oh the customs! But the new spell-check on IMDb wouldn't let me post until I had removed it. Likewise I had to remove square parentheses. Get it sorted IMDb.)<br /><br />Where is the lofty aspiration? The noble impulse? When you look at British film - the joyful comedies of Ealing or the Boulting Brothers; Carol Reed's work with Graham Greene on Fallen Idol, Our Man in Havana or the sublime The Third Man (a film which has far more to say about evil than a thousand Straightheads); the work of Powell & Pressburger; or if you want to talk about sex, violence and male emasculation look at \\The Offence' Dir. Sidney Lumet, from an original play by John Hopkins; check out \\\"Tunes of Glory\\\" for something worth making, that has something to say.<br /><br />Unlike the foregoing, Straightheads is, alas, an altogether hateful waste of celluloid.\"\n",
      "* * * * * * * * * \n",
      "18590\n",
      "Sky Captain is possibly the best awful movie I've seen in a long while. Rife with amazing CG and special effects, studded with an A-list cast (Jude Law, Gwyneth Paltrow, Angelina Jolie and the infinitely likable Giovanni Ribisi) and racing along with an overused but Indiana Jones-esquire storyline, this should have been a great movie to watch.<br /><br />'Should have' being the key term here, of course.<br /><br />Jude Law plays Joe the Sky Captain with a dashing accent and plenty of over-the-shoulder, heart-melting smirks, but you can't make something out of nothing, and even his flippant deliveries and boyish good looks can't save the movie's stone dialogue. (If he had slapped Giovanni Ribisi on the back and said, \\Good boy, Dex,\\\" just ONE more time, I might have barfed all over the guy in front of me.) Gwyneth Paltrow, as Polly Perkins, is nothing less than nerve grating. Her nasal whining and not-quite-sarcastic comments get old in the first ten minutes of the movie. Perhaps she put too much effort into playing the stereotypical 30's comic book heroine- who knows? I expected more from her. An example of how a similar character was played (and played well) is in the late 90's flick \\\"The Phantom,\\\" starring Kristy Swanson and Billy Zane. Rent the movie and you'll know what I mean.<br /><br />Giovanni Ribisi and Angelina Jolie were the saving graces in the film. (Angelina Jolie was incredibly hot in that eyepatch. I'll admit it.) In just a few short scenes, both actors somehow managed to rise above the tired material and deliver a more riveting performance than their dry, two-dimensional castmates.<br /><br />The plot and steady story progression were old, boring, and basically just a monotonous combination of every good scene from an action movie in the past thirty years. The pace is rapid-fire in the first half of the movie, and a snail's pace in the second, giving the audience enough time not only to guess the eventual conclusion of the film, but to figure out who the key villain is as well. The pairing is rather clichéd, also- Polly Perkins and Sky Captain apparently reunite after several years of separation from a bitterly-ended romance, and their story isn't so much charming and eclectic as it is annoying and mismatched. When they finally come to terms with their mutual feelings towards the end of the film, nobody's surprised, and nobody really cares either.<br /><br />Props to the director for appreciating Bai Ling enough to dress her in skintight vinyl for the entirety of the film, and also for the intriguing sepia tones that served as coloration throughout. But Sky Captain, despite having all the essential elements of being a great movie, falls flat on its face. Not even worth the $2.75 I paid to get into the theater.\"\n",
      "* * * * * * * * * \n",
      "18629\n",
      "I rented this shortly after renting Ben Stein's \\Expelled\\\" and thought it would interesting to compare them. Before I go further, it seems only fair that I point out the following so a reader can see if I'm prejudiced or not. I'm trying to be objective, for the record.<br /><br />I tend to enjoy Maher's HBO show now and then, though I rarely think he's the source of the humor. I don't really care for his stand-up either. But he makes some good points on the show now and again, and I liked Politically Incorrect, though he was still fairly politically correct (which I deem a negative because the very term sounds Orwellian or at least fascist). As for my religious views, I'll say for simplicity's sake that I'm a non-denom. Christian with some views that are objectivist and some that are agnostic mixed in.<br /><br />That being said, this a bad \\\"documentary\\\" for reasons that haven't been touched on yet by many reviewers--though the ones mentioned are valid too. The reason it's not convincing isn't just that he argues the main point without letting others talk (and his point boils down to nothing logical either, it's just \\\"come on, really?\\\" which isn't a point, just a question. Try David Hume if you want a decent argument.). The reason this isn't convincing lies in his lack of experts on the subject matter. I saw this about 2 months ago and I only recall him talking to one person whose credentials as a professional were mentioned if he wasn't a clergyman. There are probably hundreds of scientists or at least professors with Masters or Doctorates willing to do a bit of verbal sparring, particularly in the fields of History, Anthropology or a host of others.<br /><br />If one compares this to Ben Stein's \\\"Expelled: No Intelligence Allowed\\\" he'll find that Stein interviews about 30 credentialed professors, professionals, clergy, etc. He does this with a variety of sources with various backgrounds. He also makes a point in his film regarding freedom of thought and education. Maher could easily have pointed out wrongs committed by theocratic rules throughout centuries or persecutions from this. Instead he idiotically refers to the 20th century's secular totalitarian regimes as evidence of why secularism needs more socio-political power!!!! (it's in the bonus features where he's standing in front of the Anne Frank house I think.) This is a true Orwellian head-trip. He blames Christianity in particular on many pointless deaths--which has had its share, though far smaller than most!!--without even including a basic view of the evidence. Perhaps this is because that argument is dwarfed by secular humanism's miserable record of the 20th Century ALONE.<br /><br />Another glaring weakness is his unwillingness to talk to anyone that would be considered a moderate or \\\"average\\\" practitioner. He picks out the weakest gazelles of the herd. How difficult is that? How does proving the existence of exceptions move toward disproving the general rule? It does not. Wow, so people in cults think outside of the norm? How enlightening to know this. Great work Maher! Again, it would be fairly easy to interview someone like Laurence Vance and include his work on refuting the idea of \\\"patriotic duty\\\" that demands a person fight in any war his country is involved in.<br /><br />Beyond all that, he's just not that funny here. Some of the clips that are overlaid in \\\"clever\\\" out of context/irreverent ways might garner a laugh, but mostly work to illustrate how a real contextual argument from Maher will NOT be forthcoming, much less convincing. He spends most of his time bashing Christians, spouting inaccuracies, and interviewing fringe groups that he doesn't allow to really answer his questions.<br /><br />For the record, there are good questions to honestly ask of religious folks and many they should ask of themselves. He touches on almost none of these. I get the feeling that I could've responded much better to most of his questioning than the people he interviewed, but the whole thing reeks of deck-stacking in terms of what is included and what was edited out.\"\n",
      "* * * * * * * * * \n",
      "18655\n",
      "Watching this movie made me think constantly; why are they making such a problem out of some broken brakes? There are a million options to slow down the car! In the movie Speed the writers a least thought of a good reason why the car wasn't able to stop...<br /><br />There aren't many good things to say about this film; all the usual narrative cliche's make their appearance, the actors are very bad, the story is as leak as a sieve etc. That makes this movie a waste of time and money.<br /><br />\n",
      "* * * * * * * * * \n",
      "19073\n",
      "The producers made a big mistake casting Mark Lester, who couldn't act or sing, in the title role. Aside from his very bad \\acting\\\", all of Lester's singing had to be dubbed by a girl. I don't know why they cast him at all, since there would have been so many boys who could have played the part infinitely better and done their own singing as well. Shani Wallis was far too old to play Nancy, who was only supposed to be 16. The current West End version is so much better than the movie in every way. Ross McCormack is the best Artful Dodger of all time and he is certainly far better looking than Jack Wild ever was. It was clearly political to award this old-fashioned musical so many Oscars after the tumultuous events of 1968.\"\n",
      "* * * * * * * * * \n",
      "19188\n",
      "It was all over with the slashers around 88 so it was time for the cheesy rip offs of those older movies. The Brain is well done, the script reminded me of Videodrome but then in a more cheesy way as said before. The acting can go through with it. But it's the effects that makes you laugh, the so called Brain is really a turkey and the blood is never shown. The opening sequence is what makes this movie worth watching, the hallucinations are really nicely done and reminded me of Nightmare on Elm Street, remember the telephone coming alive.... Some how you keep watching this flick, waiting what is happening next. It's viewable for all freaks out there cause there isn't any gore in it and as said the blood isn't there neither but there is nudity for the perverts. I have seen worser movies than this one, only wished they had made it bloodier...\n",
      "* * * * * * * * * \n",
      "19288\n",
      "I'm just quite disappointed with \\Soul Survivors\\\". It doesn't worth even a comment in this forum. The script is very poor as well as all the \\\"acting\\\" and for our entertainment it features a pointless plot.<br /><br />Please, do yourselves a favor! Be a real \\\"Survivor\\\"...Don't waste your time in this piece of crap! Someday you'll thank me!\"\n",
      "* * * * * * * * * \n",
      "19306\n",
      "This film is so bad and gets worse in every imaginable fashion. Its not just the poor acting and script nor is it the lame and perverse time one wastes on watching it. What really puts this film in my hall of shame is the apparent struggling that the writers and producers do with the film to try and make it funny. The actress replacing Jean Reno's descendant is to old and learned her lesson in the first film so they add a new girl who is to be married. Nearly all of the original extras and gags return however this time makes me want to ripe my eyes out of my sockets because it's a waste of perfectly good film. The torture of the constant camera cuts and shots in any scene in this movie can put the viewer into violent convolutions. This second film takes the successful original and drags it out of its coffin and parades the corpse out in the public square and perversely degrades not only the original idea and its legacy but our intelligence as well. This film unlike the spruce goose could not fly for it had no plot in the principals returning for a 'necklace'. No script since it was apparently written and added to daily. No attention to camera or shots in mind. Poor lighting and special effects done for the sake of doing so. This film would not even pass for a student film in basic Film 101. How this pile got through no one can tell. It was a big loosing investment and it appears that no one had the strength to put this unnatural cruel mistake out of our miseries. This movie has one good part ...its END! This film is my #1 worst film of all time, finally \\Howard The Duck\\\" is no longer the goose.\"\n",
      "* * * * * * * * * \n",
      "19338\n",
      "In 1988, Paperhouse was hailed as a \\thinking man's horror film.\\\" Wow, you might say, sign me up. This thing is a mess. It features a one time young actress who has a range of like 1 to 2. G. Headley with a bad British (dubbed) accent, and a story with no chills, thrills or spills.<br /><br />It isn't even interesting psycho-babble. One will only laugh at its cheap effects and long for a showing of Leprechaun 5.<br /><br />The story involves a girl with glandular fever who escapes in her dreams. WHat you get isn't good horror, art house or even a decent after-school special. I found myself after the two hour point saying..where did my two hours go.<br /><br />The direction is uninspired and I wished it could even be pretentious...something interesting..it seems like the producers were on lithium.<br /><br />Even in the dream world things are boring.<br /><br />A short no on this one.\"\n",
      "* * * * * * * * * \n",
      "19474\n",
      "I can sit through this movie once, but I doubt I could make it through a second time. Mildly entertaining mainly for the physical presence of Lindsay Lohan. The fun of Matt Dillon(think Something About Mary), and the re-emergence of a more serious acting Micheal Keaton. This is not the fun romp The Love Bug was but it is watchable. One of my main detractions from the movie was the fact that Herbie had evolved into R2D2 antics for the most part. I was bored with the headlight eyes effects about the second time of the 30 or so times they were used and the bending front fender caused the same reaction from me. Go see this with your little ones, i.e. the \\single digit bracket\\\" kids and don't expect a lot from this film.<br /><br />_X\"\n",
      "* * * * * * * * * \n",
      "19488\n",
      "Kalifornia is disturbing. I believe there is no reason for this story to be told. It is neither entertaining nor does it have social value. Technically, the movie is very well make, the performances are top rate and first class. The story develops in an intriguing way that holds interest. But at the end this movie sickens and is abhorrent to decency. I recommend Kalifornia to no one.\n",
      "* * * * * * * * * \n",
      "19536\n",
      "With the MASSIVE advertising this is getting on Nickelodeon and Nick Jr. and that ilk, my son was bugging us to see it. Between DVD and the theaters, I've seen pretty much everything by now from the outstanding (Incredibles, Shrek) to the really bad (Wall-E, Brother Bear). But this was easily the worst movie I've ever seen, kids or no kids. It was a \\when it this stupid thing going to end?\\\" kind of experience? OK, it's aimed at toddlers (or it better be - it's insulting to the intelligence of anyone over 3), but I've never seen something so predictable, repetitive, and slow-moving. Then once you're finally fed up but relieved that the movie is over, there is this bizarre thing at the end that you think is the setup for a joke, but there isn't one - it's serious, though it's hard to tell what they're trying to accomplish. The 3-D effects... yeah, if you've never seen a Viewmaster they're a big deal, otherwise no (if you look at the screen without glasses, it appears to be the same process). Even my son was bored by the end. Both my wife and I looked at each other and said \\\"wow\\\" at the end. Bad in every respect.\"\n",
      "* * * * * * * * * \n",
      "19754\n",
      "I really hate most end of the world movies. They show what jaded Hollywood people think of the rest of the world, and they clearly think we're a bunch of sadistic idiots (or at least that watching sadistic idiots react to things is somehow entertaining). I've been to L.A. many times, I have family that works in show business, and I just want to say that these are the *last* people we should be looking to for a reality check. Some disaster movies at least paint a clever picture: Children of Men, 12 Monkeys, but usually the message is just \\people will do anything to survive, all is dark and sad and purposeless, we should all be ashamed of ourselves\\\".<br /><br />Don't get me wrong, I like the idea of a story that explores throwing off the system of social order and testing people's mettle in the face of horror, and I do believe some people would act like this film portrayed, but sadistic idiots aside, I seriously doubt society would just dissolve into every man for himself, that's just insulting.\"\n",
      "* * * * * * * * * \n",
      "19802\n",
      "I'm not ruining anything when I inform you that you get to see a woman have sex with a goat in this movie. If that is your thing, then your movie has arrived.<br /><br />A woman and her husband go to see her estranged sister in the family mansion in the woods. Her sister is a creepy lady to say the least, and she seems to have interests that go beyond family love. On the side a group of unsavory characters show up and begin enacting all kinds of pagan rituals.<br /><br />The plotting is pretty weak and the characters are pretty dumb. The woman sticks around even after her husband starts turning into a jerk and hanging out with the pagans, even continues the have sex with him. On the exploitative side of things, there is much bared flesh and a couple of kinky couplings, but nothing that hasn't been better somewhere else. Oh, and the aforementioned goat-sex scene.<br /><br />Most viewers won't make it to the end. Exploitation fans will ride it out, but will be left wanting more.<br /><br />4/10\n",
      "* * * * * * * * * \n",
      "19855\n",
      "I saw the film tonight at a free preview screening, and despite the fact that I didn't pay a dime to see this film I still felt ripped off. Ladies and gentlemen, time is money and if you see this film you are leaving a Benjamin on your seat. The acting is torpid at best; Kiefer Sutherland phones in his worst impersonation of Jack Bauer, and Michael Douglas looks like he realizes he made a bad choice leaving Catherine Zeta-Jones for the duration it took to shoot this turkey. Eva Longoria is a non-entity; she looks like she's reading her lines off a teleprompter. And if you can't spot the \\mole\\\" within the first 20 minutes, then you just landed on this planet from a world without TV and recycled story lines. If you truly want to see a good secret service thriller, rent In the Line of Fire. If you see and buy into this one, you'll start to fear for the president's safety because the Secret Service looks and acts like the grown-up versions of the kinds from 90210. No matter what your feelings about W, let's hope this \\\"art\\\" does not imitate life.\"\n",
      "* * * * * * * * * \n",
      "19892\n",
      "I have only seen Gretchen Mol in two other films (Girl 6, Donnie Brasco), and don't really remember her, but she did a great job as a naive girl who posed for pictures because it made people happy.<br /><br />She really didn't think what she was doing was wrong, even when she left the business and found her religion again.<br /><br />The photos she made were certainly tame by today's standards, and it is funny seeing men with cameras get all excited, and politicians pontificating on the evils of pornography. David Strathairn (Good Night, and Good Luck) played a super part here.<br /><br />Mary Harron (American Psycho) wrote and directed an outstanding biopic of the most famous pinup girl ever.\n",
      "* * * * * * * * * \n",
      "19971\n",
      "A pretty worthless made for television movie that pretty much follows the killer insect script. Ants mysteriously turn into killer ants near a hotel. I think it is from the hotel food because the sewage from the hotel kitchen drains directly into the ant bed. There is a lack of suspense in this film and it is not scary either. Watching a bunch of ants sting their victims is not very terrifying.<br /><br />Spoilers section The stupidity of the hero is near incredible. He is told that the health inspector that the ants could not be the hero. It has to be a mysterious virus. After the inspector says this, the hero takes his bulldozer and wrecks the huge ant colony. This disturbs the millions of ants and traps the people in the hotel.<br /><br />End spoilers Overall, this movie is extremely lame. I don't understand why it got a DVD release when so many deserving movies have none. My only guess for the DVD release is that Suzanne Summers is featured in the film. This is a movie to avoid.\n",
      "* * * * * * * * * \n"
     ]
    }
   ],
   "source": [
    "# false positives\n",
    "\n",
    "print(\"Examples of false positives:\")\n",
    "\n",
    "import random, time\n",
    "\n",
    "for i in range(0, len(ols_predictions)):\n",
    "    if (ols_predictions[i] == 1):\n",
    "        if (X_raw_train.iloc[i]['sentiment'] == 0):\n",
    "            if (random.uniform(0, 1) < 0.05): # to print only 5% of the false positives\n",
    "                print(i)\n",
    "                print(X_raw_train.iloc[i]['review'])\n",
    "                print('* * * * * * * * * ')\n"
   ]
  },
  {
   "cell_type": "markdown",
   "metadata": {},
   "source": [
    "---\n",
    "\n",
    "# <span style=\"color:red\">WARNING: Don't look at test set performance too much!</span>\n",
    "\n",
    "---\n",
    "\n",
    "The following cells show performance on your test set. Do not look at this too often! "
   ]
  },
  {
   "cell_type": "markdown",
   "metadata": {},
   "source": [
    "# Look at performance on the test set"
   ]
  },
  {
   "cell_type": "markdown",
   "metadata": {},
   "source": [
    "### MODEL: ordinary least squares"
   ]
  },
  {
   "cell_type": "code",
   "execution_count": 284,
   "metadata": {},
   "outputs": [
    {
     "name": "stdout",
     "output_type": "stream",
     "text": [
      "{'Pos': 2481, 'Neg': 2519, 'TP': 1132, 'TN': 1350, 'FP': 1169, 'FN': 1349, 'Accuracy': 0.4964, 'Precision': 0.4919600173837462, 'Recall': 0.4562676340185409, 'desc': 'ols_test'}\n"
     ]
    }
   ],
   "source": [
    "ols_performance_test = BinaryClassificationPerformance(ols.predict(X_test), y_test, 'ols_test')\n",
    "ols_performance_test.compute_measures()\n",
    "print(ols_performance_test.performance_measures)"
   ]
  },
  {
   "cell_type": "markdown",
   "metadata": {},
   "source": [
    "### MODEL: SVM, linear"
   ]
  },
  {
   "cell_type": "code",
   "execution_count": 285,
   "metadata": {},
   "outputs": [
    {
     "name": "stdout",
     "output_type": "stream",
     "text": [
      "{'Pos': 2481, 'Neg': 2519, 'TP': 1977, 'TN': 2015, 'FP': 504, 'FN': 504, 'Accuracy': 0.7984, 'Precision': 0.7968561064087062, 'Recall': 0.7968561064087062, 'desc': 'svm_test'}\n"
     ]
    }
   ],
   "source": [
    "svm_performance_test = BinaryClassificationPerformance(svm.predict(X_test), y_test, 'svm_test')\n",
    "svm_performance_test.compute_measures()\n",
    "print(svm_performance_test.performance_measures)"
   ]
  },
  {
   "cell_type": "markdown",
   "metadata": {},
   "source": [
    "### MODEL: logistic regression"
   ]
  },
  {
   "cell_type": "code",
   "execution_count": 286,
   "metadata": {
    "scrolled": true
   },
   "outputs": [
    {
     "name": "stdout",
     "output_type": "stream",
     "text": [
      "{'Pos': 2481, 'Neg': 2519, 'TP': 1965, 'TN': 2029, 'FP': 490, 'FN': 516, 'Accuracy': 0.7988, 'Precision': 0.8004073319755601, 'Recall': 0.7920193470374849, 'desc': 'lgs_test'}\n"
     ]
    }
   ],
   "source": [
    "lgs_performance_test = BinaryClassificationPerformance(lgs.predict(X_test), y_test, 'lgs_test')\n",
    "lgs_performance_test.compute_measures()\n",
    "print(lgs_performance_test.performance_measures)"
   ]
  },
  {
   "cell_type": "markdown",
   "metadata": {},
   "source": [
    "### MODEL: Naive Bayes"
   ]
  },
  {
   "cell_type": "code",
   "execution_count": 287,
   "metadata": {},
   "outputs": [
    {
     "name": "stdout",
     "output_type": "stream",
     "text": [
      "{'Pos': 2481, 'Neg': 2519, 'TP': 2010, 'TN': 2055, 'FP': 464, 'FN': 471, 'Accuracy': 0.813, 'Precision': 0.8124494745351657, 'Recall': 0.8101571946795647, 'desc': 'nbs_test'}\n"
     ]
    }
   ],
   "source": [
    "nbs_performance_test = BinaryClassificationPerformance(nbs.predict(X_test), y_test, 'nbs_test')\n",
    "nbs_performance_test.compute_measures()\n",
    "print(nbs_performance_test.performance_measures)"
   ]
  },
  {
   "cell_type": "markdown",
   "metadata": {},
   "source": [
    "### MODEL: Perceptron"
   ]
  },
  {
   "cell_type": "code",
   "execution_count": 288,
   "metadata": {},
   "outputs": [
    {
     "name": "stdout",
     "output_type": "stream",
     "text": [
      "{'Pos': 2481, 'Neg': 2519, 'TP': 1956, 'TN': 2028, 'FP': 491, 'FN': 525, 'Accuracy': 0.7968, 'Precision': 0.7993461381283203, 'Recall': 0.788391777509069, 'desc': 'prc_test'}\n"
     ]
    }
   ],
   "source": [
    "prc_performance_test = BinaryClassificationPerformance(prc.predict(X_test), y_test, 'prc_test')\n",
    "prc_performance_test.compute_measures()\n",
    "print(prc_performance_test.performance_measures)"
   ]
  },
  {
   "cell_type": "markdown",
   "metadata": {},
   "source": [
    "### MODEL: Ridge Regression Classifier"
   ]
  },
  {
   "cell_type": "code",
   "execution_count": 268,
   "metadata": {},
   "outputs": [
    {
     "name": "stdout",
     "output_type": "stream",
     "text": [
      "{'Pos': 2481, 'Neg': 2519, 'TP': 2069, 'TN': 2037, 'FP': 482, 'FN': 412, 'Accuracy': 0.8212, 'Precision': 0.8110544884359074, 'Recall': 0.833937928254736, 'desc': 'rdg_test'}\n"
     ]
    }
   ],
   "source": [
    "rdg_performance_test = BinaryClassificationPerformance(rdg.predict(X_test), y_test, 'rdg_test')\n",
    "rdg_performance_test.compute_measures()\n",
    "print(rdg_performance_test.performance_measures)"
   ]
  },
  {
   "cell_type": "markdown",
   "metadata": {},
   "source": [
    "### MODEL: Random Forest Classifier"
   ]
  },
  {
   "cell_type": "code",
   "execution_count": 269,
   "metadata": {},
   "outputs": [
    {
     "name": "stdout",
     "output_type": "stream",
     "text": [
      "{'Pos': 2481, 'Neg': 2519, 'TP': 1979, 'TN': 1711, 'FP': 808, 'FN': 502, 'Accuracy': 0.738, 'Precision': 0.7100825260136348, 'Recall': 0.7976622329705764, 'desc': 'rdf_test'}\n"
     ]
    }
   ],
   "source": [
    "rdf_performance_test = BinaryClassificationPerformance(rdf.predict(X_test), y_test, 'rdf_test')\n",
    "rdf_performance_test.compute_measures()\n",
    "print(rdf_performance_test.performance_measures)"
   ]
  },
  {
   "cell_type": "markdown",
   "metadata": {},
   "source": [
    "### ROC plot to compare performance of various models and fits"
   ]
  },
  {
   "cell_type": "code",
   "execution_count": 270,
   "metadata": {},
   "outputs": [
    {
     "data": {
      "image/png": "[encoded data removed]",
      "text/plain": [
       "<Figure size 640x480 with 1 Axes>"
      ]
     },
     "metadata": {},
     "output_type": "display_data"
    }
   ],
   "source": [
    "fits = [ols_performance_test, svm_performance_test, lgs_performance_test, nbs_performance_test, prc_performance_test, rdg_performance_test, rdf_performance_test]\n",
    "\n",
    "for fit in fits:\n",
    "    plt.plot(fit.performance_measures['FP'] / fit.performance_measures['Neg'], \n",
    "             fit.performance_measures['TP'] / fit.performance_measures['Pos'], 'bo')\n",
    "    plt.text(fit.performance_measures['FP'] / fit.performance_measures['Neg'], \n",
    "             fit.performance_measures['TP'] / fit.performance_measures['Pos'], fit.desc)\n",
    "plt.axis([0, 1, 0, 1])\n",
    "plt.title('ROC plot: test set')\n",
    "plt.xlabel('False positive rate')\n",
    "plt.ylabel('True positive rate')\n",
    "plt.show()"
   ]
  },
  {
   "cell_type": "markdown",
   "metadata": {},
   "source": [
    "---\n",
    "\n",
    "# <span style=\"color:red\">SUBMISSION</span>\n",
    "\n",
    "---"
   ]
  },
  {
   "cell_type": "code",
   "execution_count": 23,
   "metadata": {},
   "outputs": [
    {
     "name": "stdout",
     "output_type": "stream",
     "text": [
      "movie_data is: <class 'pandas.core.frame.DataFrame'>\n",
      "movie_data has 25000 rows and 2 columns \n",
      "\n",
      "the data types for each of the columns in movie_data:\n",
      "id        object\n",
      "review    object\n",
      "dtype: object \n",
      "\n",
      "the first 10 rows in movie_data:\n",
      "         id                                             review\n",
      "0  12311_10  Naturally in a film who's main themes are of m...\n",
      "1    8348_2  This movie is a disaster within a disaster fil...\n",
      "2    5828_4  All in all, this is a movie for kids. We saw i...\n",
      "3    7186_2  Afraid of the Dark left me with the impression...\n",
      "4   12128_7  A very accurate depiction of small time mob li...\n",
      "Shape of HashingVectorizer X:\n",
      "(25000, 131072)\n",
      "Look at a few rows of the new quantitative features: \n",
      "   word_count  punc_count\n",
      "0         131           5\n",
      "1         169          15\n",
      "2         176          18\n",
      "3         112           5\n",
      "4         133           8\n",
      "5         331          20\n",
      "6         121          18\n",
      "7         230          22\n",
      "8          59           3\n",
      "9         224          14\n",
      "Size of combined bag of words and new quantitative variables matrix:\n",
      "(25000, 131074)\n",
      "(25000, 131074)\n",
      "Shape of X_test for submission:\n",
      "(25000, 131074)\n",
      "SUCCESS!\n",
      "Number of rows in the submission test set (should be 25,000): \n"
     ]
    }
   ],
   "source": [
    "# read in test data for submission\n",
    "# CHANGE FILE PATH and my_random_seed number (any integer other than 74 will do): \n",
    "raw_data, X_test_submission = process_raw_data(fn='moviereviews_test.tsv', my_random_seed=92, test=True)\n",
    "print(\"Number of rows in the submission test set (should be 25,000): \")"
   ]
  },
  {
   "cell_type": "markdown",
   "metadata": {},
   "source": [
    "---\n",
    "\n",
    "Choose a <span style=\"color:red\">*single*</span> model for your submission. In this code, I am choosing the Ordinary Least Squares model fit, which is in the `ols` object. But you should choose the model that is performing the best for you! "
   ]
  },
  {
   "cell_type": "code",
   "execution_count": 24,
   "metadata": {},
   "outputs": [
    {
     "name": "stdout",
     "output_type": "stream",
     "text": [
      "0.5596\n"
     ]
    }
   ],
   "source": [
    "# store the id from the raw data\n",
    "my_submission = pd.DataFrame(raw_data[\"id\"])\n",
    "# concatenate predictions to the id\n",
    "my_submission[\"prediction\"] = ols.predict(X_test_submission)\n",
    "# look at the proportion of positive predictions\n",
    "print(my_submission['prediction'].mean())"
   ]
  },
  {
   "cell_type": "code",
   "execution_count": 25,
   "metadata": {},
   "outputs": [
    {
     "data": {
      "text/html": [
       "<div>\n",
       "<style scoped>\n",
       "    .dataframe tbody tr th:only-of-type {\n",
       "        vertical-align: middle;\n",
       "    }\n",
       "\n",
       "    .dataframe tbody tr th {\n",
       "        vertical-align: top;\n",
       "    }\n",
       "\n",
       "    .dataframe thead th {\n",
       "        text-align: right;\n",
       "    }\n",
       "</style>\n",
       "<table border=\"1\" class=\"dataframe\">\n",
       "  <thead>\n",
       "    <tr style=\"text-align: right;\">\n",
       "      <th></th>\n",
       "      <th>id</th>\n",
       "      <th>review</th>\n",
       "      <th>word_count</th>\n",
       "      <th>punc_count</th>\n",
       "    </tr>\n",
       "  </thead>\n",
       "  <tbody>\n",
       "    <tr>\n",
       "      <td>0</td>\n",
       "      <td>12311_10</td>\n",
       "      <td>Naturally in a film who's main themes are of m...</td>\n",
       "      <td>131</td>\n",
       "      <td>5</td>\n",
       "    </tr>\n",
       "    <tr>\n",
       "      <td>1</td>\n",
       "      <td>8348_2</td>\n",
       "      <td>This movie is a disaster within a disaster fil...</td>\n",
       "      <td>169</td>\n",
       "      <td>15</td>\n",
       "    </tr>\n",
       "    <tr>\n",
       "      <td>2</td>\n",
       "      <td>5828_4</td>\n",
       "      <td>All in all, this is a movie for kids. We saw i...</td>\n",
       "      <td>176</td>\n",
       "      <td>18</td>\n",
       "    </tr>\n",
       "    <tr>\n",
       "      <td>3</td>\n",
       "      <td>7186_2</td>\n",
       "      <td>Afraid of the Dark left me with the impression...</td>\n",
       "      <td>112</td>\n",
       "      <td>5</td>\n",
       "    </tr>\n",
       "    <tr>\n",
       "      <td>4</td>\n",
       "      <td>12128_7</td>\n",
       "      <td>A very accurate depiction of small time mob li...</td>\n",
       "      <td>133</td>\n",
       "      <td>8</td>\n",
       "    </tr>\n",
       "  </tbody>\n",
       "</table>\n",
       "</div>"
      ],
      "text/plain": [
       "         id                                             review  word_count  \\\n",
       "0  12311_10  Naturally in a film who's main themes are of m...         131   \n",
       "1    8348_2  This movie is a disaster within a disaster fil...         169   \n",
       "2    5828_4  All in all, this is a movie for kids. We saw i...         176   \n",
       "3    7186_2  Afraid of the Dark left me with the impression...         112   \n",
       "4   12128_7  A very accurate depiction of small time mob li...         133   \n",
       "\n",
       "   punc_count  \n",
       "0           5  \n",
       "1          15  \n",
       "2          18  \n",
       "3           5  \n",
       "4           8  "
      ]
     },
     "execution_count": 25,
     "metadata": {},
     "output_type": "execute_result"
    }
   ],
   "source": [
    "raw_data.head()"
   ]
  },
  {
   "cell_type": "code",
   "execution_count": 26,
   "metadata": {},
   "outputs": [
    {
     "data": {
      "text/html": [
       "<div>\n",
       "<style scoped>\n",
       "    .dataframe tbody tr th:only-of-type {\n",
       "        vertical-align: middle;\n",
       "    }\n",
       "\n",
       "    .dataframe tbody tr th {\n",
       "        vertical-align: top;\n",
       "    }\n",
       "\n",
       "    .dataframe thead th {\n",
       "        text-align: right;\n",
       "    }\n",
       "</style>\n",
       "<table border=\"1\" class=\"dataframe\">\n",
       "  <thead>\n",
       "    <tr style=\"text-align: right;\">\n",
       "      <th></th>\n",
       "      <th>id</th>\n",
       "      <th>prediction</th>\n",
       "    </tr>\n",
       "  </thead>\n",
       "  <tbody>\n",
       "    <tr>\n",
       "      <td>0</td>\n",
       "      <td>12311_10</td>\n",
       "      <td>1</td>\n",
       "    </tr>\n",
       "    <tr>\n",
       "      <td>1</td>\n",
       "      <td>8348_2</td>\n",
       "      <td>1</td>\n",
       "    </tr>\n",
       "    <tr>\n",
       "      <td>2</td>\n",
       "      <td>5828_4</td>\n",
       "      <td>1</td>\n",
       "    </tr>\n",
       "    <tr>\n",
       "      <td>3</td>\n",
       "      <td>7186_2</td>\n",
       "      <td>1</td>\n",
       "    </tr>\n",
       "    <tr>\n",
       "      <td>4</td>\n",
       "      <td>12128_7</td>\n",
       "      <td>0</td>\n",
       "    </tr>\n",
       "  </tbody>\n",
       "</table>\n",
       "</div>"
      ],
      "text/plain": [
       "         id  prediction\n",
       "0  12311_10           1\n",
       "1    8348_2           1\n",
       "2    5828_4           1\n",
       "3    7186_2           1\n",
       "4   12128_7           0"
      ]
     },
     "execution_count": 26,
     "metadata": {},
     "output_type": "execute_result"
    }
   ],
   "source": [
    "my_submission.head()"
   ]
  },
  {
   "cell_type": "code",
   "execution_count": 27,
   "metadata": {},
   "outputs": [
    {
     "data": {
      "text/plain": [
       "(25000, 2)"
      ]
     },
     "execution_count": 27,
     "metadata": {},
     "output_type": "execute_result"
    }
   ],
   "source": [
    "my_submission.shape"
   ]
  },
  {
   "cell_type": "code",
   "execution_count": 28,
   "metadata": {},
   "outputs": [],
   "source": [
    "# export submission file as pdf\n",
    "# CHANGE FILE PATH: \n",
    "my_submission.to_csv('moviereviews_submission.csv', index=False)"
   ]
  },
  {
   "cell_type": "markdown",
   "metadata": {},
   "source": [
    "# Submit to Canvas: 1) the CSV file that was written in the previous cell and 2) the url to the repository (GitHub or other) that contains your code and documentation"
   ]
  }
 ],
 "metadata": {
  "kernelspec": {
   "display_name": "Python 3 (ipykernel)",
   "language": "python",
   "name": "python3"
  },
  "language_info": {
   "codemirror_mode": {
    "name": "ipython",
    "version": 3
   },
   "file_extension": ".py",
   "mimetype": "text/x-python",
   "name": "python",
   "nbconvert_exporter": "python",
   "pygments_lexer": "ipython3",
   "version": "3.11.5"
  }
 },
 "nbformat": 4,
 "nbformat_minor": 2
}
