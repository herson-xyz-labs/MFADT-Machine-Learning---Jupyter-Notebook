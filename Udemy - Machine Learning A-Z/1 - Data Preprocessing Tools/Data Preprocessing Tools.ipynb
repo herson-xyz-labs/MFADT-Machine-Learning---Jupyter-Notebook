{
 "cells": [
  {
   "cell_type": "markdown",
   "id": "40b7f5ce",
   "metadata": {},
   "source": [
    "# Import Libraries"
   ]
  },
  {
   "cell_type": "code",
   "execution_count": 6,
   "id": "324c08ba",
   "metadata": {},
   "outputs": [],
   "source": [
    "import numpy as np\n",
    "import pandas as pd\n",
    "import matplotlib.pyplot as plt"
   ]
  },
  {
   "cell_type": "markdown",
   "id": "738c4b0d",
   "metadata": {},
   "source": [
    "# Import Dataset"
   ]
  },
  {
   "cell_type": "code",
   "execution_count": 7,
   "id": "8ef0f7bd",
   "metadata": {},
   "outputs": [],
   "source": [
    "dataset = pd.read_csv('Data.csv')\n",
    "X = dataset.iloc[:, :-1]\n",
    "y = dataset.iloc[:, -1]"
   ]
  },
  {
   "cell_type": "code",
   "execution_count": 8,
   "id": "e93318be",
   "metadata": {},
   "outputs": [
    {
     "name": "stdout",
     "output_type": "stream",
     "text": [
      "   Country   Age   Salary\n",
      "0   France  44.0  72000.0\n",
      "1    Spain  27.0  48000.0\n",
      "2  Germany  30.0  54000.0\n",
      "3    Spain  38.0  61000.0\n",
      "4  Germany  40.0      NaN\n",
      "5   France  35.0  58000.0\n",
      "6    Spain   NaN  52000.0\n",
      "7   France  48.0  79000.0\n",
      "8  Germany  50.0  83000.0\n",
      "9   France  37.0  67000.0\n"
     ]
    }
   ],
   "source": [
    "print(X)"
   ]
  },
  {
   "cell_type": "code",
   "execution_count": 9,
   "id": "990beeb1",
   "metadata": {},
   "outputs": [
    {
     "name": "stdout",
     "output_type": "stream",
     "text": [
      "0     No\n",
      "1    Yes\n",
      "2     No\n",
      "3     No\n",
      "4    Yes\n",
      "5    Yes\n",
      "6     No\n",
      "7    Yes\n",
      "8     No\n",
      "9    Yes\n",
      "Name: Purchased, dtype: object\n"
     ]
    }
   ],
   "source": [
    "print(y)"
   ]
  },
  {
   "cell_type": "markdown",
   "id": "26f5c0dc",
   "metadata": {},
   "source": [
    "# Handle missing data"
   ]
  },
  {
   "cell_type": "code",
   "execution_count": 11,
   "id": "e6c4aa29",
   "metadata": {},
   "outputs": [],
   "source": [
    "from sklearn.impute import SimpleImputer\n",
    "imputer = SimpleImputer(missing_values=np.nan, strategy='mean')\n",
    "imputer.fit(X.iloc[:, 1:3])\n",
    "X.iloc[:, 1:3] = imputer.transform(X.iloc[:, 1:3])"
   ]
  },
  {
   "cell_type": "code",
   "execution_count": 12,
   "id": "a752d627",
   "metadata": {},
   "outputs": [
    {
     "name": "stdout",
     "output_type": "stream",
     "text": [
      "   Country        Age        Salary\n",
      "0   France  44.000000  72000.000000\n",
      "1    Spain  27.000000  48000.000000\n",
      "2  Germany  30.000000  54000.000000\n",
      "3    Spain  38.000000  61000.000000\n",
      "4  Germany  40.000000  63777.777778\n",
      "5   France  35.000000  58000.000000\n",
      "6    Spain  38.777778  52000.000000\n",
      "7   France  48.000000  79000.000000\n",
      "8  Germany  50.000000  83000.000000\n",
      "9   France  37.000000  67000.000000\n"
     ]
    }
   ],
   "source": [
    "print(X)"
   ]
  },
  {
   "cell_type": "markdown",
   "id": "765236bb",
   "metadata": {},
   "source": [
    "# Encode categorical data"
   ]
  },
  {
   "cell_type": "markdown",
   "id": "51ac2fd5",
   "metadata": {},
   "source": [
    "## Encode independent variable"
   ]
  },
  {
   "cell_type": "code",
   "execution_count": 13,
   "id": "f861b163",
   "metadata": {},
   "outputs": [],
   "source": [
    "from sklearn.compose import ColumnTransformer\n",
    "from sklearn.preprocessing import OneHotEncoder\n",
    "ct = ColumnTransformer(transformers=[('encoder', OneHotEncoder(), [0])], remainder='passthrough')\n",
    "X = np.array(ct.fit_transform(X))"
   ]
  },
  {
   "cell_type": "code",
   "execution_count": 15,
   "id": "b7550955",
   "metadata": {},
   "outputs": [
    {
     "name": "stdout",
     "output_type": "stream",
     "text": [
      "1.00 0.00 0.00 44.00 72000.00\n",
      "0.00 0.00 1.00 27.00 48000.00\n",
      "0.00 1.00 0.00 30.00 54000.00\n",
      "0.00 0.00 1.00 38.00 61000.00\n",
      "0.00 1.00 0.00 40.00 63777.78\n",
      "1.00 0.00 0.00 35.00 58000.00\n",
      "0.00 0.00 1.00 38.78 52000.00\n",
      "1.00 0.00 0.00 48.00 79000.00\n",
      "0.00 1.00 0.00 50.00 83000.00\n",
      "1.00 0.00 0.00 37.00 67000.00\n"
     ]
    }
   ],
   "source": [
    "for row in X:\n",
    "    formatted_row = ' '.join([f\"{val:.2f}\" for val in row])\n",
    "    print(formatted_row)\n",
    "\n",
    "# print(X)"
   ]
  },
  {
   "cell_type": "markdown",
   "id": "cb5d2aa9",
   "metadata": {},
   "source": [
    "## Encode dependent variable"
   ]
  },
  {
   "cell_type": "code",
   "execution_count": 16,
   "id": "5aad9b69",
   "metadata": {},
   "outputs": [],
   "source": [
    "from sklearn.preprocessing import LabelEncoder\n",
    "le = LabelEncoder()\n",
    "y = le.fit_transform(y)"
   ]
  },
  {
   "cell_type": "code",
   "execution_count": 17,
   "id": "cf60a3f8",
   "metadata": {},
   "outputs": [
    {
     "name": "stdout",
     "output_type": "stream",
     "text": [
      "[0 1 0 0 1 1 0 1 0 1]\n"
     ]
    }
   ],
   "source": [
    "print(y)"
   ]
  },
  {
   "cell_type": "markdown",
   "id": "42951099",
   "metadata": {},
   "source": [
    "# Split into training and testing sets"
   ]
  },
  {
   "cell_type": "code",
   "execution_count": 19,
   "id": "fcdfecd5",
   "metadata": {},
   "outputs": [],
   "source": [
    "from sklearn.model_selection import train_test_split\n",
    "X_train, X_test, y_train, y_test = train_test_split(X, y, test_size = 0.2, random_state = 1)"
   ]
  },
  {
   "cell_type": "code",
   "execution_count": 21,
   "id": "be984e04",
   "metadata": {},
   "outputs": [
    {
     "name": "stdout",
     "output_type": "stream",
     "text": [
      "0.00 0.00 1.00 38.78 52000.00\n",
      "0.00 1.00 0.00 40.00 63777.78\n",
      "1.00 0.00 0.00 44.00 72000.00\n",
      "0.00 0.00 1.00 38.00 61000.00\n",
      "0.00 0.00 1.00 27.00 48000.00\n",
      "1.00 0.00 0.00 48.00 79000.00\n",
      "0.00 1.00 0.00 50.00 83000.00\n",
      "1.00 0.00 0.00 35.00 58000.00\n"
     ]
    }
   ],
   "source": [
    "for row in X_train:\n",
    "    formatted_row = ' '.join([f\"{val:.2f}\" for val in row])\n",
    "    print(formatted_row)"
   ]
  },
  {
   "cell_type": "code",
   "execution_count": 22,
   "id": "c29f578b",
   "metadata": {},
   "outputs": [
    {
     "name": "stdout",
     "output_type": "stream",
     "text": [
      "0.00 1.00 0.00 30.00 54000.00\n",
      "1.00 0.00 0.00 37.00 67000.00\n"
     ]
    }
   ],
   "source": [
    "for row in X_test:\n",
    "    formatted_row = ' '.join([f\"{val:.2f}\" for val in row])\n",
    "    print(formatted_row)"
   ]
  },
  {
   "cell_type": "code",
   "execution_count": 24,
   "id": "c8e45cd0",
   "metadata": {},
   "outputs": [
    {
     "name": "stdout",
     "output_type": "stream",
     "text": [
      "[0 1 0 0 1 1 0 1]\n"
     ]
    }
   ],
   "source": [
    "print(y_train)"
   ]
  },
  {
   "cell_type": "code",
   "execution_count": 25,
   "id": "0b1ede22",
   "metadata": {},
   "outputs": [
    {
     "name": "stdout",
     "output_type": "stream",
     "text": [
      "[0 1]\n"
     ]
    }
   ],
   "source": [
    "print(y_test)"
   ]
  },
  {
   "cell_type": "markdown",
   "id": "b49e41b6",
   "metadata": {},
   "source": [
    "# Feature Scale"
   ]
  },
  {
   "cell_type": "code",
   "execution_count": 26,
   "id": "0f1c2bfd",
   "metadata": {},
   "outputs": [],
   "source": [
    "from sklearn.preprocessing import StandardScaler\n",
    "sc = StandardScaler()\n",
    "X_train[:, 3:] = sc.fit_transform(X_train[:, 3:])\n",
    "X_test[:, 3:] = sc.transform(X_test[:, 3:])"
   ]
  },
  {
   "cell_type": "code",
   "execution_count": 27,
   "id": "ddb92684",
   "metadata": {},
   "outputs": [
    {
     "name": "stdout",
     "output_type": "stream",
     "text": [
      "0.00 0.00 1.00 -0.19 -1.08\n",
      "0.00 1.00 0.00 -0.01 -0.07\n",
      "1.00 0.00 0.00 0.57 0.63\n",
      "0.00 0.00 1.00 -0.30 -0.31\n",
      "0.00 0.00 1.00 -1.90 -1.42\n",
      "1.00 0.00 0.00 1.15 1.23\n",
      "0.00 1.00 0.00 1.44 1.57\n",
      "1.00 0.00 0.00 -0.74 -0.56\n"
     ]
    }
   ],
   "source": [
    "for row in X_train:\n",
    "    formatted_row = ' '.join([f\"{val:.2f}\" for val in row])\n",
    "    print(formatted_row)"
   ]
  },
  {
   "cell_type": "code",
   "execution_count": 28,
   "id": "d935caa1",
   "metadata": {},
   "outputs": [
    {
     "name": "stdout",
     "output_type": "stream",
     "text": [
      "0.00 1.00 0.00 -1.47 -0.91\n",
      "1.00 0.00 0.00 -0.45 0.21\n"
     ]
    }
   ],
   "source": [
    "for row in X_test:\n",
    "    formatted_row = ' '.join([f\"{val:.2f}\" for val in row])\n",
    "    print(formatted_row)"
   ]
  }
 ],
 "metadata": {
  "kernelspec": {
   "display_name": "Python 3 (ipykernel)",
   "language": "python",
   "name": "python3"
  },
  "language_info": {
   "codemirror_mode": {
    "name": "ipython",
    "version": 3
   },
   "file_extension": ".py",
   "mimetype": "text/x-python",
   "name": "python",
   "nbconvert_exporter": "python",
   "pygments_lexer": "ipython3",
   "version": "3.11.5"
  }
 },
 "nbformat": 4,
 "nbformat_minor": 5
}
